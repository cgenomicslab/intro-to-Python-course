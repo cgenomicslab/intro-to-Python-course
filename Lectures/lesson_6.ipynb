{
 "cells": [
  {
   "cell_type": "markdown",
   "metadata": {},
   "source": [
    "# Προγραμματισμός με τη γλώσσα python\n",
    "### [Alexandros Kanterakis](mailto:kantale@ics.forth.gr) kantale@ics.forth.gr\n",
    "### Διάλεξη 6η, Τρίτη 19 Νοεμβρίου 2019"
   ]
  },
  {
   "cell_type": "markdown",
   "metadata": {},
   "source": [
    "## import\n",
    "Με την ```import``` μπορούμε να \"βάλουμε\" στο περιβάλλον που δουλεύουμε κώδικα από ένα άλλο αρχείο. Ας υποθέσουμε ότι έχουμε το αρχείο ```a.py``` το οποίο έχει τον παρακάτω κώδιkα:\n",
    "\n",
    "```python\n",
    "# File: a.py\n",
    "\n",
    "def f():\n",
    "    print (\"hello\")\n",
    "    \n",
    "def g():\n",
    "    print (\"world\")\n",
    "\n",
    "```\n",
    "\n",
    "Τότε μπορούμε να κάνουμε ```import``` τις συναρτήσεις αυτές σε ένα άλλο αρχείο:"
   ]
  },
  {
   "cell_type": "code",
   "execution_count": 1,
   "metadata": {},
   "outputs": [
    {
     "name": "stdout",
     "output_type": "stream",
     "text": [
      "hello\n"
     ]
    }
   ],
   "source": [
    "from a import f # Κάνω import μόνο την f\n",
    "f()"
   ]
  },
  {
   "cell_type": "code",
   "execution_count": 2,
   "metadata": {},
   "outputs": [
    {
     "name": "stdout",
     "output_type": "stream",
     "text": [
      "hello\n",
      "world\n"
     ]
    }
   ],
   "source": [
    "from a import f,g # Κάνω import την f και τη g\n",
    "f()\n",
    "g()"
   ]
  },
  {
   "cell_type": "code",
   "execution_count": 3,
   "metadata": {},
   "outputs": [
    {
     "name": "stdout",
     "output_type": "stream",
     "text": [
      "hello\n",
      "world\n"
     ]
    }
   ],
   "source": [
    "from a import * # Κάνω import όλες τις συναρτήσεις / μεταβλητές / ... που υπάρχουν στο a.py\n",
    "f()\n",
    "g()"
   ]
  },
  {
   "cell_type": "markdown",
   "metadata": {},
   "source": [
    "Μπορώ να κάνω ```import``` το ```a``` και να χρησιμοποιώ το ```a.f()``` όταν θέλω να καλέσω μία συνάρτηση:"
   ]
  },
  {
   "cell_type": "code",
   "execution_count": 4,
   "metadata": {},
   "outputs": [
    {
     "name": "stdout",
     "output_type": "stream",
     "text": [
      "hello\n",
      "world\n"
     ]
    }
   ],
   "source": [
    "import a\n",
    "a.f()\n",
    "a.g()"
   ]
  },
  {
   "cell_type": "markdown",
   "metadata": {},
   "source": [
    "Η python είναι μία γλώσσα \"[batteries included](https://en.wikipedia.org/wiki/Batteries_Included)\". Το οποίο σημαίνει ότι έχει [πάρα πολλές βιβλιοθήκες (libraries) με χρήσιμες συναρτήσεις](https://docs.python.org/3/library/index.html). Τις συναρτήσεις αυτές τις βάζουμε με την import\n",
    "\n",
    "![](https://imgs.xkcd.com/comics/python.png)\n",
    "[πηγή](https://xkcd.com/353/)\n",
    "\n",
    "Δοκιμάστε:\n",
    "```python\n",
    "import antigravity\n",
    "```"
   ]
  },
  {
   "cell_type": "markdown",
   "metadata": {},
   "source": [
    "### Κάποια παραδείγματα από τις βιβλιοθήκες της python"
   ]
  },
  {
   "cell_type": "code",
   "execution_count": 5,
   "metadata": {},
   "outputs": [],
   "source": [
    "import random"
   ]
  },
  {
   "cell_type": "code",
   "execution_count": 6,
   "metadata": {},
   "outputs": [
    {
     "data": {
      "text/plain": [
       "0.16162891645386535"
      ]
     },
     "execution_count": 6,
     "metadata": {},
     "output_type": "execute_result"
    }
   ],
   "source": [
    "random.random() # τυχαίοι αριθμοί από το 0 μέχρι το 1"
   ]
  },
  {
   "cell_type": "code",
   "execution_count": 7,
   "metadata": {},
   "outputs": [
    {
     "data": {
      "text/plain": [
       "10"
      ]
     },
     "execution_count": 7,
     "metadata": {},
     "output_type": "execute_result"
    }
   ],
   "source": [
    "random.randint(1,10) # τυχαίοι ακέραιοι από το 1 μέχρι το 10"
   ]
  },
  {
   "cell_type": "code",
   "execution_count": 8,
   "metadata": {},
   "outputs": [
    {
     "data": {
      "text/plain": [
       "'Ηράκλειο'"
      ]
     },
     "execution_count": 8,
     "metadata": {},
     "output_type": "execute_result"
    }
   ],
   "source": [
    "random.choice(['Ηράκλειο', 'Άμστερνταμ', 'Βερολίνο']) # Διαλέγει ένα στη τύχη"
   ]
  },
  {
   "cell_type": "code",
   "execution_count": 9,
   "metadata": {},
   "outputs": [
    {
     "data": {
      "text/plain": [
       "['Βερολίνο', 'Ηράκλειο']"
      ]
     },
     "execution_count": 9,
     "metadata": {},
     "output_type": "execute_result"
    }
   ],
   "source": [
    "random.sample(['Ηράκλειο', 'Αμστερνταμ', 'Βερολίνο'],2) # Διαλέγει 2 στη τύχη"
   ]
  },
  {
   "cell_type": "markdown",
   "metadata": {},
   "source": [
    "Η βιβλιοθήκη itertools περιέχει πολλές χρήσιμες συναρτήσεις για τον χειρισμό λιστών:"
   ]
  },
  {
   "cell_type": "code",
   "execution_count": 10,
   "metadata": {},
   "outputs": [],
   "source": [
    "import itertools"
   ]
  },
  {
   "cell_type": "code",
   "execution_count": 11,
   "metadata": {},
   "outputs": [
    {
     "data": {
      "text/plain": [
       "[(1, 2), (1, 3), (1, 4), (2, 3), (2, 4), (3, 4)]"
      ]
     },
     "execution_count": 11,
     "metadata": {},
     "output_type": "execute_result"
    }
   ],
   "source": [
    "list(itertools.combinations([1,2,3,4],2)) # Συνδοιασμοί ανά 2"
   ]
  },
  {
   "cell_type": "code",
   "execution_count": 12,
   "metadata": {},
   "outputs": [
    {
     "data": {
      "text/plain": [
       "13983816"
      ]
     },
     "execution_count": 12,
     "metadata": {},
     "output_type": "execute_result"
    }
   ],
   "source": [
    "# Πόσες στήλες (6άρια) υπάρχουν στον λόττο;\n",
    "sum((1 for i in itertools.combinations(range(49), 6)))"
   ]
  },
  {
   "cell_type": "code",
   "execution_count": 13,
   "metadata": {},
   "outputs": [
    {
     "data": {
      "text/plain": [
       "24435180"
      ]
     },
     "execution_count": 13,
     "metadata": {},
     "output_type": "execute_result"
    }
   ],
   "source": [
    "# Πόσες στήλες υπάρχουν στο Τζόκερ;\n",
    "sum((1 for i in itertools.combinations(range(45), 5))) * 20"
   ]
  },
  {
   "cell_type": "markdown",
   "metadata": {},
   "source": [
    "Με τη βιβλιοθήκη ```sys``` μπορείτε να έχετε πρόσβαση στις παραμέτρους της γραμμής εντολών. Φτιάξτε το παρακάτω αρχείο pyhon με το όνομα ```test.py```\n",
    "\n",
    "```python\n",
    "import sys\n",
    "\n",
    "print (sys.argv)\n",
    "```\n",
    "\n",
    "Και τρέξτε το από το command line βάζοντας κάποιες παραμέτρους:"
   ]
  },
  {
   "cell_type": "code",
   "execution_count": 14,
   "metadata": {},
   "outputs": [
    {
     "name": "stdout",
     "output_type": "stream",
     "text": [
      "['test.py', 'XXX', 'YYY', 'ZZZ']\r\n"
     ]
    }
   ],
   "source": [
    "!python test.py XXX YYY ZZZ"
   ]
  },
  {
   "cell_type": "markdown",
   "metadata": {},
   "source": [
    "Με αυτόν τον τρόπο μπορεί ένας χρήστης να βάζει παραμέτρους στη γραμμή εντολών. Π.χ. μπορεί να δηλώνει ποιο είναι το input αρχείο που θέλει να επεξεργαστείτε."
   ]
  },
  {
   "cell_type": "markdown",
   "metadata": {},
   "source": [
    "Με τη βιβλιοθήκη ```os``` μπορείτε να τρέξετε ένα πρόγραμμα από τη γραμμή εντολών μέσα από τη python:"
   ]
  },
  {
   "cell_type": "code",
   "execution_count": 15,
   "metadata": {},
   "outputs": [
    {
     "data": {
      "text/plain": [
       "0"
      ]
     },
     "execution_count": 15,
     "metadata": {},
     "output_type": "execute_result"
    }
   ],
   "source": [
    "import os\n",
    "os.system('cp test.py new_test.py') # Αντιγράφει (cp) το αρχείο test.py στο new_test.py"
   ]
  },
  {
   "cell_type": "code",
   "execution_count": 16,
   "metadata": {},
   "outputs": [
    {
     "name": "stdout",
     "output_type": "stream",
     "text": [
      "import sys\r\n",
      "\r\n",
      "print (sys.argv)\r\n",
      "\r\n"
     ]
    }
   ],
   "source": [
    "!cat new_test.py"
   ]
  },
  {
   "cell_type": "markdown",
   "metadata": {},
   "source": [
    "Επίσης, μπορούμε νε ελέγξουμε αν ένα αρχείο υπάρχει:"
   ]
  },
  {
   "cell_type": "code",
   "execution_count": 17,
   "metadata": {},
   "outputs": [
    {
     "data": {
      "text/plain": [
       "True"
      ]
     },
     "execution_count": 17,
     "metadata": {},
     "output_type": "execute_result"
    }
   ],
   "source": [
    "os.path.isfile('new_test.py')"
   ]
  },
  {
   "cell_type": "code",
   "execution_count": 19,
   "metadata": {},
   "outputs": [
    {
     "data": {
      "text/plain": [
       "False"
      ]
     },
     "execution_count": 19,
     "metadata": {},
     "output_type": "execute_result"
    }
   ],
   "source": [
    "os.path.isfile('xyz')"
   ]
  },
  {
   "cell_type": "markdown",
   "metadata": {},
   "source": [
    "\n",
    "## Regular Expressions\n",
    "Τα [Regular Expressions](https://en.wikipedia.org/wiki/Regular_expression) (ή αλλιώς regexp για συντομία) είναι μια βασική ιδέα στην επιστήμη υπολογιστών (υπάρχουν απο το 1956..). Είναι στην ουσία μία νέα γλώσσα με την οποία μπορείς να δηλώσεις κάποια patterns μέσα σε ένα string. Ειδικοί αλγόριθμοι αναλαμβάνουν να εντοπίσουν αυτά τα patterns με πολύ μεγάλη ταχύτητα. Τα regexp υλοποιούνται στη python στη βιβλιοθήκη ```re```:"
   ]
  },
  {
   "cell_type": "code",
   "execution_count": 20,
   "metadata": {},
   "outputs": [],
   "source": [
    "import re # Regular Expression"
   ]
  },
  {
   "cell_type": "markdown",
   "metadata": {},
   "source": [
    "Ας υποθέσουμε ότι έχουμε ένα string:"
   ]
  },
  {
   "cell_type": "code",
   "execution_count": 21,
   "metadata": {},
   "outputs": [],
   "source": [
    "s = 'abc 123 a1 1a'"
   ]
  },
  {
   "cell_type": "markdown",
   "metadata": {},
   "source": [
    "Έστω ότι θέλουμε να αναζητήσουμε ένα γράμμα (π.χ. το 'c')"
   ]
  },
  {
   "cell_type": "code",
   "execution_count": 22,
   "metadata": {},
   "outputs": [
    {
     "name": "stdout",
     "output_type": "stream",
     "text": [
      "<re.Match object; span=(2, 3), match='c'>\n"
     ]
    }
   ],
   "source": [
    "result = re.search(r'c', s)\n",
    "print(result)"
   ]
  },
  {
   "cell_type": "markdown",
   "metadata": {},
   "source": [
    "Αυτό μας ενημερώνει ότι έχει βρει κάπου αυτό που του ζητήσαμε. Μπορούμε να το επιβεβαιώσουμε με το ```group()```"
   ]
  },
  {
   "cell_type": "code",
   "execution_count": 23,
   "metadata": {},
   "outputs": [
    {
     "data": {
      "text/plain": [
       "'c'"
      ]
     },
     "execution_count": 23,
     "metadata": {},
     "output_type": "execute_result"
    }
   ],
   "source": [
    "result.group()"
   ]
  },
  {
   "cell_type": "markdown",
   "metadata": {},
   "source": [
    "Αν δεν είχε βρει τίποτα τότε θα επιστρέφει ```None```"
   ]
  },
  {
   "cell_type": "code",
   "execution_count": 24,
   "metadata": {},
   "outputs": [
    {
     "name": "stdout",
     "output_type": "stream",
     "text": [
      "None\n"
     ]
    }
   ],
   "source": [
    "result = re.search(r'd', s) # Το 'd' δεν υπάρχει\n",
    "print (result)"
   ]
  },
  {
   "cell_type": "markdown",
   "metadata": {},
   "source": [
    "Το 'bc' υπάρχει:"
   ]
  },
  {
   "cell_type": "code",
   "execution_count": 25,
   "metadata": {},
   "outputs": [
    {
     "name": "stdout",
     "output_type": "stream",
     "text": [
      "<re.Match object; span=(1, 3), match='bc'>\n"
     ]
    }
   ],
   "source": [
    "result = re.search(r'bc', s)\n",
    "print(result)"
   ]
  },
  {
   "cell_type": "markdown",
   "metadata": {},
   "source": [
    "Το 'cd' δεν υπάρχει: "
   ]
  },
  {
   "cell_type": "code",
   "execution_count": 26,
   "metadata": {},
   "outputs": [
    {
     "name": "stdout",
     "output_type": "stream",
     "text": [
      "None\n"
     ]
    }
   ],
   "source": [
    "result = re.search(r'cd', s)\n",
    "print(result)"
   ]
  },
  {
   "cell_type": "markdown",
   "metadata": {},
   "source": [
    "Με τις αγκύλες ```[]```  μπορούμε να δηλώσουμε ότι ψάχνουμε έναν χαρακτήρα που να ανοίκει σε ένα σετ από χαρακτήρες. Π.χ:"
   ]
  },
  {
   "cell_type": "code",
   "execution_count": 27,
   "metadata": {},
   "outputs": [
    {
     "name": "stdout",
     "output_type": "stream",
     "text": [
      "analyze\n",
      "analyse\n"
     ]
    }
   ],
   "source": [
    "a = 'analyze'\n",
    "b = 'analyse'\n",
    "\n",
    "result = re.search(r'analy[sz]e', a)\n",
    "print (result.group())\n",
    "\n",
    "result = re.search(r'analy[sz]e', b)\n",
    "print (result.group())"
   ]
  },
  {
   "cell_type": "markdown",
   "metadata": {},
   "source": [
    "Στις αγκύλες μπορούμε να δηλώσουμε ranges από χαρακτήρες:"
   ]
  },
  {
   "cell_type": "code",
   "execution_count": 28,
   "metadata": {},
   "outputs": [
    {
     "name": "stdout",
     "output_type": "stream",
     "text": [
      "python 3\n",
      "python 2\n"
     ]
    }
   ],
   "source": [
    "a = 'I am using python 3'\n",
    "b = 'I am using python 2'\n",
    "\n",
    "result = re.search(r'python [0-9]', a)\n",
    "print(result.group())\n",
    "\n",
    "result = re.search(r'python [0-9]', b)\n",
    "print(result.group())"
   ]
  },
  {
   "cell_type": "markdown",
   "metadata": {},
   "source": [
    "Τι γίνεται όταν ψάχνουμε \"παραπάνω από ένα\"; Τότε μπορούμε να χρησιμοποιήσουμε το '+'"
   ]
  },
  {
   "cell_type": "code",
   "execution_count": 29,
   "metadata": {},
   "outputs": [
    {
     "name": "stdout",
     "output_type": "stream",
     "text": [
      "69123456789\n"
     ]
    }
   ],
   "source": [
    "a = 'My number is 69123456789'\n",
    "result = re.search(r'[0-9]+', a)\n",
    "print(result.group())"
   ]
  },
  {
   "cell_type": "markdown",
   "metadata": {},
   "source": [
    "Με το '?' δηλώνουμε: 'κανένα ή 1'"
   ]
  },
  {
   "cell_type": "code",
   "execution_count": 30,
   "metadata": {},
   "outputs": [
    {
     "name": "stdout",
     "output_type": "stream",
     "text": [
      "+69123456789\n",
      "69123456789\n"
     ]
    }
   ],
   "source": [
    "a = 'My number is +69123456789'\n",
    "result = re.search(r'[+]?[0-9]+', a)\n",
    "print(result.group())\n",
    "\n",
    "a = 'My number is 69123456789'\n",
    "result = re.search(r'[+]?[0-9]+', a)\n",
    "print(result.group())"
   ]
  },
  {
   "cell_type": "markdown",
   "metadata": {},
   "source": [
    "Με το ```'*'``` μπορούμε να δηλώσουμε \"κανένα, 1 ή παραπάνω\""
   ]
  },
  {
   "cell_type": "code",
   "execution_count": 31,
   "metadata": {},
   "outputs": [
    {
     "name": "stdout",
     "output_type": "stream",
     "text": [
      "69123456789\n",
      "+69123456789\n",
      "+++++++++69123456789\n"
     ]
    }
   ],
   "source": [
    "a = 'My number is 69123456789' # Κανένα +\n",
    "result = re.search(r'[+]*[0-9]+', a)\n",
    "print(result.group()) \n",
    "\n",
    "a = 'My number is +69123456789'\n",
    "result = re.search(r'[+]*[0-9]+', a) # Ένα +\n",
    "print(result.group())\n",
    "\n",
    "a = 'My number is +++++++++69123456789' # Πολλά +\n",
    "result = re.search(r'[+]*[0-9]+', a)\n",
    "print(result.group())"
   ]
  },
  {
   "cell_type": "markdown",
   "metadata": {},
   "source": [
    "Αντί να γράφουμε ```[0-9]``` για να δηλώνουμε όλους τους αριθμούς και ```[a-zA-Z]``` γινα δηλώνουμε όλα τα γράμματα μπορούμε να χρησιμοποιήσουμε τα εξής:\n",
    "\n",
    "```\\d``` είναι το ίδιο με: ```[0-9]```\n",
    "\n",
    "```\\w``` είναι το ίδιο με: ```[a-zA-Z0-9_]```"
   ]
  },
  {
   "cell_type": "code",
   "execution_count": 32,
   "metadata": {},
   "outputs": [
    {
     "name": "stdout",
     "output_type": "stream",
     "text": [
      "693232314\n",
      "My favorite gene is TPMT\n"
     ]
    }
   ],
   "source": [
    "a = 'my number is 693232314'\n",
    "result = re.search(r'[\\d]+',a)\n",
    "print (result.group())\n",
    "\n",
    "a = 'My favorite gene is TPMT'\n",
    "result = re.search(r'My favorite gene is [\\w]+',a)\n",
    "print (result.group())"
   ]
  },
  {
   "cell_type": "markdown",
   "metadata": {},
   "source": [
    "Το ```[\\s]``` κάνει match το [whitespace](https://en.wikipedia.org/wiki/Whitespace_character) "
   ]
  },
  {
   "cell_type": "code",
   "execution_count": 33,
   "metadata": {},
   "outputs": [
    {
     "name": "stdout",
     "output_type": "stream",
     "text": [
      "                 33333\n"
     ]
    }
   ],
   "source": [
    "a = 'my number is:                 33333'\n",
    "result = re.search(r'[\\s]+[\\d]+',a)\n",
    "print (result.group())"
   ]
  },
  {
   "cell_type": "markdown",
   "metadata": {},
   "source": [
    "Αν ο πρώτος χαρακτήρας στις αγκύλες είναι το ^ τότε σημαίνει όλους εκτός αυτούς τους χαρακτήρες: "
   ]
  },
  {
   "cell_type": "code",
   "execution_count": 34,
   "metadata": {},
   "outputs": [
    {
     "name": "stdout",
     "output_type": "stream",
     "text": [
      "angelopoulou \n"
     ]
    }
   ],
   "source": [
    "a = 'angelopoulos angelopoulou '\n",
    "\n",
    "result = re.search(r'[\\w]+[^s] ', a) # Τα ονόματα που δεν τελειώνουν σε \"s\"\n",
    "print(result.group())"
   ]
  },
  {
   "cell_type": "markdown",
   "metadata": {},
   "source": [
    "Τα ```+```, ```?``` και ```*``` προσπαθούν να κάνουν match όσο το δυνατόν περισσότερους χαρακτήρες (greedy match). Πολλές φορές θέλουμε να κάνουν match όσο το δυνατόν λιγότερο. Για να το κάνουμε αυτό χρησιμοποιούμε τα ```+?```, ```??``` και ```*?``` αντίστοιχα. Π.χ:"
   ]
  },
  {
   "cell_type": "code",
   "execution_count": 35,
   "metadata": {},
   "outputs": [
    {
     "name": "stdout",
     "output_type": "stream",
     "text": [
      "I bought 3 bananas I bought 5 bananas I bought 10 bananas\n",
      "I bought 3 bananas\n"
     ]
    }
   ],
   "source": [
    "a = 'I bought 3 bananas I bought 5 bananas I bought 10 bananas' # Σταματάει στο τελευταίο bananas\n",
    "result = re.search(r'I bought [\\w ]+ bananas', a)\n",
    "print(result.group())\n",
    "\n",
    "a = 'I bought 3 bananas I bought 5 bananas I bought 10 bananas' # Σταματάσει στο πρώτο bananas\n",
    "result = re.search(r'I bought [\\w ]+? bananas', a)\n",
    "print(result.group())"
   ]
  },
  {
   "cell_type": "markdown",
   "metadata": {},
   "source": [
    "Το ```^``` (έξω από αγκύλες) δηλώνει την αρχή του string:"
   ]
  },
  {
   "cell_type": "code",
   "execution_count": 36,
   "metadata": {},
   "outputs": [
    {
     "name": "stdout",
     "output_type": "stream",
     "text": [
      "String \"1234 abc\" starts with a number\n"
     ]
    }
   ],
   "source": [
    "a = '1234 abc'\n",
    "b = 'abc 123'\n",
    "\n",
    "# Ποια από αυτά τα string ξεκινάει με αριθμό;\n",
    "for x in [a,b]:\n",
    "    if re.search(r'^[\\d]', x):\n",
    "        print ('String \"{}\" starts with a number'.format(x))\n"
   ]
  },
  {
   "cell_type": "markdown",
   "metadata": {},
   "source": [
    "Το ```$``` δηλώνει το τέλος του string:"
   ]
  },
  {
   "cell_type": "code",
   "execution_count": 37,
   "metadata": {},
   "outputs": [
    {
     "name": "stdout",
     "output_type": "stream",
     "text": [
      "String \"abc 123\" ends with a number\n"
     ]
    }
   ],
   "source": [
    "a = '1234 abc'\n",
    "b = 'abc 123'\n",
    "\n",
    "# Ποια από αυτά τα string ξεκινάει με αριθμό;\n",
    "for x in [a,b]:\n",
    "    if re.search(r'[\\d]$', x):\n",
    "        print ('String \"{}\" ends with a number'.format(x))"
   ]
  },
  {
   "cell_type": "markdown",
   "metadata": {},
   "source": [
    "H τελεία δηλώνει οποιοδίποτε χαρακτήρα!"
   ]
  },
  {
   "cell_type": "code",
   "execution_count": 38,
   "metadata": {},
   "outputs": [
    {
     "name": "stdout",
     "output_type": "stream",
     "text": [
      "This is correct: my two letter code is: 54\n",
      "This is correct: my two letter code is: %!\n"
     ]
    }
   ],
   "source": [
    "a = 'my two letter code is: 54'\n",
    "b = 'my two letter code is: %!'\n",
    "c = 'my two letter code is: G44'\n",
    "for x in [a,b,c]:\n",
    "    if re.search(r'my two letter code is: ..$', x):\n",
    "        print ('This is correct: {}'.format(x))"
   ]
  },
  {
   "cell_type": "markdown",
   "metadata": {},
   "source": [
    "Μπορούμε να χρησιμοποιήσουμε παρενθέσεις για να πάρουμε ένα substring από αυτό που έχουμε κάνει search. Στο αποτέλεσμα του search πρέπει να χρησιμοποιήσουμε το ```group(k)``` για να πάρουμε το match της k-ης παρένθεσης:"
   ]
  },
  {
   "cell_type": "code",
   "execution_count": 39,
   "metadata": {},
   "outputs": [
    {
     "name": "stdout",
     "output_type": "stream",
     "text": [
      "rs234234\n"
     ]
    }
   ],
   "source": [
    "a=\"my favorite variants is rs234234\"\n",
    "result = re.search(r'my favorite variants is (rs[\\d]+)',a)\n",
    "print (result.group(1))"
   ]
  },
  {
   "cell_type": "code",
   "execution_count": 40,
   "metadata": {},
   "outputs": [
    {
     "name": "stdout",
     "output_type": "stream",
     "text": [
      "John Snow\n"
     ]
    }
   ],
   "source": [
    "a = 'My name is John Snow'\n",
    "result = re.search(r'My name is ([\\w]+) ([\\w]+)', a)\n",
    "print (result.group(1), result.group(2))"
   ]
  },
  {
   "cell_type": "markdown",
   "metadata": {},
   "source": [
    "Αντί να κάνουμε ```search``` για να βρούμε ένα regexp σε ένα string μπορούμε να κάνουμε ```match``` για να δούμε αν ΟΛΟ το string ικανοποιεί μία regexp: "
   ]
  },
  {
   "cell_type": "code",
   "execution_count": 41,
   "metadata": {},
   "outputs": [
    {
     "name": "stdout",
     "output_type": "stream",
     "text": [
      "<re.Match object; span=(13, 22), match='rs1234567'>\n",
      "None\n"
     ]
    }
   ],
   "source": [
    "a = 'this is SNP: rs1234567'\n",
    "result = re.search(r'rs[\\d]+', a)\n",
    "print (result)\n",
    "\n",
    "a = 'this is SNP: rs1234567'\n",
    "result = re.match(r'rs[\\d]+', a)\n",
    "print (result)"
   ]
  },
  {
   "cell_type": "markdown",
   "metadata": {},
   "source": [
    "Δηλαδή το ```re.match('PATTERN', x)``` είναι ισοδύναμο με το ```re.search('^PATTERN$', x)```\n",
    "\n",
    "Επίσης με τη ```findall``` μπορούμε να βρούμε όλα τα substrings ενώς string που ικανοποιούν ένα regexp."
   ]
  },
  {
   "cell_type": "code",
   "execution_count": 44,
   "metadata": {},
   "outputs": [
    {
     "data": {
      "text/plain": [
       "['rs1213', 'rs9897', 'rs432432342']"
      ]
     },
     "execution_count": 44,
     "metadata": {},
     "output_type": "execute_result"
    }
   ],
   "source": [
    "a = ' rs1213  XYZ rs9897   HELLO rs432432342 '\n",
    "re.findall(r'rs[\\d]+', a)"
   ]
  },
  {
   "cell_type": "markdown",
   "metadata": {},
   "source": [
    "**Προσοχή!** αυτά είναι μόνο τα βασικά των regular expressions. Υπάρχουν πολύ περισσότερα για τα οποία μπορείτε να διαβάσετε στο [documentation της python](https://docs.python.org/3/library/re.html)."
   ]
  },
  {
   "cell_type": "markdown",
   "metadata": {},
   "source": [
    "### πεδία συναρτήσεων\n",
    "Οι συναρτήσεις μπορούν να έχουν ενσωματωμένο documentation. Αυτό πρέπει να είναι ένα string που δηλώνεται στην αρχή της συνάρτησης:"
   ]
  },
  {
   "cell_type": "code",
   "execution_count": 247,
   "metadata": {},
   "outputs": [],
   "source": [
    "def f():\n",
    "    '''\n",
    "    Αυτή η συνάρτηση υπολογίζει τα πάντα.\n",
    "    '''\n",
    "    return 42"
   ]
  },
  {
   "cell_type": "markdown",
   "metadata": {},
   "source": [
    "Μπορούμε να προσπελάσουμε το documentation αυτό:"
   ]
  },
  {
   "cell_type": "code",
   "execution_count": 248,
   "metadata": {},
   "outputs": [
    {
     "data": {
      "text/plain": [
       "'\\n    Αυτή η συνάρτηση υπολογίζει τα πάντα.\\n    '"
      ]
     },
     "execution_count": 248,
     "metadata": {},
     "output_type": "execute_result"
    }
   ],
   "source": [
    "f.__doc__"
   ]
  },
  {
   "cell_type": "markdown",
   "metadata": {},
   "source": [
    "Επίσης μπορούμε να πάρουμε το όνομα μιας συνάρτησης:"
   ]
  },
  {
   "cell_type": "code",
   "execution_count": 250,
   "metadata": {},
   "outputs": [
    {
     "data": {
      "text/plain": [
       "'f'"
      ]
     },
     "execution_count": 250,
     "metadata": {},
     "output_type": "execute_result"
    }
   ],
   "source": [
    "f.__name__"
   ]
  },
  {
   "cell_type": "code",
   "execution_count": 266,
   "metadata": {},
   "outputs": [
    {
     "name": "stdout",
     "output_type": "stream",
     "text": [
      "f\n",
      "g\n"
     ]
    }
   ],
   "source": [
    "def f():\n",
    "    return 10\n",
    "\n",
    "def g():\n",
    "    return 20\n",
    "\n",
    "a=f\n",
    "print (a.__name__)\n",
    "a=g\n",
    "print (a.__name__)"
   ]
  },
  {
   "cell_type": "markdown",
   "metadata": {},
   "source": [
    "Υπάρχουν πολλά άλλα πεδία για άλλες χρήσεις:"
   ]
  },
  {
   "cell_type": "code",
   "execution_count": 267,
   "metadata": {},
   "outputs": [
    {
     "data": {
      "text/plain": [
       "['__annotations__',\n",
       " '__call__',\n",
       " '__class__',\n",
       " '__closure__',\n",
       " '__code__',\n",
       " '__defaults__',\n",
       " '__delattr__',\n",
       " '__dict__',\n",
       " '__dir__',\n",
       " '__doc__',\n",
       " '__eq__',\n",
       " '__format__',\n",
       " '__ge__',\n",
       " '__get__',\n",
       " '__getattribute__',\n",
       " '__globals__',\n",
       " '__gt__',\n",
       " '__hash__',\n",
       " '__init__',\n",
       " '__init_subclass__',\n",
       " '__kwdefaults__',\n",
       " '__le__',\n",
       " '__lt__',\n",
       " '__module__',\n",
       " '__name__',\n",
       " '__ne__',\n",
       " '__new__',\n",
       " '__qualname__',\n",
       " '__reduce__',\n",
       " '__reduce_ex__',\n",
       " '__repr__',\n",
       " '__setattr__',\n",
       " '__sizeof__',\n",
       " '__str__',\n",
       " '__subclasshook__']"
      ]
     },
     "execution_count": 267,
     "metadata": {},
     "output_type": "execute_result"
    }
   ],
   "source": [
    "dir(f)"
   ]
  },
  {
   "cell_type": "markdown",
   "metadata": {},
   "source": [
    "### pass \n",
    "Σε οποιοδίποτε καινούργιο indentation (for, while, def, if, ...) πρέπει υποχρεωτικά να έχουμε τουλάχιστον μία εντολή:"
   ]
  },
  {
   "cell_type": "code",
   "execution_count": 254,
   "metadata": {},
   "outputs": [
    {
     "ename": "SyntaxError",
     "evalue": "unexpected EOF while parsing (<ipython-input-254-2c8a33b52dfb>, line 1)",
     "output_type": "error",
     "traceback": [
      "\u001b[0;36m  File \u001b[0;32m\"<ipython-input-254-2c8a33b52dfb>\"\u001b[0;36m, line \u001b[0;32m1\u001b[0m\n\u001b[0;31m    if True:\u001b[0m\n\u001b[0m            ^\u001b[0m\n\u001b[0;31mSyntaxError\u001b[0m\u001b[0;31m:\u001b[0m unexpected EOF while parsing\n"
     ]
    }
   ],
   "source": [
    "if True:\n"
   ]
  },
  {
   "cell_type": "markdown",
   "metadata": {},
   "source": [
    "Αν για κάποιο λόγο δεν θέλουμε να βάλουμε καμία εντολή, τότε μπορούμε να χρησιμοποιήσουμε τη ```pass```:"
   ]
  },
  {
   "cell_type": "code",
   "execution_count": 255,
   "metadata": {},
   "outputs": [],
   "source": [
    "if True:\n",
    "    pass"
   ]
  },
  {
   "cell_type": "code",
   "execution_count": 283,
   "metadata": {},
   "outputs": [],
   "source": [
    "def f():\n",
    "    pass"
   ]
  },
  {
   "cell_type": "markdown",
   "metadata": {},
   "source": [
    "Το ```pass``` μπορούμε να το βάλουμε οπουδίποτε και δεν κάνει.. [τίποτα](https://en.wikipedia.org/wiki/NOP#Python):"
   ]
  },
  {
   "cell_type": "code",
   "execution_count": 284,
   "metadata": {},
   "outputs": [
    {
     "name": "stdout",
     "output_type": "stream",
     "text": [
      "Hello\n",
      "World\n"
     ]
    }
   ],
   "source": [
    "print ('Hello')\n",
    "pass\n",
    "print ('World')"
   ]
  },
  {
   "cell_type": "markdown",
   "metadata": {},
   "source": [
    "### is"
   ]
  },
  {
   "cell_type": "markdown",
   "metadata": {},
   "source": [
    "Έχουμε δει πολλές φορές τον τελεστή ```is```. Το έχουμε χρησιμοποιήσει για να δούμε τι τύπος είναι μία μεταβλητή:"
   ]
  },
  {
   "cell_type": "code",
   "execution_count": 417,
   "metadata": {},
   "outputs": [
    {
     "data": {
      "text/plain": [
       "True"
      ]
     },
     "execution_count": 417,
     "metadata": {},
     "output_type": "execute_result"
    }
   ],
   "source": [
    "a = [1,2,3]\n",
    "type(a) is list"
   ]
  },
  {
   "cell_type": "markdown",
   "metadata": {},
   "source": [
    "Η is κοιτάει αν δύο μεταβλητές είναι ίδιες. Δηλαδή είναι οι ίδιες μεταβλητές. Ή αλλιώς κοιτάει αν αναφέρονται στην ίδια θέση μνήμης. Αυτό είναι διαφορετικό από το ίσες: Δύο μεταβλητές είναι *ίσες* (`==`) αν έχουν την ίδια τιμή. Δύο μεταβλητές είναι *ίδιες* αν αναφέρονται στην ίδια θέση μνήμης. Παραδείγματα:"
   ]
  },
  {
   "cell_type": "code",
   "execution_count": 418,
   "metadata": {},
   "outputs": [
    {
     "name": "stdout",
     "output_type": "stream",
     "text": [
      "True\n",
      "False\n"
     ]
    }
   ],
   "source": [
    "a = [1,2,3]\n",
    "b = [1,2,3]\n",
    "print (a==b)\n",
    "print (a is b)"
   ]
  },
  {
   "cell_type": "code",
   "execution_count": 419,
   "metadata": {},
   "outputs": [
    {
     "name": "stdout",
     "output_type": "stream",
     "text": [
      "True\n",
      "True\n"
     ]
    }
   ],
   "source": [
    "a = [1,2,3]\n",
    "b = a\n",
    "print (a==b)\n",
    "print (a is b)"
   ]
  },
  {
   "cell_type": "markdown",
   "metadata": {},
   "source": [
    " Όταν δύο μηταβλητές είναι ίδιες (και όχι απλά ίσες) τότε αν αλλάξεις την μία, αλλάζει και η άλλη:"
   ]
  },
  {
   "cell_type": "code",
   "execution_count": 420,
   "metadata": {},
   "outputs": [
    {
     "name": "stdout",
     "output_type": "stream",
     "text": [
      "[100, 2, 3]\n"
     ]
    }
   ],
   "source": [
    "a = [1,2,3]\n",
    "b=a\n",
    "b[0] = 100\n",
    "print (a)"
   ]
  },
  {
   "cell_type": "markdown",
   "metadata": {},
   "source": [
    "Ένα άλλο παράδειγμα:"
   ]
  },
  {
   "cell_type": "code",
   "execution_count": 422,
   "metadata": {},
   "outputs": [
    {
     "name": "stdout",
     "output_type": "stream",
     "text": [
      "[[1, 2, 3, 4], [1, 2, 3, 4], [1, 2, 3, 4]]\n",
      "[[100, 2, 3, 4], [100, 2, 3, 4], [100, 2, 3, 4]]\n"
     ]
    }
   ],
   "source": [
    "a = [1,2,3,4]\n",
    "b = [a,a,a]\n",
    "print (b)\n",
    "a[0]=100\n",
    "print (b)"
   ]
  }
 ],
 "metadata": {
  "kernelspec": {
   "display_name": "Python 3",
   "language": "python",
   "name": "python3"
  },
  "language_info": {
   "codemirror_mode": {
    "name": "ipython",
    "version": 3
   },
   "file_extension": ".py",
   "mimetype": "text/x-python",
   "name": "python",
   "nbconvert_exporter": "python",
   "pygments_lexer": "ipython3",
   "version": "3.8.5"
  }
 },
 "nbformat": 4,
 "nbformat_minor": 2
}
