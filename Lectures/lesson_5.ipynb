{
 "cells": [
  {
   "cell_type": "markdown",
   "metadata": {},
   "source": [
    "# Προγραμματισμός με τη γλώσσα python\n",
    "### [Alexandros Kanterakis](mailto:kantale@ics.forth.gr) kantale@ics.forth.gr\n",
    "### Διάλεξη 5η, Τρίτη 12 Νοεμβρίου 2019\n"
   ]
  },
  {
   "cell_type": "markdown",
   "metadata": {},
   "source": [
    "## Παραλειπόμενα"
   ]
  },
  {
   "cell_type": "markdown",
   "metadata": {},
   "source": [
    "Όταν γράφουμε: ```a=b```, τότε στην ```a``` αποθηκεύεται η τιμή της ```b```. Όταν όμως γράφουμε σκέτο: ```b``` τότε η τιμή της ```b``` αποθηκεύεται αυτόματα στη μεταβλητή: ```_```: "
   ]
  },
  {
   "cell_type": "code",
   "execution_count": 1,
   "metadata": {},
   "outputs": [
    {
     "name": "stdout",
     "output_type": "stream",
     "text": [
      "42\n"
     ]
    }
   ],
   "source": [
    "a=42\n",
    "print (a)"
   ]
  },
  {
   "cell_type": "code",
   "execution_count": 2,
   "metadata": {},
   "outputs": [
    {
     "data": {
      "text/plain": [
       "52"
      ]
     },
     "execution_count": 2,
     "metadata": {},
     "output_type": "execute_result"
    }
   ],
   "source": [
    "52"
   ]
  },
  {
   "cell_type": "code",
   "execution_count": 3,
   "metadata": {},
   "outputs": [
    {
     "data": {
      "text/plain": [
       "52"
      ]
     },
     "execution_count": 3,
     "metadata": {},
     "output_type": "execute_result"
    }
   ],
   "source": [
    "_"
   ]
  },
  {
   "cell_type": "markdown",
   "metadata": {},
   "source": [
    "Προσοχή! Η extend και η append δεν επιστρέφουν τίποτα:"
   ]
  },
  {
   "cell_type": "code",
   "execution_count": 4,
   "metadata": {},
   "outputs": [
    {
     "name": "stdout",
     "output_type": "stream",
     "text": [
      "None\n"
     ]
    }
   ],
   "source": [
    "a = [1,2,3]\n",
    "print (a.append(4))"
   ]
  },
  {
   "cell_type": "code",
   "execution_count": 5,
   "metadata": {},
   "outputs": [
    {
     "name": "stdout",
     "output_type": "stream",
     "text": [
      "[1, 2, 3, 4]\n"
     ]
    }
   ],
   "source": [
    "print (a)"
   ]
  },
  {
   "cell_type": "code",
   "execution_count": 6,
   "metadata": {},
   "outputs": [
    {
     "name": "stdout",
     "output_type": "stream",
     "text": [
      "None\n"
     ]
    }
   ],
   "source": [
    "a = [1,2,3]\n",
    "print (a.extend([4]))"
   ]
  },
  {
   "cell_type": "code",
   "execution_count": 7,
   "metadata": {},
   "outputs": [
    {
     "name": "stdout",
     "output_type": "stream",
     "text": [
      "[1, 2, 3, 4]\n"
     ]
    }
   ],
   "source": [
    "print (a)"
   ]
  },
  {
   "cell_type": "code",
   "execution_count": 8,
   "metadata": {},
   "outputs": [
    {
     "name": "stdout",
     "output_type": "stream",
     "text": [
      "[1, 2, 3, 4]\n"
     ]
    }
   ],
   "source": [
    "print (a)"
   ]
  },
  {
   "cell_type": "markdown",
   "metadata": {},
   "source": [
    "Γενικότερος κανόνας: Όταν γράφουμε: ```ΧΧΧ.ΥΥΥ()``` αν η μέθοδος ```YYY``` μεταβάλει το ```XXX``` τότε αυτή η μέδοδος δεν επιστρέφει τίποτα. Διαφορετικά επιστρέφει κάτι.\n",
    "\n",
    "Δηλαδή οι παρακάτω μέθοδοι **δεν** εππιστρέφουν ```None```"
   ]
  },
  {
   "cell_type": "code",
   "execution_count": 9,
   "metadata": {},
   "outputs": [
    {
     "data": {
      "text/plain": [
       "4"
      ]
     },
     "execution_count": 9,
     "metadata": {},
     "output_type": "execute_result"
    }
   ],
   "source": [
    "\"abcdfdfgsdfgsfg\".count(\"f\")"
   ]
  },
  {
   "cell_type": "code",
   "execution_count": 10,
   "metadata": {},
   "outputs": [
    {
     "name": "stdout",
     "output_type": "stream",
     "text": [
      "4\n"
     ]
    }
   ],
   "source": [
    "a = \"abcdfdfgsdfgsfg\".count(\"f\")\n",
    "print (a)"
   ]
  },
  {
   "cell_type": "markdown",
   "metadata": {},
   "source": [
    "Όταν γράφουμε ```a = ....``` τότε το a μεταβάλεται"
   ]
  },
  {
   "cell_type": "code",
   "execution_count": 11,
   "metadata": {},
   "outputs": [
    {
     "name": "stdout",
     "output_type": "stream",
     "text": [
      "['kati asxeto']\n",
      "[1, 2, 3]\n",
      "[4, 5, 6]\n",
      "[1, 2, 3, 4, 5, 6]\n"
     ]
    }
   ],
   "source": [
    "c = [\"kati asxeto\"]\n",
    "print (c)\n",
    "a = [1,2,3] # Το a δεν μεταβάλεται\n",
    "b = [4,5,6] # Το b  δεν μεταβάλεται\n",
    "c = a+b # Μόνο το c μεταβάλεται\n",
    "print (a)\n",
    "print (b)\n",
    "print (c)"
   ]
  },
  {
   "cell_type": "markdown",
   "metadata": {},
   "source": [
    "### break και continue"
   ]
  },
  {
   "cell_type": "markdown",
   "metadata": {},
   "source": [
    "Με την εντολή ```break``` \"σταματάμε\" την επανάληψη της for. Όταν ο υπολογιστής \"δει\" τη ```break``` τότε βγαίνει τελείως από τη ```for```: "
   ]
  },
  {
   "cell_type": "code",
   "execution_count": 12,
   "metadata": {},
   "outputs": [
    {
     "name": "stdout",
     "output_type": "stream",
     "text": [
      "1\n",
      "2\n",
      "3\n",
      "4\n",
      "5\n",
      "6\n"
     ]
    }
   ],
   "source": [
    "for i in range(1,10):\n",
    "    print (i)\n",
    "    if i>5:\n",
    "        break # Get out from for !!!"
   ]
  },
  {
   "cell_type": "markdown",
   "metadata": {},
   "source": [
    "Με την εντολή ```continue``` σταματάμε για αυτό και μόνο το κομμάτι της επανάληψης. Ο υπολογιστής \"συνεχίζει\" (continue..) με την επόμενη επανάληψη:"
   ]
  },
  {
   "cell_type": "code",
   "execution_count": 13,
   "metadata": {},
   "outputs": [
    {
     "name": "stdout",
     "output_type": "stream",
     "text": [
      "1\n",
      "2\n",
      "3\n",
      "4\n",
      "6\n",
      "7\n",
      "8\n",
      "9\n"
     ]
    }
   ],
   "source": [
    "for i in range(1,10):\n",
    "    if i == 5: # ΔΕΝ ΤΥΠΩΝΕΙ ΤΟ 5\n",
    "        continue\n",
    "    print (i) # TO PRINT **DEN** EINAI MESA STHN IF! (einai mesa sth for)"
   ]
  },
  {
   "cell_type": "markdown",
   "metadata": {},
   "source": [
    "**Προσοχή!** ότι υπάρχει κάτω (και στο ίδιο indentation) από τη ```continue``` και τη ```break``` αγνοείται!"
   ]
  },
  {
   "cell_type": "code",
   "execution_count": 14,
   "metadata": {},
   "outputs": [],
   "source": [
    "for i in range(1,10):\n",
    "    if i == 5:\n",
    "        continue\n",
    "        print (i) #  TO PRINT EINAI MESA STHN IF!"
   ]
  },
  {
   "cell_type": "markdown",
   "metadata": {},
   "source": [
    "η ```break``` και η ```continue``` μπορεί να χρησιμοποιηθεί και στη ```while```. "
   ]
  },
  {
   "cell_type": "code",
   "execution_count": 15,
   "metadata": {},
   "outputs": [
    {
     "name": "stdout",
     "output_type": "stream",
     "text": [
      "1\n",
      "2\n",
      "3\n",
      "4\n",
      "5\n",
      "6\n"
     ]
    }
   ],
   "source": [
    "a=1\n",
    "while True:\n",
    "    print (a)\n",
    "    if a>5:\n",
    "        break\n",
    "    a +=1 "
   ]
  },
  {
   "cell_type": "code",
   "execution_count": 16,
   "metadata": {},
   "outputs": [
    {
     "name": "stdout",
     "output_type": "stream",
     "text": [
      "1\n",
      "2\n",
      "3\n",
      "4\n",
      "5\n"
     ]
    }
   ],
   "source": [
    "a=1\n",
    "while True:\n",
    "    print (a)\n",
    "    a +=1 \n",
    "    if a>5:\n",
    "        break\n",
    "    "
   ]
  },
  {
   "cell_type": "code",
   "execution_count": 17,
   "metadata": {},
   "outputs": [
    {
     "name": "stdout",
     "output_type": "stream",
     "text": [
      "Loop counter: 4\n"
     ]
    }
   ],
   "source": [
    "a=1\n",
    "counter =0\n",
    "while True:\n",
    "    counter += 1\n",
    "    #print (a)\n",
    "    a +=5 \n",
    "    if a>20:\n",
    "        break\n",
    "print (\"Loop counter:\",counter)"
   ]
  },
  {
   "cell_type": "code",
   "execution_count": 18,
   "metadata": {},
   "outputs": [
    {
     "name": "stdout",
     "output_type": "stream",
     "text": [
      "Loop counter: 5\n"
     ]
    }
   ],
   "source": [
    "a=1\n",
    "counter =0\n",
    "while True:\n",
    "    counter += 1\n",
    "    #print (a)\n",
    "    if a>20:\n",
    "        break\n",
    "    a +=5 \n",
    "print (\"Loop counter:\",counter)"
   ]
  },
  {
   "cell_type": "markdown",
   "metadata": {},
   "source": [
    "Το απόλυτο ενός αριθμού:"
   ]
  },
  {
   "cell_type": "code",
   "execution_count": 19,
   "metadata": {},
   "outputs": [
    {
     "data": {
      "text/plain": [
       "3"
      ]
     },
     "execution_count": 19,
     "metadata": {},
     "output_type": "execute_result"
    }
   ],
   "source": [
    "abs(-3)"
   ]
  },
  {
   "cell_type": "code",
   "execution_count": 20,
   "metadata": {},
   "outputs": [
    {
     "data": {
      "text/plain": [
       "3"
      ]
     },
     "execution_count": 20,
     "metadata": {},
     "output_type": "execute_result"
    }
   ],
   "source": [
    "abs(3)"
   ]
  },
  {
   "cell_type": "markdown",
   "metadata": {},
   "source": [
    "### Ternary operator\n",
    "με το [ternary operator](https://en.wikipedia.org/wiki/%3F:) μπορούμε να γράψουμε μία ```if ... else ...``` σε μία εντολή. Η δομή είναι:\n",
    "```python\n",
    "a = EXPRESSION_IF_THE_CONDITION_IS_TRUE if CONDITION else EXPRESSION_IF_THE_CONDITION_IS_FALSE\n",
    "```\n",
    "π.χ.:"
   ]
  },
  {
   "cell_type": "code",
   "execution_count": 21,
   "metadata": {},
   "outputs": [
    {
     "name": "stdout",
     "output_type": "stream",
     "text": [
      "8\n"
     ]
    }
   ],
   "source": [
    "a = 1 if 5<3 else 8\n",
    "print (a)"
   ]
  },
  {
   "cell_type": "code",
   "execution_count": 22,
   "metadata": {},
   "outputs": [
    {
     "name": "stdout",
     "output_type": "stream",
     "text": [
      "1\n"
     ]
    }
   ],
   "source": [
    "a = 1 if 3<5 else 8\n",
    "print (a)"
   ]
  },
  {
   "cell_type": "markdown",
   "metadata": {},
   "source": [
    "Μπορούμε να συνθέσουμε πολλούς ternary operators μαζί:"
   ]
  },
  {
   "cell_type": "code",
   "execution_count": 23,
   "metadata": {},
   "outputs": [
    {
     "name": "stdout",
     "output_type": "stream",
     "text": [
      "6\n"
     ]
    }
   ],
   "source": [
    "a = (1 if 3<5 else 6) if 5>6 else (6 if 4>1 else 7)\n",
    "print (a)"
   ]
  },
  {
   "cell_type": "markdown",
   "metadata": {},
   "source": [
    "Αν βγάλω τις παρενθέσεις θα έχει διαφορετική τιμή η ```a```. (Γιατί;)"
   ]
  },
  {
   "cell_type": "code",
   "execution_count": 24,
   "metadata": {},
   "outputs": [
    {
     "name": "stdout",
     "output_type": "stream",
     "text": [
      "1\n"
     ]
    }
   ],
   "source": [
    "a = 1 if 3<5 else 6 if 5>6 else 6 if 4>1 else 7\n",
    "print (a)"
   ]
  },
  {
   "cell_type": "markdown",
   "metadata": {},
   "source": [
    "### H συνάρτηση ```input```\n",
    "Με τη συνάρτηση ```input``` μπορούμε να πούμε στον χρήστη να εισάγει μία τιμή:"
   ]
  },
  {
   "cell_type": "code",
   "execution_count": 26,
   "metadata": {},
   "outputs": [
    {
     "name": "stdout",
     "output_type": "stream",
     "text": [
      "What is your name? Alex\n"
     ]
    }
   ],
   "source": [
    "name = input('What is your name? ')"
   ]
  },
  {
   "cell_type": "code",
   "execution_count": 27,
   "metadata": {},
   "outputs": [
    {
     "name": "stdout",
     "output_type": "stream",
     "text": [
      "Alex\n"
     ]
    }
   ],
   "source": [
    "print (name)"
   ]
  },
  {
   "cell_type": "markdown",
   "metadata": {},
   "source": [
    "### H συνάρτηση ```del```\n",
    "Με την ```del``` μπορούμε να \"σβήνουμε\" τιμές από δομές δεδομένων:"
   ]
  },
  {
   "cell_type": "code",
   "execution_count": 28,
   "metadata": {},
   "outputs": [
    {
     "name": "stdout",
     "output_type": "stream",
     "text": [
      "[1, 2, 3]\n"
     ]
    }
   ],
   "source": [
    "a = [1,2,3]\n",
    "print (a)"
   ]
  },
  {
   "cell_type": "code",
   "execution_count": 29,
   "metadata": {},
   "outputs": [
    {
     "name": "stdout",
     "output_type": "stream",
     "text": [
      "[1, 3]\n"
     ]
    }
   ],
   "source": [
    "del a[1]\n",
    "print (a)"
   ]
  },
  {
   "cell_type": "code",
   "execution_count": 30,
   "metadata": {},
   "outputs": [
    {
     "name": "stdout",
     "output_type": "stream",
     "text": [
      "{'a': 2, 'b': 3, 'c': 4}\n"
     ]
    }
   ],
   "source": [
    "a = {'a':2, 'b':3, 'c': 4}\n",
    "print (a)"
   ]
  },
  {
   "cell_type": "code",
   "execution_count": 31,
   "metadata": {},
   "outputs": [
    {
     "name": "stdout",
     "output_type": "stream",
     "text": [
      "{'a': 2, 'c': 4}\n"
     ]
    }
   ],
   "source": [
    "del a['b']\n",
    "print (a)"
   ]
  },
  {
   "cell_type": "code",
   "execution_count": 32,
   "metadata": {},
   "outputs": [
    {
     "name": "stdout",
     "output_type": "stream",
     "text": [
      "3\n"
     ]
    }
   ],
   "source": [
    "a=3\n",
    "print (a)"
   ]
  },
  {
   "cell_type": "code",
   "execution_count": 33,
   "metadata": {},
   "outputs": [
    {
     "ename": "NameError",
     "evalue": "name 'a' is not defined",
     "output_type": "error",
     "traceback": [
      "\u001b[0;31m---------------------------------------------------------------------------\u001b[0m",
      "\u001b[0;31mNameError\u001b[0m                                 Traceback (most recent call last)",
      "\u001b[0;32m<ipython-input-33-6a9b8a3d8df8>\u001b[0m in \u001b[0;36m<module>\u001b[0;34m()\u001b[0m\n\u001b[1;32m      1\u001b[0m \u001b[0;32mdel\u001b[0m \u001b[0ma\u001b[0m\u001b[0;34m\u001b[0m\u001b[0m\n\u001b[0;32m----> 2\u001b[0;31m \u001b[0mprint\u001b[0m \u001b[0;34m(\u001b[0m\u001b[0ma\u001b[0m\u001b[0;34m)\u001b[0m\u001b[0;34m\u001b[0m\u001b[0m\n\u001b[0m",
      "\u001b[0;31mNameError\u001b[0m: name 'a' is not defined"
     ]
    }
   ],
   "source": [
    "del a\n",
    "print (a)"
   ]
  },
  {
   "cell_type": "markdown",
   "metadata": {},
   "source": [
    "Μπορούμε να μετατρέψουμε μία λίστα με dictionary αν αποτελείται από υπολίστες όπου το κάθε στοιχείο της υπολίστας έχει δύο τιμές. Σε αυτή τη περίπτωση το πρώτο στοιχείο της υπολίστας είναι το κλειδί και το δεύτερο η τιμή:"
   ]
  },
  {
   "cell_type": "code",
   "execution_count": 34,
   "metadata": {},
   "outputs": [
    {
     "data": {
      "text/plain": [
       "{'name': 'alex', 'age': 30}"
      ]
     },
     "execution_count": 34,
     "metadata": {},
     "output_type": "execute_result"
    }
   ],
   "source": [
    "a = [['name', 'alex'], ['age', 30]]\n",
    "dict(a)"
   ]
  },
  {
   "cell_type": "markdown",
   "metadata": {},
   "source": [
    "## Παραλειπόμενα\n",
    "### assert\n",
    "Με την ```assert``` ελέγχουνε αν \"όλα πάνε καλά\" σε κάποιο σημείο του προγράμματος:"
   ]
  },
  {
   "cell_type": "code",
   "execution_count": 83,
   "metadata": {},
   "outputs": [],
   "source": [
    "assert True # Όλα καλα"
   ]
  },
  {
   "cell_type": "code",
   "execution_count": 85,
   "metadata": {},
   "outputs": [
    {
     "ename": "AssertionError",
     "evalue": "",
     "output_type": "error",
     "traceback": [
      "\u001b[0;31m---------------------------------------------------------------------------\u001b[0m",
      "\u001b[0;31mAssertionError\u001b[0m                            Traceback (most recent call last)",
      "\u001b[0;32m<ipython-input-85-c54b44bc6e13>\u001b[0m in \u001b[0;36m<module>\u001b[0;34m()\u001b[0m\n\u001b[0;32m----> 1\u001b[0;31m \u001b[0;32massert\u001b[0m \u001b[0;32mFalse\u001b[0m \u001b[0;31m# Πρόβλημα!\u001b[0m\u001b[0;34m\u001b[0m\u001b[0m\n\u001b[0m",
      "\u001b[0;31mAssertionError\u001b[0m: "
     ]
    }
   ],
   "source": [
    "assert False # Πρόβλημα!"
   ]
  },
  {
   "cell_type": "markdown",
   "metadata": {},
   "source": [
    "Την ```assert``` τη χρσησιμοποιούμε σαν quality control. π.χ. πριν από μία διαίρεση:\n",
    "```python\n",
    "assert d != 0\n",
    "result = 10/d\n",
    "\n",
    "assert d>=0\n",
    "result = math.sqrt(d) \n",
    "```"
   ]
  },
  {
   "cell_type": "markdown",
   "metadata": {},
   "source": [
    "### lambda functions\n",
    "Οι lambda functions είναι ειδικές συναρτήσεις που έχουν τις παρακάτω ιδιότητες:\n",
    "* [Δεν έχουν όνομα](https://en.wikipedia.org/wiki/Anonymous_function).\n",
    "* Περιέχουν μόνο αυτό που κάνουν return. Δηλαδή δεν μπορούν να έχουν πάνω από μία γραμμές."
   ]
  },
  {
   "cell_type": "code",
   "execution_count": 35,
   "metadata": {},
   "outputs": [
    {
     "data": {
      "text/plain": [
       "5.0"
      ]
     },
     "execution_count": 35,
     "metadata": {},
     "output_type": "execute_result"
    }
   ],
   "source": [
    "f = lambda x : x/2\n",
    "f(10)"
   ]
  },
  {
   "cell_type": "markdown",
   "metadata": {},
   "source": [
    "Το παραπάνω είναι ισοδύναμο με:"
   ]
  },
  {
   "cell_type": "markdown",
   "metadata": {},
   "source": [
    "Προσέχτε ότι μπορούμε να παραλείψουμε τελείως το γράμμα ```f``` που είναι το όνομα της συνάρτησης:"
   ]
  },
  {
   "cell_type": "code",
   "execution_count": 36,
   "metadata": {},
   "outputs": [
    {
     "data": {
      "text/plain": [
       "5.0"
      ]
     },
     "execution_count": 36,
     "metadata": {},
     "output_type": "execute_result"
    }
   ],
   "source": [
    "(lambda x : x/2)(10)"
   ]
  },
  {
   "cell_type": "markdown",
   "metadata": {},
   "source": [
    "Οι lambda συναρτήσεις έχουν ακριβώς τον ίδιο τύπο με τις \"κανονικές\" συναρτήσεις:"
   ]
  },
  {
   "cell_type": "code",
   "execution_count": 37,
   "metadata": {},
   "outputs": [
    {
     "data": {
      "text/plain": [
       "function"
      ]
     },
     "execution_count": 37,
     "metadata": {},
     "output_type": "execute_result"
    }
   ],
   "source": [
    "type(lambda x:x)"
   ]
  },
  {
   "cell_type": "markdown",
   "metadata": {},
   "source": [
    "Γιατί είναι χρήσιμες οι συναρτήσεις lambda; Πολλές φορές χρειάζεται να χρησιμοποιήσουμε μία συνάρτηση που κάνει κάτι απλό ή πρόκειται να τη χρησιμοποιήσουμε μία φορά, οπότε δεν υπάρχει λόγος να της δώσουμε όνομα ως μεταβλητή. Αυτό συμβαίνει συχνά όταν θέλουμε να δώσουμε μία συνάρτηση σαν όρισμα σε μία άλλη συνάρτηση, ή σε συναρτήσεις που επιστρέφουν συναρτήσεις ή σε συναρτήσεις που είναι μέσα σε λίστες και dictionaries.\n",
    "\n",
    "Π.χ:"
   ]
  },
  {
   "cell_type": "code",
   "execution_count": 38,
   "metadata": {},
   "outputs": [
    {
     "name": "stdout",
     "output_type": "stream",
     "text": [
      "18.333333333333332\n",
      "18\n"
     ]
    }
   ],
   "source": [
    "a = {\n",
    "    'accurate': lambda x:x/3, # Δεκαδική διαίρεση με 3\n",
    "    'not_accurate': lambda x:x//3 # Ακέραια διαίρεση με 3\n",
    "}\n",
    "print(a['accurate'](55))\n",
    "print (a['not_accurate'](55))"
   ]
  },
  {
   "cell_type": "markdown",
   "metadata": {},
   "source": [
    "### Η συνάρτηση ```map```\n",
    "H ```map``` \"περνάει\" όλα τα στοιχεία μιας λίστας από μία συνάρτηση. "
   ]
  },
  {
   "cell_type": "code",
   "execution_count": 39,
   "metadata": {},
   "outputs": [
    {
     "name": "stdout",
     "output_type": "stream",
     "text": [
      "[0.1, 0.2, 0.3, 0.4, 0.5]\n"
     ]
    }
   ],
   "source": [
    "def f(x):\n",
    "    return x/10\n",
    "\n",
    "print (list(map(f, [1,2,3,4,5])))"
   ]
  },
  {
   "cell_type": "markdown",
   "metadata": {},
   "source": [
    "ή αλλιώς:"
   ]
  },
  {
   "cell_type": "code",
   "execution_count": 40,
   "metadata": {},
   "outputs": [
    {
     "name": "stdout",
     "output_type": "stream",
     "text": [
      "[0.1, 0.2, 0.3, 0.4, 0.5]\n"
     ]
    }
   ],
   "source": [
    "print (list(map(lambda x:x/10, [1,2,3,4,5])))"
   ]
  },
  {
   "cell_type": "markdown",
   "metadata": {},
   "source": [
    "Τα δύο παραπάνω είναι ισοδύναμα με:"
   ]
  },
  {
   "cell_type": "code",
   "execution_count": 41,
   "metadata": {},
   "outputs": [
    {
     "data": {
      "text/plain": [
       "[0.1, 0.2, 0.3, 0.4]"
      ]
     },
     "execution_count": 41,
     "metadata": {},
     "output_type": "execute_result"
    }
   ],
   "source": [
    "[f(x) for x in [1,2,3,4]]"
   ]
  },
  {
   "cell_type": "code",
   "execution_count": 42,
   "metadata": {},
   "outputs": [
    {
     "data": {
      "text/plain": [
       "[0.1, 0.2, 0.3, 0.4, 0.5]"
      ]
     },
     "execution_count": 42,
     "metadata": {},
     "output_type": "execute_result"
    }
   ],
   "source": [
    "[(lambda x:x/10)(x) for x in [1,2,3,4,5]]"
   ]
  },
  {
   "cell_type": "markdown",
   "metadata": {},
   "source": [
    "## Ένα παράδειγμα:\n",
    "Έστω ότι θέλουμε ότι βρούμε το συμπληρωματικό μιας ακολουθίας DNA. Δηλαδή αν η ακουλοθία μας είναι η \"ACAGT\" τότε η συμπληρωματική της είναι: \"TGTCA\".\n",
    "\n",
    "Μπορούμε να φτιάξουμε μία συνάρτηση που επιστρέφει το συμπληρωματικό ενός νουκλεοτιδίου:"
   ]
  },
  {
   "cell_type": "code",
   "execution_count": 43,
   "metadata": {},
   "outputs": [],
   "source": [
    "def invert_1(n):\n",
    "    if n == 'A':\n",
    "        return 'T'\n",
    "    if n == 'T':\n",
    "        return 'A'\n",
    "    if n == 'C':\n",
    "        return 'G'\n",
    "    if n == 'G':\n",
    "        return 'C'"
   ]
  },
  {
   "cell_type": "markdown",
   "metadata": {},
   "source": [
    "Μια άλλη υλοποίηση της invert:"
   ]
  },
  {
   "cell_type": "code",
   "execution_count": 44,
   "metadata": {},
   "outputs": [],
   "source": [
    "def invert_2(n):\n",
    "    invert_dictionary = {\n",
    "        'A': 'T',\n",
    "        'T': 'A',\n",
    "        'C': 'G',\n",
    "        'G': 'C'\n",
    "    }\n",
    "    \n",
    "    return invert_dictionary[n]"
   ]
  },
  {
   "cell_type": "markdown",
   "metadata": {},
   "source": [
    "Υλοποίηση της invert με lambda:"
   ]
  },
  {
   "cell_type": "code",
   "execution_count": 45,
   "metadata": {},
   "outputs": [],
   "source": [
    "invert_dictionary = {\n",
    "        'A': 'T',\n",
    "        'T': 'A',\n",
    "        'C': 'G',\n",
    "        'G': 'C'\n",
    "    }\n",
    "invert_3 = lambda x : invert_dictionary[x]"
   ]
  },
  {
   "cell_type": "markdown",
   "metadata": {},
   "source": [
    "Ή αλλιώς:"
   ]
  },
  {
   "cell_type": "code",
   "execution_count": 46,
   "metadata": {},
   "outputs": [],
   "source": [
    "invert_4 = lambda x : {'A':'T', 'T':'A', 'C':'G', 'G':'C'}[x]"
   ]
  },
  {
   "cell_type": "markdown",
   "metadata": {},
   "source": [
    "Μπορούμε να χρησιμοποιήσουμε και ternary operator:"
   ]
  },
  {
   "cell_type": "code",
   "execution_count": 47,
   "metadata": {},
   "outputs": [],
   "source": [
    "invert_5 = lambda x : 'A' if x == 'T' else 'T' if x == 'A' else 'C' if x=='G' else 'G'"
   ]
  },
  {
   "cell_type": "markdown",
   "metadata": {},
   "source": [
    "Η ```invert_1```, ```invert_2```, ```invert_3```, ```invert_4``` και ```invert_5``` είναι ισοδύναμες. Τώρα μπορούμε να χρησιμοποιήσουμε οποιαδίποτε από αυτές σε ένα string."
   ]
  },
  {
   "cell_type": "code",
   "execution_count": 48,
   "metadata": {},
   "outputs": [],
   "source": [
    "a = 'CGATACCGCTATTCGCTATCGATCGAACGAT'"
   ]
  },
  {
   "cell_type": "code",
   "execution_count": 49,
   "metadata": {},
   "outputs": [
    {
     "data": {
      "text/plain": [
       "'GCTATGGCGATAAGCGATAGCTAGCTTGCTA'"
      ]
     },
     "execution_count": 49,
     "metadata": {},
     "output_type": "execute_result"
    }
   ],
   "source": [
    "#Method 1\n",
    "''.join([invert_1(x) for x in a])"
   ]
  },
  {
   "cell_type": "code",
   "execution_count": 50,
   "metadata": {},
   "outputs": [
    {
     "data": {
      "text/plain": [
       "'GCTATGGCGATAAGCGATAGCTAGCTTGCTA'"
      ]
     },
     "execution_count": 50,
     "metadata": {},
     "output_type": "execute_result"
    }
   ],
   "source": [
    "#Method 2\n",
    "''.join(map(invert_2, a))"
   ]
  },
  {
   "cell_type": "code",
   "execution_count": 51,
   "metadata": {},
   "outputs": [
    {
     "name": "stdout",
     "output_type": "stream",
     "text": [
      "GCTATGGCGATAAGCGATAGCTAGCTTGCTA\n"
     ]
    }
   ],
   "source": [
    "# Method 3\n",
    "result = ''\n",
    "for x in a:\n",
    "    result += invert_3(x)\n",
    "print (result)"
   ]
  },
  {
   "cell_type": "code",
   "execution_count": 52,
   "metadata": {},
   "outputs": [
    {
     "data": {
      "text/plain": [
       "'GCTATGGCGATAAGCGATAGCTAGCTTGCTA'"
      ]
     },
     "execution_count": 52,
     "metadata": {},
     "output_type": "execute_result"
    }
   ],
   "source": [
    "# Method 4\n",
    "sequence_inverter = lambda x : ''.join(map(invert_5, x))\n",
    "sequence_inverter(a)"
   ]
  },
  {
   "cell_type": "markdown",
   "metadata": {},
   "source": [
    "Μία άλλη προσέγγιση είναι να χρησιμοποιήσουμε τη ```replace```. Φτιάχνουμε μία συνάρτηση η οποία αντιστρέφει ένα ζευγάρι από γραμματα (π.χ: ```letter_1```, ```letter_2```) σε ένα string. Προσέχτε ότι δεν μπορούμε να κάνουμε: \n",
    "\n",
    "```python\n",
    "string.replace(letter_1, letter_2).replace(letter_2, letter_1)\n",
    "```\n",
    "(γιατί;)\n",
    "\n",
    "Πρέπει να χρησιμοποιήσουμε ένα άσχετο string (στη περίπτωσή μας το ```@```), και να αντικαθαστίσουμε το ```letter_1``` με το ```@```, στη συνέχεια το ```letter_2``` με το ```letter_1``` και στο τέλος το ```@``` με το ```letter_2```"
   ]
  },
  {
   "cell_type": "code",
   "execution_count": 53,
   "metadata": {},
   "outputs": [],
   "source": [
    "def swap_letters(string, letter_1, letter_2):\n",
    "    return string.replace(letter_1, '@').replace(letter_2, letter_1).replace('@', letter_2)"
   ]
  },
  {
   "cell_type": "markdown",
   "metadata": {},
   "source": [
    "Τώρα μπορούμε να φτιάξουμε μία συνάρτηση που εναλλάσει τα ```A``` με ```T``` (και το αντίστροφο) και τα ```C``` με ```G``` και το αντίστροφο:"
   ]
  },
  {
   "cell_type": "code",
   "execution_count": 54,
   "metadata": {},
   "outputs": [
    {
     "data": {
      "text/plain": [
       "'GCTATGGCGATAAGCGATAGCTAGCTTGCTA'"
      ]
     },
     "execution_count": 54,
     "metadata": {},
     "output_type": "execute_result"
    }
   ],
   "source": [
    "def sequence_inverter_2(sequence):\n",
    "    invert_AT = swap_letters(sequence, 'A', 'T')\n",
    "    invert_ATCG = swap_letters(invert_AT, 'C', 'G')\n",
    "    \n",
    "    return invert_ATCG\n",
    "\n",
    "sequence_inverter_2(a)"
   ]
  },
  {
   "cell_type": "markdown",
   "metadata": {},
   "source": [
    "φυσικά μπορούμε να κάνουμε το κάνουμε και με lambda:"
   ]
  },
  {
   "cell_type": "code",
   "execution_count": 55,
   "metadata": {},
   "outputs": [
    {
     "name": "stdout",
     "output_type": "stream",
     "text": [
      "GCTATGGCGATAAGCGATAGCTAGCTTGCTA\n"
     ]
    }
   ],
   "source": [
    "sequence_inverter_3 = lambda x : swap_letters(swap_letters(x, 'A', 'T'), 'C', 'G')\n",
    "print (sequence_inverter_3(a))"
   ]
  },
  {
   "cell_type": "markdown",
   "metadata": {},
   "source": [
    "Και ένας τελευταίος τρόπος χρησιμοποιώντας μόνο lambda και τη ```replace```:"
   ]
  },
  {
   "cell_type": "code",
   "execution_count": 57,
   "metadata": {},
   "outputs": [
    {
     "data": {
      "text/plain": [
       "'GCTATGGCGATAAGCGATAGCTAGCTTGCTA'"
      ]
     },
     "execution_count": 57,
     "metadata": {},
     "output_type": "execute_result"
    }
   ],
   "source": [
    "sequence_inverter_4 = lambda x : x.replace('A', '@').replace('T', 'A').replace('@', 'T').replace('C', '@').replace('G', 'C').replace('@', 'G')\n",
    "sequence_inverter_4(a)"
   ]
  },
  {
   "cell_type": "markdown",
   "metadata": {},
   "source": [
    "# Generators"
   ]
  },
  {
   "cell_type": "markdown",
   "metadata": {},
   "source": [
    "Οι generators (γεννήτριες) είναι δομές παρόμοιες με τις λίστες με τη διαφορά, ότι στη μνήμη του υπολογιστή δεν κρατάει όλες τις τιμές της λίστας, αλλά τον κώδικα που χρειάζεται για την αναπαραγωγή τους. \n",
    "\n",
    "Παρόλο που δεν το έχουμε τονίσει, οι συναρτήσεις ```range```, ```enumerate```, ```items```, ```map``` που έχουμε παρουσιάσει επιτρέφουν generator. \n",
    "\n",
    "Για να καταλάβουμε καλύτερα τους generators ας χρησιμοποιήσουμε ένα ανθρώπινο παράδειγμα. Ας υποθέσουμε οτι κάποιος σας λέει: απομνημόνευσε τους παρακάτω 100 αριθμούς τηλεφώνου με τη σειρά που στους δίνω. Αφού το κάνεις αυτό, πες τον πρώτο αριθμό, μετά τον δεύτερο, κτλ.. \n",
    "\n",
    "Αυτό θα απαιτούσε τεράστια προσπάθεια (και μνήμη) από εσάς. \n",
    "\n",
    "Ας υποθέσουμε τώρα ότι κάποιος σας λέει: απομνημόνευσε όλους τους ζυγούς αριθμούς από το 2 μέχρι το 1000. Αφού το κάνεις αυτό πες μου τον πρώτο αριθμό, μετά τον δεύτερο κτλ..\n",
    "\n",
    "Δεν χρειάζεται ιδιαίτερος κόπος για αυτό. Απλά πρέπει να θυμάσαι που πρέπει να αρχίσεις (το 2), να τελειώσεις (το 1000), σε ποιο σημείο είσαι τώρα και με ποιο τρόπο βρίσκεις το επόμενο. Αυτό ακριβώς κάνουν οι generators. Είναι χρήσιμες σε περιπτώσεις που το επόμενο στοιχείο μιας λίστας μπορεί να υπολογιστεί και όχι να ανακληθεί από τη μνήμη.\n",
    "\n",
    "Έτσι όταν λέμε:\n",
    "```python\n",
    "range(1,1000000)\n",
    "```\n",
    "Δεν υπάρχει λόγος να αποθηκεύσουμε 1.000.000 τιμές στη μνήμη του υπολογιστή. Ας το δούμε στη πράξη. Αν τρέξουμε:\n",
    "```python\n",
    "a = [x for x in range(1,100000000)]\n",
    "```\n",
    "\n",
    "![img](https://i.imgur.com/VIvIFrU.png)\n",
    "\n",
    "βλέπουμε ότι η python χρειάζεται 1.5GB μνήμης. Αν χρειάζεται να παίρνουμε αυθαίρετα τιμές από τη λίστα ```a``` τότε δεν μπορούμε να κάνουμε αλλιώς. Διαφορετικά αν χρειάζεται απλά να παίρνουμε τη μία τιμή μετά την άλλη τότε μπορούμε να γλυτώσουμε αυτή τη μνήμη γράφοντας:\n",
    "```python\n",
    "for x in range(1, 1000000):\n",
    "    ...\n",
    "```\n"
   ]
  },
  {
   "cell_type": "markdown",
   "metadata": {},
   "source": [
    "Μπορούμε να φτιάξουμε τον δικό μας generator με δύο τρόπους: Ο πρώτος είναι μέσω generator comprehension και ο δεύτερος είναι μέσω συναρτήσεων που αντί να κάνουν ```return``` κάνουν ```yield```.\n",
    "\n",
    "Τα generator comprehension είναι ακριβώς όπως και τα list comprehensions (και τα dictionary, set comprehension) απλά χρησημοποιούμε τις παρενθέσεις:"
   ]
  },
  {
   "cell_type": "code",
   "execution_count": 58,
   "metadata": {},
   "outputs": [
    {
     "data": {
      "text/plain": [
       "generator"
      ]
     },
     "execution_count": 58,
     "metadata": {},
     "output_type": "execute_result"
    }
   ],
   "source": [
    "my_generator = (x for x in range(1,10))\n",
    "type(my_generator)"
   ]
  },
  {
   "cell_type": "markdown",
   "metadata": {},
   "source": [
    "Ας πάρουμε τη πρώτη τιμή του generator:"
   ]
  },
  {
   "cell_type": "code",
   "execution_count": 59,
   "metadata": {},
   "outputs": [
    {
     "data": {
      "text/plain": [
       "1"
      ]
     },
     "execution_count": 59,
     "metadata": {},
     "output_type": "execute_result"
    }
   ],
   "source": [
    "next(my_generator)"
   ]
  },
  {
   "cell_type": "markdown",
   "metadata": {},
   "source": [
    "Ας πάρουμε την επόμενη:"
   ]
  },
  {
   "cell_type": "code",
   "execution_count": 60,
   "metadata": {},
   "outputs": [
    {
     "data": {
      "text/plain": [
       "2"
      ]
     },
     "execution_count": 60,
     "metadata": {},
     "output_type": "execute_result"
    }
   ],
   "source": [
    "next(my_generator)"
   ]
  },
  {
   "cell_type": "markdown",
   "metadata": {},
   "source": [
    "... κτλ.. Μπορούμε να πάρουμε τις υπόλοιπες τιμές του generator:"
   ]
  },
  {
   "cell_type": "code",
   "execution_count": 61,
   "metadata": {},
   "outputs": [
    {
     "name": "stdout",
     "output_type": "stream",
     "text": [
      "3\n",
      "4\n",
      "5\n",
      "6\n",
      "7\n",
      "8\n",
      "9\n"
     ]
    }
   ],
   "source": [
    "for x in my_generator:\n",
    "    print (x)"
   ]
  },
  {
   "cell_type": "markdown",
   "metadata": {},
   "source": [
    "Βλέπουμε ότι ο generator \"κρατάει\" σε ποια τιμή ήμασταν και υπολογίζει την επόμενη. Όταν τελειώσουν οι τιμές του generator τότε δεν μπορούμε να πάρουμε άλλη:"
   ]
  },
  {
   "cell_type": "code",
   "execution_count": 62,
   "metadata": {},
   "outputs": [
    {
     "ename": "StopIteration",
     "evalue": "",
     "output_type": "error",
     "traceback": [
      "\u001b[0;31m---------------------------------------------------------------------------\u001b[0m",
      "\u001b[0;31mStopIteration\u001b[0m                             Traceback (most recent call last)",
      "\u001b[0;32m<ipython-input-62-beb7403f481d>\u001b[0m in \u001b[0;36m<module>\u001b[0;34m()\u001b[0m\n\u001b[0;32m----> 1\u001b[0;31m \u001b[0mnext\u001b[0m\u001b[0;34m(\u001b[0m\u001b[0mmy_generator\u001b[0m\u001b[0;34m)\u001b[0m\u001b[0;34m\u001b[0m\u001b[0m\n\u001b[0m",
      "\u001b[0;31mStopIteration\u001b[0m: "
     ]
    }
   ],
   "source": [
    "next(my_generator)"
   ]
  },
  {
   "cell_type": "markdown",
   "metadata": {},
   "source": [
    "Ο δεύτερος τρόπος να φτιάξουμε generator είναι να δηλώσουμε μία συνάρτηση με τη ```def``` και αντί για ```return``` να κάνουμε [```yield```](https://www.youtube.com/watch?v=H2KYzeT_lGY):"
   ]
  },
  {
   "cell_type": "code",
   "execution_count": 63,
   "metadata": {},
   "outputs": [],
   "source": [
    "def f():\n",
    "    yield \"first\"\n",
    "    yield \"second\"\n",
    "    yield \"third\""
   ]
  },
  {
   "cell_type": "markdown",
   "metadata": {},
   "source": [
    "**Προσοχή** η ```f``` είναι μία συνάρτηση που φτιάχνει έναν generator! Η ```f``` δεν είναι generator! "
   ]
  },
  {
   "cell_type": "code",
   "execution_count": 64,
   "metadata": {},
   "outputs": [
    {
     "data": {
      "text/plain": [
       "function"
      ]
     },
     "execution_count": 64,
     "metadata": {},
     "output_type": "execute_result"
    }
   ],
   "source": [
    "type(f)"
   ]
  },
  {
   "cell_type": "code",
   "execution_count": 65,
   "metadata": {},
   "outputs": [
    {
     "data": {
      "text/plain": [
       "generator"
      ]
     },
     "execution_count": 65,
     "metadata": {},
     "output_type": "execute_result"
    }
   ],
   "source": [
    "my_generator = f()\n",
    "type(my_generator)"
   ]
  },
  {
   "cell_type": "markdown",
   "metadata": {},
   "source": [
    "Το my_generator είναι generator. Ας τον \"τρέξουμε\":"
   ]
  },
  {
   "cell_type": "code",
   "execution_count": 66,
   "metadata": {},
   "outputs": [
    {
     "data": {
      "text/plain": [
       "'first'"
      ]
     },
     "execution_count": 66,
     "metadata": {},
     "output_type": "execute_result"
    }
   ],
   "source": [
    "next(my_generator)"
   ]
  },
  {
   "cell_type": "code",
   "execution_count": 67,
   "metadata": {},
   "outputs": [
    {
     "data": {
      "text/plain": [
       "'second'"
      ]
     },
     "execution_count": 67,
     "metadata": {},
     "output_type": "execute_result"
    }
   ],
   "source": [
    "next(my_generator)"
   ]
  },
  {
   "cell_type": "code",
   "execution_count": 68,
   "metadata": {},
   "outputs": [
    {
     "data": {
      "text/plain": [
       "'third'"
      ]
     },
     "execution_count": 68,
     "metadata": {},
     "output_type": "execute_result"
    }
   ],
   "source": [
    "next(my_generator) "
   ]
  },
  {
   "cell_type": "markdown",
   "metadata": {},
   "source": [
    "Ή αλλιώς:"
   ]
  },
  {
   "cell_type": "code",
   "execution_count": 69,
   "metadata": {},
   "outputs": [
    {
     "name": "stdout",
     "output_type": "stream",
     "text": [
      "first\n",
      "second\n",
      "third\n"
     ]
    }
   ],
   "source": [
    "for x in f():\n",
    "    print (x)"
   ]
  },
  {
   "cell_type": "markdown",
   "metadata": {},
   "source": [
    "# Files\n",
    "Έστω ότι στο ίδιο directory που τρέχουμε τη python (ή το jupyter notebook) έχουμε το παρακάτω αρχείο με το όνομα: ```test.txt```\n",
    "\n",
    "```text\n",
    "aaa\n",
    "bbb\n",
    "ccc\n",
    "```\n",
    "\n",
    "Το αρχείο αυτό μπορώ να το ανοίξω με:"
   ]
  },
  {
   "cell_type": "code",
   "execution_count": 70,
   "metadata": {},
   "outputs": [],
   "source": [
    "%%bash\n",
    "echo \"aaa\" >> test.txt\n",
    "echo \"bbb\" >> test.txt\n",
    "echo \"ccc\" >> test.txt"
   ]
  },
  {
   "cell_type": "code",
   "execution_count": 71,
   "metadata": {},
   "outputs": [
    {
     "name": "stdout",
     "output_type": "stream",
     "text": [
      "aaa\r\n",
      "bbb\r\n",
      "ccc\r\n"
     ]
    }
   ],
   "source": [
    "!cat test.txt"
   ]
  },
  {
   "cell_type": "code",
   "execution_count": 72,
   "metadata": {},
   "outputs": [],
   "source": [
    "f = open('test.txt')"
   ]
  },
  {
   "cell_type": "markdown",
   "metadata": {},
   "source": [
    "Αφού το ανοίξω μπορώ να διαβάσω όλα τα περιεχόμενά του:"
   ]
  },
  {
   "cell_type": "code",
   "execution_count": 73,
   "metadata": {},
   "outputs": [
    {
     "name": "stdout",
     "output_type": "stream",
     "text": [
      "aaa\n",
      "bbb\n",
      "ccc\n",
      "\n"
     ]
    }
   ],
   "source": [
    "a= f.read()\n",
    "print (a)"
   ]
  },
  {
   "cell_type": "markdown",
   "metadata": {},
   "source": [
    "Αν επιχειρήσω να ξαναδιαβάσω το αρχείο τότε θα μου επιστρέψει ένα άδειο string:"
   ]
  },
  {
   "cell_type": "code",
   "execution_count": 74,
   "metadata": {},
   "outputs": [
    {
     "data": {
      "text/plain": [
       "''"
      ]
     },
     "execution_count": 74,
     "metadata": {},
     "output_type": "execute_result"
    }
   ],
   "source": [
    "f.read()"
   ]
  },
  {
   "cell_type": "markdown",
   "metadata": {},
   "source": [
    "Όταν διαβάζουμε ένα αρχείο με τη python και φτάνουμε στο τέλος, τότε η python δεν συνεχίζει να το διαβάζει από την αρχή. Αντίθετα επιτρέφει ένα άδειο string. \n",
    "\n",
    "Για να ξαναδιαβάσουμε ένα αρχείο πρέπει να το κλείσουμε:"
   ]
  },
  {
   "cell_type": "code",
   "execution_count": 75,
   "metadata": {},
   "outputs": [],
   "source": [
    "f.close()"
   ]
  },
  {
   "cell_type": "markdown",
   "metadata": {},
   "source": [
    "Και να το ξανα-ανοίξουμε:"
   ]
  },
  {
   "cell_type": "code",
   "execution_count": 76,
   "metadata": {},
   "outputs": [
    {
     "name": "stdout",
     "output_type": "stream",
     "text": [
      "aaa\n",
      "bbb\n",
      "ccc\n",
      "\n"
     ]
    }
   ],
   "source": [
    "f = open('test.txt')\n",
    "a= f.read()\n",
    "print (a)"
   ]
  },
  {
   "cell_type": "markdown",
   "metadata": {},
   "source": [
    "Μπορούμε να διαβάσουμε μία μόνο γραμμή από το αρχείο:"
   ]
  },
  {
   "cell_type": "code",
   "execution_count": 77,
   "metadata": {},
   "outputs": [
    {
     "name": "stdout",
     "output_type": "stream",
     "text": [
      "aaa\n",
      "\n"
     ]
    }
   ],
   "source": [
    "f = open('test.txt')\n",
    "line = f.readline()\n",
    "print (line)"
   ]
  },
  {
   "cell_type": "markdown",
   "metadata": {},
   "source": [
    "Παρατηρείστε ότι η ```line``` περιέχει και το enter (```'\\n'```) που υπάρχει στο τέλος της γραμμής:"
   ]
  },
  {
   "cell_type": "code",
   "execution_count": 78,
   "metadata": {},
   "outputs": [
    {
     "data": {
      "text/plain": [
       "'aaa\\n'"
      ]
     },
     "execution_count": 78,
     "metadata": {},
     "output_type": "execute_result"
    }
   ],
   "source": [
    "line"
   ]
  },
  {
   "cell_type": "markdown",
   "metadata": {},
   "source": [
    "Αν καλέσουμε τη ```readline``` ξανά, τότε θα διαβάσει την επόμενη γραμμή:"
   ]
  },
  {
   "cell_type": "code",
   "execution_count": 79,
   "metadata": {},
   "outputs": [
    {
     "data": {
      "text/plain": [
       "'bbb\\n'"
      ]
     },
     "execution_count": 79,
     "metadata": {},
     "output_type": "execute_result"
    }
   ],
   "source": [
    "f.readline()"
   ]
  },
  {
   "cell_type": "code",
   "execution_count": 80,
   "metadata": {},
   "outputs": [
    {
     "data": {
      "text/plain": [
       "'ccc\\n'"
      ]
     },
     "execution_count": 80,
     "metadata": {},
     "output_type": "execute_result"
    }
   ],
   "source": [
    "f.readline()"
   ]
  },
  {
   "cell_type": "markdown",
   "metadata": {},
   "source": [
    "Αν φτάσουμε στο τέλος τότε η ```f.readline()``` επιστρέφει το άδειο string:"
   ]
  },
  {
   "cell_type": "code",
   "execution_count": 81,
   "metadata": {},
   "outputs": [
    {
     "data": {
      "text/plain": [
       "''"
      ]
     },
     "execution_count": 81,
     "metadata": {},
     "output_type": "execute_result"
    }
   ],
   "source": [
    "f.readline()"
   ]
  },
  {
   "cell_type": "markdown",
   "metadata": {},
   "source": [
    "Επίσης μπορούμε να κάνουμε iterate (δηλαδή να εφαρμόσουμε τη ```for```) σε ένα αρχείο που έχουμε ανοίξει:"
   ]
  },
  {
   "cell_type": "code",
   "execution_count": 82,
   "metadata": {},
   "outputs": [
    {
     "name": "stdout",
     "output_type": "stream",
     "text": [
      "aaa\n",
      "\n",
      "bbb\n",
      "\n",
      "ccc\n",
      "\n"
     ]
    }
   ],
   "source": [
    "f = open('test.txt')\n",
    "for line in f:\n",
    "    print (line)"
   ]
  },
  {
   "cell_type": "code",
   "execution_count": 83,
   "metadata": {},
   "outputs": [
    {
     "name": "stdout",
     "output_type": "stream",
     "text": [
      "aaa\n",
      "bbb\n",
      "ccc\n"
     ]
    }
   ],
   "source": [
    "f = open('test.txt')\n",
    "for line in f:\n",
    "    print (line.replace('\\n', ''))"
   ]
  },
  {
   "cell_type": "markdown",
   "metadata": {},
   "source": [
    "Επειδή παρατηρήθηκε ότι πολλές φορές οι προγραμματιστές ξεχνάγαν να κλείσουν ένα αρχείο η python συνιστά να χρησιμοποιούμε τη ```with open() as f:```:"
   ]
  },
  {
   "cell_type": "code",
   "execution_count": 84,
   "metadata": {},
   "outputs": [
    {
     "name": "stdout",
     "output_type": "stream",
     "text": [
      "aaa\n",
      "bbb\n",
      "ccc\n"
     ]
    }
   ],
   "source": [
    "with open('test.txt') as f:\n",
    "    for l in f:\n",
    "        print (l.replace('\\n', ''))"
   ]
  },
  {
   "cell_type": "markdown",
   "metadata": {},
   "source": [
    "Όσες φορές και να τρέξω τις παραπάνω εντολές παράγεται το ίδιο αποτέλεσμα."
   ]
  },
  {
   "cell_type": "markdown",
   "metadata": {},
   "source": [
    "Μπορώ με αυτόν τον τρόπο να ανοίξω παραπάνω από ένα αρχίο με το ίδιο ```with```. Ας υποθέοσυμε ότι έχουμε τα αρχεία: test_1.txt, test_2.txt:"
   ]
  },
  {
   "cell_type": "code",
   "execution_count": 86,
   "metadata": {},
   "outputs": [],
   "source": [
    "!cp test.txt test_1.txt\n",
    "!cp test.txt test_2.txt"
   ]
  },
  {
   "cell_type": "code",
   "execution_count": 87,
   "metadata": {},
   "outputs": [
    {
     "name": "stdout",
     "output_type": "stream",
     "text": [
      "aaa\n",
      "\n",
      "bbb\n",
      "\n",
      "ccc\n",
      "\n",
      "aaa\n",
      "\n",
      "bbb\n",
      "\n",
      "ccc\n",
      "\n"
     ]
    }
   ],
   "source": [
    "with open('test_1.txt') as f1, open('test_2.txt') as f2:\n",
    "    for l in f1:\n",
    "        print (l)\n",
    "        \n",
    "    for l in f2:\n",
    "        print (l)"
   ]
  },
  {
   "cell_type": "markdown",
   "metadata": {},
   "source": [
    "# Παράδειγμα\n",
    "Σε [αυτό το link](https://pastebin.com/dl/Wq2PpbZy) υπάρχει ένα αρχείο με το πολύ γνωστό [IRIS dataset](https://en.wikipedia.org/wiki/Iris_flower_data_set). Κατεβάστε το και σώστε το στο ίδιο directory με τη python. **ΠΡΟΣΟΧΗ!** Αυτό το αρχείο δεν πρέπει να είναι το ίδιο με το αυθεντικό γιατί περιέχει μόνο 149 δεδομένα (αντί για 150) που έχει το αυθεντικό. Για τους σκοπούς του παραδείγματος αυτού όμως αυτό δεν μας επηρεάζει.\n",
    "\n",
    "Το όνομα του αρχείο είναι: ```Wq2PpbZy.txt```.\n",
    "\n",
    "Ας παίξουμε μαζί του!\n",
    "\n",
    "Αρχικά το ανοίγουμε:"
   ]
  },
  {
   "cell_type": "code",
   "execution_count": 91,
   "metadata": {},
   "outputs": [
    {
     "name": "stdout",
     "output_type": "stream",
     "text": [
      "--2019-11-06 14:25:17--  https://pastebin.com/raw/Wq2PpbZy\n",
      "Resolving pastebin.com (pastebin.com)... 104.22.3.84, 104.22.2.84\n",
      "Connecting to pastebin.com (pastebin.com)|104.22.3.84|:443... connected.\n",
      "HTTP request sent, awaiting response... 200 OK\n",
      "Length: unspecified [text/plain]\n",
      "Saving to: 'Wq2PpbZy.txt'\n",
      "\n",
      "Wq2PpbZy.txt            [ <=>                ]   4.91K  --.-KB/s    in 0s      \n",
      "\n",
      "2019-11-06 14:25:18 (14.8 MB/s) - 'Wq2PpbZy.txt' saved [5027]\n",
      "\n"
     ]
    }
   ],
   "source": [
    "! wget -O Wq2PpbZy.txt https://pastebin.com/raw/Wq2PpbZy"
   ]
  },
  {
   "cell_type": "code",
   "execution_count": 92,
   "metadata": {},
   "outputs": [
    {
     "name": "stdout",
     "output_type": "stream",
     "text": [
      "Sepal length \tSepal width \tPetal length \tPetal width \tSpecies\n",
      "5.2 \t3.5 \t1.4 \t0.2 \tI. setosa\n",
      "4.9 \t3.0 \t1.4 \t0.2 \tI. setosa\n",
      "4.7 \t3.2 \t1.3 \t0.2 \tI. setosa\n",
      "4.6 \t3.1 \t1.5 \t0.2 \tI. setosa\n",
      "5.0 \t3.6 \t1.4 \t0.3 \tI. setosa\n",
      "5.4 \t3.9 \t1.7 \t0.4 \tI. setosa\n",
      "4.6 \t3.4 \t1.4 \t0.3 \tI. setosa\n",
      "5.0 \t3.4 \t1.5 \t0.2 \tI. setosa\n",
      "4.4 \t2.9 \t1.4 \t0.2 \tI. setosa\n",
      "4.9 \t3.1 \t1.5 \t0.1 \tI. setosa\n",
      "5.4 \t3.7 \t1.5 \t0.2 \tI. setosa\n",
      "4.8 \t3.4 \t1.6 \t0.2 \tI. setosa\n",
      "4.8 \t3.0 \t1.4 \t0.1 \tI. setosa\n",
      "4.3 \t3.0 \t1.1 \t0.1 \tI. setosa\n",
      "5.8 \t4.0 \t1.2 \t0.2 \tI. setosa\n",
      "5.7 \t4.4 \t1.5 \t0.4 \tI. setosa\n",
      "5.4 \t3.9 \t1.3 \t0.4 \tI. setosa\n",
      "5.1 \t3.5 \t1.4 \t0.3 \tI. setosa\n",
      "5.7 \t3.8 \t1.7 \t0.3 \tI. setosa\n",
      "5.1 \t3.8 \t1.5 \t0.3 \tI. setosa\n",
      "5.4 \t3.4 \t1.7 \t0.2 \tI. setosa\n",
      "5.1 \t3.7 \t1.5 \t0.4 \tI. setosa\n",
      "4.6 \t3.6 \t1.0 \t0.2 \tI. setosa\n",
      "5.1 \t3.3 \t1.7 \t0.5 \tI. setosa\n",
      "4.8 \t3.4 \t1.9 \t0.2 \tI. setosa\n",
      "5.0 \t3.0 \t1.6 \t0.2 \tI. setosa\n",
      "5.0 \t3.4 \t1.6 \t0.4 \tI. setosa\n",
      "5.2 \t3.5 \t1.5 \t0.2 \tI. setosa\n",
      "5.2 \t3.4 \t1.4 \t0.2 \tI. setosa\n",
      "4.7 \t3.2 \t1.6 \t0.2 \tI. setosa\n",
      "4.8 \t3.1 \t1.6 \t0.2 \tI. setosa\n",
      "5.4 \t3.4 \t1.5 \t0.4 \tI. setosa\n",
      "5.2 \t4.1 \t1.5 \t0.1 \tI. setosa\n",
      "5.5 \t4.2 \t1.4 \t0.2 \tI. setosa\n",
      "4.9 \t3.1 \t1.5 \t0.2 \tI. setosa\n",
      "5.0 \t3.2 \t1.2 \t0.2 \tI. setosa\n",
      "5.5 \t3.5 \t1.3 \t0.2 \tI. setosa\n",
      "4.9 \t3.6 \t1.4 \t0.1 \tI. setosa\n",
      "4.4 \t3.0 \t1.3 \t0.2 \tI. setosa\n",
      "5.1 \t3.4 \t1.5 \t0.2 \tI. setosa\n",
      "5.0 \t3.5 \t1.3 \t0.3 \tI. setosa\n",
      "4.5 \t2.3 \t1.3 \t0.3 \tI. setosa\n",
      "4.4 \t3.2 \t1.3 \t0.2 \tI. setosa\n",
      "5.0 \t3.5 \t1.6 \t0.6 \tI. setosa\n",
      "5.1 \t3.8 \t1.9 \t0.4 \tI. setosa\n",
      "4.8 \t3.0 \t1.4 \t0.3 \tI. setosa\n",
      "5.1 \t3.8 \t1.6 \t0.2 \tI. setosa\n",
      "4.6 \t3.2 \t1.4 \t0.2 \tI. setosa\n",
      "5.3 \t3.7 \t1.5 \t0.2 \tI. setosa\n",
      "5.0 \t3.3 \t1.4 \t0.2 \tI. setosa\n",
      "7.0 \t3.2 \t4.7 \t1.4 \tI. versicolor\n",
      "6.4 \t3.2 \t4.5 \t1.5 \tI. versicolor\n",
      "6.9 \t3.1 \t4.9 \t1.5 \tI. versicolor\n",
      "5.5 \t2.3 \t4.0 \t1.3 \tI. versicolor\n",
      "6.5 \t2.8 \t4.6 \t1.5 \tI. versicolor\n",
      "5.7 \t2.8 \t4.5 \t1.3 \tI. versicolor\n",
      "6.3 \t3.3 \t4.7 \t1.6 \tI. versicolor\n",
      "4.9 \t2.4 \t3.3 \t1.0 \tI. versicolor\n",
      "6.6 \t2.9 \t4.6 \t1.3 \tI. versicolor\n",
      "5.2 \t2.7 \t3.9 \t1.4 \tI. versicolor\n",
      "5.0 \t2.0 \t3.5 \t1.0 \tI. versicolor\n",
      "5.9 \t3.0 \t4.2 \t1.5 \tI. versicolor\n",
      "6.0 \t2.2 \t4.0 \t1.0 \tI. versicolor\n",
      "6.1 \t2.9 \t4.7 \t1.4 \tI. versicolor\n",
      "5.6 \t2.9 \t3.6 \t1.3 \tI. versicolor\n",
      "6.7 \t3.1 \t4.4 \t1.4 \tI. versicolor\n",
      "5.6 \t3.0 \t4.5 \t1.5 \tI. versicolor\n",
      "5.8 \t2.7 \t4.1 \t1.0 \tI. versicolor\n",
      "6.2 \t2.2 \t4.5 \t1.5 \tI. versicolor\n",
      "5.6 \t2.5 \t3.9 \t1.1 \tI. versicolor\n",
      "5.9 \t3.2 \t4.8 \t1.8 \tI. versicolor\n",
      "6.1 \t2.8 \t4.0 \t1.3 \tI. versicolor\n",
      "6.3 \t2.5 \t4.9 \t1.5 \tI. versicolor\n",
      "6.1 \t2.8 \t4.7 \t1.2 \tI. versicolor\n",
      "6.4 \t2.9 \t4.3 \t1.3 \tI. versicolor\n",
      "6.6 \t3.0 \t4.4 \t1.4 \tI. versicolor\n",
      "6.8 \t2.8 \t4.8 \t1.4 \tI. versicolor\n",
      "6.7 \t3.0 \t5.0 \t1.7 \tI. versicolor\n",
      "6.0 \t2.9 \t4.5 \t1.5 \tI. versicolor\n",
      "5.7 \t2.6 \t3.5 \t1.0 \tI. versicolor\n",
      "5.5 \t2.4 \t3.8 \t1.1 \tI. versicolor\n",
      "5.5 \t2.4 \t3.7 \t1.0 \tI. versicolor\n",
      "5.8 \t2.7 \t3.9 \t1.2 \tI. versicolor\n",
      "6.0 \t2.7 \t5.1 \t1.6 \tI. versicolor\n",
      "5.4 \t3.0 \t4.5 \t1.5 \tI. versicolor\n",
      "6.0 \t3.4 \t4.5 \t1.6 \tI. versicolor\n",
      "6.7 \t3.1 \t4.7 \t1.5 \tI. versicolor\n",
      "6.3 \t2.3 \t4.4 \t1.3 \tI. versicolor\n",
      "5.6 \t3.0 \t4.1 \t1.3 \tI. versicolor\n",
      "5.5 \t2.5 \t4.0 \t1.3 \tI. versicolor\n",
      "5.5 \t2.6 \t4.4 \t1.2 \tI. versicolor\n",
      "6.1 \t3.0 \t4.6 \t1.4 \tI. versicolor\n",
      "5.8 \t2.6 \t4.0 \t1.2 \tI. versicolor\n",
      "5.0 \t2.3 \t3.3 \t1.0 \tI. versicolor\n",
      "5.6 \t2.7 \t4.2 \t1.3 \tI. versicolor\n",
      "5.7 \t3.0 \t4.2 \t1.2 \tI. versicolor\n",
      "5.7 \t2.9 \t4.2 \t1.3 \tI. versicolor\n",
      "6.2 \t2.9 \t4.3 \t1.3 \tI. versicolor\n",
      "5.1 \t2.5 \t3.0 \t1.1 \tI. versicolor\n",
      "5.7 \t2.8 \t4.1 \t1.3 \tI. versicolor\n",
      "6.3 \t3.3 \t6.0 \t2.5 \tI. virginica\n",
      "5.8 \t2.7 \t5.1 \t1.9 \tI. virginica\n",
      "7.1 \t3.0 \t5.9 \t2.1 \tI. virginica\n",
      "6.3 \t2.9 \t5.6 \t1.8 \tI. virginica\n",
      "6.5 \t3.0 \t5.8 \t2.2 \tI. virginica\n",
      "7.6 \t3.0 \t6.6 \t2.1 \tI. virginica\n",
      "4.9 \t2.5 \t4.5 \t1.7 \tI. virginica\n",
      "7.3 \t2.9 \t6.3 \t1.8 \tI. virginica\n",
      "6.7 \t2.5 \t5.8 \t1.8 \tI. virginica\n",
      "7.2 \t3.6 \t6.1 \t2.5 \tI. virginica\n",
      "6.5 \t3.2 \t5.1 \t2.0 \tI. virginica\n",
      "6.4 \t2.7 \t5.3 \t1.9 \tI. virginica\n",
      "6.8 \t3.0 \t5.5 \t2.1 \tI. virginica\n",
      "5.7 \t2.5 \t5.0 \t2.0 \tI. virginica\n",
      "5.8 \t2.8 \t5.1 \t2.4 \tI. virginica\n",
      "6.4 \t3.2 \t5.3 \t2.3 \tI. virginica\n",
      "6.5 \t3.0 \t5.5 \t1.8 \tI. virginica\n",
      "7.7 \t3.8 \t6.7 \t2.2 \tI. virginica\n",
      "7.7 \t2.6 \t6.9 \t2.3 \tI. virginica\n",
      "6.0 \t2.2 \t5.0 \t1.5 \tI. virginica\n",
      "6.9 \t3.2 \t5.7 \t2.3 \tI. virginica\n",
      "5.6 \t2.8 \t4.9 \t2.0 \tI. virginica\n",
      "7.7 \t2.8 \t6.7 \t2.0 \tI. virginica\n",
      "6.3 \t2.7 \t4.9 \t1.8 \tI. virginica\n",
      "6.7 \t3.3 \t5.7 \t2.1 \tI. virginica\n",
      "7.2 \t3.2 \t6.0 \t1.8 \tI. virginica\n",
      "6.2 \t2.8 \t4.8 \t1.8 \tI. virginica\n",
      "6.1 \t3.0 \t4.9 \t1.8 \tI. virginica\n",
      "6.4 \t2.8 \t5.6 \t2.1 \tI. virginica\n",
      "7.2 \t3.0 \t5.8 \t1.6 \tI. virginica\n",
      "7.4 \t2.8 \t6.1 \t1.9 \tI. virginica\n",
      "7.9 \t3.8 \t6.4 \t2.0 \tI. virginica\n",
      "6.4 \t2.8 \t5.6 \t2.2 \tI. virginica\n",
      "6.3 \t2.8 \t5.1 \t1.5 \tI. virginica\n",
      "6.1 \t2.6 \t5.6 \t1.4 \tI. virginica\n",
      "6.3 \t3.4 \t5.6 \t2.4 \tI. virginica\n",
      "6.4 \t3.1 \t5.5 \t1.8 \tI. virginica\n",
      "6.0 \t3.0 \t4.8 \t1.8 \tI. virginica\n",
      "6.9 \t3.1 \t5.4 \t2.1 \tI. virginica\n",
      "6.7 \t3.1 \t5.6 \t2.4 \tI. virginica\n",
      "6.9 \t3.1 \t5.1 \t2.3 \tI. virginica\n",
      "5.8 \t2.7 \t5.1 \t1.9 \tI. virginica\n",
      "6.8 \t3.2 \t5.9 \t2.3 \tI. virginica\n",
      "6.7 \t3.3 \t5.7 \t2.5 \tI. virginica\n",
      "6.7 \t3.0 \t5.2 \t2.3 \tI. virginica\n",
      "6.3 \t2.5 \t5.0 \t1.9 \tI. virginica\n",
      "6.5 \t3.0 \t5.2 \t2.0 \tI. virginica\n",
      "6.2 \t3.4 \t5.4 \t2.3 \tI. virginica\n",
      "5.9 \t3.0 \t5.1 \t1.8 \tI. virginica\n"
     ]
    }
   ],
   "source": [
    "with open('Wq2PpbZy.txt') as f:\n",
    "    data = f.read()\n",
    "print(data)"
   ]
  },
  {
   "cell_type": "markdown",
   "metadata": {},
   "source": [
    "Μπορούμε να πάρουμε μία λίστα με όλες τις γραμμές:"
   ]
  },
  {
   "cell_type": "code",
   "execution_count": 93,
   "metadata": {},
   "outputs": [
    {
     "data": {
      "text/plain": [
       "['Sepal length \\tSepal width \\tPetal length \\tPetal width \\tSpecies',\n",
       " '5.2 \\t3.5 \\t1.4 \\t0.2 \\tI. setosa',\n",
       " '4.9 \\t3.0 \\t1.4 \\t0.2 \\tI. setosa',\n",
       " '4.7 \\t3.2 \\t1.3 \\t0.2 \\tI. setosa',\n",
       " '4.6 \\t3.1 \\t1.5 \\t0.2 \\tI. setosa',\n",
       " '5.0 \\t3.6 \\t1.4 \\t0.3 \\tI. setosa',\n",
       " '5.4 \\t3.9 \\t1.7 \\t0.4 \\tI. setosa',\n",
       " '4.6 \\t3.4 \\t1.4 \\t0.3 \\tI. setosa',\n",
       " '5.0 \\t3.4 \\t1.5 \\t0.2 \\tI. setosa',\n",
       " '4.4 \\t2.9 \\t1.4 \\t0.2 \\tI. setosa',\n",
       " '4.9 \\t3.1 \\t1.5 \\t0.1 \\tI. setosa',\n",
       " '5.4 \\t3.7 \\t1.5 \\t0.2 \\tI. setosa',\n",
       " '4.8 \\t3.4 \\t1.6 \\t0.2 \\tI. setosa',\n",
       " '4.8 \\t3.0 \\t1.4 \\t0.1 \\tI. setosa',\n",
       " '4.3 \\t3.0 \\t1.1 \\t0.1 \\tI. setosa',\n",
       " '5.8 \\t4.0 \\t1.2 \\t0.2 \\tI. setosa',\n",
       " '5.7 \\t4.4 \\t1.5 \\t0.4 \\tI. setosa',\n",
       " '5.4 \\t3.9 \\t1.3 \\t0.4 \\tI. setosa',\n",
       " '5.1 \\t3.5 \\t1.4 \\t0.3 \\tI. setosa',\n",
       " '5.7 \\t3.8 \\t1.7 \\t0.3 \\tI. setosa',\n",
       " '5.1 \\t3.8 \\t1.5 \\t0.3 \\tI. setosa',\n",
       " '5.4 \\t3.4 \\t1.7 \\t0.2 \\tI. setosa',\n",
       " '5.1 \\t3.7 \\t1.5 \\t0.4 \\tI. setosa',\n",
       " '4.6 \\t3.6 \\t1.0 \\t0.2 \\tI. setosa',\n",
       " '5.1 \\t3.3 \\t1.7 \\t0.5 \\tI. setosa',\n",
       " '4.8 \\t3.4 \\t1.9 \\t0.2 \\tI. setosa',\n",
       " '5.0 \\t3.0 \\t1.6 \\t0.2 \\tI. setosa',\n",
       " '5.0 \\t3.4 \\t1.6 \\t0.4 \\tI. setosa',\n",
       " '5.2 \\t3.5 \\t1.5 \\t0.2 \\tI. setosa',\n",
       " '5.2 \\t3.4 \\t1.4 \\t0.2 \\tI. setosa',\n",
       " '4.7 \\t3.2 \\t1.6 \\t0.2 \\tI. setosa',\n",
       " '4.8 \\t3.1 \\t1.6 \\t0.2 \\tI. setosa',\n",
       " '5.4 \\t3.4 \\t1.5 \\t0.4 \\tI. setosa',\n",
       " '5.2 \\t4.1 \\t1.5 \\t0.1 \\tI. setosa',\n",
       " '5.5 \\t4.2 \\t1.4 \\t0.2 \\tI. setosa',\n",
       " '4.9 \\t3.1 \\t1.5 \\t0.2 \\tI. setosa',\n",
       " '5.0 \\t3.2 \\t1.2 \\t0.2 \\tI. setosa',\n",
       " '5.5 \\t3.5 \\t1.3 \\t0.2 \\tI. setosa',\n",
       " '4.9 \\t3.6 \\t1.4 \\t0.1 \\tI. setosa',\n",
       " '4.4 \\t3.0 \\t1.3 \\t0.2 \\tI. setosa',\n",
       " '5.1 \\t3.4 \\t1.5 \\t0.2 \\tI. setosa',\n",
       " '5.0 \\t3.5 \\t1.3 \\t0.3 \\tI. setosa',\n",
       " '4.5 \\t2.3 \\t1.3 \\t0.3 \\tI. setosa',\n",
       " '4.4 \\t3.2 \\t1.3 \\t0.2 \\tI. setosa',\n",
       " '5.0 \\t3.5 \\t1.6 \\t0.6 \\tI. setosa',\n",
       " '5.1 \\t3.8 \\t1.9 \\t0.4 \\tI. setosa',\n",
       " '4.8 \\t3.0 \\t1.4 \\t0.3 \\tI. setosa',\n",
       " '5.1 \\t3.8 \\t1.6 \\t0.2 \\tI. setosa',\n",
       " '4.6 \\t3.2 \\t1.4 \\t0.2 \\tI. setosa',\n",
       " '5.3 \\t3.7 \\t1.5 \\t0.2 \\tI. setosa',\n",
       " '5.0 \\t3.3 \\t1.4 \\t0.2 \\tI. setosa',\n",
       " '7.0 \\t3.2 \\t4.7 \\t1.4 \\tI. versicolor',\n",
       " '6.4 \\t3.2 \\t4.5 \\t1.5 \\tI. versicolor',\n",
       " '6.9 \\t3.1 \\t4.9 \\t1.5 \\tI. versicolor',\n",
       " '5.5 \\t2.3 \\t4.0 \\t1.3 \\tI. versicolor',\n",
       " '6.5 \\t2.8 \\t4.6 \\t1.5 \\tI. versicolor',\n",
       " '5.7 \\t2.8 \\t4.5 \\t1.3 \\tI. versicolor',\n",
       " '6.3 \\t3.3 \\t4.7 \\t1.6 \\tI. versicolor',\n",
       " '4.9 \\t2.4 \\t3.3 \\t1.0 \\tI. versicolor',\n",
       " '6.6 \\t2.9 \\t4.6 \\t1.3 \\tI. versicolor',\n",
       " '5.2 \\t2.7 \\t3.9 \\t1.4 \\tI. versicolor',\n",
       " '5.0 \\t2.0 \\t3.5 \\t1.0 \\tI. versicolor',\n",
       " '5.9 \\t3.0 \\t4.2 \\t1.5 \\tI. versicolor',\n",
       " '6.0 \\t2.2 \\t4.0 \\t1.0 \\tI. versicolor',\n",
       " '6.1 \\t2.9 \\t4.7 \\t1.4 \\tI. versicolor',\n",
       " '5.6 \\t2.9 \\t3.6 \\t1.3 \\tI. versicolor',\n",
       " '6.7 \\t3.1 \\t4.4 \\t1.4 \\tI. versicolor',\n",
       " '5.6 \\t3.0 \\t4.5 \\t1.5 \\tI. versicolor',\n",
       " '5.8 \\t2.7 \\t4.1 \\t1.0 \\tI. versicolor',\n",
       " '6.2 \\t2.2 \\t4.5 \\t1.5 \\tI. versicolor',\n",
       " '5.6 \\t2.5 \\t3.9 \\t1.1 \\tI. versicolor',\n",
       " '5.9 \\t3.2 \\t4.8 \\t1.8 \\tI. versicolor',\n",
       " '6.1 \\t2.8 \\t4.0 \\t1.3 \\tI. versicolor',\n",
       " '6.3 \\t2.5 \\t4.9 \\t1.5 \\tI. versicolor',\n",
       " '6.1 \\t2.8 \\t4.7 \\t1.2 \\tI. versicolor',\n",
       " '6.4 \\t2.9 \\t4.3 \\t1.3 \\tI. versicolor',\n",
       " '6.6 \\t3.0 \\t4.4 \\t1.4 \\tI. versicolor',\n",
       " '6.8 \\t2.8 \\t4.8 \\t1.4 \\tI. versicolor',\n",
       " '6.7 \\t3.0 \\t5.0 \\t1.7 \\tI. versicolor',\n",
       " '6.0 \\t2.9 \\t4.5 \\t1.5 \\tI. versicolor',\n",
       " '5.7 \\t2.6 \\t3.5 \\t1.0 \\tI. versicolor',\n",
       " '5.5 \\t2.4 \\t3.8 \\t1.1 \\tI. versicolor',\n",
       " '5.5 \\t2.4 \\t3.7 \\t1.0 \\tI. versicolor',\n",
       " '5.8 \\t2.7 \\t3.9 \\t1.2 \\tI. versicolor',\n",
       " '6.0 \\t2.7 \\t5.1 \\t1.6 \\tI. versicolor',\n",
       " '5.4 \\t3.0 \\t4.5 \\t1.5 \\tI. versicolor',\n",
       " '6.0 \\t3.4 \\t4.5 \\t1.6 \\tI. versicolor',\n",
       " '6.7 \\t3.1 \\t4.7 \\t1.5 \\tI. versicolor',\n",
       " '6.3 \\t2.3 \\t4.4 \\t1.3 \\tI. versicolor',\n",
       " '5.6 \\t3.0 \\t4.1 \\t1.3 \\tI. versicolor',\n",
       " '5.5 \\t2.5 \\t4.0 \\t1.3 \\tI. versicolor',\n",
       " '5.5 \\t2.6 \\t4.4 \\t1.2 \\tI. versicolor',\n",
       " '6.1 \\t3.0 \\t4.6 \\t1.4 \\tI. versicolor',\n",
       " '5.8 \\t2.6 \\t4.0 \\t1.2 \\tI. versicolor',\n",
       " '5.0 \\t2.3 \\t3.3 \\t1.0 \\tI. versicolor',\n",
       " '5.6 \\t2.7 \\t4.2 \\t1.3 \\tI. versicolor',\n",
       " '5.7 \\t3.0 \\t4.2 \\t1.2 \\tI. versicolor',\n",
       " '5.7 \\t2.9 \\t4.2 \\t1.3 \\tI. versicolor',\n",
       " '6.2 \\t2.9 \\t4.3 \\t1.3 \\tI. versicolor',\n",
       " '5.1 \\t2.5 \\t3.0 \\t1.1 \\tI. versicolor',\n",
       " '5.7 \\t2.8 \\t4.1 \\t1.3 \\tI. versicolor',\n",
       " '6.3 \\t3.3 \\t6.0 \\t2.5 \\tI. virginica',\n",
       " '5.8 \\t2.7 \\t5.1 \\t1.9 \\tI. virginica',\n",
       " '7.1 \\t3.0 \\t5.9 \\t2.1 \\tI. virginica',\n",
       " '6.3 \\t2.9 \\t5.6 \\t1.8 \\tI. virginica',\n",
       " '6.5 \\t3.0 \\t5.8 \\t2.2 \\tI. virginica',\n",
       " '7.6 \\t3.0 \\t6.6 \\t2.1 \\tI. virginica',\n",
       " '4.9 \\t2.5 \\t4.5 \\t1.7 \\tI. virginica',\n",
       " '7.3 \\t2.9 \\t6.3 \\t1.8 \\tI. virginica',\n",
       " '6.7 \\t2.5 \\t5.8 \\t1.8 \\tI. virginica',\n",
       " '7.2 \\t3.6 \\t6.1 \\t2.5 \\tI. virginica',\n",
       " '6.5 \\t3.2 \\t5.1 \\t2.0 \\tI. virginica',\n",
       " '6.4 \\t2.7 \\t5.3 \\t1.9 \\tI. virginica',\n",
       " '6.8 \\t3.0 \\t5.5 \\t2.1 \\tI. virginica',\n",
       " '5.7 \\t2.5 \\t5.0 \\t2.0 \\tI. virginica',\n",
       " '5.8 \\t2.8 \\t5.1 \\t2.4 \\tI. virginica',\n",
       " '6.4 \\t3.2 \\t5.3 \\t2.3 \\tI. virginica',\n",
       " '6.5 \\t3.0 \\t5.5 \\t1.8 \\tI. virginica',\n",
       " '7.7 \\t3.8 \\t6.7 \\t2.2 \\tI. virginica',\n",
       " '7.7 \\t2.6 \\t6.9 \\t2.3 \\tI. virginica',\n",
       " '6.0 \\t2.2 \\t5.0 \\t1.5 \\tI. virginica',\n",
       " '6.9 \\t3.2 \\t5.7 \\t2.3 \\tI. virginica',\n",
       " '5.6 \\t2.8 \\t4.9 \\t2.0 \\tI. virginica',\n",
       " '7.7 \\t2.8 \\t6.7 \\t2.0 \\tI. virginica',\n",
       " '6.3 \\t2.7 \\t4.9 \\t1.8 \\tI. virginica',\n",
       " '6.7 \\t3.3 \\t5.7 \\t2.1 \\tI. virginica',\n",
       " '7.2 \\t3.2 \\t6.0 \\t1.8 \\tI. virginica',\n",
       " '6.2 \\t2.8 \\t4.8 \\t1.8 \\tI. virginica',\n",
       " '6.1 \\t3.0 \\t4.9 \\t1.8 \\tI. virginica',\n",
       " '6.4 \\t2.8 \\t5.6 \\t2.1 \\tI. virginica',\n",
       " '7.2 \\t3.0 \\t5.8 \\t1.6 \\tI. virginica',\n",
       " '7.4 \\t2.8 \\t6.1 \\t1.9 \\tI. virginica',\n",
       " '7.9 \\t3.8 \\t6.4 \\t2.0 \\tI. virginica',\n",
       " '6.4 \\t2.8 \\t5.6 \\t2.2 \\tI. virginica',\n",
       " '6.3 \\t2.8 \\t5.1 \\t1.5 \\tI. virginica',\n",
       " '6.1 \\t2.6 \\t5.6 \\t1.4 \\tI. virginica',\n",
       " '6.3 \\t3.4 \\t5.6 \\t2.4 \\tI. virginica',\n",
       " '6.4 \\t3.1 \\t5.5 \\t1.8 \\tI. virginica',\n",
       " '6.0 \\t3.0 \\t4.8 \\t1.8 \\tI. virginica',\n",
       " '6.9 \\t3.1 \\t5.4 \\t2.1 \\tI. virginica',\n",
       " '6.7 \\t3.1 \\t5.6 \\t2.4 \\tI. virginica',\n",
       " '6.9 \\t3.1 \\t5.1 \\t2.3 \\tI. virginica',\n",
       " '5.8 \\t2.7 \\t5.1 \\t1.9 \\tI. virginica',\n",
       " '6.8 \\t3.2 \\t5.9 \\t2.3 \\tI. virginica',\n",
       " '6.7 \\t3.3 \\t5.7 \\t2.5 \\tI. virginica',\n",
       " '6.7 \\t3.0 \\t5.2 \\t2.3 \\tI. virginica',\n",
       " '6.3 \\t2.5 \\t5.0 \\t1.9 \\tI. virginica',\n",
       " '6.5 \\t3.0 \\t5.2 \\t2.0 \\tI. virginica',\n",
       " '6.2 \\t3.4 \\t5.4 \\t2.3 \\tI. virginica',\n",
       " '5.9 \\t3.0 \\t5.1 \\t1.8 \\tI. virginica']"
      ]
     },
     "execution_count": 93,
     "metadata": {},
     "output_type": "execute_result"
    }
   ],
   "source": [
    "data = data.split('\\n')\n",
    "data"
   ]
  },
  {
   "cell_type": "markdown",
   "metadata": {},
   "source": [
    "Φαίνεται ότι το αρχείο διαχωρίζει τις κολόνες με tabs. Ας το κάνουμε split με βάση τα tabs:"
   ]
  },
  {
   "cell_type": "code",
   "execution_count": 94,
   "metadata": {},
   "outputs": [
    {
     "data": {
      "text/plain": [
       "[['Sepal length ', 'Sepal width ', 'Petal length ', 'Petal width ', 'Species'],\n",
       " ['5.2 ', '3.5 ', '1.4 ', '0.2 ', 'I. setosa'],\n",
       " ['4.9 ', '3.0 ', '1.4 ', '0.2 ', 'I. setosa'],\n",
       " ['4.7 ', '3.2 ', '1.3 ', '0.2 ', 'I. setosa'],\n",
       " ['4.6 ', '3.1 ', '1.5 ', '0.2 ', 'I. setosa'],\n",
       " ['5.0 ', '3.6 ', '1.4 ', '0.3 ', 'I. setosa'],\n",
       " ['5.4 ', '3.9 ', '1.7 ', '0.4 ', 'I. setosa'],\n",
       " ['4.6 ', '3.4 ', '1.4 ', '0.3 ', 'I. setosa'],\n",
       " ['5.0 ', '3.4 ', '1.5 ', '0.2 ', 'I. setosa'],\n",
       " ['4.4 ', '2.9 ', '1.4 ', '0.2 ', 'I. setosa'],\n",
       " ['4.9 ', '3.1 ', '1.5 ', '0.1 ', 'I. setosa'],\n",
       " ['5.4 ', '3.7 ', '1.5 ', '0.2 ', 'I. setosa'],\n",
       " ['4.8 ', '3.4 ', '1.6 ', '0.2 ', 'I. setosa'],\n",
       " ['4.8 ', '3.0 ', '1.4 ', '0.1 ', 'I. setosa'],\n",
       " ['4.3 ', '3.0 ', '1.1 ', '0.1 ', 'I. setosa'],\n",
       " ['5.8 ', '4.0 ', '1.2 ', '0.2 ', 'I. setosa'],\n",
       " ['5.7 ', '4.4 ', '1.5 ', '0.4 ', 'I. setosa'],\n",
       " ['5.4 ', '3.9 ', '1.3 ', '0.4 ', 'I. setosa'],\n",
       " ['5.1 ', '3.5 ', '1.4 ', '0.3 ', 'I. setosa'],\n",
       " ['5.7 ', '3.8 ', '1.7 ', '0.3 ', 'I. setosa'],\n",
       " ['5.1 ', '3.8 ', '1.5 ', '0.3 ', 'I. setosa'],\n",
       " ['5.4 ', '3.4 ', '1.7 ', '0.2 ', 'I. setosa'],\n",
       " ['5.1 ', '3.7 ', '1.5 ', '0.4 ', 'I. setosa'],\n",
       " ['4.6 ', '3.6 ', '1.0 ', '0.2 ', 'I. setosa'],\n",
       " ['5.1 ', '3.3 ', '1.7 ', '0.5 ', 'I. setosa'],\n",
       " ['4.8 ', '3.4 ', '1.9 ', '0.2 ', 'I. setosa'],\n",
       " ['5.0 ', '3.0 ', '1.6 ', '0.2 ', 'I. setosa'],\n",
       " ['5.0 ', '3.4 ', '1.6 ', '0.4 ', 'I. setosa'],\n",
       " ['5.2 ', '3.5 ', '1.5 ', '0.2 ', 'I. setosa'],\n",
       " ['5.2 ', '3.4 ', '1.4 ', '0.2 ', 'I. setosa'],\n",
       " ['4.7 ', '3.2 ', '1.6 ', '0.2 ', 'I. setosa'],\n",
       " ['4.8 ', '3.1 ', '1.6 ', '0.2 ', 'I. setosa'],\n",
       " ['5.4 ', '3.4 ', '1.5 ', '0.4 ', 'I. setosa'],\n",
       " ['5.2 ', '4.1 ', '1.5 ', '0.1 ', 'I. setosa'],\n",
       " ['5.5 ', '4.2 ', '1.4 ', '0.2 ', 'I. setosa'],\n",
       " ['4.9 ', '3.1 ', '1.5 ', '0.2 ', 'I. setosa'],\n",
       " ['5.0 ', '3.2 ', '1.2 ', '0.2 ', 'I. setosa'],\n",
       " ['5.5 ', '3.5 ', '1.3 ', '0.2 ', 'I. setosa'],\n",
       " ['4.9 ', '3.6 ', '1.4 ', '0.1 ', 'I. setosa'],\n",
       " ['4.4 ', '3.0 ', '1.3 ', '0.2 ', 'I. setosa'],\n",
       " ['5.1 ', '3.4 ', '1.5 ', '0.2 ', 'I. setosa'],\n",
       " ['5.0 ', '3.5 ', '1.3 ', '0.3 ', 'I. setosa'],\n",
       " ['4.5 ', '2.3 ', '1.3 ', '0.3 ', 'I. setosa'],\n",
       " ['4.4 ', '3.2 ', '1.3 ', '0.2 ', 'I. setosa'],\n",
       " ['5.0 ', '3.5 ', '1.6 ', '0.6 ', 'I. setosa'],\n",
       " ['5.1 ', '3.8 ', '1.9 ', '0.4 ', 'I. setosa'],\n",
       " ['4.8 ', '3.0 ', '1.4 ', '0.3 ', 'I. setosa'],\n",
       " ['5.1 ', '3.8 ', '1.6 ', '0.2 ', 'I. setosa'],\n",
       " ['4.6 ', '3.2 ', '1.4 ', '0.2 ', 'I. setosa'],\n",
       " ['5.3 ', '3.7 ', '1.5 ', '0.2 ', 'I. setosa'],\n",
       " ['5.0 ', '3.3 ', '1.4 ', '0.2 ', 'I. setosa'],\n",
       " ['7.0 ', '3.2 ', '4.7 ', '1.4 ', 'I. versicolor'],\n",
       " ['6.4 ', '3.2 ', '4.5 ', '1.5 ', 'I. versicolor'],\n",
       " ['6.9 ', '3.1 ', '4.9 ', '1.5 ', 'I. versicolor'],\n",
       " ['5.5 ', '2.3 ', '4.0 ', '1.3 ', 'I. versicolor'],\n",
       " ['6.5 ', '2.8 ', '4.6 ', '1.5 ', 'I. versicolor'],\n",
       " ['5.7 ', '2.8 ', '4.5 ', '1.3 ', 'I. versicolor'],\n",
       " ['6.3 ', '3.3 ', '4.7 ', '1.6 ', 'I. versicolor'],\n",
       " ['4.9 ', '2.4 ', '3.3 ', '1.0 ', 'I. versicolor'],\n",
       " ['6.6 ', '2.9 ', '4.6 ', '1.3 ', 'I. versicolor'],\n",
       " ['5.2 ', '2.7 ', '3.9 ', '1.4 ', 'I. versicolor'],\n",
       " ['5.0 ', '2.0 ', '3.5 ', '1.0 ', 'I. versicolor'],\n",
       " ['5.9 ', '3.0 ', '4.2 ', '1.5 ', 'I. versicolor'],\n",
       " ['6.0 ', '2.2 ', '4.0 ', '1.0 ', 'I. versicolor'],\n",
       " ['6.1 ', '2.9 ', '4.7 ', '1.4 ', 'I. versicolor'],\n",
       " ['5.6 ', '2.9 ', '3.6 ', '1.3 ', 'I. versicolor'],\n",
       " ['6.7 ', '3.1 ', '4.4 ', '1.4 ', 'I. versicolor'],\n",
       " ['5.6 ', '3.0 ', '4.5 ', '1.5 ', 'I. versicolor'],\n",
       " ['5.8 ', '2.7 ', '4.1 ', '1.0 ', 'I. versicolor'],\n",
       " ['6.2 ', '2.2 ', '4.5 ', '1.5 ', 'I. versicolor'],\n",
       " ['5.6 ', '2.5 ', '3.9 ', '1.1 ', 'I. versicolor'],\n",
       " ['5.9 ', '3.2 ', '4.8 ', '1.8 ', 'I. versicolor'],\n",
       " ['6.1 ', '2.8 ', '4.0 ', '1.3 ', 'I. versicolor'],\n",
       " ['6.3 ', '2.5 ', '4.9 ', '1.5 ', 'I. versicolor'],\n",
       " ['6.1 ', '2.8 ', '4.7 ', '1.2 ', 'I. versicolor'],\n",
       " ['6.4 ', '2.9 ', '4.3 ', '1.3 ', 'I. versicolor'],\n",
       " ['6.6 ', '3.0 ', '4.4 ', '1.4 ', 'I. versicolor'],\n",
       " ['6.8 ', '2.8 ', '4.8 ', '1.4 ', 'I. versicolor'],\n",
       " ['6.7 ', '3.0 ', '5.0 ', '1.7 ', 'I. versicolor'],\n",
       " ['6.0 ', '2.9 ', '4.5 ', '1.5 ', 'I. versicolor'],\n",
       " ['5.7 ', '2.6 ', '3.5 ', '1.0 ', 'I. versicolor'],\n",
       " ['5.5 ', '2.4 ', '3.8 ', '1.1 ', 'I. versicolor'],\n",
       " ['5.5 ', '2.4 ', '3.7 ', '1.0 ', 'I. versicolor'],\n",
       " ['5.8 ', '2.7 ', '3.9 ', '1.2 ', 'I. versicolor'],\n",
       " ['6.0 ', '2.7 ', '5.1 ', '1.6 ', 'I. versicolor'],\n",
       " ['5.4 ', '3.0 ', '4.5 ', '1.5 ', 'I. versicolor'],\n",
       " ['6.0 ', '3.4 ', '4.5 ', '1.6 ', 'I. versicolor'],\n",
       " ['6.7 ', '3.1 ', '4.7 ', '1.5 ', 'I. versicolor'],\n",
       " ['6.3 ', '2.3 ', '4.4 ', '1.3 ', 'I. versicolor'],\n",
       " ['5.6 ', '3.0 ', '4.1 ', '1.3 ', 'I. versicolor'],\n",
       " ['5.5 ', '2.5 ', '4.0 ', '1.3 ', 'I. versicolor'],\n",
       " ['5.5 ', '2.6 ', '4.4 ', '1.2 ', 'I. versicolor'],\n",
       " ['6.1 ', '3.0 ', '4.6 ', '1.4 ', 'I. versicolor'],\n",
       " ['5.8 ', '2.6 ', '4.0 ', '1.2 ', 'I. versicolor'],\n",
       " ['5.0 ', '2.3 ', '3.3 ', '1.0 ', 'I. versicolor'],\n",
       " ['5.6 ', '2.7 ', '4.2 ', '1.3 ', 'I. versicolor'],\n",
       " ['5.7 ', '3.0 ', '4.2 ', '1.2 ', 'I. versicolor'],\n",
       " ['5.7 ', '2.9 ', '4.2 ', '1.3 ', 'I. versicolor'],\n",
       " ['6.2 ', '2.9 ', '4.3 ', '1.3 ', 'I. versicolor'],\n",
       " ['5.1 ', '2.5 ', '3.0 ', '1.1 ', 'I. versicolor'],\n",
       " ['5.7 ', '2.8 ', '4.1 ', '1.3 ', 'I. versicolor'],\n",
       " ['6.3 ', '3.3 ', '6.0 ', '2.5 ', 'I. virginica'],\n",
       " ['5.8 ', '2.7 ', '5.1 ', '1.9 ', 'I. virginica'],\n",
       " ['7.1 ', '3.0 ', '5.9 ', '2.1 ', 'I. virginica'],\n",
       " ['6.3 ', '2.9 ', '5.6 ', '1.8 ', 'I. virginica'],\n",
       " ['6.5 ', '3.0 ', '5.8 ', '2.2 ', 'I. virginica'],\n",
       " ['7.6 ', '3.0 ', '6.6 ', '2.1 ', 'I. virginica'],\n",
       " ['4.9 ', '2.5 ', '4.5 ', '1.7 ', 'I. virginica'],\n",
       " ['7.3 ', '2.9 ', '6.3 ', '1.8 ', 'I. virginica'],\n",
       " ['6.7 ', '2.5 ', '5.8 ', '1.8 ', 'I. virginica'],\n",
       " ['7.2 ', '3.6 ', '6.1 ', '2.5 ', 'I. virginica'],\n",
       " ['6.5 ', '3.2 ', '5.1 ', '2.0 ', 'I. virginica'],\n",
       " ['6.4 ', '2.7 ', '5.3 ', '1.9 ', 'I. virginica'],\n",
       " ['6.8 ', '3.0 ', '5.5 ', '2.1 ', 'I. virginica'],\n",
       " ['5.7 ', '2.5 ', '5.0 ', '2.0 ', 'I. virginica'],\n",
       " ['5.8 ', '2.8 ', '5.1 ', '2.4 ', 'I. virginica'],\n",
       " ['6.4 ', '3.2 ', '5.3 ', '2.3 ', 'I. virginica'],\n",
       " ['6.5 ', '3.0 ', '5.5 ', '1.8 ', 'I. virginica'],\n",
       " ['7.7 ', '3.8 ', '6.7 ', '2.2 ', 'I. virginica'],\n",
       " ['7.7 ', '2.6 ', '6.9 ', '2.3 ', 'I. virginica'],\n",
       " ['6.0 ', '2.2 ', '5.0 ', '1.5 ', 'I. virginica'],\n",
       " ['6.9 ', '3.2 ', '5.7 ', '2.3 ', 'I. virginica'],\n",
       " ['5.6 ', '2.8 ', '4.9 ', '2.0 ', 'I. virginica'],\n",
       " ['7.7 ', '2.8 ', '6.7 ', '2.0 ', 'I. virginica'],\n",
       " ['6.3 ', '2.7 ', '4.9 ', '1.8 ', 'I. virginica'],\n",
       " ['6.7 ', '3.3 ', '5.7 ', '2.1 ', 'I. virginica'],\n",
       " ['7.2 ', '3.2 ', '6.0 ', '1.8 ', 'I. virginica'],\n",
       " ['6.2 ', '2.8 ', '4.8 ', '1.8 ', 'I. virginica'],\n",
       " ['6.1 ', '3.0 ', '4.9 ', '1.8 ', 'I. virginica'],\n",
       " ['6.4 ', '2.8 ', '5.6 ', '2.1 ', 'I. virginica'],\n",
       " ['7.2 ', '3.0 ', '5.8 ', '1.6 ', 'I. virginica'],\n",
       " ['7.4 ', '2.8 ', '6.1 ', '1.9 ', 'I. virginica'],\n",
       " ['7.9 ', '3.8 ', '6.4 ', '2.0 ', 'I. virginica'],\n",
       " ['6.4 ', '2.8 ', '5.6 ', '2.2 ', 'I. virginica'],\n",
       " ['6.3 ', '2.8 ', '5.1 ', '1.5 ', 'I. virginica'],\n",
       " ['6.1 ', '2.6 ', '5.6 ', '1.4 ', 'I. virginica'],\n",
       " ['6.3 ', '3.4 ', '5.6 ', '2.4 ', 'I. virginica'],\n",
       " ['6.4 ', '3.1 ', '5.5 ', '1.8 ', 'I. virginica'],\n",
       " ['6.0 ', '3.0 ', '4.8 ', '1.8 ', 'I. virginica'],\n",
       " ['6.9 ', '3.1 ', '5.4 ', '2.1 ', 'I. virginica'],\n",
       " ['6.7 ', '3.1 ', '5.6 ', '2.4 ', 'I. virginica'],\n",
       " ['6.9 ', '3.1 ', '5.1 ', '2.3 ', 'I. virginica'],\n",
       " ['5.8 ', '2.7 ', '5.1 ', '1.9 ', 'I. virginica'],\n",
       " ['6.8 ', '3.2 ', '5.9 ', '2.3 ', 'I. virginica'],\n",
       " ['6.7 ', '3.3 ', '5.7 ', '2.5 ', 'I. virginica'],\n",
       " ['6.7 ', '3.0 ', '5.2 ', '2.3 ', 'I. virginica'],\n",
       " ['6.3 ', '2.5 ', '5.0 ', '1.9 ', 'I. virginica'],\n",
       " ['6.5 ', '3.0 ', '5.2 ', '2.0 ', 'I. virginica'],\n",
       " ['6.2 ', '3.4 ', '5.4 ', '2.3 ', 'I. virginica'],\n",
       " ['5.9 ', '3.0 ', '5.1 ', '1.8 ', 'I. virginica']]"
      ]
     },
     "execution_count": 94,
     "metadata": {},
     "output_type": "execute_result"
    }
   ],
   "source": [
    "data = [x.split('\\t') for x in data]\n",
    "data"
   ]
  },
  {
   "cell_type": "markdown",
   "metadata": {},
   "source": [
    "Παρατηρούμε ότι υπάρχουν spaces (κενά) στο τέλος κάποιων strings. Ας τα \"περάσουμε\" όλα από ένα ```strip```:"
   ]
  },
  {
   "cell_type": "code",
   "execution_count": 95,
   "metadata": {},
   "outputs": [
    {
     "data": {
      "text/plain": [
       "[['Sepal length', 'Sepal width', 'Petal length', 'Petal width', 'Species'],\n",
       " ['5.2', '3.5', '1.4', '0.2', 'I. setosa'],\n",
       " ['4.9', '3.0', '1.4', '0.2', 'I. setosa'],\n",
       " ['4.7', '3.2', '1.3', '0.2', 'I. setosa'],\n",
       " ['4.6', '3.1', '1.5', '0.2', 'I. setosa'],\n",
       " ['5.0', '3.6', '1.4', '0.3', 'I. setosa'],\n",
       " ['5.4', '3.9', '1.7', '0.4', 'I. setosa'],\n",
       " ['4.6', '3.4', '1.4', '0.3', 'I. setosa'],\n",
       " ['5.0', '3.4', '1.5', '0.2', 'I. setosa'],\n",
       " ['4.4', '2.9', '1.4', '0.2', 'I. setosa'],\n",
       " ['4.9', '3.1', '1.5', '0.1', 'I. setosa'],\n",
       " ['5.4', '3.7', '1.5', '0.2', 'I. setosa'],\n",
       " ['4.8', '3.4', '1.6', '0.2', 'I. setosa'],\n",
       " ['4.8', '3.0', '1.4', '0.1', 'I. setosa'],\n",
       " ['4.3', '3.0', '1.1', '0.1', 'I. setosa'],\n",
       " ['5.8', '4.0', '1.2', '0.2', 'I. setosa'],\n",
       " ['5.7', '4.4', '1.5', '0.4', 'I. setosa'],\n",
       " ['5.4', '3.9', '1.3', '0.4', 'I. setosa'],\n",
       " ['5.1', '3.5', '1.4', '0.3', 'I. setosa'],\n",
       " ['5.7', '3.8', '1.7', '0.3', 'I. setosa'],\n",
       " ['5.1', '3.8', '1.5', '0.3', 'I. setosa'],\n",
       " ['5.4', '3.4', '1.7', '0.2', 'I. setosa'],\n",
       " ['5.1', '3.7', '1.5', '0.4', 'I. setosa'],\n",
       " ['4.6', '3.6', '1.0', '0.2', 'I. setosa'],\n",
       " ['5.1', '3.3', '1.7', '0.5', 'I. setosa'],\n",
       " ['4.8', '3.4', '1.9', '0.2', 'I. setosa'],\n",
       " ['5.0', '3.0', '1.6', '0.2', 'I. setosa'],\n",
       " ['5.0', '3.4', '1.6', '0.4', 'I. setosa'],\n",
       " ['5.2', '3.5', '1.5', '0.2', 'I. setosa'],\n",
       " ['5.2', '3.4', '1.4', '0.2', 'I. setosa'],\n",
       " ['4.7', '3.2', '1.6', '0.2', 'I. setosa'],\n",
       " ['4.8', '3.1', '1.6', '0.2', 'I. setosa'],\n",
       " ['5.4', '3.4', '1.5', '0.4', 'I. setosa'],\n",
       " ['5.2', '4.1', '1.5', '0.1', 'I. setosa'],\n",
       " ['5.5', '4.2', '1.4', '0.2', 'I. setosa'],\n",
       " ['4.9', '3.1', '1.5', '0.2', 'I. setosa'],\n",
       " ['5.0', '3.2', '1.2', '0.2', 'I. setosa'],\n",
       " ['5.5', '3.5', '1.3', '0.2', 'I. setosa'],\n",
       " ['4.9', '3.6', '1.4', '0.1', 'I. setosa'],\n",
       " ['4.4', '3.0', '1.3', '0.2', 'I. setosa'],\n",
       " ['5.1', '3.4', '1.5', '0.2', 'I. setosa'],\n",
       " ['5.0', '3.5', '1.3', '0.3', 'I. setosa'],\n",
       " ['4.5', '2.3', '1.3', '0.3', 'I. setosa'],\n",
       " ['4.4', '3.2', '1.3', '0.2', 'I. setosa'],\n",
       " ['5.0', '3.5', '1.6', '0.6', 'I. setosa'],\n",
       " ['5.1', '3.8', '1.9', '0.4', 'I. setosa'],\n",
       " ['4.8', '3.0', '1.4', '0.3', 'I. setosa'],\n",
       " ['5.1', '3.8', '1.6', '0.2', 'I. setosa'],\n",
       " ['4.6', '3.2', '1.4', '0.2', 'I. setosa'],\n",
       " ['5.3', '3.7', '1.5', '0.2', 'I. setosa'],\n",
       " ['5.0', '3.3', '1.4', '0.2', 'I. setosa'],\n",
       " ['7.0', '3.2', '4.7', '1.4', 'I. versicolor'],\n",
       " ['6.4', '3.2', '4.5', '1.5', 'I. versicolor'],\n",
       " ['6.9', '3.1', '4.9', '1.5', 'I. versicolor'],\n",
       " ['5.5', '2.3', '4.0', '1.3', 'I. versicolor'],\n",
       " ['6.5', '2.8', '4.6', '1.5', 'I. versicolor'],\n",
       " ['5.7', '2.8', '4.5', '1.3', 'I. versicolor'],\n",
       " ['6.3', '3.3', '4.7', '1.6', 'I. versicolor'],\n",
       " ['4.9', '2.4', '3.3', '1.0', 'I. versicolor'],\n",
       " ['6.6', '2.9', '4.6', '1.3', 'I. versicolor'],\n",
       " ['5.2', '2.7', '3.9', '1.4', 'I. versicolor'],\n",
       " ['5.0', '2.0', '3.5', '1.0', 'I. versicolor'],\n",
       " ['5.9', '3.0', '4.2', '1.5', 'I. versicolor'],\n",
       " ['6.0', '2.2', '4.0', '1.0', 'I. versicolor'],\n",
       " ['6.1', '2.9', '4.7', '1.4', 'I. versicolor'],\n",
       " ['5.6', '2.9', '3.6', '1.3', 'I. versicolor'],\n",
       " ['6.7', '3.1', '4.4', '1.4', 'I. versicolor'],\n",
       " ['5.6', '3.0', '4.5', '1.5', 'I. versicolor'],\n",
       " ['5.8', '2.7', '4.1', '1.0', 'I. versicolor'],\n",
       " ['6.2', '2.2', '4.5', '1.5', 'I. versicolor'],\n",
       " ['5.6', '2.5', '3.9', '1.1', 'I. versicolor'],\n",
       " ['5.9', '3.2', '4.8', '1.8', 'I. versicolor'],\n",
       " ['6.1', '2.8', '4.0', '1.3', 'I. versicolor'],\n",
       " ['6.3', '2.5', '4.9', '1.5', 'I. versicolor'],\n",
       " ['6.1', '2.8', '4.7', '1.2', 'I. versicolor'],\n",
       " ['6.4', '2.9', '4.3', '1.3', 'I. versicolor'],\n",
       " ['6.6', '3.0', '4.4', '1.4', 'I. versicolor'],\n",
       " ['6.8', '2.8', '4.8', '1.4', 'I. versicolor'],\n",
       " ['6.7', '3.0', '5.0', '1.7', 'I. versicolor'],\n",
       " ['6.0', '2.9', '4.5', '1.5', 'I. versicolor'],\n",
       " ['5.7', '2.6', '3.5', '1.0', 'I. versicolor'],\n",
       " ['5.5', '2.4', '3.8', '1.1', 'I. versicolor'],\n",
       " ['5.5', '2.4', '3.7', '1.0', 'I. versicolor'],\n",
       " ['5.8', '2.7', '3.9', '1.2', 'I. versicolor'],\n",
       " ['6.0', '2.7', '5.1', '1.6', 'I. versicolor'],\n",
       " ['5.4', '3.0', '4.5', '1.5', 'I. versicolor'],\n",
       " ['6.0', '3.4', '4.5', '1.6', 'I. versicolor'],\n",
       " ['6.7', '3.1', '4.7', '1.5', 'I. versicolor'],\n",
       " ['6.3', '2.3', '4.4', '1.3', 'I. versicolor'],\n",
       " ['5.6', '3.0', '4.1', '1.3', 'I. versicolor'],\n",
       " ['5.5', '2.5', '4.0', '1.3', 'I. versicolor'],\n",
       " ['5.5', '2.6', '4.4', '1.2', 'I. versicolor'],\n",
       " ['6.1', '3.0', '4.6', '1.4', 'I. versicolor'],\n",
       " ['5.8', '2.6', '4.0', '1.2', 'I. versicolor'],\n",
       " ['5.0', '2.3', '3.3', '1.0', 'I. versicolor'],\n",
       " ['5.6', '2.7', '4.2', '1.3', 'I. versicolor'],\n",
       " ['5.7', '3.0', '4.2', '1.2', 'I. versicolor'],\n",
       " ['5.7', '2.9', '4.2', '1.3', 'I. versicolor'],\n",
       " ['6.2', '2.9', '4.3', '1.3', 'I. versicolor'],\n",
       " ['5.1', '2.5', '3.0', '1.1', 'I. versicolor'],\n",
       " ['5.7', '2.8', '4.1', '1.3', 'I. versicolor'],\n",
       " ['6.3', '3.3', '6.0', '2.5', 'I. virginica'],\n",
       " ['5.8', '2.7', '5.1', '1.9', 'I. virginica'],\n",
       " ['7.1', '3.0', '5.9', '2.1', 'I. virginica'],\n",
       " ['6.3', '2.9', '5.6', '1.8', 'I. virginica'],\n",
       " ['6.5', '3.0', '5.8', '2.2', 'I. virginica'],\n",
       " ['7.6', '3.0', '6.6', '2.1', 'I. virginica'],\n",
       " ['4.9', '2.5', '4.5', '1.7', 'I. virginica'],\n",
       " ['7.3', '2.9', '6.3', '1.8', 'I. virginica'],\n",
       " ['6.7', '2.5', '5.8', '1.8', 'I. virginica'],\n",
       " ['7.2', '3.6', '6.1', '2.5', 'I. virginica'],\n",
       " ['6.5', '3.2', '5.1', '2.0', 'I. virginica'],\n",
       " ['6.4', '2.7', '5.3', '1.9', 'I. virginica'],\n",
       " ['6.8', '3.0', '5.5', '2.1', 'I. virginica'],\n",
       " ['5.7', '2.5', '5.0', '2.0', 'I. virginica'],\n",
       " ['5.8', '2.8', '5.1', '2.4', 'I. virginica'],\n",
       " ['6.4', '3.2', '5.3', '2.3', 'I. virginica'],\n",
       " ['6.5', '3.0', '5.5', '1.8', 'I. virginica'],\n",
       " ['7.7', '3.8', '6.7', '2.2', 'I. virginica'],\n",
       " ['7.7', '2.6', '6.9', '2.3', 'I. virginica'],\n",
       " ['6.0', '2.2', '5.0', '1.5', 'I. virginica'],\n",
       " ['6.9', '3.2', '5.7', '2.3', 'I. virginica'],\n",
       " ['5.6', '2.8', '4.9', '2.0', 'I. virginica'],\n",
       " ['7.7', '2.8', '6.7', '2.0', 'I. virginica'],\n",
       " ['6.3', '2.7', '4.9', '1.8', 'I. virginica'],\n",
       " ['6.7', '3.3', '5.7', '2.1', 'I. virginica'],\n",
       " ['7.2', '3.2', '6.0', '1.8', 'I. virginica'],\n",
       " ['6.2', '2.8', '4.8', '1.8', 'I. virginica'],\n",
       " ['6.1', '3.0', '4.9', '1.8', 'I. virginica'],\n",
       " ['6.4', '2.8', '5.6', '2.1', 'I. virginica'],\n",
       " ['7.2', '3.0', '5.8', '1.6', 'I. virginica'],\n",
       " ['7.4', '2.8', '6.1', '1.9', 'I. virginica'],\n",
       " ['7.9', '3.8', '6.4', '2.0', 'I. virginica'],\n",
       " ['6.4', '2.8', '5.6', '2.2', 'I. virginica'],\n",
       " ['6.3', '2.8', '5.1', '1.5', 'I. virginica'],\n",
       " ['6.1', '2.6', '5.6', '1.4', 'I. virginica'],\n",
       " ['6.3', '3.4', '5.6', '2.4', 'I. virginica'],\n",
       " ['6.4', '3.1', '5.5', '1.8', 'I. virginica'],\n",
       " ['6.0', '3.0', '4.8', '1.8', 'I. virginica'],\n",
       " ['6.9', '3.1', '5.4', '2.1', 'I. virginica'],\n",
       " ['6.7', '3.1', '5.6', '2.4', 'I. virginica'],\n",
       " ['6.9', '3.1', '5.1', '2.3', 'I. virginica'],\n",
       " ['5.8', '2.7', '5.1', '1.9', 'I. virginica'],\n",
       " ['6.8', '3.2', '5.9', '2.3', 'I. virginica'],\n",
       " ['6.7', '3.3', '5.7', '2.5', 'I. virginica'],\n",
       " ['6.7', '3.0', '5.2', '2.3', 'I. virginica'],\n",
       " ['6.3', '2.5', '5.0', '1.9', 'I. virginica'],\n",
       " ['6.5', '3.0', '5.2', '2.0', 'I. virginica'],\n",
       " ['6.2', '3.4', '5.4', '2.3', 'I. virginica'],\n",
       " ['5.9', '3.0', '5.1', '1.8', 'I. virginica']]"
      ]
     },
     "execution_count": 95,
     "metadata": {},
     "output_type": "execute_result"
    }
   ],
   "source": [
    "data = [[y.strip() for y in x] for x in data]\n",
    "data"
   ]
  },
  {
   "cell_type": "markdown",
   "metadata": {},
   "source": [
    "Φαίνεται ότι το πρώτο στοιχείο της λίστας είναι το header. Ας το πάρουμε:"
   ]
  },
  {
   "cell_type": "code",
   "execution_count": 96,
   "metadata": {},
   "outputs": [
    {
     "data": {
      "text/plain": [
       "['Sepal length', 'Sepal width', 'Petal length', 'Petal width', 'Species']"
      ]
     },
     "execution_count": 96,
     "metadata": {},
     "output_type": "execute_result"
    }
   ],
   "source": [
    "header = data[0]\n",
    "header"
   ]
  },
  {
   "cell_type": "markdown",
   "metadata": {},
   "source": [
    "Επίσης φαίνεται ότι όλα τα υπόλοιπα στοιχεία (εκτός το πρώτο) είναι τα δεδομένα. Ας πάρουμε μόνο αυτά:"
   ]
  },
  {
   "cell_type": "code",
   "execution_count": 97,
   "metadata": {},
   "outputs": [
    {
     "data": {
      "text/plain": [
       "[['5.2', '3.5', '1.4', '0.2', 'I. setosa'],\n",
       " ['4.9', '3.0', '1.4', '0.2', 'I. setosa'],\n",
       " ['4.7', '3.2', '1.3', '0.2', 'I. setosa'],\n",
       " ['4.6', '3.1', '1.5', '0.2', 'I. setosa'],\n",
       " ['5.0', '3.6', '1.4', '0.3', 'I. setosa'],\n",
       " ['5.4', '3.9', '1.7', '0.4', 'I. setosa'],\n",
       " ['4.6', '3.4', '1.4', '0.3', 'I. setosa'],\n",
       " ['5.0', '3.4', '1.5', '0.2', 'I. setosa'],\n",
       " ['4.4', '2.9', '1.4', '0.2', 'I. setosa'],\n",
       " ['4.9', '3.1', '1.5', '0.1', 'I. setosa'],\n",
       " ['5.4', '3.7', '1.5', '0.2', 'I. setosa'],\n",
       " ['4.8', '3.4', '1.6', '0.2', 'I. setosa'],\n",
       " ['4.8', '3.0', '1.4', '0.1', 'I. setosa'],\n",
       " ['4.3', '3.0', '1.1', '0.1', 'I. setosa'],\n",
       " ['5.8', '4.0', '1.2', '0.2', 'I. setosa'],\n",
       " ['5.7', '4.4', '1.5', '0.4', 'I. setosa'],\n",
       " ['5.4', '3.9', '1.3', '0.4', 'I. setosa'],\n",
       " ['5.1', '3.5', '1.4', '0.3', 'I. setosa'],\n",
       " ['5.7', '3.8', '1.7', '0.3', 'I. setosa'],\n",
       " ['5.1', '3.8', '1.5', '0.3', 'I. setosa'],\n",
       " ['5.4', '3.4', '1.7', '0.2', 'I. setosa'],\n",
       " ['5.1', '3.7', '1.5', '0.4', 'I. setosa'],\n",
       " ['4.6', '3.6', '1.0', '0.2', 'I. setosa'],\n",
       " ['5.1', '3.3', '1.7', '0.5', 'I. setosa'],\n",
       " ['4.8', '3.4', '1.9', '0.2', 'I. setosa'],\n",
       " ['5.0', '3.0', '1.6', '0.2', 'I. setosa'],\n",
       " ['5.0', '3.4', '1.6', '0.4', 'I. setosa'],\n",
       " ['5.2', '3.5', '1.5', '0.2', 'I. setosa'],\n",
       " ['5.2', '3.4', '1.4', '0.2', 'I. setosa'],\n",
       " ['4.7', '3.2', '1.6', '0.2', 'I. setosa'],\n",
       " ['4.8', '3.1', '1.6', '0.2', 'I. setosa'],\n",
       " ['5.4', '3.4', '1.5', '0.4', 'I. setosa'],\n",
       " ['5.2', '4.1', '1.5', '0.1', 'I. setosa'],\n",
       " ['5.5', '4.2', '1.4', '0.2', 'I. setosa'],\n",
       " ['4.9', '3.1', '1.5', '0.2', 'I. setosa'],\n",
       " ['5.0', '3.2', '1.2', '0.2', 'I. setosa'],\n",
       " ['5.5', '3.5', '1.3', '0.2', 'I. setosa'],\n",
       " ['4.9', '3.6', '1.4', '0.1', 'I. setosa'],\n",
       " ['4.4', '3.0', '1.3', '0.2', 'I. setosa'],\n",
       " ['5.1', '3.4', '1.5', '0.2', 'I. setosa'],\n",
       " ['5.0', '3.5', '1.3', '0.3', 'I. setosa'],\n",
       " ['4.5', '2.3', '1.3', '0.3', 'I. setosa'],\n",
       " ['4.4', '3.2', '1.3', '0.2', 'I. setosa'],\n",
       " ['5.0', '3.5', '1.6', '0.6', 'I. setosa'],\n",
       " ['5.1', '3.8', '1.9', '0.4', 'I. setosa'],\n",
       " ['4.8', '3.0', '1.4', '0.3', 'I. setosa'],\n",
       " ['5.1', '3.8', '1.6', '0.2', 'I. setosa'],\n",
       " ['4.6', '3.2', '1.4', '0.2', 'I. setosa'],\n",
       " ['5.3', '3.7', '1.5', '0.2', 'I. setosa'],\n",
       " ['5.0', '3.3', '1.4', '0.2', 'I. setosa'],\n",
       " ['7.0', '3.2', '4.7', '1.4', 'I. versicolor'],\n",
       " ['6.4', '3.2', '4.5', '1.5', 'I. versicolor'],\n",
       " ['6.9', '3.1', '4.9', '1.5', 'I. versicolor'],\n",
       " ['5.5', '2.3', '4.0', '1.3', 'I. versicolor'],\n",
       " ['6.5', '2.8', '4.6', '1.5', 'I. versicolor'],\n",
       " ['5.7', '2.8', '4.5', '1.3', 'I. versicolor'],\n",
       " ['6.3', '3.3', '4.7', '1.6', 'I. versicolor'],\n",
       " ['4.9', '2.4', '3.3', '1.0', 'I. versicolor'],\n",
       " ['6.6', '2.9', '4.6', '1.3', 'I. versicolor'],\n",
       " ['5.2', '2.7', '3.9', '1.4', 'I. versicolor'],\n",
       " ['5.0', '2.0', '3.5', '1.0', 'I. versicolor'],\n",
       " ['5.9', '3.0', '4.2', '1.5', 'I. versicolor'],\n",
       " ['6.0', '2.2', '4.0', '1.0', 'I. versicolor'],\n",
       " ['6.1', '2.9', '4.7', '1.4', 'I. versicolor'],\n",
       " ['5.6', '2.9', '3.6', '1.3', 'I. versicolor'],\n",
       " ['6.7', '3.1', '4.4', '1.4', 'I. versicolor'],\n",
       " ['5.6', '3.0', '4.5', '1.5', 'I. versicolor'],\n",
       " ['5.8', '2.7', '4.1', '1.0', 'I. versicolor'],\n",
       " ['6.2', '2.2', '4.5', '1.5', 'I. versicolor'],\n",
       " ['5.6', '2.5', '3.9', '1.1', 'I. versicolor'],\n",
       " ['5.9', '3.2', '4.8', '1.8', 'I. versicolor'],\n",
       " ['6.1', '2.8', '4.0', '1.3', 'I. versicolor'],\n",
       " ['6.3', '2.5', '4.9', '1.5', 'I. versicolor'],\n",
       " ['6.1', '2.8', '4.7', '1.2', 'I. versicolor'],\n",
       " ['6.4', '2.9', '4.3', '1.3', 'I. versicolor'],\n",
       " ['6.6', '3.0', '4.4', '1.4', 'I. versicolor'],\n",
       " ['6.8', '2.8', '4.8', '1.4', 'I. versicolor'],\n",
       " ['6.7', '3.0', '5.0', '1.7', 'I. versicolor'],\n",
       " ['6.0', '2.9', '4.5', '1.5', 'I. versicolor'],\n",
       " ['5.7', '2.6', '3.5', '1.0', 'I. versicolor'],\n",
       " ['5.5', '2.4', '3.8', '1.1', 'I. versicolor'],\n",
       " ['5.5', '2.4', '3.7', '1.0', 'I. versicolor'],\n",
       " ['5.8', '2.7', '3.9', '1.2', 'I. versicolor'],\n",
       " ['6.0', '2.7', '5.1', '1.6', 'I. versicolor'],\n",
       " ['5.4', '3.0', '4.5', '1.5', 'I. versicolor'],\n",
       " ['6.0', '3.4', '4.5', '1.6', 'I. versicolor'],\n",
       " ['6.7', '3.1', '4.7', '1.5', 'I. versicolor'],\n",
       " ['6.3', '2.3', '4.4', '1.3', 'I. versicolor'],\n",
       " ['5.6', '3.0', '4.1', '1.3', 'I. versicolor'],\n",
       " ['5.5', '2.5', '4.0', '1.3', 'I. versicolor'],\n",
       " ['5.5', '2.6', '4.4', '1.2', 'I. versicolor'],\n",
       " ['6.1', '3.0', '4.6', '1.4', 'I. versicolor'],\n",
       " ['5.8', '2.6', '4.0', '1.2', 'I. versicolor'],\n",
       " ['5.0', '2.3', '3.3', '1.0', 'I. versicolor'],\n",
       " ['5.6', '2.7', '4.2', '1.3', 'I. versicolor'],\n",
       " ['5.7', '3.0', '4.2', '1.2', 'I. versicolor'],\n",
       " ['5.7', '2.9', '4.2', '1.3', 'I. versicolor'],\n",
       " ['6.2', '2.9', '4.3', '1.3', 'I. versicolor'],\n",
       " ['5.1', '2.5', '3.0', '1.1', 'I. versicolor'],\n",
       " ['5.7', '2.8', '4.1', '1.3', 'I. versicolor'],\n",
       " ['6.3', '3.3', '6.0', '2.5', 'I. virginica'],\n",
       " ['5.8', '2.7', '5.1', '1.9', 'I. virginica'],\n",
       " ['7.1', '3.0', '5.9', '2.1', 'I. virginica'],\n",
       " ['6.3', '2.9', '5.6', '1.8', 'I. virginica'],\n",
       " ['6.5', '3.0', '5.8', '2.2', 'I. virginica'],\n",
       " ['7.6', '3.0', '6.6', '2.1', 'I. virginica'],\n",
       " ['4.9', '2.5', '4.5', '1.7', 'I. virginica'],\n",
       " ['7.3', '2.9', '6.3', '1.8', 'I. virginica'],\n",
       " ['6.7', '2.5', '5.8', '1.8', 'I. virginica'],\n",
       " ['7.2', '3.6', '6.1', '2.5', 'I. virginica'],\n",
       " ['6.5', '3.2', '5.1', '2.0', 'I. virginica'],\n",
       " ['6.4', '2.7', '5.3', '1.9', 'I. virginica'],\n",
       " ['6.8', '3.0', '5.5', '2.1', 'I. virginica'],\n",
       " ['5.7', '2.5', '5.0', '2.0', 'I. virginica'],\n",
       " ['5.8', '2.8', '5.1', '2.4', 'I. virginica'],\n",
       " ['6.4', '3.2', '5.3', '2.3', 'I. virginica'],\n",
       " ['6.5', '3.0', '5.5', '1.8', 'I. virginica'],\n",
       " ['7.7', '3.8', '6.7', '2.2', 'I. virginica'],\n",
       " ['7.7', '2.6', '6.9', '2.3', 'I. virginica'],\n",
       " ['6.0', '2.2', '5.0', '1.5', 'I. virginica'],\n",
       " ['6.9', '3.2', '5.7', '2.3', 'I. virginica'],\n",
       " ['5.6', '2.8', '4.9', '2.0', 'I. virginica'],\n",
       " ['7.7', '2.8', '6.7', '2.0', 'I. virginica'],\n",
       " ['6.3', '2.7', '4.9', '1.8', 'I. virginica'],\n",
       " ['6.7', '3.3', '5.7', '2.1', 'I. virginica'],\n",
       " ['7.2', '3.2', '6.0', '1.8', 'I. virginica'],\n",
       " ['6.2', '2.8', '4.8', '1.8', 'I. virginica'],\n",
       " ['6.1', '3.0', '4.9', '1.8', 'I. virginica'],\n",
       " ['6.4', '2.8', '5.6', '2.1', 'I. virginica'],\n",
       " ['7.2', '3.0', '5.8', '1.6', 'I. virginica'],\n",
       " ['7.4', '2.8', '6.1', '1.9', 'I. virginica'],\n",
       " ['7.9', '3.8', '6.4', '2.0', 'I. virginica'],\n",
       " ['6.4', '2.8', '5.6', '2.2', 'I. virginica'],\n",
       " ['6.3', '2.8', '5.1', '1.5', 'I. virginica'],\n",
       " ['6.1', '2.6', '5.6', '1.4', 'I. virginica'],\n",
       " ['6.3', '3.4', '5.6', '2.4', 'I. virginica'],\n",
       " ['6.4', '3.1', '5.5', '1.8', 'I. virginica'],\n",
       " ['6.0', '3.0', '4.8', '1.8', 'I. virginica'],\n",
       " ['6.9', '3.1', '5.4', '2.1', 'I. virginica'],\n",
       " ['6.7', '3.1', '5.6', '2.4', 'I. virginica'],\n",
       " ['6.9', '3.1', '5.1', '2.3', 'I. virginica'],\n",
       " ['5.8', '2.7', '5.1', '1.9', 'I. virginica'],\n",
       " ['6.8', '3.2', '5.9', '2.3', 'I. virginica'],\n",
       " ['6.7', '3.3', '5.7', '2.5', 'I. virginica'],\n",
       " ['6.7', '3.0', '5.2', '2.3', 'I. virginica'],\n",
       " ['6.3', '2.5', '5.0', '1.9', 'I. virginica'],\n",
       " ['6.5', '3.0', '5.2', '2.0', 'I. virginica'],\n",
       " ['6.2', '3.4', '5.4', '2.3', 'I. virginica'],\n",
       " ['5.9', '3.0', '5.1', '1.8', 'I. virginica']]"
      ]
     },
     "execution_count": 97,
     "metadata": {},
     "output_type": "execute_result"
    }
   ],
   "source": [
    "data = data[1:]\n",
    "data"
   ]
  },
  {
   "cell_type": "markdown",
   "metadata": {},
   "source": [
    "Παρατηρώ ότι οι τιμές στις 4 πρώτες στήλες είναι σε string. Τις μετατρέπουμε σε float:"
   ]
  },
  {
   "cell_type": "code",
   "execution_count": 98,
   "metadata": {},
   "outputs": [
    {
     "data": {
      "text/plain": [
       "[[5.2, 3.5, 1.4, 0.2, 'I. setosa'],\n",
       " [4.9, 3.0, 1.4, 0.2, 'I. setosa'],\n",
       " [4.7, 3.2, 1.3, 0.2, 'I. setosa'],\n",
       " [4.6, 3.1, 1.5, 0.2, 'I. setosa'],\n",
       " [5.0, 3.6, 1.4, 0.3, 'I. setosa'],\n",
       " [5.4, 3.9, 1.7, 0.4, 'I. setosa'],\n",
       " [4.6, 3.4, 1.4, 0.3, 'I. setosa'],\n",
       " [5.0, 3.4, 1.5, 0.2, 'I. setosa'],\n",
       " [4.4, 2.9, 1.4, 0.2, 'I. setosa'],\n",
       " [4.9, 3.1, 1.5, 0.1, 'I. setosa'],\n",
       " [5.4, 3.7, 1.5, 0.2, 'I. setosa'],\n",
       " [4.8, 3.4, 1.6, 0.2, 'I. setosa'],\n",
       " [4.8, 3.0, 1.4, 0.1, 'I. setosa'],\n",
       " [4.3, 3.0, 1.1, 0.1, 'I. setosa'],\n",
       " [5.8, 4.0, 1.2, 0.2, 'I. setosa'],\n",
       " [5.7, 4.4, 1.5, 0.4, 'I. setosa'],\n",
       " [5.4, 3.9, 1.3, 0.4, 'I. setosa'],\n",
       " [5.1, 3.5, 1.4, 0.3, 'I. setosa'],\n",
       " [5.7, 3.8, 1.7, 0.3, 'I. setosa'],\n",
       " [5.1, 3.8, 1.5, 0.3, 'I. setosa'],\n",
       " [5.4, 3.4, 1.7, 0.2, 'I. setosa'],\n",
       " [5.1, 3.7, 1.5, 0.4, 'I. setosa'],\n",
       " [4.6, 3.6, 1.0, 0.2, 'I. setosa'],\n",
       " [5.1, 3.3, 1.7, 0.5, 'I. setosa'],\n",
       " [4.8, 3.4, 1.9, 0.2, 'I. setosa'],\n",
       " [5.0, 3.0, 1.6, 0.2, 'I. setosa'],\n",
       " [5.0, 3.4, 1.6, 0.4, 'I. setosa'],\n",
       " [5.2, 3.5, 1.5, 0.2, 'I. setosa'],\n",
       " [5.2, 3.4, 1.4, 0.2, 'I. setosa'],\n",
       " [4.7, 3.2, 1.6, 0.2, 'I. setosa'],\n",
       " [4.8, 3.1, 1.6, 0.2, 'I. setosa'],\n",
       " [5.4, 3.4, 1.5, 0.4, 'I. setosa'],\n",
       " [5.2, 4.1, 1.5, 0.1, 'I. setosa'],\n",
       " [5.5, 4.2, 1.4, 0.2, 'I. setosa'],\n",
       " [4.9, 3.1, 1.5, 0.2, 'I. setosa'],\n",
       " [5.0, 3.2, 1.2, 0.2, 'I. setosa'],\n",
       " [5.5, 3.5, 1.3, 0.2, 'I. setosa'],\n",
       " [4.9, 3.6, 1.4, 0.1, 'I. setosa'],\n",
       " [4.4, 3.0, 1.3, 0.2, 'I. setosa'],\n",
       " [5.1, 3.4, 1.5, 0.2, 'I. setosa'],\n",
       " [5.0, 3.5, 1.3, 0.3, 'I. setosa'],\n",
       " [4.5, 2.3, 1.3, 0.3, 'I. setosa'],\n",
       " [4.4, 3.2, 1.3, 0.2, 'I. setosa'],\n",
       " [5.0, 3.5, 1.6, 0.6, 'I. setosa'],\n",
       " [5.1, 3.8, 1.9, 0.4, 'I. setosa'],\n",
       " [4.8, 3.0, 1.4, 0.3, 'I. setosa'],\n",
       " [5.1, 3.8, 1.6, 0.2, 'I. setosa'],\n",
       " [4.6, 3.2, 1.4, 0.2, 'I. setosa'],\n",
       " [5.3, 3.7, 1.5, 0.2, 'I. setosa'],\n",
       " [5.0, 3.3, 1.4, 0.2, 'I. setosa'],\n",
       " [7.0, 3.2, 4.7, 1.4, 'I. versicolor'],\n",
       " [6.4, 3.2, 4.5, 1.5, 'I. versicolor'],\n",
       " [6.9, 3.1, 4.9, 1.5, 'I. versicolor'],\n",
       " [5.5, 2.3, 4.0, 1.3, 'I. versicolor'],\n",
       " [6.5, 2.8, 4.6, 1.5, 'I. versicolor'],\n",
       " [5.7, 2.8, 4.5, 1.3, 'I. versicolor'],\n",
       " [6.3, 3.3, 4.7, 1.6, 'I. versicolor'],\n",
       " [4.9, 2.4, 3.3, 1.0, 'I. versicolor'],\n",
       " [6.6, 2.9, 4.6, 1.3, 'I. versicolor'],\n",
       " [5.2, 2.7, 3.9, 1.4, 'I. versicolor'],\n",
       " [5.0, 2.0, 3.5, 1.0, 'I. versicolor'],\n",
       " [5.9, 3.0, 4.2, 1.5, 'I. versicolor'],\n",
       " [6.0, 2.2, 4.0, 1.0, 'I. versicolor'],\n",
       " [6.1, 2.9, 4.7, 1.4, 'I. versicolor'],\n",
       " [5.6, 2.9, 3.6, 1.3, 'I. versicolor'],\n",
       " [6.7, 3.1, 4.4, 1.4, 'I. versicolor'],\n",
       " [5.6, 3.0, 4.5, 1.5, 'I. versicolor'],\n",
       " [5.8, 2.7, 4.1, 1.0, 'I. versicolor'],\n",
       " [6.2, 2.2, 4.5, 1.5, 'I. versicolor'],\n",
       " [5.6, 2.5, 3.9, 1.1, 'I. versicolor'],\n",
       " [5.9, 3.2, 4.8, 1.8, 'I. versicolor'],\n",
       " [6.1, 2.8, 4.0, 1.3, 'I. versicolor'],\n",
       " [6.3, 2.5, 4.9, 1.5, 'I. versicolor'],\n",
       " [6.1, 2.8, 4.7, 1.2, 'I. versicolor'],\n",
       " [6.4, 2.9, 4.3, 1.3, 'I. versicolor'],\n",
       " [6.6, 3.0, 4.4, 1.4, 'I. versicolor'],\n",
       " [6.8, 2.8, 4.8, 1.4, 'I. versicolor'],\n",
       " [6.7, 3.0, 5.0, 1.7, 'I. versicolor'],\n",
       " [6.0, 2.9, 4.5, 1.5, 'I. versicolor'],\n",
       " [5.7, 2.6, 3.5, 1.0, 'I. versicolor'],\n",
       " [5.5, 2.4, 3.8, 1.1, 'I. versicolor'],\n",
       " [5.5, 2.4, 3.7, 1.0, 'I. versicolor'],\n",
       " [5.8, 2.7, 3.9, 1.2, 'I. versicolor'],\n",
       " [6.0, 2.7, 5.1, 1.6, 'I. versicolor'],\n",
       " [5.4, 3.0, 4.5, 1.5, 'I. versicolor'],\n",
       " [6.0, 3.4, 4.5, 1.6, 'I. versicolor'],\n",
       " [6.7, 3.1, 4.7, 1.5, 'I. versicolor'],\n",
       " [6.3, 2.3, 4.4, 1.3, 'I. versicolor'],\n",
       " [5.6, 3.0, 4.1, 1.3, 'I. versicolor'],\n",
       " [5.5, 2.5, 4.0, 1.3, 'I. versicolor'],\n",
       " [5.5, 2.6, 4.4, 1.2, 'I. versicolor'],\n",
       " [6.1, 3.0, 4.6, 1.4, 'I. versicolor'],\n",
       " [5.8, 2.6, 4.0, 1.2, 'I. versicolor'],\n",
       " [5.0, 2.3, 3.3, 1.0, 'I. versicolor'],\n",
       " [5.6, 2.7, 4.2, 1.3, 'I. versicolor'],\n",
       " [5.7, 3.0, 4.2, 1.2, 'I. versicolor'],\n",
       " [5.7, 2.9, 4.2, 1.3, 'I. versicolor'],\n",
       " [6.2, 2.9, 4.3, 1.3, 'I. versicolor'],\n",
       " [5.1, 2.5, 3.0, 1.1, 'I. versicolor'],\n",
       " [5.7, 2.8, 4.1, 1.3, 'I. versicolor'],\n",
       " [6.3, 3.3, 6.0, 2.5, 'I. virginica'],\n",
       " [5.8, 2.7, 5.1, 1.9, 'I. virginica'],\n",
       " [7.1, 3.0, 5.9, 2.1, 'I. virginica'],\n",
       " [6.3, 2.9, 5.6, 1.8, 'I. virginica'],\n",
       " [6.5, 3.0, 5.8, 2.2, 'I. virginica'],\n",
       " [7.6, 3.0, 6.6, 2.1, 'I. virginica'],\n",
       " [4.9, 2.5, 4.5, 1.7, 'I. virginica'],\n",
       " [7.3, 2.9, 6.3, 1.8, 'I. virginica'],\n",
       " [6.7, 2.5, 5.8, 1.8, 'I. virginica'],\n",
       " [7.2, 3.6, 6.1, 2.5, 'I. virginica'],\n",
       " [6.5, 3.2, 5.1, 2.0, 'I. virginica'],\n",
       " [6.4, 2.7, 5.3, 1.9, 'I. virginica'],\n",
       " [6.8, 3.0, 5.5, 2.1, 'I. virginica'],\n",
       " [5.7, 2.5, 5.0, 2.0, 'I. virginica'],\n",
       " [5.8, 2.8, 5.1, 2.4, 'I. virginica'],\n",
       " [6.4, 3.2, 5.3, 2.3, 'I. virginica'],\n",
       " [6.5, 3.0, 5.5, 1.8, 'I. virginica'],\n",
       " [7.7, 3.8, 6.7, 2.2, 'I. virginica'],\n",
       " [7.7, 2.6, 6.9, 2.3, 'I. virginica'],\n",
       " [6.0, 2.2, 5.0, 1.5, 'I. virginica'],\n",
       " [6.9, 3.2, 5.7, 2.3, 'I. virginica'],\n",
       " [5.6, 2.8, 4.9, 2.0, 'I. virginica'],\n",
       " [7.7, 2.8, 6.7, 2.0, 'I. virginica'],\n",
       " [6.3, 2.7, 4.9, 1.8, 'I. virginica'],\n",
       " [6.7, 3.3, 5.7, 2.1, 'I. virginica'],\n",
       " [7.2, 3.2, 6.0, 1.8, 'I. virginica'],\n",
       " [6.2, 2.8, 4.8, 1.8, 'I. virginica'],\n",
       " [6.1, 3.0, 4.9, 1.8, 'I. virginica'],\n",
       " [6.4, 2.8, 5.6, 2.1, 'I. virginica'],\n",
       " [7.2, 3.0, 5.8, 1.6, 'I. virginica'],\n",
       " [7.4, 2.8, 6.1, 1.9, 'I. virginica'],\n",
       " [7.9, 3.8, 6.4, 2.0, 'I. virginica'],\n",
       " [6.4, 2.8, 5.6, 2.2, 'I. virginica'],\n",
       " [6.3, 2.8, 5.1, 1.5, 'I. virginica'],\n",
       " [6.1, 2.6, 5.6, 1.4, 'I. virginica'],\n",
       " [6.3, 3.4, 5.6, 2.4, 'I. virginica'],\n",
       " [6.4, 3.1, 5.5, 1.8, 'I. virginica'],\n",
       " [6.0, 3.0, 4.8, 1.8, 'I. virginica'],\n",
       " [6.9, 3.1, 5.4, 2.1, 'I. virginica'],\n",
       " [6.7, 3.1, 5.6, 2.4, 'I. virginica'],\n",
       " [6.9, 3.1, 5.1, 2.3, 'I. virginica'],\n",
       " [5.8, 2.7, 5.1, 1.9, 'I. virginica'],\n",
       " [6.8, 3.2, 5.9, 2.3, 'I. virginica'],\n",
       " [6.7, 3.3, 5.7, 2.5, 'I. virginica'],\n",
       " [6.7, 3.0, 5.2, 2.3, 'I. virginica'],\n",
       " [6.3, 2.5, 5.0, 1.9, 'I. virginica'],\n",
       " [6.5, 3.0, 5.2, 2.0, 'I. virginica'],\n",
       " [6.2, 3.4, 5.4, 2.3, 'I. virginica'],\n",
       " [5.9, 3.0, 5.1, 1.8, 'I. virginica']]"
      ]
     },
     "execution_count": 98,
     "metadata": {},
     "output_type": "execute_result"
    }
   ],
   "source": [
    "data = [list(map(float, x[:4])) + [x[-1]]  for x in data]\n",
    "data"
   ]
  },
  {
   "cell_type": "markdown",
   "metadata": {},
   "source": [
    "Πόσα συνολικά species υπάρχουν;"
   ]
  },
  {
   "cell_type": "code",
   "execution_count": 99,
   "metadata": {},
   "outputs": [
    {
     "data": {
      "text/plain": [
       "{'I. setosa', 'I. versicolor', 'I. virginica'}"
      ]
     },
     "execution_count": 99,
     "metadata": {},
     "output_type": "execute_result"
    }
   ],
   "source": [
    "species = set([x[-1] for x in data])\n",
    "species"
   ]
  },
  {
   "cell_type": "markdown",
   "metadata": {},
   "source": [
    "Πόσα data έχουμε για κάθε species;"
   ]
  },
  {
   "cell_type": "code",
   "execution_count": 100,
   "metadata": {},
   "outputs": [
    {
     "data": {
      "text/plain": [
       "[('I. virginica', 49), ('I. setosa', 50), ('I. versicolor', 50)]"
      ]
     },
     "execution_count": 100,
     "metadata": {},
     "output_type": "execute_result"
    }
   ],
   "source": [
    "b = [(x, sum([y[-1]==x for y in data])) for x in species]\n",
    "b"
   ]
  },
  {
   "cell_type": "markdown",
   "metadata": {},
   "source": [
    "Αυτό μπορούμε να το μετατρέψουμε και σε dictionary"
   ]
  },
  {
   "cell_type": "code",
   "execution_count": 101,
   "metadata": {},
   "outputs": [
    {
     "data": {
      "text/plain": [
       "{'I. virginica': 49, 'I. setosa': 50, 'I. versicolor': 50}"
      ]
     },
     "execution_count": 101,
     "metadata": {},
     "output_type": "execute_result"
    }
   ],
   "source": [
    "dict(b)"
   ]
  },
  {
   "cell_type": "markdown",
   "metadata": {},
   "source": [
    "Ποιος είναι ο μέσος όρος του \"Sepal Length\" για όλα τα data;"
   ]
  },
  {
   "cell_type": "code",
   "execution_count": 102,
   "metadata": {},
   "outputs": [],
   "source": [
    "def average(x):\n",
    "    return sum(x)/len(x)"
   ]
  },
  {
   "cell_type": "code",
   "execution_count": 103,
   "metadata": {},
   "outputs": [
    {
     "data": {
      "text/plain": [
       "5.831543624161076"
      ]
     },
     "execution_count": 103,
     "metadata": {},
     "output_type": "execute_result"
    }
   ],
   "source": [
    "average([x[header.index('Sepal length')] for x in data])"
   ]
  },
  {
   "cell_type": "markdown",
   "metadata": {},
   "source": [
    "Ποιος είναι ο μέσος όρος του \"Sepal length\" για κάθε species ξεχωριστά;"
   ]
  },
  {
   "cell_type": "code",
   "execution_count": 104,
   "metadata": {},
   "outputs": [
    {
     "data": {
      "text/plain": [
       "[('I. virginica', 6.565306122448979),\n",
       " ('I. setosa', 5.007999999999999),\n",
       " ('I. versicolor', 5.936)]"
      ]
     },
     "execution_count": 104,
     "metadata": {},
     "output_type": "execute_result"
    }
   ],
   "source": [
    "[(x, average([y[0] for y in data if y[-1] == x])) for x in species]"
   ]
  },
  {
   "cell_type": "markdown",
   "metadata": {},
   "source": [
    "Πόσα \"Ι. setosa\" έχουν Petal length > 1.5 ;"
   ]
  },
  {
   "cell_type": "code",
   "execution_count": 105,
   "metadata": {},
   "outputs": [
    {
     "data": {
      "text/plain": [
       "13"
      ]
     },
     "execution_count": 105,
     "metadata": {},
     "output_type": "execute_result"
    }
   ],
   "source": [
    "sum([x[2] > 1.5 and x[-1] == 'I. setosa' for x in data])"
   ]
  },
  {
   "cell_type": "markdown",
   "metadata": {},
   "source": [
    "ή αλλιώς:"
   ]
  },
  {
   "cell_type": "code",
   "execution_count": 106,
   "metadata": {},
   "outputs": [
    {
     "data": {
      "text/plain": [
       "13"
      ]
     },
     "execution_count": 106,
     "metadata": {},
     "output_type": "execute_result"
    }
   ],
   "source": [
    "[x[2] > 1.5 and x[-1] == 'I. setosa' for x in data].count(True)"
   ]
  },
  {
   "cell_type": "markdown",
   "metadata": {},
   "source": [
    "Ή αλλιώς:"
   ]
  },
  {
   "cell_type": "code",
   "execution_count": 107,
   "metadata": {},
   "outputs": [
    {
     "data": {
      "text/plain": [
       "13"
      ]
     },
     "execution_count": 107,
     "metadata": {},
     "output_type": "execute_result"
    }
   ],
   "source": [
    "len([None for x in data if x[2] > 1.5 and x[-1] == 'I. setosa'])"
   ]
  },
  {
   "cell_type": "markdown",
   "metadata": {},
   "source": [
    "Ποια είναι αυτά;"
   ]
  },
  {
   "cell_type": "code",
   "execution_count": 108,
   "metadata": {},
   "outputs": [
    {
     "data": {
      "text/plain": [
       "[[5.4, 3.9, 1.7, 0.4, 'I. setosa'],\n",
       " [4.8, 3.4, 1.6, 0.2, 'I. setosa'],\n",
       " [5.7, 3.8, 1.7, 0.3, 'I. setosa'],\n",
       " [5.4, 3.4, 1.7, 0.2, 'I. setosa'],\n",
       " [5.1, 3.3, 1.7, 0.5, 'I. setosa'],\n",
       " [4.8, 3.4, 1.9, 0.2, 'I. setosa'],\n",
       " [5.0, 3.0, 1.6, 0.2, 'I. setosa'],\n",
       " [5.0, 3.4, 1.6, 0.4, 'I. setosa'],\n",
       " [4.7, 3.2, 1.6, 0.2, 'I. setosa'],\n",
       " [4.8, 3.1, 1.6, 0.2, 'I. setosa'],\n",
       " [5.0, 3.5, 1.6, 0.6, 'I. setosa'],\n",
       " [5.1, 3.8, 1.9, 0.4, 'I. setosa'],\n",
       " [5.1, 3.8, 1.6, 0.2, 'I. setosa']]"
      ]
     },
     "execution_count": 108,
     "metadata": {},
     "output_type": "execute_result"
    }
   ],
   "source": [
    "[x for x in data if x[2] > 1.5 and x[-1] == 'I. setosa']"
   ]
  },
  {
   "cell_type": "markdown",
   "metadata": {},
   "source": [
    "Ποια είναι τα indexes των παραπάνω (Ι. setosa που έχουν Petal length > 1.5)"
   ]
  },
  {
   "cell_type": "code",
   "execution_count": 109,
   "metadata": {},
   "outputs": [
    {
     "data": {
      "text/plain": [
       "[5, 11, 18, 20, 23, 24, 25, 26, 29, 30, 43, 44, 46]"
      ]
     },
     "execution_count": 109,
     "metadata": {},
     "output_type": "execute_result"
    }
   ],
   "source": [
    "[i for i,x in enumerate(data) if x[2]>1.5 and x[-1] == 'I. setosa']"
   ]
  },
  {
   "cell_type": "markdown",
   "metadata": {},
   "source": [
    "Ποιο είναι το minimum Sepal length για όλα;"
   ]
  },
  {
   "cell_type": "code",
   "execution_count": 110,
   "metadata": {},
   "outputs": [
    {
     "data": {
      "text/plain": [
       "[4.3, 3.0, 1.1, 0.1, 'I. setosa']"
      ]
     },
     "execution_count": 110,
     "metadata": {},
     "output_type": "execute_result"
    }
   ],
   "source": [
    "min(data, key=lambda x:x[header.index('Sepal length')])"
   ]
  },
  {
   "cell_type": "markdown",
   "metadata": {},
   "source": [
    "Που είναι το mimimum Sepal Length για όλα τα είδη;"
   ]
  },
  {
   "cell_type": "code",
   "execution_count": 111,
   "metadata": {},
   "outputs": [
    {
     "data": {
      "text/plain": [
       "[(4.9, [4.9, 2.5, 4.5, 1.7, 'I. virginica']),\n",
       " (4.3, [4.3, 3.0, 1.1, 0.1, 'I. setosa']),\n",
       " (4.9, [4.9, 2.4, 3.3, 1.0, 'I. versicolor'])]"
      ]
     },
     "execution_count": 111,
     "metadata": {},
     "output_type": "execute_result"
    }
   ],
   "source": [
    "[min([(y[0], y) for y in data if y[-1] == x]) for x in species]"
   ]
  },
  {
   "cell_type": "markdown",
   "metadata": {},
   "source": [
    "Ποιο είναι το index των παραπάνω;"
   ]
  },
  {
   "cell_type": "code",
   "execution_count": 112,
   "metadata": {},
   "outputs": [
    {
     "data": {
      "text/plain": [
       "[(4.9, [4.9, 2.5, 4.5, 1.7, 'I. virginica'], 106),\n",
       " (4.3, [4.3, 3.0, 1.1, 0.1, 'I. setosa'], 13),\n",
       " (4.9, [4.9, 2.4, 3.3, 1.0, 'I. versicolor'], 57)]"
      ]
     },
     "execution_count": 112,
     "metadata": {},
     "output_type": "execute_result"
    }
   ],
   "source": [
    "[min([(y[0], y, i) for i,y in enumerate(data) if y[-1] == x]) for x in species]"
   ]
  },
  {
   "cell_type": "markdown",
   "metadata": {},
   "source": [
    "Ποιο είναι το εύρος (δηλαδή το μικρότερο και το μεγαλύτερο) του \"Sepal Length\" για κάθε είδος ξεχωριστά;"
   ]
  },
  {
   "cell_type": "code",
   "execution_count": 113,
   "metadata": {},
   "outputs": [
    {
     "data": {
      "text/plain": [
       "(3, 9)"
      ]
     },
     "execution_count": 113,
     "metadata": {},
     "output_type": "execute_result"
    }
   ],
   "source": [
    "# Επιστρέφει το εύρος μίας λίστας\n",
    "def my_range(l):\n",
    "    return min(l), max(l)\n",
    "\n",
    "my_range([4,5,6,3,4,7,8,9])"
   ]
  },
  {
   "cell_type": "code",
   "execution_count": 114,
   "metadata": {},
   "outputs": [
    {
     "data": {
      "text/plain": [
       "[((4.9, 7.9), 'I. virginica'),\n",
       " ((4.3, 5.8), 'I. setosa'),\n",
       " ((4.9, 7.0), 'I. versicolor')]"
      ]
     },
     "execution_count": 114,
     "metadata": {},
     "output_type": "execute_result"
    }
   ],
   "source": [
    "[ (my_range([y[0] for y in data if y[-1] ==x]), x) for x in species]"
   ]
  },
  {
   "cell_type": "markdown",
   "metadata": {},
   "source": [
    "Ας βάλουμε και τα indexes των μικρότερων και μεγαλύτερων:"
   ]
  },
  {
   "cell_type": "code",
   "execution_count": 115,
   "metadata": {},
   "outputs": [
    {
     "data": {
      "text/plain": [
       "3"
      ]
     },
     "execution_count": 115,
     "metadata": {},
     "output_type": "execute_result"
    }
   ],
   "source": [
    "# Επιστρέφει το index του μεγαλύτερου στοιχείου\n",
    "def max_index(l):\n",
    "    return max(range(len(l)), key=lambda x : l[x])\n",
    "\n",
    "max_index([3,6,5,8,7])"
   ]
  },
  {
   "cell_type": "code",
   "execution_count": 116,
   "metadata": {},
   "outputs": [
    {
     "data": {
      "text/plain": [
       "0"
      ]
     },
     "execution_count": 116,
     "metadata": {},
     "output_type": "execute_result"
    }
   ],
   "source": [
    "# Επιστρέφει το index του μικρότερου στοιχείου\n",
    "def min_index(l):\n",
    "    return min(range(len(l)), key=lambda x : l[x])\n",
    "\n",
    "min_index([3,6,5,8,7])"
   ]
  },
  {
   "cell_type": "code",
   "execution_count": 117,
   "metadata": {},
   "outputs": [],
   "source": [
    "def my_range_2(l):\n",
    "    return 'min:{} min_index:{} max:{} max_index: {}'.format(\n",
    "        min(l), min_index(l), max(l), max_index(l)\n",
    "    )"
   ]
  },
  {
   "cell_type": "code",
   "execution_count": 118,
   "metadata": {},
   "outputs": [
    {
     "data": {
      "text/plain": [
       "[('min:4.9 min_index:6 max:7.9 max_index: 31', 'I. virginica'),\n",
       " ('min:4.3 min_index:13 max:5.8 max_index: 14', 'I. setosa'),\n",
       " ('min:4.9 min_index:7 max:7.0 max_index: 0', 'I. versicolor')]"
      ]
     },
     "execution_count": 118,
     "metadata": {},
     "output_type": "execute_result"
    }
   ],
   "source": [
    "[ (my_range_2([y[0] for y in data if y[-1] ==x]), x) for x in species]"
   ]
  },
  {
   "cell_type": "markdown",
   "metadata": {},
   "source": [
    "Ποιο dataset έχει το μεγαλύτερο εμβαδό sepal. Ως εμβαδό ορίζουμε το γινόμε Sepal width*Sepal length"
   ]
  },
  {
   "cell_type": "code",
   "execution_count": 119,
   "metadata": {},
   "outputs": [
    {
     "data": {
      "text/plain": [
       "(30.02, [7.9, 3.8, 6.4, 2.0, 'I. virginica'], 131)"
      ]
     },
     "execution_count": 119,
     "metadata": {},
     "output_type": "execute_result"
    }
   ],
   "source": [
    "max([(x[0]*x[1], x, i) for i,x in enumerate(data)])"
   ]
  },
  {
   "cell_type": "markdown",
   "metadata": {},
   "source": [
    "Ποιο dataset έχει το μεγαλύτερο εμβαδό για κάθε είδος;\n",
    "\n",
    "Φτιάχνουμε μία συνάρτηση η οποία παίρνει μία λίστα από data και υπολογίζει ποιο από αυτα έχει το μεγαλύτερο εμβαδό:"
   ]
  },
  {
   "cell_type": "code",
   "execution_count": 120,
   "metadata": {},
   "outputs": [],
   "source": [
    "f = lambda d : max([(x[0]*x[1], x, data.index(x)) for x in d])"
   ]
  },
  {
   "cell_type": "markdown",
   "metadata": {},
   "source": [
    "π.χ: από όλα τα data, το μεγαλύτερο εμβαδό το έχει:"
   ]
  },
  {
   "cell_type": "code",
   "execution_count": 121,
   "metadata": {},
   "outputs": [
    {
     "data": {
      "text/plain": [
       "(30.02, [7.9, 3.8, 6.4, 2.0, 'I. virginica'], 131)"
      ]
     },
     "execution_count": 121,
     "metadata": {},
     "output_type": "execute_result"
    }
   ],
   "source": [
    "f(data)"
   ]
  },
  {
   "cell_type": "markdown",
   "metadata": {},
   "source": [
    "Το εφαρμόζουμε για κάθε είδος ξεχωριστά:"
   ]
  },
  {
   "cell_type": "code",
   "execution_count": 122,
   "metadata": {},
   "outputs": [
    {
     "data": {
      "text/plain": [
       "[(30.02, [7.9, 3.8, 6.4, 2.0, 'I. virginica'], 131),\n",
       " (25.080000000000002, [5.7, 4.4, 1.5, 0.4, 'I. setosa'], 15),\n",
       " (22.400000000000002, [7.0, 3.2, 4.7, 1.4, 'I. versicolor'], 50)]"
      ]
     },
     "execution_count": 122,
     "metadata": {},
     "output_type": "execute_result"
    }
   ],
   "source": [
    "[f([y for y in data if y[-1] == x]) for x in species]"
   ]
  },
  {
   "cell_type": "code",
   "execution_count": null,
   "metadata": {},
   "outputs": [],
   "source": []
  },
  {
   "cell_type": "markdown",
   "metadata": {},
   "source": [
    "### Δημιουργία αρχείων\n",
    "Την προηγούμενη φορά είπαμε πως ανοίγουμε αρχεία:"
   ]
  },
  {
   "cell_type": "code",
   "execution_count": 87,
   "metadata": {},
   "outputs": [],
   "source": [
    "f=open('test.txt')\n",
    "f.read()\n",
    "f.close()"
   ]
  },
  {
   "cell_type": "markdown",
   "metadata": {},
   "source": [
    "Μπορούμε να δημιουργήσουμε ένα καινούργιο αρχείο:"
   ]
  },
  {
   "cell_type": "code",
   "execution_count": 88,
   "metadata": {},
   "outputs": [],
   "source": [
    "f=open('results.txt', 'w')"
   ]
  },
  {
   "cell_type": "markdown",
   "metadata": {},
   "source": [
    "Προσέχτε το ```'w'```.\n",
    "\n",
    "**Προσοχή!!! Αν το αρχείο ```results.txt``` υπάρχει ήδη τότε το διαγράφει!**\n",
    "\n",
    "Μπορούμε να κλείσουμε ένα αρχείο με τον ίδιο τρόπο:"
   ]
  },
  {
   "cell_type": "code",
   "execution_count": 90,
   "metadata": {},
   "outputs": [],
   "source": [
    "f.close()"
   ]
  },
  {
   "cell_type": "markdown",
   "metadata": {},
   "source": [
    "Σε ένα αρχείο αποθηκεύουμε μόνο string μεταβλητές με την ```f.write()```:"
   ]
  },
  {
   "cell_type": "code",
   "execution_count": 92,
   "metadata": {},
   "outputs": [],
   "source": [
    "f = open('results.txt', 'w')\n",
    "f.write('Hello world\\n')\n",
    "f.close()"
   ]
  },
  {
   "cell_type": "markdown",
   "metadata": {},
   "source": [
    "Επίσης μπορούμε να χρησιμοποιήσουμε την ```with```:"
   ]
  },
  {
   "cell_type": "code",
   "execution_count": 93,
   "metadata": {},
   "outputs": [],
   "source": [
    "a = \"Hello world!\"\n",
    "with open('results.txt', 'w') as f:\n",
    "    f.write(a)\n",
    "    f.write('\\n')"
   ]
  },
  {
   "cell_type": "markdown",
   "metadata": {},
   "source": [
    "Μπορούμε επίσης να χρησιμοποιήσουμε πολλές ```open``` μέσα στη ```with``` για να ανοίξουμε πολλά αρχεία. Για παράδειγμα η παρακάτω συνάρτηση αντιγράφει ένα αρχείο σε ένα άλλο:"
   ]
  },
  {
   "cell_type": "code",
   "execution_count": 95,
   "metadata": {},
   "outputs": [],
   "source": [
    "def my_copy(from_file, to_file):\n",
    "    with open(from_file) as f_from, open(to_file, 'w') as f_to:\n",
    "        data = f_from.read()\n",
    "        f_to.write(data)\n",
    "        \n",
    "my_copy('results.txt', 'new_results.txt')"
   ]
  },
  {
   "cell_type": "markdown",
   "metadata": {},
   "source": [
    "### Εκτέλεση μίας εντολής απο το jupyter:\n",
    "Γράφοντας τον χαρακτήρα ```!``` στην αρχή ενός κελιού στο jupyter, εκτελείται η εντολή που περιέχει:"
   ]
  },
  {
   "cell_type": "code",
   "execution_count": 97,
   "metadata": {},
   "outputs": [
    {
     "name": "stdout",
     "output_type": "stream",
     "text": [
      "new_results.txt results.txt\r\n"
     ]
    }
   ],
   "source": [
    "! ls results.txt new_results.txt"
   ]
  },
  {
   "cell_type": "code",
   "execution_count": 98,
   "metadata": {},
   "outputs": [
    {
     "name": "stdout",
     "output_type": "stream",
     "text": [
      "16:40  up 41 days,  6:09, 3 users, load averages: 1.44 1.58 1.59\r\n"
     ]
    }
   ],
   "source": [
    "! uptime"
   ]
  },
  {
   "cell_type": "markdown",
   "metadata": {},
   "source": [
    "### Η συνάρτηση ```zip```\n",
    "Με τη ```zip``` μπορούμε να 'ενώσουμε΄ δύο λίστες σε μία λίστα από υπολίστες:"
   ]
  },
  {
   "cell_type": "code",
   "execution_count": 99,
   "metadata": {},
   "outputs": [
    {
     "data": {
      "text/plain": [
       "[(1, 'a'), (2, 'b'), (3, 'c')]"
      ]
     },
     "execution_count": 99,
     "metadata": {},
     "output_type": "execute_result"
    }
   ],
   "source": [
    "list(zip([1,2,3], ['a', 'b', 'c']))"
   ]
  },
  {
   "cell_type": "markdown",
   "metadata": {},
   "source": [
    "Αυτό είναι χρήσιμο όταν θέλουμε να φτιάξουμε ένα dictionary όπου σε μία λίστα έχουμε τα κλειδιά και σε μία άλλη τις τιμές:"
   ]
  },
  {
   "cell_type": "code",
   "execution_count": 100,
   "metadata": {},
   "outputs": [
    {
     "data": {
      "text/plain": [
       "{1: 'a', 2: 'b', 3: 'c'}"
      ]
     },
     "execution_count": 100,
     "metadata": {},
     "output_type": "execute_result"
    }
   ],
   "source": [
    "dict(zip([1,2,3], ['a', 'b', 'c']))"
   ]
  },
  {
   "cell_type": "markdown",
   "metadata": {},
   "source": [
    "### Flatening\n",
    "Με το παρακάτω \"κόλπο\" μπορούμε να κάνουμε μία λίστα από λίστες , μία απλή λίστα:"
   ]
  },
  {
   "cell_type": "code",
   "execution_count": 102,
   "metadata": {},
   "outputs": [
    {
     "data": {
      "text/plain": [
       "[1, 2, 3, 4, 5, 6]"
      ]
     },
     "execution_count": 102,
     "metadata": {},
     "output_type": "execute_result"
    }
   ],
   "source": [
    "a=[[1,2], [3,4], [5,6]]\n",
    "[y for x in a for y in x]"
   ]
  },
  {
   "cell_type": "markdown",
   "metadata": {},
   "source": [
    "Για να κάνουμε το αντίθετο:"
   ]
  },
  {
   "cell_type": "code",
   "execution_count": 104,
   "metadata": {},
   "outputs": [
    {
     "data": {
      "text/plain": [
       "[[1, 2], [3, 4], [5, 6]]"
      ]
     },
     "execution_count": 104,
     "metadata": {},
     "output_type": "execute_result"
    }
   ],
   "source": [
    "a = [1,2,3,4,5,6]\n",
    "[[a[x], a[x+1]] for x in range(0, len(a), 2)]"
   ]
  }
 ],
 "metadata": {
  "kernelspec": {
   "display_name": "Python 3",
   "language": "python",
   "name": "python3"
  },
  "language_info": {
   "codemirror_mode": {
    "name": "ipython",
    "version": 3
   },
   "file_extension": ".py",
   "mimetype": "text/x-python",
   "name": "python",
   "nbconvert_exporter": "python",
   "pygments_lexer": "ipython3",
   "version": "3.8.5"
  }
 },
 "nbformat": 4,
 "nbformat_minor": 2
}
