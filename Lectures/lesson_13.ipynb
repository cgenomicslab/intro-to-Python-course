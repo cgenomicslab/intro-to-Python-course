{
 "cells": [
  {
   "cell_type": "markdown",
   "metadata": {},
   "source": [
    "# Conda\n",
    "\n",
    "Όταν ασχολείστε με πολλά projects σε python είναι βασικό κάθε project να είναι απομονομένο. Αυτό σημαίνει ότι κάθε project έχει τις δικές του βιβλιοθήκες, πακέτα python κτλ. Σε τεχνική ορολογία αυτό ονομάζεται virtualization ή αλλιώς ότι κάθε project \"τρέχει\" στο δικό του απομονομένο περιβάλλον. \n",
    "\n",
    "Υπάρχουν πολλά πακέτα σε python που προσφέρουν αυτή τη λειτουργικότητα. Για παράδειγμα:\n",
    "* [conda](https://docs.conda.io/en/latest/)\n",
    "* [virtualenv](https://virtualenv.pypa.io/en/latest/)\n",
    "* [pipenv](https://pipenv-fork.readthedocs.io/en/latest/)\n",
    "\n",
    "Εδώ θα ασχοληθούμε με το conda. Το conda \"έρχεται\" (δηλαδή εγκαθιστάται αυτόματα) όταν εγκαθιστάτε την anaconda. Για να τρέξετε conda θα πρέπει να βεβαιωθείτε ότι είναι εγκατεστημένο:\n"
   ]
  },
  {
   "cell_type": "code",
   "execution_count": 6,
   "metadata": {},
   "outputs": [
    {
     "name": "stdout",
     "output_type": "stream",
     "text": [
      "conda 4.5.11\r\n"
     ]
    }
   ],
   "source": [
    "!/Users/alexandroskanterakis/anaconda3/bin/conda -V"
   ]
  },
  {
   "cell_type": "markdown",
   "metadata": {},
   "source": [
    "Για να δείτε τα εικονικά περιβάλλοντα που υπάρχουν ήδη στον υπολογιστή σας τρέξτε:"
   ]
  },
  {
   "cell_type": "code",
   "execution_count": 10,
   "metadata": {},
   "outputs": [
    {
     "name": "stdout",
     "output_type": "stream",
     "text": [
      "# conda environments:\r\n",
      "#\r\n",
      "base                     /Users/alexandroskanterakis/anaconda3\r\n",
      "HLA_manos                /Users/alexandroskanterakis/anaconda3/envs/HLA_manos\r\n",
      "MutationInfo2            /Users/alexandroskanterakis/anaconda3/envs/MutationInfo2\r\n",
      "airflow_python           /Users/alexandroskanterakis/anaconda3/envs/airflow_python\r\n",
      "findbase_python          /Users/alexandroskanterakis/anaconda3/envs/findbase_python\r\n",
      "jacob_python             /Users/alexandroskanterakis/anaconda3/envs/jacob_python\r\n",
      "new_project           *  /Users/alexandroskanterakis/anaconda3/envs/new_project\r\n",
      "obc_python               /Users/alexandroskanterakis/anaconda3/envs/obc_python\r\n",
      "obc_validator            /Users/alexandroskanterakis/anaconda3/envs/obc_validator\r\n",
      "python_lesson            /Users/alexandroskanterakis/anaconda3/envs/python_lesson\r\n",
      "python_project           /Users/alexandroskanterakis/anaconda3/envs/python_project\r\n",
      "tsatsara_python          /Users/alexandroskanterakis/anaconda3/envs/tsatsara_python\r\n",
      "zazz_python              /Users/alexandroskanterakis/anaconda3/envs/zazz_python\r\n",
      "\r\n"
     ]
    }
   ],
   "source": [
    "!/Users/alexandroskanterakis/anaconda3/bin/conda info --envs"
   ]
  },
  {
   "cell_type": "markdown",
   "metadata": {},
   "source": [
    "ΠΡΟΣΟΧΗ! Τις παρακάτω εντολές τρέξετε \"έξω\" από το jupyter! Το jupyter \"τρέχει\" ήδη σε κάποια python του συστήματός σας!\n",
    "\n",
    "Μπορείτε να φτιάξετε ένα καινούργιο περιβάλλον με την εντολή:"
   ]
  },
  {
   "cell_type": "code",
   "execution_count": null,
   "metadata": {},
   "outputs": [],
   "source": [
    "!/Users/alexandroskanterakis/anaconda3/bin/conda create -n my_fabulous_project python=3.7"
   ]
  },
  {
   "cell_type": "markdown",
   "metadata": {},
   "source": [
    "Μπορείτε να αλλάξετε το όνομα (my_fabulous_project) ή την έκδοση της python (3.7) στην οποία θα βασίζεται\n",
    "\n",
    "Για να \"μπείτε\" ή αλλιώς να ενεργοποιήσετε το εικονικό περβάλλον μπορείτε να τρέξετε:"
   ]
  },
  {
   "cell_type": "code",
   "execution_count": null,
   "metadata": {},
   "outputs": [],
   "source": [
    "!source /Users/alexandroskanterakis/anaconda3/bin/activate my_fabulous_project"
   ]
  },
  {
   "cell_type": "markdown",
   "metadata": {},
   "source": [
    "Από τη στιγμή πυ μπείτε έχετε μία \"ανεξάρτητη\" έκδοση της python. Εκεί για παράδειγμα μπορείτε να βάλετε \"πακέτα\" τα οποία θα υπάρχουν μόνο σε αυτό το περιβάλλον. Για παράδειγμα μπορείτε να τρέξετε:"
   ]
  },
  {
   "cell_type": "code",
   "execution_count": null,
   "metadata": {},
   "outputs": [],
   "source": [
    "!pip install requests\n",
    "!pip install jupyter"
   ]
  },
  {
   "cell_type": "markdown",
   "metadata": {},
   "source": [
    "Αυτά τα πακέτα τώρα θα υπάρχουν μόνο στο περιβάλλον με τον όνομα my_fabuloys_project.\n",
    "\n",
    "Για να \"βγείτε\" από αυτό το περιβάλλον τρέξτε:"
   ]
  },
  {
   "cell_type": "code",
   "execution_count": null,
   "metadata": {},
   "outputs": [],
   "source": [
    "!source /Users/alexandroskanterakis/anaconda3/bin/deactivate "
   ]
  },
  {
   "cell_type": "markdown",
   "metadata": {},
   "source": [
    "Τέλος, για να διαγράψετε τελείως ένα περιβάλλον τρέξτε:"
   ]
  },
  {
   "cell_type": "code",
   "execution_count": null,
   "metadata": {},
   "outputs": [],
   "source": [
    "!/Users/alexandroskanterakis/anaconda3/bin/conda remove   --name my_fabuloys_project  --all"
   ]
  },
  {
   "cell_type": "markdown",
   "metadata": {},
   "source": [
    "Διαβάστε περισσότερα:\n",
    "* https://docs.conda.io/projects/conda/en/latest/user-guide/getting-started.html\n",
    "* https://en.wikipedia.org/wiki/Conda_(package_manager)\n"
   ]
  },
  {
   "cell_type": "markdown",
   "metadata": {},
   "source": [
    "# Django\n",
    "\n",
    "Το [Django](https://www.djangoproject.com/) ([wiki](https://en.wikipedia.org/wiki/Django_(web_framework) )) είναι ένα περιβάλλον σε python για ανάπτυξη web εφαρμογών το οποίο βασίζεται στο μοντέλο [Model View Controller](https://en.wikipedia.org/wiki/Model%E2%80%93view%E2%80%93controller). Για να το εγκαταστήσετε:"
   ]
  },
  {
   "cell_type": "code",
   "execution_count": 13,
   "metadata": {},
   "outputs": [
    {
     "name": "stdout",
     "output_type": "stream",
     "text": [
      "WARNING: pip is being invoked by an old script wrapper. This will fail in a future version of pip.\n",
      "Please see https://github.com/pypa/pip/issues/5599 for advice on fixing the underlying issue.\n",
      "To avoid this problem you can invoke Python with '-m pip' instead of running pip directly.\n",
      "Requirement already satisfied: django in /Users/alexandroskanterakis/anaconda3/envs/new_project/lib/python3.7/site-packages (3.0.2)\n",
      "Requirement already satisfied: asgiref~=3.2 in /Users/alexandroskanterakis/anaconda3/envs/new_project/lib/python3.7/site-packages (from django) (3.2.3)\n",
      "Requirement already satisfied: pytz in /Users/alexandroskanterakis/anaconda3/envs/new_project/lib/python3.7/site-packages (from django) (2019.3)\n",
      "Requirement already satisfied: sqlparse>=0.2.2 in /Users/alexandroskanterakis/anaconda3/envs/new_project/lib/python3.7/site-packages (from django) (0.3.0)\n"
     ]
    }
   ],
   "source": [
    "!pip install django"
   ]
  },
  {
   "cell_type": "markdown",
   "metadata": {},
   "source": [
    "Επιβαβαιώνουμε ότι έχει εγκατασταθεί σωστά:"
   ]
  },
  {
   "cell_type": "code",
   "execution_count": 34,
   "metadata": {},
   "outputs": [
    {
     "name": "stdout",
     "output_type": "stream",
     "text": [
      "3.0.2\r\n"
     ]
    }
   ],
   "source": [
    "!python -m django --version"
   ]
  },
  {
   "cell_type": "markdown",
   "metadata": {},
   "source": [
    "Ας φτιάξουμε ένα νέα site! \n",
    "\n",
    "Το site μας θα λέγεταια my_fabulous_site. Αρχικά φτιάχνουμε την αρχική δομή του project:"
   ]
  },
  {
   "cell_type": "code",
   "execution_count": 19,
   "metadata": {},
   "outputs": [],
   "source": [
    "!django-admin startproject my_fabulous_site"
   ]
  },
  {
   "cell_type": "markdown",
   "metadata": {},
   "source": [
    "Ένα site φτιαγμένο σε django έχει πολλα applications. Κάθε application αναπαριστάει ένα δομικό στοιχείο του site και έχει τη δική του βάση δεδομένων.  Ας φτιάξουμε ένα application με όνομα my_fabulous_app:"
   ]
  },
  {
   "cell_type": "code",
   "execution_count": 20,
   "metadata": {},
   "outputs": [],
   "source": [
    "%%bash\n",
    "cd my_fabulous_site\n",
    "python manage.py startapp my_fabulous_app"
   ]
  },
  {
   "cell_type": "markdown",
   "metadata": {},
   "source": [
    "Το αρχείο my_fabulous_site/settings.py περιέχει τις ρυθμίσεις όλου του site"
   ]
  },
  {
   "cell_type": "code",
   "execution_count": 8,
   "metadata": {},
   "outputs": [
    {
     "name": "stdout",
     "output_type": "stream",
     "text": [
      "\"\"\"\r\n",
      "Django settings for my_fabulous_site project.\r\n",
      "\r\n",
      "Generated by 'django-admin startproject' using Django 3.0.2.\r\n",
      "\r\n",
      "For more information on this file, see\r\n",
      "https://docs.djangoproject.com/en/3.0/topics/settings/\r\n",
      "\r\n",
      "For the full list of settings and their values, see\r\n",
      "https://docs.djangoproject.com/en/3.0/ref/settings/\r\n",
      "\"\"\"\r\n",
      "\r\n",
      "import os\r\n",
      "\r\n",
      "# Build paths inside the project like this: os.path.join(BASE_DIR, ...)\r\n",
      "BASE_DIR = os.path.dirname(os.path.dirname(os.path.abspath(__file__)))\r\n",
      "\r\n",
      "\r\n",
      "# Quick-start development settings - unsuitable for production\r\n",
      "# See https://docs.djangoproject.com/en/3.0/howto/deployment/checklist/\r\n",
      "\r\n",
      "# SECURITY WARNING: keep the secret key used in production secret!\r\n",
      "SECRET_KEY = '!c1^)8k+pp)e)4+==p&29v5v=dao*!)z!@d4s!m-jn@drsw_tj'\r\n",
      "\r\n",
      "# SECURITY WARNING: don't run with debug turned on in production!\r\n",
      "DEBUG = True\r\n",
      "\r\n",
      "ALLOWED_HOSTS = []\r\n",
      "\r\n",
      "\r\n",
      "# Application definition\r\n",
      "\r\n",
      "INSTALLED_APPS = [\r\n",
      "    'django.contrib.admin',\r\n",
      "    'django.contrib.auth',\r\n",
      "    'django.contrib.contenttypes',\r\n",
      "    'django.contrib.sessions',\r\n",
      "    'django.contrib.messages',\r\n",
      "    'django.contrib.staticfiles',\r\n",
      "]\r\n",
      "\r\n",
      "MIDDLEWARE = [\r\n",
      "    'django.middleware.security.SecurityMiddleware',\r\n",
      "    'django.contrib.sessions.middleware.SessionMiddleware',\r\n",
      "    'django.middleware.common.CommonMiddleware',\r\n",
      "    'django.middleware.csrf.CsrfViewMiddleware',\r\n",
      "    'django.contrib.auth.middleware.AuthenticationMiddleware',\r\n",
      "    'django.contrib.messages.middleware.MessageMiddleware',\r\n",
      "    'django.middleware.clickjacking.XFrameOptionsMiddleware',\r\n",
      "]\r\n",
      "\r\n",
      "ROOT_URLCONF = 'my_fabulous_site.urls'\r\n",
      "\r\n",
      "TEMPLATES = [\r\n",
      "    {\r\n",
      "        'BACKEND': 'django.template.backends.django.DjangoTemplates',\r\n",
      "        'DIRS': [],\r\n",
      "        'APP_DIRS': True,\r\n",
      "        'OPTIONS': {\r\n",
      "            'context_processors': [\r\n",
      "                'django.template.context_processors.debug',\r\n",
      "                'django.template.context_processors.request',\r\n",
      "                'django.contrib.auth.context_processors.auth',\r\n",
      "                'django.contrib.messages.context_processors.messages',\r\n",
      "            ],\r\n",
      "        },\r\n",
      "    },\r\n",
      "]\r\n",
      "\r\n",
      "WSGI_APPLICATION = 'my_fabulous_site.wsgi.application'\r\n",
      "\r\n",
      "\r\n",
      "# Database\r\n",
      "# https://docs.djangoproject.com/en/3.0/ref/settings/#databases\r\n",
      "\r\n",
      "DATABASES = {\r\n",
      "    'default': {\r\n",
      "        'ENGINE': 'django.db.backends.sqlite3',\r\n",
      "        'NAME': os.path.join(BASE_DIR, 'db.sqlite3'),\r\n",
      "    }\r\n",
      "}\r\n",
      "\r\n",
      "\r\n",
      "# Password validation\r\n",
      "# https://docs.djangoproject.com/en/3.0/ref/settings/#auth-password-validators\r\n",
      "\r\n",
      "AUTH_PASSWORD_VALIDATORS = [\r\n",
      "    {\r\n",
      "        'NAME': 'django.contrib.auth.password_validation.UserAttributeSimilarityValidator',\r\n",
      "    },\r\n",
      "    {\r\n",
      "        'NAME': 'django.contrib.auth.password_validation.MinimumLengthValidator',\r\n",
      "    },\r\n",
      "    {\r\n",
      "        'NAME': 'django.contrib.auth.password_validation.CommonPasswordValidator',\r\n",
      "    },\r\n",
      "    {\r\n",
      "        'NAME': 'django.contrib.auth.password_validation.NumericPasswordValidator',\r\n",
      "    },\r\n",
      "]\r\n",
      "\r\n",
      "\r\n",
      "# Internationalization\r\n",
      "# https://docs.djangoproject.com/en/3.0/topics/i18n/\r\n",
      "\r\n",
      "LANGUAGE_CODE = 'en-us'\r\n",
      "\r\n",
      "TIME_ZONE = 'UTC'\r\n",
      "\r\n",
      "USE_I18N = True\r\n",
      "\r\n",
      "USE_L10N = True\r\n",
      "\r\n",
      "USE_TZ = True\r\n",
      "\r\n",
      "\r\n",
      "# Static files (CSS, JavaScript, Images)\r\n",
      "# https://docs.djangoproject.com/en/3.0/howto/static-files/\r\n",
      "\r\n",
      "STATIC_URL = '/static/'\r\n"
     ]
    }
   ],
   "source": [
    "!cat my_fabulous_site/my_fabulous_site/settings.py "
   ]
  },
  {
   "cell_type": "markdown",
   "metadata": {},
   "source": [
    "Στο κομμάτι \n",
    "```python\n",
    "INSTALLED_APPS = [\n",
    "    'django.contrib.admin',\n",
    "    'django.contrib.auth',\n",
    "    'django.contrib.contenttypes',\n",
    "    'django.contrib.sessions',\n",
    "    'django.contrib.messages',\n",
    "    'django.contrib.staticfiles',\n",
    "]\n",
    "```\n",
    "περιέχει όλα τα applications που έχει το site. Ας προσθέσουμε και το my_fabulous_app:"
   ]
  },
  {
   "cell_type": "code",
   "execution_count": 21,
   "metadata": {},
   "outputs": [
    {
     "name": "stdout",
     "output_type": "stream",
     "text": [
      "Overwriting my_fabulous_site/my_fabulous_site/settings.py\n"
     ]
    }
   ],
   "source": [
    "%%writefile my_fabulous_site/my_fabulous_site/settings.py \n",
    "\n",
    "\"\"\"\n",
    "Django settings for my_fabulous_site project.\n",
    "\n",
    "Generated by 'django-admin startproject' using Django 3.0.2.\n",
    "\n",
    "For more information on this file, see\n",
    "https://docs.djangoproject.com/en/3.0/topics/settings/\n",
    "\n",
    "For the full list of settings and their values, see\n",
    "https://docs.djangoproject.com/en/3.0/ref/settings/\n",
    "\"\"\"\n",
    "\n",
    "import os\n",
    "\n",
    "# Build paths inside the project like this: os.path.join(BASE_DIR, ...)\n",
    "BASE_DIR = os.path.dirname(os.path.dirname(os.path.abspath(__file__)))\n",
    "\n",
    "\n",
    "# Quick-start development settings - unsuitable for production\n",
    "# See https://docs.djangoproject.com/en/3.0/howto/deployment/checklist/\n",
    "\n",
    "# SECURITY WARNING: keep the secret key used in production secret!\n",
    "SECRET_KEY = '!c1^)8k+pp)e)4+==p&29v5v=dao*!)z!@d4s!m-jn@drsw_tj'\n",
    "\n",
    "# SECURITY WARNING: don't run with debug turned on in production!\n",
    "DEBUG = True\n",
    "\n",
    "ALLOWED_HOSTS = []\n",
    "\n",
    "\n",
    "# Application definition\n",
    "\n",
    "INSTALLED_APPS = [\n",
    "    'django.contrib.admin',\n",
    "    'django.contrib.auth',\n",
    "    'django.contrib.contenttypes',\n",
    "    'django.contrib.sessions',\n",
    "    'django.contrib.messages',\n",
    "    'django.contrib.staticfiles',\n",
    "    \n",
    "    'my_fabulous_app',\n",
    "]\n",
    "\n",
    "MIDDLEWARE = [\n",
    "    'django.middleware.security.SecurityMiddleware',\n",
    "    'django.contrib.sessions.middleware.SessionMiddleware',\n",
    "    'django.middleware.common.CommonMiddleware',\n",
    "    'django.middleware.csrf.CsrfViewMiddleware',\n",
    "    'django.contrib.auth.middleware.AuthenticationMiddleware',\n",
    "    'django.contrib.messages.middleware.MessageMiddleware',\n",
    "    'django.middleware.clickjacking.XFrameOptionsMiddleware',\n",
    "]\n",
    "\n",
    "ROOT_URLCONF = 'my_fabulous_site.urls'\n",
    "\n",
    "TEMPLATES = [\n",
    "    {\n",
    "        'BACKEND': 'django.template.backends.django.DjangoTemplates',\n",
    "        'DIRS': [],\n",
    "        'APP_DIRS': True,\n",
    "        'OPTIONS': {\n",
    "            'context_processors': [\n",
    "                'django.template.context_processors.debug',\n",
    "                'django.template.context_processors.request',\n",
    "                'django.contrib.auth.context_processors.auth',\n",
    "                'django.contrib.messages.context_processors.messages',\n",
    "            ],\n",
    "        },\n",
    "    },\n",
    "]\n",
    "\n",
    "WSGI_APPLICATION = 'my_fabulous_site.wsgi.application'\n",
    "\n",
    "\n",
    "# Database\n",
    "# https://docs.djangoproject.com/en/3.0/ref/settings/#databases\n",
    "\n",
    "DATABASES = {\n",
    "    'default': {\n",
    "        'ENGINE': 'django.db.backends.sqlite3',\n",
    "        'NAME': os.path.join(BASE_DIR, 'db.sqlite3'),\n",
    "    }\n",
    "}\n",
    "\n",
    "\n",
    "# Password validation\n",
    "# https://docs.djangoproject.com/en/3.0/ref/settings/#auth-password-validators\n",
    "\n",
    "AUTH_PASSWORD_VALIDATORS = [\n",
    "    {\n",
    "        'NAME': 'django.contrib.auth.password_validation.UserAttributeSimilarityValidator',\n",
    "    },\n",
    "    {\n",
    "        'NAME': 'django.contrib.auth.password_validation.MinimumLengthValidator',\n",
    "    },\n",
    "    {\n",
    "        'NAME': 'django.contrib.auth.password_validation.CommonPasswordValidator',\n",
    "    },\n",
    "    {\n",
    "        'NAME': 'django.contrib.auth.password_validation.NumericPasswordValidator',\n",
    "    },\n",
    "]\n",
    "\n",
    "\n",
    "# Internationalization\n",
    "# https://docs.djangoproject.com/en/3.0/topics/i18n/\n",
    "\n",
    "LANGUAGE_CODE = 'en-us'\n",
    "\n",
    "TIME_ZONE = 'UTC'\n",
    "\n",
    "USE_I18N = True\n",
    "\n",
    "USE_L10N = True\n",
    "\n",
    "USE_TZ = True\n",
    "\n",
    "\n",
    "# Static files (CSS, JavaScript, Images)\n",
    "# https://docs.djangoproject.com/en/3.0/howto/static-files/\n",
    "\n",
    "STATIC_URL = '/static/'"
   ]
  },
  {
   "cell_type": "markdown",
   "metadata": {},
   "source": [
    "Πριν συνεχίσουμε θα πρέπει να αρχικοποιήσουμε τη βάση δεδομένων του site:"
   ]
  },
  {
   "cell_type": "code",
   "execution_count": 39,
   "metadata": {},
   "outputs": [
    {
     "name": "stdout",
     "output_type": "stream",
     "text": [
      "Operations to perform:\n",
      "  Apply all migrations: admin, auth, contenttypes, sessions\n",
      "Running migrations:\n",
      "  Applying contenttypes.0001_initial... OK\n",
      "  Applying auth.0001_initial... OK\n",
      "  Applying admin.0001_initial... OK\n",
      "  Applying admin.0002_logentry_remove_auto_add... OK\n",
      "  Applying admin.0003_logentry_add_action_flag_choices... OK\n",
      "  Applying contenttypes.0002_remove_content_type_name... OK\n",
      "  Applying auth.0002_alter_permission_name_max_length... OK\n",
      "  Applying auth.0003_alter_user_email_max_length... OK\n",
      "  Applying auth.0004_alter_user_username_opts... OK\n",
      "  Applying auth.0005_alter_user_last_login_null... OK\n",
      "  Applying auth.0006_require_contenttypes_0002... OK\n",
      "  Applying auth.0007_alter_validators_add_error_messages... OK\n",
      "  Applying auth.0008_alter_user_username_max_length... OK\n",
      "  Applying auth.0009_alter_user_last_name_max_length... OK\n",
      "  Applying auth.0010_alter_group_name_max_length... OK\n",
      "  Applying auth.0011_update_proxy_permissions... OK\n",
      "  Applying sessions.0001_initial... OK\n"
     ]
    }
   ],
   "source": [
    "%%bash\n",
    "cd my_fabulous_site\n",
    "python manage.py migrate"
   ]
  },
  {
   "cell_type": "markdown",
   "metadata": {},
   "source": [
    "Στο directory ```my_fabulous_site/my_fabulous_app/templates/my_fabulous_app``` Βάζουμε τις html σελίδες του site. Για αρκχή θα δημιοουργήσουμε αυτόν τον κατάλογο:"
   ]
  },
  {
   "cell_type": "code",
   "execution_count": 22,
   "metadata": {},
   "outputs": [],
   "source": [
    "!mkdir -p my_fabulous_site/my_fabulous_app/templates/my_fabulous_app"
   ]
  },
  {
   "cell_type": "markdown",
   "metadata": {},
   "source": [
    "Ας φτιάξουμε και μία html σελίδα την οποία θα ονομάσουμε first.html"
   ]
  },
  {
   "cell_type": "code",
   "execution_count": 23,
   "metadata": {},
   "outputs": [
    {
     "name": "stdout",
     "output_type": "stream",
     "text": [
      "Writing my_fabulous_site/my_fabulous_app/templates/my_fabulous_app/first.html\n"
     ]
    }
   ],
   "source": [
    "%%writefile my_fabulous_site/my_fabulous_app/templates/my_fabulous_app/first.html\n",
    "<html>\n",
    "  <head>\n",
    "    <title>My first page!</title>\n",
    "  </head>\n",
    "  <body>\n",
    "    <h1>Welcome!</h1>\n",
    "  </body>\n",
    "</html>\n"
   ]
  },
  {
   "cell_type": "markdown",
   "metadata": {},
   "source": [
    "Τώρα πρέπει να πούμε ότι όταν μπαίνουμε στο site μας στο url /fabulous_app , τότε θα πρέπει να μπαίνουμε στο application με το όνομα my_fabulous_app. Για να το κάνουμε αυτό πρέπει να κάνουμε edit το αρχείο  ```my_fabulous_site/my_fabulous_site/urls.py``` : "
   ]
  },
  {
   "cell_type": "code",
   "execution_count": 13,
   "metadata": {},
   "outputs": [
    {
     "name": "stdout",
     "output_type": "stream",
     "text": [
      "\"\"\"my_fabulous_site URL Configuration\r\n",
      "\r\n",
      "The `urlpatterns` list routes URLs to views. For more information please see:\r\n",
      "    https://docs.djangoproject.com/en/3.0/topics/http/urls/\r\n",
      "Examples:\r\n",
      "Function views\r\n",
      "    1. Add an import:  from my_app import views\r\n",
      "    2. Add a URL to urlpatterns:  path('', views.home, name='home')\r\n",
      "Class-based views\r\n",
      "    1. Add an import:  from other_app.views import Home\r\n",
      "    2. Add a URL to urlpatterns:  path('', Home.as_view(), name='home')\r\n",
      "Including another URLconf\r\n",
      "    1. Import the include() function: from django.urls import include, path\r\n",
      "    2. Add a URL to urlpatterns:  path('blog/', include('blog.urls'))\r\n",
      "\"\"\"\r\n",
      "from django.contrib import admin\r\n",
      "from django.urls import path\r\n",
      "\r\n",
      "urlpatterns = [\r\n",
      "    path('admin/', admin.site.urls),\r\n",
      "]\r\n"
     ]
    }
   ],
   "source": [
    "!cat my_fabulous_site/my_fabulous_site/urls.py"
   ]
  },
  {
   "cell_type": "code",
   "execution_count": 38,
   "metadata": {},
   "outputs": [
    {
     "name": "stdout",
     "output_type": "stream",
     "text": [
      "Overwriting my_fabulous_site/my_fabulous_site/urls.py\n"
     ]
    }
   ],
   "source": [
    "%%writefile my_fabulous_site/my_fabulous_site/urls.py\n",
    "\n",
    "\"\"\"my_fabulous_site URL Configuration\n",
    "\n",
    "The `urlpatterns` list routes URLs to views. For more information please see:\n",
    "    https://docs.djangoproject.com/en/3.0/topics/http/urls/\n",
    "Examples:\n",
    "Function views\n",
    "    1. Add an import:  from my_app import views\n",
    "    2. Add a URL to urlpatterns:  path('', views.home, name='home')\n",
    "Class-based views\n",
    "    1. Add an import:  from other_app.views import Home\n",
    "    2. Add a URL to urlpatterns:  path('', Home.as_view(), name='home')\n",
    "Including another URLconf\n",
    "    1. Import the include() function: from django.urls import include, path\n",
    "    2. Add a URL to urlpatterns:  path('blog/', include('blog.urls'))\n",
    "\"\"\"\n",
    "from django.contrib import admin\n",
    "from django.urls import path, include\n",
    "\n",
    "urlpatterns = [\n",
    "    path('admin/', admin.site.urls),\n",
    "    path('fabulous_app/', include('my_fabulous_app.urls')),\n",
    "]\n"
   ]
  },
  {
   "cell_type": "markdown",
   "metadata": {},
   "source": [
    "Τώρα θα πρέπει να πούμε ότι όταν μπαίνουμε στο application my_fabulous_app στο URL first_try (Δηλαδή: /fabulous_app/first_try) , θα πρέπει να τρέχει ο κώδικας που υπαρχει στο αρχείο views.py και συγκεκριμένα να τρέχει τη συνάρτηση first_view:"
   ]
  },
  {
   "cell_type": "code",
   "execution_count": 25,
   "metadata": {},
   "outputs": [
    {
     "name": "stdout",
     "output_type": "stream",
     "text": [
      "Writing my_fabulous_site/my_fabulous_app/urls.py\n"
     ]
    }
   ],
   "source": [
    "%%writefile my_fabulous_site/my_fabulous_app/urls.py\n",
    "\n",
    "from django.urls import path, re_path, include\n",
    "\n",
    "from . import views\n",
    "\n",
    "urlpatterns = [\n",
    "        path('first_try/', views.first_view),\n",
    "]\n"
   ]
  },
  {
   "cell_type": "markdown",
   "metadata": {},
   "source": [
    "Τώρα θα πρέπει να υλοποιήσουμε τη συνάρτηση first_view στο αρχείο views.py:"
   ]
  },
  {
   "cell_type": "code",
   "execution_count": 30,
   "metadata": {},
   "outputs": [
    {
     "name": "stdout",
     "output_type": "stream",
     "text": [
      "/Users/alexandroskanterakis/del\r\n"
     ]
    }
   ],
   "source": [
    "!pwd"
   ]
  },
  {
   "cell_type": "code",
   "execution_count": 41,
   "metadata": {},
   "outputs": [
    {
     "name": "stdout",
     "output_type": "stream",
     "text": [
      "Overwriting my_fabulous_site/my_fabulous_app/views.py\n"
     ]
    }
   ],
   "source": [
    "%%writefile my_fabulous_site/my_fabulous_app/views.py\n",
    "\n",
    "from django.shortcuts import render\n",
    "\n",
    "# Create your views here.\n",
    "def first_view(request):\n",
    "    \n",
    "    context = {}\n",
    "    return render(request, 'my_fabulous_app/first.html', context)\n"
   ]
  },
  {
   "cell_type": "markdown",
   "metadata": {},
   "source": [
    "Προς το παρών αυτή η συνάρτηση δεν κάνει τίποτα σπουδαίο. Απλά λέει ότι το view first_view θα επιστρέφει τη σελίδα first.html\n",
    "\n",
    "Ας το τρέξουμε! \n",
    "\n",
    "Από ένα command line (έξω από το jupyter) τρέχουμε:\n",
    "\n",
    "```bash\n",
    "cd my_fabulous_site\n",
    "python manage.py runserver\n",
    "```\n",
    "\n",
    "Θα πρέπει να δούμε ένα μήνυμα όπως:\n",
    "\n",
    "```text\n",
    "Watching for file changes with StatReloader\n",
    "Performing system checks...\n",
    "\n",
    "System check identified no issues (0 silenced).\n",
    "January 28, 2020 - 12:30:36\n",
    "Django version 3.0.2, using settings 'my_fabulous_site.settings'\n",
    "Starting development server at http://127.0.0.1:8000/\n",
    "Quit the server with CONTROL-C.\n",
    "```\n",
    "\n",
    "Τώρα μπορούμε να πάμε με τον browser μας στο: http://127.0.0.1:8000/fabulous_app/first_try/ και να δούμε το site μας να \"τρέχει\":\n",
    "\n",
    "![img](https://i.imgur.com/ulMcf5f.png)"
   ]
  },
  {
   "cell_type": "markdown",
   "metadata": {},
   "source": [
    "Ωραία. Ας κάνουμε το σάιτ να δείχνει την ώρα:"
   ]
  },
  {
   "cell_type": "code",
   "execution_count": 43,
   "metadata": {},
   "outputs": [
    {
     "name": "stdout",
     "output_type": "stream",
     "text": [
      "Overwriting my_fabulous_site/my_fabulous_app/views.py\n"
     ]
    }
   ],
   "source": [
    "%%writefile my_fabulous_site/my_fabulous_app/views.py\n",
    "\n",
    "from django.shortcuts import render\n",
    "\n",
    "import datetime \n",
    "\n",
    "# Create your views here.\n",
    "def first_view(request):\n",
    "\n",
    "    context = {\n",
    "        'now': str(datetime.datetime.now()),\n",
    "    }\n",
    "    return render(request, 'my_fabulous_app/first.html', context)"
   ]
  },
  {
   "cell_type": "code",
   "execution_count": 44,
   "metadata": {},
   "outputs": [
    {
     "name": "stdout",
     "output_type": "stream",
     "text": [
      "Overwriting my_fabulous_site/my_fabulous_app/templates/my_fabulous_app/first.html\n"
     ]
    }
   ],
   "source": [
    "%%writefile my_fabulous_site/my_fabulous_app/templates/my_fabulous_app/first.html\n",
    "<html>\n",
    "  <head>\n",
    "    <title>My first page!</title>\n",
    "  </head>\n",
    "  <body>\n",
    "    <h1>Welcome!</h1>\n",
    "    <h1>Time now is: {{now}} </ht>\n",
    "  </body>\n",
    "</html>\n"
   ]
  },
  {
   "cell_type": "markdown",
   "metadata": {},
   "source": [
    "![img](https://i.imgur.com/rPeNGK7.png)"
   ]
  },
  {
   "cell_type": "markdown",
   "metadata": {},
   "source": [
    "Ας προσθέσουμε στη βάση δεδομένων έναν πίνακα ο οποίος αναπαριστάει ανθρώπους με όνομα, επώνυμο και ηλικία:"
   ]
  },
  {
   "cell_type": "code",
   "execution_count": 46,
   "metadata": {},
   "outputs": [
    {
     "name": "stdout",
     "output_type": "stream",
     "text": [
      "Overwriting my_fabulous_site/my_fabulous_app/models.py\n"
     ]
    }
   ],
   "source": [
    "%%writefile my_fabulous_site/my_fabulous_app/models.py\n",
    "\n",
    "from django.db import models\n",
    "\n",
    "# Create your models here.\n",
    "\n",
    "class Person(models.Model):\n",
    "    name = models.CharField(max_length=100)\n",
    "    second_name = models.CharField(max_length=100)\n",
    "    age = models.IntegerField()\n",
    "    \n"
   ]
  },
  {
   "cell_type": "markdown",
   "metadata": {},
   "source": [
    "Κάθε φορά που κάνουμε κάποια αλαγή στο [σχήμα της βάσης](https://en.wikipedia.org/wiki/Database_schema) πρέπει να τρέχουμε:  "
   ]
  },
  {
   "cell_type": "code",
   "execution_count": 49,
   "metadata": {},
   "outputs": [
    {
     "name": "stdout",
     "output_type": "stream",
     "text": [
      "Migrations for 'my_fabulous_app':\n",
      "  my_fabulous_app/migrations/0001_initial.py\n",
      "    - Create model Person\n",
      "Operations to perform:\n",
      "  Apply all migrations: admin, auth, contenttypes, my_fabulous_app, sessions\n",
      "Running migrations:\n",
      "  Applying my_fabulous_app.0001_initial... OK\n"
     ]
    }
   ],
   "source": [
    "%%bash\n",
    "cd my_fabulous_site/\n",
    "python manage.py makemigrations\n",
    "python manage.py migrate"
   ]
  },
  {
   "cell_type": "markdown",
   "metadata": {},
   "source": [
    "Ας φτιάξουμε μία φόρμα όπου ο χρήστης θα μπορεί να εισάγει στοιχεία:"
   ]
  },
  {
   "cell_type": "code",
   "execution_count": 56,
   "metadata": {},
   "outputs": [
    {
     "name": "stdout",
     "output_type": "stream",
     "text": [
      "Overwriting my_fabulous_site/my_fabulous_app/forms.py\n"
     ]
    }
   ],
   "source": [
    "%%writefile my_fabulous_site/my_fabulous_app/forms.py\n",
    "\n",
    "from django import forms\n",
    "\n",
    "class PeopleForm(forms.Form):\n",
    "    name = forms.CharField(label='Your name', max_length=100)\n",
    "    second_name = forms.CharField(label='Your surname', max_length=100)\n",
    "    age = forms.IntegerField(label='Your age')\n"
   ]
  },
  {
   "cell_type": "markdown",
   "metadata": {},
   "source": [
    "Πρέπει να φτιάξουμε και την αντίστοιχη html σελίδα:"
   ]
  },
  {
   "cell_type": "code",
   "execution_count": 68,
   "metadata": {},
   "outputs": [
    {
     "name": "stdout",
     "output_type": "stream",
     "text": [
      "Overwriting my_fabulous_site/my_fabulous_app/templates/my_fabulous_app/second.html\n"
     ]
    }
   ],
   "source": [
    "%%writefile my_fabulous_site/my_fabulous_app/templates/my_fabulous_app/second.html\n",
    "<html>\n",
    "  <head>\n",
    "    <title>My first page!</title>\n",
    "  </head>\n",
    "  <body>\n",
    "    <form action=\"/fabulous_app/insert_name/\" method=\"post\">\n",
    "    {% csrf_token %}\n",
    "    <table>\n",
    "    {{form}}\n",
    "    </table>\n",
    "    <input type=\"submit\" value=\"Submit\">\n",
    "    </form>\n",
    "  </body>\n",
    "</html>"
   ]
  },
  {
   "cell_type": "markdown",
   "metadata": {},
   "source": [
    "[Τι είναι αυτό το csrf_token;](https://docs.djangoproject.com/en/3.0/ref/csrf/)\n",
    "\n",
    "Πρέπει να προσφέσουμε και ένα view για αυτό:"
   ]
  },
  {
   "cell_type": "code",
   "execution_count": 55,
   "metadata": {},
   "outputs": [
    {
     "name": "stdout",
     "output_type": "stream",
     "text": [
      "Overwriting my_fabulous_site/my_fabulous_app/views.py\n"
     ]
    }
   ],
   "source": [
    "%%writefile my_fabulous_site/my_fabulous_app/views.py\n",
    "\n",
    "from django.shortcuts import render\n",
    "\n",
    "from .forms import PeopleForm\n",
    "\n",
    "import datetime \n",
    "\n",
    "# Create your views here.\n",
    "def first_view(request):\n",
    "\n",
    "    context = {\n",
    "        'now': str(datetime.datetime.now()),\n",
    "    }\n",
    "    return render(request, 'my_fabulous_app/first.html', context)\n",
    "\n",
    "def new_people_view(request):\n",
    "    context = {\n",
    "        'form' : PeopleForm(),\n",
    "    }\n",
    "    return render(request, 'my_fabulous_app/second.html', context)\n"
   ]
  },
  {
   "cell_type": "markdown",
   "metadata": {},
   "source": [
    "Και επίσης μία καινούργια εγγραφή στα URLs:"
   ]
  },
  {
   "cell_type": "code",
   "execution_count": 58,
   "metadata": {},
   "outputs": [
    {
     "name": "stdout",
     "output_type": "stream",
     "text": [
      "Overwriting my_fabulous_site/my_fabulous_app/urls.py\n"
     ]
    }
   ],
   "source": [
    "%%writefile my_fabulous_site/my_fabulous_app/urls.py\n",
    "\n",
    "from django.urls import path, include\n",
    "\n",
    "from . import views\n",
    "\n",
    "urlpatterns = [\n",
    "        path('first_try/', views.first_view),\n",
    "        path('add_people/', views.new_people_view),\n",
    "]\n"
   ]
  },
  {
   "cell_type": "markdown",
   "metadata": {},
   "source": [
    "Μπορούμε να δούμε τη φόρμα τώρα εδώ: http://127.0.0.1:8000/fabulous_app/add_people/ "
   ]
  },
  {
   "cell_type": "markdown",
   "metadata": {},
   "source": [
    "![img](https://i.imgur.com/Wi2iLsC.png)"
   ]
  },
  {
   "cell_type": "markdown",
   "metadata": {},
   "source": [
    "Όταν πατήσουμε το submit, σε αυτή τη σελίδα θα μας \"πάει\" στη σελίδα \"insert_name/\" οπότε πρέπει να μπει άλλο ένα view για αυτό. Επίσης σε αυτό το view θα γίνεται και η καταχώρηση των στοιχείων της φόρμας στη βάση: "
   ]
  },
  {
   "cell_type": "code",
   "execution_count": 74,
   "metadata": {},
   "outputs": [
    {
     "name": "stdout",
     "output_type": "stream",
     "text": [
      "Overwriting my_fabulous_site/my_fabulous_app/views.py\n"
     ]
    }
   ],
   "source": [
    "%%writefile my_fabulous_site/my_fabulous_app/views.py\n",
    "\n",
    "from django.shortcuts import render\n",
    "\n",
    "from my_fabulous_app.models import Person\n",
    "\n",
    "from .forms import PeopleForm\n",
    "\n",
    "import datetime \n",
    "\n",
    "# Create your views here.\n",
    "def first_view(request):\n",
    "\n",
    "    context = {\n",
    "        'now': str(datetime.datetime.now()),\n",
    "    }\n",
    "    return render(request, 'my_fabulous_app/first.html', context)\n",
    "\n",
    "def new_people_view(request):\n",
    "    context = {\n",
    "        'form' : PeopleForm(),\n",
    "    }\n",
    "    return render(request, 'my_fabulous_app/second.html', context)\n",
    "\n",
    "def insert_name_view(request):\n",
    "    form = PeopleForm(request.POST)\n",
    "    name = form.data['name']\n",
    "    second_name = form.data['second_name']\n",
    "    age = form.data['age']\n",
    "    \n",
    "    # Store in database\n",
    "    new_person = Person(name=name, second_name=second_name, age=age)\n",
    "    return render(request, 'my_fabulous_app/third.html', {})\n",
    "\n"
   ]
  },
  {
   "cell_type": "markdown",
   "metadata": {},
   "source": [
    "Και επίσης πρέπει να ανανεώσουμε και το urls.py:"
   ]
  },
  {
   "cell_type": "code",
   "execution_count": 71,
   "metadata": {},
   "outputs": [
    {
     "name": "stdout",
     "output_type": "stream",
     "text": [
      "Overwriting my_fabulous_site/my_fabulous_app/urls.py\n"
     ]
    }
   ],
   "source": [
    "%%writefile my_fabulous_site/my_fabulous_app/urls.py\n",
    "\n",
    "from django.urls import path, include\n",
    "\n",
    "from . import views\n",
    "\n",
    "urlpatterns = [\n",
    "        path('first_try/', views.first_view),\n",
    "        path('add_people/', views.new_people_view),\n",
    "        path('insert_name/', views.insert_name_view),\n",
    "]\n"
   ]
  },
  {
   "cell_type": "markdown",
   "metadata": {},
   "source": [
    "Καθώς επίσης και να φτιάξουμε τη σελίδα success.txt:"
   ]
  },
  {
   "cell_type": "code",
   "execution_count": 75,
   "metadata": {},
   "outputs": [
    {
     "name": "stdout",
     "output_type": "stream",
     "text": [
      "Writing my_fabulous_site/my_fabulous_app/templates/my_fabulous_app/third.html\n"
     ]
    }
   ],
   "source": [
    "%%writefile my_fabulous_site/my_fabulous_app/templates/my_fabulous_app/third.html\n",
    "<html>\n",
    "  <head>\n",
    "    <title>My first page!</title>\n",
    "  </head>\n",
    "  <body>\n",
    "    <h1>Success!</h1>\n",
    "  </body>\n",
    "</html>"
   ]
  },
  {
   "cell_type": "markdown",
   "metadata": {},
   "source": [
    "Τώρα, πατήσουμε το submit εμφνανίζεται ένα μήνυμα Success:\n",
    "\n",
    "![img](https://i.imgur.com/dLmFT7b.png)"
   ]
  },
  {
   "cell_type": "markdown",
   "metadata": {},
   "source": [
    "Τέλος μπορούμε να ζητήσουμε να τυπώσει μία λίστα με όλα τα πρόσωπα:"
   ]
  },
  {
   "cell_type": "code",
   "execution_count": 80,
   "metadata": {},
   "outputs": [
    {
     "name": "stdout",
     "output_type": "stream",
     "text": [
      "Overwriting my_fabulous_site/my_fabulous_app/templates/my_fabulous_app/forth.html\n"
     ]
    }
   ],
   "source": [
    "%%writefile my_fabulous_site/my_fabulous_app/templates/my_fabulous_app/forth.html\n",
    "<html>\n",
    "  <head>\n",
    "    <title>My first page!</title>\n",
    "  </head>\n",
    "  <body>\n",
    "    <h1>List with all people</h1>\n",
    "    <ul>\n",
    "        {% for person in person_list %}\n",
    "            <li>{{ person.name }} {{person.second_name}} {{person.age}} </li>\n",
    "        {% endfor %}\n",
    "    </ul>\n",
    "  </body>\n",
    "</html>"
   ]
  },
  {
   "cell_type": "markdown",
   "metadata": {},
   "source": [
    "Παρατηρήστε ότι μπορούμε να κάνουμε iterate μέσα στη html! [Διαβάστε εδώ για περισσότερα](https://docs.djangoproject.com/en/3.0/ref/templates/language/)"
   ]
  },
  {
   "cell_type": "code",
   "execution_count": 83,
   "metadata": {},
   "outputs": [
    {
     "name": "stdout",
     "output_type": "stream",
     "text": [
      "Overwriting my_fabulous_site/my_fabulous_app/views.py\n"
     ]
    }
   ],
   "source": [
    "%%writefile my_fabulous_site/my_fabulous_app/views.py\n",
    "\n",
    "from django.shortcuts import render\n",
    "\n",
    "from my_fabulous_app.models import Person\n",
    "\n",
    "from .forms import PeopleForm\n",
    "\n",
    "import datetime \n",
    "\n",
    "# Create your views here.\n",
    "def first_view(request):\n",
    "\n",
    "    context = {\n",
    "        'now': str(datetime.datetime.now()),\n",
    "    }\n",
    "    return render(request, 'my_fabulous_app/first.html', context)\n",
    "\n",
    "def new_people_view(request):\n",
    "    context = {\n",
    "        'form' : PeopleForm(),\n",
    "    }\n",
    "    return render(request, 'my_fabulous_app/second.html', context)\n",
    "\n",
    "def insert_name_view(request):\n",
    "    form = PeopleForm(request.POST)\n",
    "    name = form.data['name']\n",
    "    second_name = form.data['second_name']\n",
    "    age = form.data['age']\n",
    "    \n",
    "    # Store in database\n",
    "    new_person = Person(name=name, second_name=second_name, age=age)\n",
    "    new_person.save()\n",
    "    \n",
    "    return render(request, 'my_fabulous_app/third.html', {})\n",
    "\n",
    "def all_names_view(request):\n",
    "    person_list = Person.objects.all()\n",
    "    context = {\n",
    "        'person_list': person_list,\n",
    "    }\n",
    "    \n",
    "    \n",
    "    print (person_list)\n",
    "    return render(request, 'my_fabulous_app/forth.html', context)"
   ]
  },
  {
   "cell_type": "code",
   "execution_count": 79,
   "metadata": {},
   "outputs": [
    {
     "name": "stdout",
     "output_type": "stream",
     "text": [
      "Overwriting my_fabulous_site/my_fabulous_app/urls.py\n"
     ]
    }
   ],
   "source": [
    "%%writefile my_fabulous_site/my_fabulous_app/urls.py\n",
    "\n",
    "from django.urls import path, include\n",
    "\n",
    "from . import views\n",
    "\n",
    "urlpatterns = [\n",
    "        path('first_try/', views.first_view),\n",
    "        path('add_people/', views.new_people_view),\n",
    "        path('insert_name/', views.insert_name_view),\n",
    "        path('all_names/', views.all_names_view),\n",
    "]\n"
   ]
  },
  {
   "cell_type": "markdown",
   "metadata": {},
   "source": [
    "Τώρα αν προσθέσουμε μερικά άτομα και πάμε στη σελίδα: http://127.0.0.1:8000/fabulous_app/all_names/ θα δούμε μία λίστα με όλα τα άτομα που προσθέσαμε:\n",
    "\n",
    "![img](https://i.imgur.com/OWN2fCt.png)"
   ]
  },
  {
   "cell_type": "markdown",
   "metadata": {},
   "source": [
    "Αυτή ήταν μία πάρα πολύ συνοπτική παρουσίαση του django. Αν ενδιαφέρεστε μπορείτε να διαβάσετε περισσότερα:\n",
    "* [Getting started and tutorials](https://docs.djangoproject.com/en/3.0/intro/)\n",
    "* [Main Django concepts and topics](https://docs.djangoproject.com/en/3.0/topics/)\n",
    "* [Official documentation](https://docs.djangoproject.com/en/3.0/)\n"
   ]
  }
 ],
 "metadata": {
  "kernelspec": {
   "display_name": "Python 3",
   "language": "python",
   "name": "python3"
  },
  "language_info": {
   "codemirror_mode": {
    "name": "ipython",
    "version": 3
   },
   "file_extension": ".py",
   "mimetype": "text/x-python",
   "name": "python",
   "nbconvert_exporter": "python",
   "pygments_lexer": "ipython3",
   "version": "3.7.0"
  }
 },
 "nbformat": 4,
 "nbformat_minor": 4
}
