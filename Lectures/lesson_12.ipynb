{
 "cells": [
  {
   "cell_type": "markdown",
   "metadata": {},
   "source": [
    "# Προγραμματισμός με τη γλώσσα python\n",
    "### Alexandros Kanterakis [kantale@ics.forth.gr](kantale@ics.forth.gr)\n",
    "\n",
    "### Διάλεξη 12η, Τρίτη  21 Ιανουαρίου 2020\n",
    "\n",
    "\n",
    "Ας δούμε αυτό το tweet: https://twitter.com/meganinlisbon/status/1101870079858409478\n",
    "        \n",
    "```\n",
    "I presented the math for this at the #cosyne19 diversity lunch today. \n",
    "\n",
    "Success rates for first authors with known gender: \n",
    "Female: 83/264 accepted = 31.4%\n",
    "Male: 255/677 accepted = 37.7%\n",
    "\n",
    "37.7/31.4 = a 20% higher success rate for men\n",
    "```"
   ]
  },
  {
   "cell_type": "markdown",
   "metadata": {},
   "source": [
    "Άραγε υπήρχε όντως κάποια προκατάληψη ενάντια στις γυναίκες κατά τη κρίση των δημοσιεύσεων σε αυτό το συνέδριο;\n",
    "\n",
    "Για να το λύσουμε αυτό πρέπει να κάνουμε τον εξής συλλογισμό: \n",
    "\n",
    "Είτε υπάρχει όντως προκατάληψη είτε το αποτέλεσμα αυτό βγήκε κατά τύχη! Οπότε πρέπει να υπολογίσουμε τη πιθανότητα αυτή η ανισορροπία στα ποσοστά να \"βγήκε\" κατά τύχη. Εδώ όμως υπάρχει ένα πρόβλημα: Το να βρούμε τη πιθανότητα δεν είναι αρκετό. Για παράδειγμα ας υποθέσουμε ότι βρίσκουμε ότι η πιθανότητα αυτή είναι 10%. Υπάρχει προκατάληψη ή δεν υπάρχει; Πρέπει λοιπόν να ορίσουμε ένα όριο και να πούμε ότι αν η πιθανότητα που θα βρούμε είναι μικρότερη από αυτό το όριο τότε δεν δεχόμαστε ότι αυτή η ανισορροπία βγήκε κατά τύχη. Αυτό το όριο το ονομάζουμε significance level και συνήθως συμβολίζεται με α.\n",
    "\n",
    "Μερικά πράγματα για το significance level:\n",
    "* Παραδοσιακά στις ιατρικές επιστήμες χρησιμοποιούμε το α=0.05\n",
    "* Μεθοδολογικά, το α πρέπει να οριστεί κατα τον σχηματισμό της υπόθεσης την οποία ερευνούμε (π.χ. υπάρχει προκατάληψη;). Αυτός/αυτή που θα ορίσει το α δεν πρέπει να έχει \"δει\" τα δεδομένα πριν (αλλά και κανένα είδος ανάλυσης επί των δεδομένων)! \n",
    "* Υπάρχει μια τεράστια συζήτηση τα τελευταία χρόνια για το αν πρέπει το α να είναι μικρότερο (έχει προταθεί το α=0.005) ή να μην ορίζεται μια σταθερά για όλους, αλλά μια σταθερά για κάθε είδος έρευνας.\n",
    "* Διαβάστε: https://en.wikipedia.org/wiki/Statistical_significance και κυρίως το κεφάλαιο \"[Challenges](https://en.wikipedia.org/w/index.php?title=Statistical_significance&action=edit&section=8)\".\n",
    "\n",
    "Τι σημαίνει όμως αυτό το α=0.05; Ας το αναλύσουμε λίγο περισσότερο. Ακούμε στη καθημερινότητά μας προτάσεις όπως \"κάθε φορά που βγαίνω χωρίς ομπρέλα βρέχει!\", \"το λεωφορείο έρχεται μόλις ανάβω τσιγάρο!\", \"αυτός ο διατητής μας αδικεί. Κάθε φορά που έχουμε αυτόν/αυτήν χάνουμε!\", \"κλασσικά τη πρωτοχρονιά έχουμε πολλά συνεχόμενα jack-pot στο joker\". Όλα αυτά τα λέμε από παρατηρήσεις που οφείλονται είτε σε πραγματικά φαινόμενα είτε στη τυχαιότητα. [Διαβάστε σχετικά και το βιβλίο Fooled by Randomness](https://en.wikipedia.org/wiki/Fooled_by_Randomness). Για να κάνουμε λοιπόν αυτή τη διάκριση (μεταξύ τυχαίου και πραγματικού) λέμε: \"αν η πιθανότητα το φαινόμενο που έχεις παρατηρήσει, να συμβαίνει στη τύχη είναι μικρότερη από 5%, τότε το φαινόμενο είναι πραγματικό!\". \n",
    "\n",
    "Πάμε λοιπόν να μελετήσουμε το δεδομένα από το tweet.\n",
    "\n",
    "Για αρχή ας υπολογίσουμε τα ποσοστά των accepted papers για τους άνδρες και τις γυναίκες"
   ]
  },
  {
   "cell_type": "code",
   "execution_count": 1,
   "metadata": {},
   "outputs": [],
   "source": [
    "import random"
   ]
  },
  {
   "cell_type": "code",
   "execution_count": 204,
   "metadata": {},
   "outputs": [
    {
     "name": "stdout",
     "output_type": "stream",
     "text": [
      "Total: 941\n",
      "pass_total: 338\n",
      "w_conf: 0.3143939393939394\n",
      "m_conf: 0.3766617429837518\n",
      "Percentage difference: 0.06226780358981243\n"
     ]
    }
   ],
   "source": [
    "significance_threshold = 0.05\n",
    "\n",
    "f_pass = 83\n",
    "f_total = 264\n",
    "f_rejected = f_total-f_pass\n",
    "m_pass  = 255\n",
    "m_total = 677\n",
    "m_rejected = m_total-m_pass\n",
    "\n",
    "\n",
    "\n",
    "pass_total = f_pass + m_pass\n",
    "rejected_total = f_rejected + m_rejected\n",
    "total = f_total + m_total\n",
    "\n",
    "print ('Total:', total)\n",
    "print ('pass_total:', pass_total)\n",
    "w_conf = f_pass/f_total\n",
    "m_conf = m_pass/m_total\n",
    "print ('w_conf:', w_conf)\n",
    "print ('m_conf:', m_conf)\n",
    "found_difference = m_conf-w_conf\n",
    "print ('Percentage difference:', found_difference)"
   ]
  },
  {
   "cell_type": "markdown",
   "metadata": {},
   "source": [
    "Τώρα ας υποθέσουμε ότι δεν υπάρχει καμία προκατάληψη. Φτιάχνουμε έναν πίνακα με όλα τα papers. Όπου θα βάλουμε ότι πέρασαν pass_total και ότι απορίφθηκαν rejected_total:"
   ]
  },
  {
   "cell_type": "code",
   "execution_count": 199,
   "metadata": {},
   "outputs": [],
   "source": [
    "papers = [True]*pass_total +  [False]*rejected_total"
   ]
  },
  {
   "cell_type": "markdown",
   "metadata": {},
   "source": [
    "Ας ανακατέψουμε τυχαία αυτόν τον πίνακα!"
   ]
  },
  {
   "cell_type": "code",
   "execution_count": 200,
   "metadata": {},
   "outputs": [],
   "source": [
    "random.shuffle(papers)"
   ]
  },
  {
   "cell_type": "markdown",
   "metadata": {},
   "source": [
    "Ας υποθέοσυμε τώρα ότι τα πρώτα 264 τα έστειλαν οι γυναίκες και τα υπόλοιπα 677 οι άντρες. Αφού ο πίνακας papers έχει ανακατευτεί δεν έχει νόημα ποιον θα βάλουμε πρώτο ή δεύτερο."
   ]
  },
  {
   "cell_type": "code",
   "execution_count": 201,
   "metadata": {},
   "outputs": [],
   "source": [
    "women_send = papers[:f_total]\n",
    "male_send = papers[f_total:]"
   ]
  },
  {
   "cell_type": "markdown",
   "metadata": {},
   "source": [
    "Ας μετρήσουμε τώρα τα ποσοστά επιτυχίας των ανδρών και των γυναικών:"
   ]
  },
  {
   "cell_type": "code",
   "execution_count": 202,
   "metadata": {},
   "outputs": [
    {
     "name": "stdout",
     "output_type": "stream",
     "text": [
      "perc_women: 0.36363636363636365\n",
      "perc_men: 0.35745937961595275\n"
     ]
    }
   ],
   "source": [
    "perc_women = sum(women_send)/len(women_send)\n",
    "perc_men = sum(male_send)/len(male_send)\n",
    "print ('perc_women:', perc_women)\n",
    "print ('perc_men:', perc_men)"
   ]
  },
  {
   "cell_type": "markdown",
   "metadata": {},
   "source": [
    "Ποια είναι η διαφορά στα ποσοστά που βρήκαμε;"
   ]
  },
  {
   "cell_type": "code",
   "execution_count": 205,
   "metadata": {},
   "outputs": [
    {
     "data": {
      "text/plain": [
       "-0.006176984020410892"
      ]
     },
     "execution_count": 205,
     "metadata": {},
     "output_type": "execute_result"
    }
   ],
   "source": [
    "difference = perc_men-perc_women\n",
    "difference"
   ]
  },
  {
   "cell_type": "markdown",
   "metadata": {},
   "source": [
    "Θυμηθείτε ότι η διαφορά που παρατηρήσαμε εμείς είναι:"
   ]
  },
  {
   "cell_type": "code",
   "execution_count": 206,
   "metadata": {},
   "outputs": [
    {
     "data": {
      "text/plain": [
       "0.06226780358981243"
      ]
     },
     "execution_count": 206,
     "metadata": {},
     "output_type": "execute_result"
    }
   ],
   "source": [
    "found_difference"
   ]
  },
  {
   "cell_type": "markdown",
   "metadata": {},
   "source": [
    "Ποια είναι η πιθανότητα το difference να είναι μεγαλύτερο από το found_difference; Δηλαδή ποια είναι η πιθανότητα να βρούμε αυτή τη διαφορά στα ποσοστά κατά τύχη. Ας τρέξουμε το παραπάνω πείραμε 100.000 φορές και ας το μετρήσουμε!"
   ]
  },
  {
   "cell_type": "code",
   "execution_count": 211,
   "metadata": {},
   "outputs": [
    {
     "data": {
      "text/plain": [
       "0.04288"
      ]
     },
     "execution_count": 211,
     "metadata": {},
     "output_type": "execute_result"
    }
   ],
   "source": [
    "papers = [True]*pass_total +  [False]*rejected_total\n",
    "def f():\n",
    "    random.shuffle(papers)\n",
    "    women_send = papers[:f_total]\n",
    "    male_send = papers[f_total:]\n",
    "    \n",
    "    perc_women = sum(women_send)/len(women_send)\n",
    "    perc_men = sum(male_send)/len(male_send)\n",
    "    \n",
    "    difference = perc_men-perc_women\n",
    "    \n",
    "    return difference >= found_difference\n",
    "\n",
    "STEPS=100000\n",
    "sum(1 for x in range(STEPS) if f())/STEPS"
   ]
  },
  {
   "cell_type": "markdown",
   "metadata": {},
   "source": [
    "Ας αναλύσουμε λίγο τι είναι το 0.04288. Αν διοργανώσουμε 100.000 συνέδρια τα οποία δεν έχουν κανένα gender bias, όπου και στα 100.000 συνέδρια στείλουμε 941 papers όπου τα 338 γίνονται δεκτά. Και επίσης, και στα 100.000 συνέδρια συμμετέχουν 264 γυναίκες και 677 άντρες. Τότε, από τα 100.000 συνέδρια, στα 4.288, το ποσοστό των accepted στους άνδρες είναι μεγαλύτερο κατά 0.06226780358981243 από ότι το ποσοστό των accepted στις γυναίκες.\n",
    "\n",
    "Μπορούμε να θέσουμε αυτό το ποσοστό (4.3%) ως τη πιθανότητα ένα gender unbiased συνέδριο να εμφανίσει αυτό τη διαφορά στα ποσοστά των accepted μεταξύ αντρών και γυναικών.\n",
    "\n",
    "Αφού αυτή η πιθανότητα είναι κάτω από το 5% (significance_threshold = 0.05) λέμε ότι το συνέδριο ΔΕΝ είναι αμερόληπτο και ότι δείχνει μία προτίμηση στο να κάνει accept papers από άντρες.\n",
    "\n",
    "Παρατηρούμε ότι αυτή η διαδικασία είναι χρονοβόρα υπολογιστικά. Υπάρχει τρόπος να το υπολογίσουμε αυτό με αναλυτικό τρόπο; Ναι! Στη πραγματικότηταα αυτό που κάναμε ήταν ένα [Fisher's exact test](https://en.wikipedia.org/wiki/Fisher%27s_exact_test):"
   ]
  },
  {
   "cell_type": "code",
   "execution_count": 217,
   "metadata": {},
   "outputs": [
    {
     "data": {
      "text/plain": [
       "0.04272336653184806"
      ]
     },
     "execution_count": 217,
     "metadata": {},
     "output_type": "execute_result"
    }
   ],
   "source": [
    "import numpy as np\n",
    "from scipy import stats\n",
    "\n",
    "import scipy.stats as stats\n",
    "obs = np.array([[m_pass, f_pass], [m_rejected, f_rejected]])\n",
    "oddsratio, pvalue = stats.fisher_exact(obs, alternative='greater')\n",
    "pvalue"
   ]
  },
  {
   "cell_type": "markdown",
   "metadata": {},
   "source": [
    "Γιατί κάναμε τον αλγοριθμικό τρόπο πρώτα και όχι τον αναλυτικό που στο κάτω-κάτω είναι και πολύ πιο γρήγορος;\n",
    "\n",
    "Να γιατί: https://www.youtube.com/watch?v=5Dnw46eC-0o "
   ]
  },
  {
   "cell_type": "markdown",
   "metadata": {},
   "source": [
    "Ένα άλλο παράδειγμα:\n",
    "    \n",
    "Παίρνουμε 220 ανθρώπους και κοιτάμε αν έχουν μία μετάλλαξη και αν έχουν μία ασθένεια. \n",
    "\n",
    "|  ΠΛΗΘΟΣ  |Μετάλλαξη=ΝΑΙ|Μετάλλαξη=ΟΧΙ|\n",
    "|:---------|:-----------:|------------:|\n",
    "|ΠΑΘΗΣΗ=ΝΑΙ |10          |100          |\n",
    "|ΠΑΘΗΣΗ=ΟΧΙ |40          |120          |  \n",
    "\n",
    "Το ερώτημα είναι.. συσχετίζεται αυτή η μετάλλαξη με αυτή την ασθένεια;\n",
    "\n",
    "Για αρχή ας μετατρέψουμε τους παραπάνα αριθμούς σε ποσοστά:\n",
    "\n",
    "Ας βάλουμε τα δεδομένα:"
   ]
  },
  {
   "cell_type": "code",
   "execution_count": 329,
   "metadata": {},
   "outputs": [
    {
     "name": "stdout",
     "output_type": "stream",
     "text": [
      "disease_mut_perc: 0.1875\n",
      "disease_nomut: 0.3125\n",
      "healthy_mut_perc: 0.125\n",
      "healthy_nomut_perc: 0.375\n"
     ]
    }
   ],
   "source": [
    "disease_mut = 60\n",
    "disease_nomut = 100\n",
    "healthy_mut = 40\n",
    "healthy_nomut = 120\n",
    "disease = disease_mut + disease_nomut\n",
    "healthy = healthy_mut + healthy_nomut\n",
    "mutation = disease_mut + healthy_mut\n",
    "no_mutation = disease_nomut + healthy_nomut\n",
    "total = disease + healthy\n",
    "\n",
    "disease_mut_perc = disease_mut/total\n",
    "disease_nomut_perc = disease_nomut/total\n",
    "healthy_mut_perc = healthy_mut/total\n",
    "healthy_nomut_perc = healthy_nomut/total\n",
    "\n",
    "print ('disease_mut_perc:', disease_mut_perc)\n",
    "print ('disease_nomut:', disease_nomut_perc)\n",
    "print ('healthy_mut_perc:', healthy_mut_perc)\n",
    "print ('healthy_nomut_perc:', healthy_nomut_perc)\n"
   ]
  },
  {
   "cell_type": "markdown",
   "metadata": {},
   "source": [
    "\n",
    "|  ΠΛΗΘΟΣ  |Μετάλλαξη=ΝΑΙ|Μετάλλαξη=ΟΧΙ|\n",
    "|:---------|:-----------:|------------:|\n",
    "|ΠΑΘΗΣΗ=ΝΑΙ |18.75%          |31.25%          |\n",
    "|ΠΑΘΗΣΗ=ΟΧΙ |12.5%          |37.5          |\n"
   ]
  },
  {
   "cell_type": "markdown",
   "metadata": {},
   "source": [
    "Ας υποθέσουμε ότι η μετάλλαξη δεν συσχετίζεται καθόλου με την ασθένεια. \n",
    "\n",
    "Αν ισχύει αυτό, τότε θα πρέπει η πιθανότητα να έχουν την ασθένεια αυτοί που έχουν τη μετάλλαξη να είναι ίδια με τη πιθανότητα να έχουν την ασθένεια αυτοί που δεν έχουν τη μετάλλαξη. Ποια είναι αυτή η πιθανότητα όμως; ΜΑ.. η πιθανότητα να έχει κάποιος την ασθένεια! η οποία είναι:\n",
    "\n"
   ]
  },
  {
   "cell_type": "code",
   "execution_count": 330,
   "metadata": {},
   "outputs": [
    {
     "name": "stdout",
     "output_type": "stream",
     "text": [
      "p_disease: 0.5\n"
     ]
    }
   ],
   "source": [
    "p_disease = disease / total\n",
    "print ('p_disease:', p_disease)"
   ]
  },
  {
   "cell_type": "markdown",
   "metadata": {},
   "source": [
    "Αν ισχύει λοιπόν ότι η μετάλλαξη δεν ευθύνεται καθόλου με την ασθένεια, τότε θα έπρεπε το πλήθος αυτών που έχουν τη μετάλλαξη και την ασθένεια να είναι ```expected_disease_mut = p_disease * mutation``` ομοίως για τους υπόλοιπους:"
   ]
  },
  {
   "cell_type": "code",
   "execution_count": 331,
   "metadata": {},
   "outputs": [
    {
     "name": "stdout",
     "output_type": "stream",
     "text": [
      "====EXPECTED VALUES====\n",
      "expected_disease_mut: 50.0\n",
      "expected_disease_nomut: 110.0\n",
      "expected_healthy_mut: 50.0\n",
      "expected_healthy_nomut: 110.0\n",
      "=====EXPECTED PERCENTAGES=====\n",
      "expected_disease_mut_perc: 0.15625\n",
      "expected_disease_nomut_perc: 0.34375\n",
      "expected_healthy_mut: 0.15625\n",
      "expected_healthy_nomut: 0.34375\n"
     ]
    }
   ],
   "source": [
    "expected_disease_mut = p_disease * mutation\n",
    "expected_disease_nomut = p_disease * no_mutation\n",
    "expected_healthy_mut = (1-p_disease) * mutation\n",
    "expected_healthy_nomut = (1-p_disease) * no_mutation\n",
    "\n",
    "print ('====EXPECTED VALUES====')\n",
    "print ('expected_disease_mut:', expected_disease_mut)\n",
    "print ('expected_disease_nomut:', expected_disease_nomut)\n",
    "print ('expected_healthy_mut:', expected_healthy_mut)\n",
    "print ('expected_healthy_nomut:', expected_healthy_nomut)\n",
    "\n",
    "expected_disease_mut_perc = expected_disease_mut / total\n",
    "expected_disease_nomut_perc = expected_disease_nomut / total\n",
    "expected_healthy_mut = expected_healthy_mut / total\n",
    "expected_healthy_nomut = expected_healthy_nomut / total\n",
    "\n",
    "print ('=====EXPECTED PERCENTAGES=====')\n",
    "print ('expected_disease_mut_perc:', expected_disease_mut_perc)\n",
    "print ('expected_disease_nomut_perc:', expected_disease_nomut_perc)\n",
    "print ('expected_healthy_mut:', expected_healthy_mut)\n",
    "print ('expected_healthy_nomut:', expected_healthy_nomut)"
   ]
  },
  {
   "cell_type": "markdown",
   "metadata": {},
   "source": [
    "Παρατηρούμε δηλαδή ότι αν ΔΕΝ σχετίζεται η μετάλλαξη με την ασθένεια, ο πίνακας θα περιμέναμε (expected..) να είναι:\n",
    "\n",
    "|  ΠΛΗΘΟΣ  |Μετάλλαξη=ΝΑΙ|Μετάλλαξη=ΟΧΙ|\n",
    "|:---------|:-----------:|------------:|\n",
    "|ΠΑΘΗΣΗ=ΝΑΙ |15.625%          |34.375%          |\n",
    "|ΠΑΘΗΣΗ=ΟΧΙ |15.625%          |34.375%          |\n",
    "\n",
    "Παρατηρήστε στον πίνακα ότι είτε κάποιος έχει την μετάλλαξη είτε όχι, η πιθανότητα να έχει τη πάθηση είναι ίδια. \n",
    "\n",
    "Τώρα όμως είμαστε σκεπτικοί...\n",
    "\n",
    "Εμείς παρατηρήσαμε (observe) αυτόν τον πίνακα:\n",
    "\n",
    "|  ΠΛΗΘΟΣ  |Μετάλλαξη=ΝΑΙ|Μετάλλαξη=ΟΧΙ|\n",
    "|:---------|:-----------:|------------:|\n",
    "|ΠΑΘΗΣΗ=ΝΑΙ |18.75%          |31.25%          |\n",
    "|ΠΑΘΗΣΗ=ΟΧΙ |12.5%          |37.5          |\n",
    "\n",
    "Ο οποίος είναι διαφορετικός από αυτόν που θα περιμέναμε αν δεν υπήρχε συσχέτιση. Πόσο διαφορετικός είναι όμως; Ένας τρόπος για να το βρούμε αυτό είναι να υπολογίσουμε το παρακάτω [άθροισμα](https://en.wikipedia.org/wiki/Pearson%27s_chi-squared_test):\n",
    "\n",
    "$\\chi^2 = \\sum_{i=1}^{n} \\frac{(O_i - E_i)^2}{E_i}$\n"
   ]
  },
  {
   "cell_type": "code",
   "execution_count": 341,
   "metadata": {},
   "outputs": [],
   "source": [
    "def chi_square(A,B):\n",
    "    \n",
    "    return sum(((x-y)**2)/y for x,y in zip(A,B))"
   ]
  },
  {
   "cell_type": "code",
   "execution_count": 343,
   "metadata": {},
   "outputs": [
    {
     "data": {
      "text/plain": [
       "0.01818181818181818"
      ]
     },
     "execution_count": 343,
     "metadata": {},
     "output_type": "execute_result"
    }
   ],
   "source": [
    "difference_from_expected = chi_square(\n",
    "    [disease_mut_perc, disease_nomut_perc, healthy_mut_perc, healthy_nomut_perc],\n",
    "    [expected_disease_mut_perc, expected_disease_nomut_perc, expected_healthy_mut, expected_healthy_nomut],\n",
    ")\n",
    "difference_from_expected"
   ]
  },
  {
   "cell_type": "markdown",
   "metadata": {},
   "source": [
    "Ωραία. Βλέπουμε τώρα ότι αυτό που παρατηρήσαμε διαφέρει από αυτό που περιμέναμε (υπό τη προϋπόθεση της μη συσχέτσισης) κατά 0.018 . Πάλι δεν μπορούμε να καταλήξουμε αν η συσχέτιση υπάρχει ή όχι. Για να το βρούμε αυτό πρέπει να βρούμε ποια είναι η πιθανότητα το 0.018 να προήλθε κατά τύχη!"
   ]
  },
  {
   "cell_type": "markdown",
   "metadata": {},
   "source": [
    "Οπότε ας φτιάξουμε έναν πίνακα με τυχαίους ανθρώπους υγιείς και ασθενείς: "
   ]
  },
  {
   "cell_type": "code",
   "execution_count": 255,
   "metadata": {},
   "outputs": [],
   "source": [
    "health_status = [True] * disease + [False] * healthy"
   ]
  },
  {
   "cell_type": "markdown",
   "metadata": {},
   "source": [
    "Ομοίως ας κάνουμε το ίδιο και με τις μεταλλάξεις:"
   ]
  },
  {
   "cell_type": "code",
   "execution_count": 256,
   "metadata": {},
   "outputs": [],
   "source": [
    "mutation_status = [True] * mutation + [False] * no_mutation"
   ]
  },
  {
   "cell_type": "markdown",
   "metadata": {},
   "source": [
    "Ας ανακατέψουμε αυτούς του πίνακες και ας τους ταιριάξαμε! Προσοχή! Εδώ κρύβεται \"η καρδιά\" όλης της μεθοδολογίας. Το \"ταίριασμα\" μεταξύ ασθένεια και μετάλλαξης γίνεται τυχαία, οπότε γνωρίζουμε από πριν ότι δεν υπάρχει κάποια συσχέτιση "
   ]
  },
  {
   "cell_type": "code",
   "execution_count": 286,
   "metadata": {},
   "outputs": [],
   "source": [
    "random.shuffle(health_status)\n",
    "random.shuffle(mutation_status)\n",
    "\n",
    "test_people = list(zip(health_status, mutation_status))"
   ]
  },
  {
   "cell_type": "markdown",
   "metadata": {},
   "source": [
    "Τώρα που τους ανακατέψαμε, θα υπολογίσουμε το πλήθος των στοιχείων του πίνακα:"
   ]
  },
  {
   "cell_type": "code",
   "execution_count": 287,
   "metadata": {},
   "outputs": [
    {
     "name": "stdout",
     "output_type": "stream",
     "text": [
      "test_dis_mut_perc: 0.1625\n",
      "test_dis_nomut_perc: 0.3375\n",
      "test_healthy_mut_perc: 0.15\n",
      "test_healthy_nomut_perc: 0.35\n"
     ]
    }
   ],
   "source": [
    "\n",
    "\n",
    "test_dis_mut = 0\n",
    "test_dis_nomut = 0\n",
    "test_healthy_mut = 0\n",
    "test_healthy_nomut = 0\n",
    "\n",
    "for d,m in test_people:\n",
    "    if d:\n",
    "        if m:\n",
    "            test_dis_mut += 1\n",
    "        else:\n",
    "            test_dis_nomut += 1\n",
    "    else:\n",
    "        if m:\n",
    "            test_healthy_mut += 1\n",
    "        else:\n",
    "            test_healthy_nomut += 1\n",
    "\n",
    "\n",
    "test_dis_mut_perc = test_dis_mut/total\n",
    "test_dis_nomut_perc = test_dis_nomut/total\n",
    "test_healthy_mut_perc = test_healthy_mut/total\n",
    "test_healthy_nomut_perc = test_healthy_nomut/total\n",
    "\n",
    "print ('test_dis_mut_perc:', test_dis_mut_perc)\n",
    "print ('test_dis_nomut_perc:', test_dis_nomut_perc)\n",
    "print ('test_healthy_mut_perc:', test_healthy_mut_perc)\n",
    "print ('test_healthy_nomut_perc:', test_healthy_nomut_perc)\n"
   ]
  },
  {
   "cell_type": "markdown",
   "metadata": {},
   "source": [
    "Ας ξαναφτιάξουμε τον πίνακα:\n",
    "    \n",
    "|  ΠΛΗΘΟΣ  |Μετάλλαξη=ΝΑΙ|Μετάλλαξη=ΟΧΙ|\n",
    "|:---------|:-----------:|------------:|\n",
    "|ΠΑΘΗΣΗ=ΝΑΙ |16.25%          |33.37%          |\n",
    "|ΠΑΘΗΣΗ=ΟΧΙ |15%          |35          |\n",
    "\n",
    "Παρατηρούμε ότι τα ποσοστά είναι λίγο διαφορετικά από αυτά που είχε ο πίνακας που περιμέναμε (expected). Πόσο διαφορετικά όμως;"
   ]
  },
  {
   "cell_type": "code",
   "execution_count": 344,
   "metadata": {},
   "outputs": [
    {
     "data": {
      "text/plain": [
       "0.0007272727272727266"
      ]
     },
     "execution_count": 344,
     "metadata": {},
     "output_type": "execute_result"
    }
   ],
   "source": [
    "test_difference = chi_square(\n",
    "    [test_dis_mut_perc, test_dis_nomut_perc, test_healthy_mut_perc, test_healthy_nomut_perc],\n",
    "    [expected_disease_mut_perc, expected_disease_nomut_perc, expected_healthy_mut, expected_healthy_nomut],\n",
    ")\n",
    "test_difference"
   ]
  },
  {
   "cell_type": "markdown",
   "metadata": {},
   "source": [
    "Είδαμε ότι η δική μας παρατήρηση (observed) διαφέρει από αυτό που περιμέναμε (με τη πρϋπόθεση της μη-συσχέτισης) κατα 0.018. Ενώ αν πάρουε έναν τυχαίο πίνακα (με την ίδια προϋπόθεση) αυτός διαφέρει πολύ λιγότερο (0.00072). Ας βρούμε τώρα τη πιθανότητα ο τυχαίος πίνακας να διαφέρει περισσότερο από αυτό που παρατηρήσαμε:"
   ]
  },
  {
   "cell_type": "code",
   "execution_count": 345,
   "metadata": {},
   "outputs": [
    {
     "data": {
      "text/plain": [
       "0.02158"
      ]
     },
     "execution_count": 345,
     "metadata": {},
     "output_type": "execute_result"
    }
   ],
   "source": [
    "def f():\n",
    "    random.shuffle(health_status)\n",
    "    random.shuffle(mutation_status)\n",
    "\n",
    "    test_people = list(zip(health_status, mutation_status))\n",
    "    \n",
    "    test_dis_mut = 0\n",
    "    test_dis_nomut = 0\n",
    "    test_healthy_mut = 0\n",
    "    test_healthy_nomut = 0\n",
    "\n",
    "    for d,m in test_people:\n",
    "        if d:\n",
    "            if m:\n",
    "                test_dis_mut += 1\n",
    "            else:\n",
    "                test_dis_nomut += 1\n",
    "        else:\n",
    "            if m:\n",
    "                test_healthy_mut += 1\n",
    "            else:\n",
    "                test_healthy_nomut += 1\n",
    "\n",
    "\n",
    "    test_dis_mut_perc = test_dis_mut/total\n",
    "    test_dis_nomut_perc = test_dis_nomut/total\n",
    "    test_healthy_mut_perc = test_healthy_mut/total\n",
    "    test_healthy_nomut_perc = test_healthy_nomut/total\n",
    "    \n",
    "#    test_difference = (expected_disease_mut_perc-test_dis_mut_perc)**2 + \\\n",
    "#             (expected_disease_nomut_perc-test_dis_nomut_perc)**2 + \\\n",
    "#             (expected_healthy_mut-test_healthy_mut_perc)**2 + \\\n",
    "#             (expected_healthy_nomut-test_healthy_nomut_perc)**2\n",
    "\n",
    "    test_difference = chi_square(\n",
    "        [test_dis_mut_perc, test_dis_nomut_perc, test_healthy_mut_perc, test_healthy_nomut_perc],\n",
    "        [expected_disease_mut_perc, expected_disease_nomut_perc, expected_healthy_mut, expected_healthy_nomut],\n",
    "    )\n",
    "    return test_difference >= difference_from_expected\n",
    "\n",
    "STEPS = 100000\n",
    "sum(1 for x in range(STEPS) if f())/STEPS"
   ]
  },
  {
   "cell_type": "markdown",
   "metadata": {},
   "source": [
    "Η πιθανότητα αυτή είναι: 0.02158 ή 2.2%\n",
    "\n",
    "Αυτό είναι λιγότερο από 5% οπότε μπορούμε να πούμε ότι όντως υπάρχει κάποια συσχέτιση.\n",
    "\n",
    "Αυτό που μόλις κάναμε ονομάζεται [chi-squared test](https://en.wikipedia.org/wiki/Chi-squared_test) και μπορούμε να το τρέξουμε απλά με τη παρακάτω εντολή της scipy: "
   ]
  },
  {
   "cell_type": "code",
   "execution_count": 326,
   "metadata": {},
   "outputs": [
    {
     "data": {
      "text/plain": [
       "0.021935308031646828"
      ]
     },
     "execution_count": 326,
     "metadata": {},
     "output_type": "execute_result"
    }
   ],
   "source": [
    "obs = np.array([[disease_mut, healthy_mut], [disease_nomut, healthy_nomut]])\n",
    "chi2, p, dof, expected = chi2_contingency(obs)\n",
    "p"
   ]
  },
  {
   "cell_type": "markdown",
   "metadata": {},
   "source": [
    "Βασική ορολογία:\n",
    "* Όλη αυτή η διαδικασία που παρουσιάστηκε ονομάζεται [statistical hypothesis testing](https://en.wikipedia.org/wiki/Statistical_hypothesis_testing)\n",
    "* Όπως έχουμε πει το α=0.05 είναι το significance_threshold (ή το significance level)\n",
    "* Οι δύο υποθέσεις που κάναμε:\n",
    "   1. \"Δεν υπάρχει μεροληψία ενάντια στις γυναίκες στο συνέδριο\"\n",
    "   2. \"Δεν υπάρχει συσχέτιση της μετάλλαξης με την ασθένεια\"\n",
    "   \n",
    "   Ονομάζονται [null hypothesis](https://en.wikipedia.org/wiki/Null_hypothesis). Σκοπός της όλης διαδικασίας είναι να καταρρίψουμε (ή όχι) το null hypothesis.\n",
    "* Οι τιμές που έχουμε υπολογίσει στο τέλος (0.04288 για το πρώτο και 0.02158 για το δεύτερο) ονομάζονται [p-values](https://en.wikipedia.org/wiki/P-value). \n",
    "\n",
    "**p-value είναι η πιθανότητα να πάρω τα δεδομένα που πήρα, δεδομένου ότι το null hypothesis ισχύει**\n"
   ]
  },
  {
   "cell_type": "code",
   "execution_count": null,
   "metadata": {},
   "outputs": [],
   "source": []
  }
 ],
 "metadata": {
  "kernelspec": {
   "display_name": "Python 3",
   "language": "python",
   "name": "python3"
  },
  "language_info": {
   "codemirror_mode": {
    "name": "ipython",
    "version": 3
   },
   "file_extension": ".py",
   "mimetype": "text/x-python",
   "name": "python",
   "nbconvert_exporter": "python",
   "pygments_lexer": "ipython3",
   "version": "3.7.0"
  }
 },
 "nbformat": 4,
 "nbformat_minor": 2
}
