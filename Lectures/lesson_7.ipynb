{
 "cells": [
  {
   "cell_type": "markdown",
   "metadata": {},
   "source": [
    "# Προγραμματισμός με τη γλώσσα python\n",
    "### [Alexandros Kanterakis](mailto:kantale@ics.forth.gr) kantale@ics.forth.gr\n",
    "### Διάλεξη 7η, Τρίτη 26 Νοεμβρίου 2019\n",
    "\n"
   ]
  },
  {
   "cell_type": "markdown",
   "metadata": {},
   "source": [
    "### Κάποιες σημειώσεις για τις λίστες και τα dictionaries\n",
    "Πολλές φορές υπάρχει το ζήτημα τι να χρησιμοποιήσω: λίστες ή dictionaries. Τα περισσότερα πράγματα μπορούν να γίνουν και με τα δύο. Σε περίπτωση που υπάρχει σύγχυση οι παρακάτως σημειώσεις μπορούν να βοηθήσουν:\n",
    "\n",
    "Για να εντοπίσει η python αν ένα στοιχεία υπάρχει (ή όχι) σε μία λίστα κάνει ότι θα κάναμε σε έναν αταξινόμητο κατάλογο: Ψάχνει μία-μία όλες τις εγγραφές. Αντίθετα στο dictionary ξέρει \"που\" θα βρει το κάθε κλειδί. Αυτό το επιτυγχάνει με ειδικές δομές δεδομένων και αλγόριθμους( [hash tables](https://en.wikipedia.org/wiki/Hash_table) ). Ένα παράδειγμα. Μία λίστα με όλους τους αριθμούς από 1 μέχρι το 1.000.000:"
   ]
  },
  {
   "cell_type": "code",
   "execution_count": 139,
   "metadata": {},
   "outputs": [],
   "source": [
    "a = list(range(1000000))"
   ]
  },
  {
   "cell_type": "markdown",
   "metadata": {},
   "source": [
    "Η παρακάτω εντολή ```%%timeit``` μετράει πόσο \"γρήγορα τρέχει\" μία εντολή:"
   ]
  },
  {
   "cell_type": "code",
   "execution_count": 152,
   "metadata": {},
   "outputs": [
    {
     "name": "stdout",
     "output_type": "stream",
     "text": [
      "3.14 ms ± 197 µs per loop (mean ± std. dev. of 7 runs, 100 loops each)\n"
     ]
    }
   ],
   "source": [
    "%%timeit \n",
    "234234 in a # 0.00314 seconds"
   ]
  },
  {
   "cell_type": "markdown",
   "metadata": {},
   "source": [
    "Ας κάνουμε το ίδιο με dictionary:"
   ]
  },
  {
   "cell_type": "code",
   "execution_count": 142,
   "metadata": {},
   "outputs": [],
   "source": [
    "b = {x:5 for x in range(1000000)}"
   ]
  },
  {
   "cell_type": "code",
   "execution_count": 153,
   "metadata": {},
   "outputs": [
    {
     "name": "stdout",
     "output_type": "stream",
     "text": [
      "62 ns ± 1.12 ns per loop (mean ± std. dev. of 7 runs, 10000000 loops each)\n"
     ]
    }
   ],
   "source": [
    "%%timeit \n",
    "234234 in b #0.000062 seconds "
   ]
  },
  {
   "cell_type": "markdown",
   "metadata": {},
   "source": [
    "Βλέπουμε δηλαδή ότι η αναζήτηση στο dictionary είναι 0.00314/0.000062 ~= 50 φορές πιο γρήγορη. Για σύγκριση μπορούμε να δούμε πόσο κάνει η python για να μη κάνει... Τίποτα:"
   ]
  },
  {
   "cell_type": "code",
   "execution_count": 149,
   "metadata": {},
   "outputs": [
    {
     "name": "stdout",
     "output_type": "stream",
     "text": [
      "9.37 ns ± 0 ns per loop (mean ± std. dev. of 1 run, 10000 loops each)\n"
     ]
    }
   ],
   "source": [
    "%%timeit\n",
    "pass"
   ]
  },
  {
   "cell_type": "markdown",
   "metadata": {},
   "source": [
    "Βέβαια πληρώσαμε ένα τίμημα για αυτή τη ταχύτητα. Η συνάρτηση ```getsizeof``` επιστρέφει τη μνήμη που καταναλώνει μία μεταβλητή:"
   ]
  },
  {
   "cell_type": "code",
   "execution_count": 9,
   "metadata": {},
   "outputs": [],
   "source": [
    "from sys import getsizeof"
   ]
  },
  {
   "cell_type": "code",
   "execution_count": 10,
   "metadata": {},
   "outputs": [
    {
     "data": {
      "text/plain": [
       "9000112"
      ]
     },
     "execution_count": 10,
     "metadata": {},
     "output_type": "execute_result"
    }
   ],
   "source": [
    "getsizeof(a)"
   ]
  },
  {
   "cell_type": "code",
   "execution_count": 11,
   "metadata": {},
   "outputs": [
    {
     "data": {
      "text/plain": [
       "41943144"
      ]
     },
     "execution_count": 11,
     "metadata": {},
     "output_type": "execute_result"
    }
   ],
   "source": [
    "getsizeof(b)"
   ]
  },
  {
   "cell_type": "markdown",
   "metadata": {},
   "source": [
    "Δηλαδή το dictionary θέλει: 41943144/9000112 ~= 4.5 φορές παραπάνω μνήμη. **ΠΡΟΣΟΧΗ!** Αυτές οι μετρήσεις είναι ενδεικτικές μη βασίζεται τις υλοποιήσεις σας σε αυτές. Υπάρχουν πολλές μετρήσεις με πολύ πιο αντικειμενικό τρόπο για το ποια δομή είναι καλύτερη. "
   ]
  },
  {
   "cell_type": "markdown",
   "metadata": {},
   "source": [
    "### Πως κάνουμε join μία λίστα που έχει (και) μη-string μεταβλητες;"
   ]
  },
  {
   "cell_type": "code",
   "execution_count": 54,
   "metadata": {},
   "outputs": [
    {
     "data": {
      "text/plain": [
       "'a-b-4-c'"
      ]
     },
     "execution_count": 54,
     "metadata": {},
     "output_type": "execute_result"
    }
   ],
   "source": [
    "'-'.join(map(str,['a','b',4,'c']))"
   ]
  },
  {
   "cell_type": "markdown",
   "metadata": {},
   "source": [
    "### Πως \"στέλνουμε\" μία πολύπλοκη δομή δεδομένων;\n",
    "Ας υποθέσουμε ότι έχουμε τη παρακάτω \"πολύπλοκη\" δομή:"
   ]
  },
  {
   "cell_type": "code",
   "execution_count": 155,
   "metadata": {},
   "outputs": [],
   "source": [
    "a={'a': [1,2,3,], 'ffrrf': {'b': [4,4,5,6]}}"
   ]
  },
  {
   "cell_type": "markdown",
   "metadata": {},
   "source": [
    "Πως μπορούμε να αποθηκεύσουμε το a σε ένα αρχείο; Μπορούμε να τα αποθηκεύσουμε σε μορφή json:"
   ]
  },
  {
   "cell_type": "code",
   "execution_count": 157,
   "metadata": {},
   "outputs": [
    {
     "name": "stdout",
     "output_type": "stream",
     "text": [
      "{\"a\": [1, 2, 3], \"ffrrf\": {\"b\": [4, 4, 5, 6]}}\n"
     ]
    }
   ],
   "source": [
    "import json\n",
    "a_json = json.dumps(a)\n",
    "print (a_json)"
   ]
  },
  {
   "cell_type": "code",
   "execution_count": 159,
   "metadata": {},
   "outputs": [
    {
     "data": {
      "text/plain": [
       "str"
      ]
     },
     "execution_count": 159,
     "metadata": {},
     "output_type": "execute_result"
    }
   ],
   "source": [
    "type(a_json)"
   ]
  },
  {
   "cell_type": "markdown",
   "metadata": {},
   "source": [
    "Οπότε μπορούμε να σώσουμε το a_json σε ένα αρχείο:"
   ]
  },
  {
   "cell_type": "code",
   "execution_count": 160,
   "metadata": {},
   "outputs": [],
   "source": [
    "with open('results.txt', 'w') as f:\n",
    "    f.write(a_json + '\\n')"
   ]
  },
  {
   "cell_type": "markdown",
   "metadata": {},
   "source": [
    "Ή αλλιώς:"
   ]
  },
  {
   "cell_type": "code",
   "execution_count": 163,
   "metadata": {},
   "outputs": [],
   "source": [
    "with open('results.txt', 'w') as f:\n",
    "    json.dump(a, f)"
   ]
  },
  {
   "cell_type": "code",
   "execution_count": 165,
   "metadata": {},
   "outputs": [
    {
     "name": "stdout",
     "output_type": "stream",
     "text": [
      "{\"a\": [1, 2, 3], \"ffrrf\": {\"b\": [4, 4, 5, 6]}}"
     ]
    }
   ],
   "source": [
    "!cat results.txt"
   ]
  },
  {
   "cell_type": "markdown",
   "metadata": {},
   "source": [
    "Αφού στείλουμε το αρχείο μπορεί ο παραλήπτης να το ανοίξει:"
   ]
  },
  {
   "cell_type": "code",
   "execution_count": 168,
   "metadata": {},
   "outputs": [
    {
     "name": "stdout",
     "output_type": "stream",
     "text": [
      "{'a': [1, 2, 3], 'ffrrf': {'b': [4, 4, 5, 6]}}\n",
      "<class 'dict'>\n"
     ]
    }
   ],
   "source": [
    "with open('results.txt') as f:\n",
    "    a = json.load(f)\n",
    "print (a)\n",
    "print (type(a))"
   ]
  },
  {
   "cell_type": "markdown",
   "metadata": {},
   "source": [
    "Αυτή η διαδικασία ονομάζεται [serialization](https://en.wikipedia.org/wiki/Serialization)"
   ]
  },
  {
   "cell_type": "markdown",
   "metadata": {},
   "source": [
    "# Exceptions\n",
    "Θα έχετε προσέξει ότι όταν συμβεί κάποιο λάθος η python πετάει ένα μήνυμα:"
   ]
  },
  {
   "cell_type": "code",
   "execution_count": 1,
   "metadata": {},
   "outputs": [
    {
     "ename": "ZeroDivisionError",
     "evalue": "division by zero",
     "output_type": "error",
     "traceback": [
      "\u001b[0;31m---------------------------------------------------------------------------\u001b[0m",
      "\u001b[0;31mZeroDivisionError\u001b[0m                         Traceback (most recent call last)",
      "\u001b[0;32m<ipython-input-1-023a503edd86>\u001b[0m in \u001b[0;36m<module>\u001b[0;34m()\u001b[0m\n\u001b[0;32m----> 1\u001b[0;31m \u001b[0ma\u001b[0m\u001b[0;34m=\u001b[0m\u001b[0;36m1\u001b[0m\u001b[0;34m/\u001b[0m\u001b[0;36m0\u001b[0m\u001b[0;34m\u001b[0m\u001b[0m\n\u001b[0m",
      "\u001b[0;31mZeroDivisionError\u001b[0m: division by zero"
     ]
    }
   ],
   "source": [
    "a=1/0"
   ]
  },
  {
   "cell_type": "markdown",
   "metadata": {},
   "source": [
    "Όλα τα λάθη που μπορούν να συμβούν στη python ανήκουν σε μία νέα κατηγορία αντικειμένων: τα exceptions. Ένα exception όταν συμβεί ΤΕΡΜΑΤΙΖΕΙ το πρόγραμμα: "
   ]
  },
  {
   "cell_type": "markdown",
   "metadata": {},
   "source": [
    "Τι γίνεται όταν θέλουμε να συνεχιστεί η εκτέλεση του προγράμματος ακόμα και όταν έχει συμβεί ένα exception; Μπορούμε να τρέξουμε το κομμάτι κώδικα μέσα σε ένα try..except μπλοκ:"
   ]
  },
  {
   "cell_type": "code",
   "execution_count": 2,
   "metadata": {},
   "outputs": [
    {
     "name": "stdout",
     "output_type": "stream",
     "text": [
      "Something bad happened\n"
     ]
    }
   ],
   "source": [
    "try:\n",
    "    a=1/0\n",
    "except:\n",
    "    print (\"Something bad happened\")"
   ]
  },
  {
   "cell_type": "markdown",
   "metadata": {},
   "source": [
    "Οι εντολές μετά το σημείο που έγινε το exception ΔΕΝ ΤΡΕΧΟΥΝ! "
   ]
  },
  {
   "cell_type": "code",
   "execution_count": 3,
   "metadata": {},
   "outputs": [
    {
     "name": "stdout",
     "output_type": "stream",
     "text": [
      "Something bad happened\n"
     ]
    }
   ],
   "source": [
    "try:\n",
    "    a=1/0\n",
    "    print (\"Αυτό δεν θα τρέξει ποτέ..\")\n",
    "except:\n",
    "    print (\"Something bad happened\")"
   ]
  },
  {
   "cell_type": "markdown",
   "metadata": {},
   "source": [
    "Οι εντολές όμως μετά το try..except μπλοκ, τρέχουν κανονικά:"
   ]
  },
  {
   "cell_type": "code",
   "execution_count": 4,
   "metadata": {},
   "outputs": [
    {
     "name": "stdout",
     "output_type": "stream",
     "text": [
      "Something bad happened\n",
      "Αυτό θα τρέξει κανικά!\n"
     ]
    }
   ],
   "source": [
    "try:\n",
    "    a=1/0\n",
    "    print (\"Αυτό δεν θα τρέξει ποτέ..\")\n",
    "except:\n",
    "    print (\"Something bad happened\")\n",
    "print (\"Αυτό θα τρέξει κανικά!\")"
   ]
  },
  {
   "cell_type": "markdown",
   "metadata": {},
   "source": [
    "Υπάρχουν πολλά ειδή exceptions. [Εδώ υπάρχει μία λίστα με όλες αυτές](https://docs.python.org/3/library/exceptions.html). Αντί να χρησιμοποιήσουμε το try..except μπορούμε να επιλέξουμε ποια ακριβώς exception θέλουμε να πιάσουμε:"
   ]
  },
  {
   "cell_type": "code",
   "execution_count": 5,
   "metadata": {},
   "outputs": [
    {
     "name": "stdout",
     "output_type": "stream",
     "text": [
      "Διαίρεση με το 0\n"
     ]
    }
   ],
   "source": [
    "try:\n",
    "    a=1/0\n",
    "except ZeroDivisionError:\n",
    "    print ('Διαίρεση με το 0')"
   ]
  },
  {
   "cell_type": "markdown",
   "metadata": {},
   "source": [
    "Μπορούμε έτσι να \"πιάσουμε\" πολλών ειδών λάθη:"
   ]
  },
  {
   "cell_type": "code",
   "execution_count": 6,
   "metadata": {},
   "outputs": [
    {
     "name": "stdout",
     "output_type": "stream",
     "text": [
      "Διαίρεση με το 0\n"
     ]
    }
   ],
   "source": [
    "divisor = 0\n",
    "try:\n",
    "    a=1/divisor\n",
    "    open('I_DO_NOT_EXIST.txt')\n",
    "except ZeroDivisionError:\n",
    "    print ('Διαίρεση με το 0')\n",
    "except FileNotFoundError:\n",
    "    print ('Δεν βρέθηκε κάποιο αρχείο')\n",
    "except:\n",
    "    print ('Κάτι άλλο περιέργο συναίβει')"
   ]
  },
  {
   "cell_type": "code",
   "execution_count": 7,
   "metadata": {},
   "outputs": [
    {
     "name": "stdout",
     "output_type": "stream",
     "text": [
      "Δεν βρέθηκε κάποιο αρχείο\n"
     ]
    }
   ],
   "source": [
    "divisor = 1\n",
    "try:\n",
    "    a=1/divisor\n",
    "    open('I_DO_NOT_EXIST.txt')\n",
    "except ZeroDivisionError:\n",
    "    print ('Διαίρεση με το 0')\n",
    "except FileNotFoundError:\n",
    "    print ('Δεν βρέθηκε κάποιο αρχείο')\n",
    "except:\n",
    "    print ('Κάτι άλλο περιέργο συναίβει')"
   ]
  },
  {
   "cell_type": "code",
   "execution_count": 8,
   "metadata": {},
   "outputs": [
    {
     "name": "stdout",
     "output_type": "stream",
     "text": [
      "Κάτι άλλο περιέργο συνέβει\n"
     ]
    }
   ],
   "source": [
    "divisor = 1\n",
    "b = [1,2]\n",
    "try:\n",
    "    a=1/divisor\n",
    "    b[3] = 5\n",
    "    open('I_DO_NOT_EXIST.txt')\n",
    "except ZeroDivisionError:\n",
    "    print ('Διαίρεση με το 0')\n",
    "except FileNotFoundError:\n",
    "    print ('Δεν βρέθηκε κάποιο αρχείο')\n",
    "except:\n",
    "    print ('Κάτι άλλο περιέργο συνέβει')"
   ]
  },
  {
   "cell_type": "markdown",
   "metadata": {},
   "source": [
    "Αν χρησιμοποιήσουμε:\n",
    "   \n",
    "```python\n",
    "try:\n",
    "    ...\n",
    "except:\n",
    "    ...\n",
    "```\n",
    "ή\n",
    "```python\n",
    "try:\n",
    "    ...\n",
    "except Exception\n",
    "    ....\n",
    "```\n",
    "Τότε έχουμε πιάσει ΟΛΑ τα δυνατά exceptions.  "
   ]
  },
  {
   "cell_type": "markdown",
   "metadata": {},
   "source": [
    "Μπορούμε να αποθηκεύσουμε το exception που συνέβει σε μία εντολή και να πάρουμε περισσότερες πληροφορίες για το λάθος που το προκάλεσε:"
   ]
  },
  {
   "cell_type": "code",
   "execution_count": 9,
   "metadata": {},
   "outputs": [
    {
     "name": "stdout",
     "output_type": "stream",
     "text": [
      "This error happened: division by zero\n"
     ]
    }
   ],
   "source": [
    "try:\n",
    "    a=1/0\n",
    "except Exception as e:\n",
    "    print ('This error happened: {}'.format(e))"
   ]
  },
  {
   "cell_type": "markdown",
   "metadata": {},
   "source": [
    "Μπορούμε να πιάσουμε πολλά ειδών exceptions και να την αποθηκεύσουμε σε μία μεταβλητή:"
   ]
  },
  {
   "cell_type": "code",
   "execution_count": 10,
   "metadata": {},
   "outputs": [
    {
     "name": "stdout",
     "output_type": "stream",
     "text": [
      "This just happened: [Errno 2] No such file or directory: 'I_DO_NOT_EXIST.txt'\n"
     ]
    }
   ],
   "source": [
    "divisor = 1\n",
    "try:\n",
    "    a=1/divisor\n",
    "    open('I_DO_NOT_EXIST.txt')\n",
    "except (ZeroDivisionError, FileNotFoundError) as e:\n",
    "    print ('This just happened: {}'.format(e))"
   ]
  },
  {
   "cell_type": "markdown",
   "metadata": {},
   "source": [
    "Επίσης αντί για το try..except μπορούμε να χρησιμοποιήσουμε το try..except..else. Ο κώδικα που βρίσκεται μέσα στο ```else``` εκτελείτε μόνο αν ΔΕΝ έχει συμβεί κάποιο exception."
   ]
  },
  {
   "cell_type": "code",
   "execution_count": 14,
   "metadata": {},
   "outputs": [
    {
     "name": "stdout",
     "output_type": "stream",
     "text": [
      "Division failed..\n"
     ]
    }
   ],
   "source": [
    "divisor=0\n",
    "try:\n",
    "    a=1/divisor\n",
    "except ZeroDivisionError:\n",
    "    print ('Division failed..')\n",
    "else:\n",
    "    print ('Division succeeded!!')"
   ]
  },
  {
   "cell_type": "code",
   "execution_count": 15,
   "metadata": {},
   "outputs": [
    {
     "name": "stdout",
     "output_type": "stream",
     "text": [
      "Division succeeded!!\n"
     ]
    }
   ],
   "source": [
    "divisor=1\n",
    "try:\n",
    "    a=1/divisor\n",
    "except ZeroDivisionError:\n",
    "    print ('Division failed..')\n",
    "else:\n",
    "    print ('Division succeeded!!')"
   ]
  },
  {
   "cell_type": "markdown",
   "metadata": {},
   "source": [
    "Επίσης μπορούμε να χρησιμοποιήσουμε το try..except..finally. Ο κώδικας που βρίσκεταί μέσα στο ```finally``` τρέχει είτε συμβεί είτε δεν συμβεί exception:"
   ]
  },
  {
   "cell_type": "code",
   "execution_count": 13,
   "metadata": {},
   "outputs": [
    {
     "name": "stdout",
     "output_type": "stream",
     "text": [
      "Division failed..\n",
      "I always run\n"
     ]
    }
   ],
   "source": [
    "divisor=0\n",
    "try:\n",
    "    a=1/divisor\n",
    "except ZeroDivisionError:\n",
    "    print ('Division failed..')\n",
    "finally:\n",
    "    print ('I always run')"
   ]
  },
  {
   "cell_type": "code",
   "execution_count": 16,
   "metadata": {},
   "outputs": [
    {
     "name": "stdout",
     "output_type": "stream",
     "text": [
      "I always run\n"
     ]
    }
   ],
   "source": [
    "divisor=1\n",
    "try:\n",
    "    a=1/divisor\n",
    "except ZeroDivisionError:\n",
    "    print ('Division failed..')\n",
    "finally:\n",
    "    print ('I always run')"
   ]
  },
  {
   "cell_type": "markdown",
   "metadata": {},
   "source": [
    "Τότε τι νόημα έχει το ```finally```; Χρησιμοποιείτε όταν θέλουμε να \"συμαζέψουμε\" (clean-up) την ανακατοσούρα που κάναμε μέσα στο try. Π.χ. να κλείσουμε τα αρχεία που ανοίξαμε."
   ]
  },
  {
   "cell_type": "markdown",
   "metadata": {},
   "source": [
    "Μπορούμε να χρησιμοποιήσουμε και το try..except..else..finally :"
   ]
  },
  {
   "cell_type": "code",
   "execution_count": 17,
   "metadata": {},
   "outputs": [
    {
     "name": "stdout",
     "output_type": "stream",
     "text": [
      "Division failed\n",
      "I always run\n"
     ]
    }
   ],
   "source": [
    "divisor = 0\n",
    "try:\n",
    "    a=1/divisor\n",
    "except ZeroDivisionError:\n",
    "    print ('Division failed')\n",
    "else:\n",
    "    print ('Division succeeded')\n",
    "finally:\n",
    "    print ('I always run')"
   ]
  },
  {
   "cell_type": "markdown",
   "metadata": {},
   "source": [
    "**ΠΡΟΣΟΧΗ!** Το ότι έχουμε χρησιμοποιήσει try..except..else..finally κτλ δεν σημαίνει ότι έχουμε \"καλυφθεί\" από πιθανά exceptions:"
   ]
  },
  {
   "cell_type": "code",
   "execution_count": 18,
   "metadata": {},
   "outputs": [
    {
     "name": "stdout",
     "output_type": "stream",
     "text": [
      "I always run\n"
     ]
    },
    {
     "ename": "NameError",
     "evalue": "name 'mpaklavas' is not defined",
     "output_type": "error",
     "traceback": [
      "\u001b[0;31m---------------------------------------------------------------------------\u001b[0m",
      "\u001b[0;31mNameError\u001b[0m                                 Traceback (most recent call last)",
      "\u001b[0;32m<ipython-input-18-0457af044c52>\u001b[0m in \u001b[0;36m<module>\u001b[0;34m()\u001b[0m\n\u001b[1;32m      1\u001b[0m \u001b[0;32mtry\u001b[0m\u001b[0;34m:\u001b[0m\u001b[0;34m\u001b[0m\u001b[0m\n\u001b[0;32m----> 2\u001b[0;31m     \u001b[0mmpaklavas\u001b[0m\u001b[0;34m\u001b[0m\u001b[0m\n\u001b[0m\u001b[1;32m      3\u001b[0m \u001b[0;32mexcept\u001b[0m \u001b[0mZeroDivisionError\u001b[0m\u001b[0;34m:\u001b[0m\u001b[0;34m\u001b[0m\u001b[0m\n\u001b[1;32m      4\u001b[0m     \u001b[0mprint\u001b[0m \u001b[0;34m(\u001b[0m\u001b[0;34m'Division with zero'\u001b[0m\u001b[0;34m)\u001b[0m\u001b[0;34m\u001b[0m\u001b[0m\n\u001b[1;32m      5\u001b[0m \u001b[0;32melse\u001b[0m\u001b[0;34m:\u001b[0m\u001b[0;34m\u001b[0m\u001b[0m\n",
      "\u001b[0;31mNameError\u001b[0m: name 'mpaklavas' is not defined"
     ]
    }
   ],
   "source": [
    "try:\n",
    "    mpaklavas\n",
    "except ZeroDivisionError:\n",
    "    print ('Division with zero')\n",
    "else:\n",
    "    print ('No exception happened')\n",
    "finally:\n",
    "    print ('I always run')"
   ]
  },
  {
   "cell_type": "markdown",
   "metadata": {},
   "source": [
    "Στο παραπάνω παράδειγμα συνέβει ένα ```NameError``` exception το οποίο δεν το πιάσαμε πουθενά."
   ]
  },
  {
   "cell_type": "markdown",
   "metadata": {},
   "source": [
    "Μπορούμε να \"ρίξουμε\" και το δικό μας exception:"
   ]
  },
  {
   "cell_type": "code",
   "execution_count": 19,
   "metadata": {},
   "outputs": [
    {
     "ename": "Exception",
     "evalue": "Χάλασε το δεξί φιλάντζι",
     "output_type": "error",
     "traceback": [
      "\u001b[0;31m---------------------------------------------------------------------------\u001b[0m",
      "\u001b[0;31mException\u001b[0m                                 Traceback (most recent call last)",
      "\u001b[0;32m<ipython-input-19-30beae3ba6e0>\u001b[0m in \u001b[0;36m<module>\u001b[0;34m()\u001b[0m\n\u001b[0;32m----> 1\u001b[0;31m \u001b[0;32mraise\u001b[0m \u001b[0mException\u001b[0m\u001b[0;34m(\u001b[0m\u001b[0;34m'Χάλασε το δεξί φιλάντζι'\u001b[0m\u001b[0;34m)\u001b[0m \u001b[0;31m# https://www.youtube.com/watch?v=DrwVB4vMx-Q&feature=youtu.be&t=30\u001b[0m\u001b[0;34m\u001b[0m\u001b[0m\n\u001b[0m",
      "\u001b[0;31mException\u001b[0m: Χάλασε το δεξί φιλάντζι"
     ]
    }
   ],
   "source": [
    "raise Exception('Χάλασε το δεξί φιλάντζι') # https://www.youtube.com/watch?v=DrwVB4vMx-Q&feature=youtu.be&t=30"
   ]
  },
  {
   "cell_type": "code",
   "execution_count": 20,
   "metadata": {},
   "outputs": [
    {
     "ename": "NameError",
     "evalue": "Stacey? That's not my name",
     "output_type": "error",
     "traceback": [
      "\u001b[0;31m---------------------------------------------------------------------------\u001b[0m",
      "\u001b[0;31mNameError\u001b[0m                                 Traceback (most recent call last)",
      "\u001b[0;32m<ipython-input-20-ca4b8bf54983>\u001b[0m in \u001b[0;36m<module>\u001b[0;34m()\u001b[0m\n\u001b[0;32m----> 1\u001b[0;31m \u001b[0;32mraise\u001b[0m \u001b[0mNameError\u001b[0m\u001b[0;34m(\u001b[0m\u001b[0;34m\"Stacey? That's not my name\"\u001b[0m\u001b[0;34m)\u001b[0m \u001b[0;31m# https://www.youtube.com/watch?v=v1c2OfAzDTI\u001b[0m\u001b[0;34m\u001b[0m\u001b[0m\n\u001b[0m",
      "\u001b[0;31mNameError\u001b[0m: Stacey? That's not my name"
     ]
    }
   ],
   "source": [
    "raise NameError(\"Stacey? That's not my name\") # https://www.youtube.com/watch?v=v1c2OfAzDTI"
   ]
  },
  {
   "cell_type": "markdown",
   "metadata": {},
   "source": [
    "H πρωτοπορία των exceptions είναι ότι μπορούμε να τα \"πιάσουμε\" όχι μόνο ακριβώς στο σημείο που συνέβησαν αλλά και έξω ακόμα από τη συνάρτηση που τα προκάλεσε:"
   ]
  },
  {
   "cell_type": "code",
   "execution_count": 21,
   "metadata": {},
   "outputs": [
    {
     "name": "stdout",
     "output_type": "stream",
     "text": [
      "Error: Άσε με να κάνω λάθος!\n"
     ]
    }
   ],
   "source": [
    "def f():\n",
    "    raise Exception('Άσε με να κάνω λάθος!')\n",
    "    \n",
    "def g():\n",
    "    f()\n",
    "    \n",
    "def h():\n",
    "    g()\n",
    "    \n",
    "try: \n",
    "    h()\n",
    "except Exception as e:\n",
    "    print ('Error: {}'.format(e))"
   ]
  },
  {
   "cell_type": "markdown",
   "metadata": {},
   "source": [
    "**Προχωρημένο:** Μπορούμε να φτιάξουμε τη δική μας exception:"
   ]
  },
  {
   "cell_type": "code",
   "execution_count": 22,
   "metadata": {},
   "outputs": [],
   "source": [
    "# Θα εξηγήσουμε αργότερα στις κλάσεις τι σημαίνουν όλα αυτά\n",
    "class MyFabulousException(Exception):\n",
    "    pass"
   ]
  },
  {
   "cell_type": "code",
   "execution_count": 23,
   "metadata": {},
   "outputs": [
    {
     "ename": "MyFabulousException",
     "evalue": "",
     "output_type": "error",
     "traceback": [
      "\u001b[0;31m---------------------------------------------------------------------------\u001b[0m",
      "\u001b[0;31mMyFabulousException\u001b[0m                       Traceback (most recent call last)",
      "\u001b[0;32m<ipython-input-23-cb966f875a08>\u001b[0m in \u001b[0;36m<module>\u001b[0;34m()\u001b[0m\n\u001b[0;32m----> 1\u001b[0;31m \u001b[0;32mraise\u001b[0m \u001b[0mMyFabulousException\u001b[0m\u001b[0;34m\u001b[0m\u001b[0m\n\u001b[0m",
      "\u001b[0;31mMyFabulousException\u001b[0m: "
     ]
    }
   ],
   "source": [
    "raise MyFabulousException"
   ]
  },
  {
   "cell_type": "markdown",
   "metadata": {},
   "source": [
    "# Kλάσεις (μέρος 1ο)\n",
    "Αλήθεια δεν έχετε βαρεθεί με όλα αυτά τα lists, dictionaries, sets κτλ και με όλες τις ιδιοτροπίες τους; Γιατί πρέπει να βάζω τα γονίδια σε λίστες, τα χρωμοσώματα σε dictionaries κτλ; Δεν θα ήταν ωραίο να έφτιαχνα τον δικό μου τρόπο που διαχειρίζομαι και αποθηκεύω τα δεδομένα μου; \n",
    "\n",
    "Αυτό ακριβώς κάνουν οι κλάσεις!\n",
    "\n",
    "Με τις κλάσεις ορίζετε εσείς τι πράξεις μπορώ να κάνω στα δεδομένα, πως αποθηκεύονται, πως τυπώνονται, πως προσθέτω νέα, πως σβήνω παλιά, πως...\n",
    "\n",
    "Αλλά αρκετά με τα λόγια. Ας δούμε την πιο απλή κλάση που μπορεί να υπάρχει:"
   ]
  },
  {
   "cell_type": "code",
   "execution_count": 24,
   "metadata": {},
   "outputs": [],
   "source": [
    "class Human:\n",
    "    pass"
   ]
  },
  {
   "cell_type": "markdown",
   "metadata": {},
   "source": [
    "Μόλις έχω φτιάξει μία νέα κλάση. Τα lists, dictionaries, sets, exceptions είναι και αυτά κλάσεις. Ας φτιάξουμε τώρα ένα *αντικείμενο* από αυτή τη κλάση:"
   ]
  },
  {
   "cell_type": "code",
   "execution_count": 25,
   "metadata": {},
   "outputs": [],
   "source": [
    "alex = Human()"
   ]
  },
  {
   "cell_type": "markdown",
   "metadata": {},
   "source": [
    "Το alex είναι μία νέα μεταβλητή τύπου Human.\n",
    "\n",
    "Θυμηθείτε λίγο το:\n",
    "```python\n",
    "a = [1,2,3]\n",
    "```\n",
    "\n",
    "Όπως ακριβώς το a ήταν μία μεταβλητή τύπου list, έτσι και το alex είναι μία μεταβλητή τύπου Human. Δηλαδή έχουμε φτιάξει ένα νέο τύπου μεταβλητής."
   ]
  },
  {
   "cell_type": "code",
   "execution_count": 26,
   "metadata": {},
   "outputs": [
    {
     "data": {
      "text/plain": [
       "__main__.Human"
      ]
     },
     "execution_count": 26,
     "metadata": {},
     "output_type": "execute_result"
    }
   ],
   "source": [
    "type(alex)"
   ]
  },
  {
   "cell_type": "markdown",
   "metadata": {},
   "source": [
    "Εδώ πρέπει να κάνουμε ένα διάλειμα και να μιλήσουμε λίγο για την ορολογία. Όταν κάνουμε:\n",
    "```\n",
    "a=3\n",
    "```\n",
    "τότε λέμε ότι το a είναι μία μεταβλητή τύπου int και η τιμή της είναι 3.\n",
    "\n",
    "Όταν όμως λέμε:\n",
    "```\n",
    "alex=Human()\n",
    "```\n",
    "Τότε τι τιμή έχει το alex;\n",
    "\n",
    "Ακριβώς επειδή δεν μπορούμε να απαντήσουμε με ακρίβεια (και συντομία) σε αυτήν την ερώτηση, λέμε ότι το alex είναι ένα ξεχωριστό είδος μεταβλητής, το οποίο ονομάζουμε **αντικείμενο** (object). Ή για να είμαστε πιο ακριβείς, ένα αντικείμενο τύπου Human."
   ]
  },
  {
   "cell_type": "markdown",
   "metadata": {},
   "source": [
    "Όταν φτιάχνουμε έναν δικό μας τύπο μεταβλητής (δηλαδή όταν φτιάχνουμε ένα αντικείμενο μίας κλάσης), τότε μπορούμε να την κάνουμε να έχει ό,τι ιδιότητα θέλουμε:"
   ]
  },
  {
   "cell_type": "code",
   "execution_count": 27,
   "metadata": {},
   "outputs": [],
   "source": [
    "alex.name = \"Αλέξανδρος\"\n",
    "alex.age = 40"
   ]
  },
  {
   "cell_type": "code",
   "execution_count": 28,
   "metadata": {},
   "outputs": [
    {
     "name": "stdout",
     "output_type": "stream",
     "text": [
      "Αλέξανδρος 40\n"
     ]
    }
   ],
   "source": [
    "print (alex.name, alex.age)"
   ]
  },
  {
   "cell_type": "markdown",
   "metadata": {},
   "source": [
    "Έχουμε ξαναδεί αυτό το ```μεταβλητή.ιδιότητα``` και πιο παλιά.\n",
    "\n",
    "όταν κάναμε:\n",
    "```python\n",
    "a = [1,2,4]\n",
    "a.append(5)\n",
    "```\n",
    "\n",
    "Τότε χρησιμοποιούσαμε την ιδιότητα ```append``` της κλάσης ```list```  "
   ]
  },
  {
   "cell_type": "markdown",
   "metadata": {},
   "source": [
    "Ας φτιάξω τώρα στον alex μία ιδιότητα που υπολογίζει αν είναι ενήλικας ή όχι. Πως θα το κάνω αυτό; Ένας τρόπος είναι αυτός:"
   ]
  },
  {
   "cell_type": "code",
   "execution_count": 29,
   "metadata": {},
   "outputs": [
    {
     "data": {
      "text/plain": [
       "True"
      ]
     },
     "execution_count": 29,
     "metadata": {},
     "output_type": "execute_result"
    }
   ],
   "source": [
    "def is_adult(human):\n",
    "    return human.age >= 18\n",
    "\n",
    "is_adult(alex)"
   ]
  },
  {
   "cell_type": "markdown",
   "metadata": {},
   "source": [
    "Αν και το παραπάνω μας έδωσε το αποτέλεσμα που θέλαμε, η συνάρτηση is_adult ΔΕΝ είναι ιδιότητα του alex (όπως π.χ είναι το name και το age). \n",
    "\n",
    "Δηλαδή αντί για:\n",
    "```python\n",
    "is_adult(alex)\n",
    "```\n",
    "\n",
    "Εμείς θέλουμε να κάνουμε:\n",
    "```python\n",
    "alex.is_adult()\n",
    "```\n",
    "Προσέξτε ότι η is_adult() τώρα ΔΕΝ παίρνει κάποιο όρισμα!\n",
    "Τότε πως θα μπορέσω εγώ να πάρω το age για να δω αν είναι adult ή όχι;\n",
    "\n",
    "Η python μας δίνει τη δυνατότητα να φτιάξουμε συναρτήσεις οι οποίες μπορούν να είναι ιδιότητες σε ένα αντικείμενο. Για να γίνει αυτό, πρέπει να ικανοποιηθούν 2 προϋποθέσεις:\n",
    "* Η πρώτη προϋπόθεση είναι ότι το πρώτο όρισμα της συνάρτησης πρέπει να είναι μία μεταβλητή που ονομάζεται: ```self```. Η ```self``` περιέχει το αντικείμενο για το οποίο \"καλείται\" η συνάρτηση αυτή. Δηλαδή όταν λέμε: ```αντικείμενο.μέθοδος()```, το ```self``` είναι το ```αντικείμενο```. Στη περίπτωσή μας, όταν λέμε ```alex.is_adult()```, το ```self``` περιέχει το αντικείμενο ```alex```.\n",
    "* Η συνάρτηση πρέπει να ορίζεται μέσα στη κλάση και όχι μέσα στο αντικείμενο. \n",
    "\n",
    "Αυτές οι δύο προυποθέσεις συνοψίζονται στο παρακάτω παράδειγμα: "
   ]
  },
  {
   "cell_type": "code",
   "execution_count": 31,
   "metadata": {},
   "outputs": [],
   "source": [
    "class Human:\n",
    "    # Η Συνάρτηση ορίζεται μέσα στη κλάση\n",
    "    def is_adult(self,): # Το πρώτο όρισμα είναι το self\n",
    "        return self.age >= 18"
   ]
  },
  {
   "cell_type": "markdown",
   "metadata": {},
   "source": [
    "Τώρα μπορώ να κάνω:"
   ]
  },
  {
   "cell_type": "code",
   "execution_count": 32,
   "metadata": {},
   "outputs": [
    {
     "data": {
      "text/plain": [
       "True"
      ]
     },
     "execution_count": 32,
     "metadata": {},
     "output_type": "execute_result"
    }
   ],
   "source": [
    "alex = Human()\n",
    "alex.age = 40\n",
    "alex.is_adult()"
   ]
  },
  {
   "cell_type": "markdown",
   "metadata": {},
   "source": [
    "Το παραπάνω κρύβει πολύ \"φιλοσοφία\" μέσα του. Ας το ξαναγράψουμε:\n",
    "```python\n",
    "alex = Human()\n",
    "alex.age = 40\n",
    "alex.is_adult()\n",
    "```\n",
    "\n",
    "Προσέξτε το εξής: Έχω ορίσει έναν νέο τύπο μεταβλητής (Human) το οποίο αν του βάλω ένα πεδίο με το όνομα age τότε μπορεί να υπολογίσει αν αυτό το Human είναι adult ή όχι. Δηλαδή ο νέος τύπος (Human) δημιουργεί μεταβλητές που έχουν μια *συμπεριφορά*: αυτή του να υπολογίζουν αν η μεταβλητή αναφέρεται σε ενήλικο ή όχι. Επίσης παρατηρούμε ότι κάποιος δεν χρειάζεται να έχει ιδέα για το πως έχει υλοποιηθεί η is_adult, αρκεί να ξέρει ότι είναι *μέθοδος* της κλάσης. Όπως ακριβώς δεν έχουμε ιδέα πως έχει υλοποιηθεί η append στις λίστες. Μέθοδος μίας κλάσης είναι μία ιδιότητα η οποία είναι συνάρτηση.\n",
    "\n",
    "Το ```alex.is_adult()``` με  το ```is_adult(alex)``` έχουν μια τεράστια διαφορά: Αν διαβάσουμε το πρώτο (```alex.is_adult()```) από αριστερά προς τα δεξιά τότε πάμε από το γενικό (```alex```) προς το ειδικό (```is_adult```). Ενώ αν διαβάσουμε το δεύτερο τότε πάμε από το ειδικό προς το γενικό. \n",
    "\n",
    "Στη \"πραγματική\" ζωή τι είναι πιο πιθανό να ρωτάγαμε: \"Είναι ο Alex ενήλικας;\" ή \"Είναι ενήλικας ο Alex;\" (δοκιμάστε το και στα Αγγλικά που δεν επιτρέπουν τόσο ποικιλία στη θέση των λέξεων όσο τα Ελληνικά).\n",
    "\n",
    "### Και λίγο ιστορία\n",
    "Στη προσπάθεια λοιπόν να γίνει ο προγραμματισμός πιο \"φυσιολογικός\" και πιο κοντά στην ανθρώπινη αντίληψη, εισήχθει τη δεκαετία του '50 η έννοια του [*αντικειμενοστραφή* προγραμματισμού](https://en.wikipedia.org/wiki/Object-oriented_programming). Όπως και όλες σχεδόν οι προγραμματιστικές έννοιες έχει περάσει απο \"40 κύματα\", δηλαδή με πολλές υλοποιήσεις και ορισμούς.\n",
    "\n",
    "Αυτό που πρέπει να κρατήσουμε είναι ότι μέσω του ΑΣΠ (ΑντικειμενοΣτραφής Προγραμματισμός) (OOP στα Αγγλικά) μπορούμε να χρησιμοποιήσουμε το συντακτικό της python για να γράψουμε πράγματα που βγάζουν πιο έυκολα νόημα. π.χ.:\n",
    "\n",
    "Δηλαδή ένα κομμάτι ΑΣΠ προγραμματισμού τύπικα έχει εντολές όπως αυτές:\n",
    "\n",
    "```python \n",
    "if geneA.is_in_between(geneB)...\n",
    "if debt.is_paid()....\n",
    "alex.hire()\n",
    "if circle_A > circle_B ...\n",
    "```\n",
    "\n",
    "Οι ίδιες εντολές αν υποθέσουμε ότι χρησιμοποιούμε μόνο lists, dictionaries, sets κτλ και δεν χρησιμοποιούμε ΑΣΠ θα ήταν κάπως έτσι:\n",
    "\n",
    "```python\n",
    "if geneA['start'] > geneB['start'] and geneA['start'] < geneB['end']...\n",
    "if debt['capital']['balance'] == 0.0...\n",
    "alex['job_status'] = statuses['hired']\n",
    "if circle_A['radius'] > circle_B['radius']\n",
    "```\n",
    "\n",
    "Παρατηρούμε πόσο πιο κοντά στην ανθρώπινη αντίληψη είναι το πρώτο σετ εντολών. "
   ]
  },
  {
   "cell_type": "markdown",
   "metadata": {},
   "source": [
    "Αν έχετε μπερδευτεί είναι φυσιολογικό. Ας συνοψίσουμε λίγο την ορολογία:\n",
    "* **Κλάση** (class): Ένας τύπος δεδομένων κατάλληλος για συγκεκριμένες έννοιες (άνθρωπος, εταιρία, γονίδιο, ασθένεια)\n",
    "* **Αντικείμενο** (οbject): Μία μεταβλητή που ο τύπος της είναι μία κλάση. (σε αντιστοιχία με τα παραπάνω: Μίτσος, public, TPMT, Δαλτονισμός)\n",
    "* **Ιδιότητα** (attribute): Μία ιδιότητα της κλάσσης (σε αντιστοιχία με τα παραπάνω: όνομα, πλήθος εργαζομένων, μήκος, γενετικός παράγοντας)\n",
    "* **Μέθοδος** (method): Μία ιδιότητα που είναι συνάρτηση (σε αντιστοιχία με τα παραπάνω: περπατάει, προσλαμβάνει, εκφράζεται, αντιμετωπίζεται)\n"
   ]
  },
  {
   "cell_type": "markdown",
   "metadata": {},
   "source": [
    "Ας επιστρέψουμε στη κλάση που έχουμε φτιάξει:"
   ]
  },
  {
   "cell_type": "code",
   "execution_count": 36,
   "metadata": {},
   "outputs": [],
   "source": [
    "class Human:\n",
    "    # Η Συνάρτηση ορίζεται μέσα στη κλάση\n",
    "    def is_adult(self,): # Το πρώτο όρισμα είναι το self\n",
    "        return self.age >= 18"
   ]
  },
  {
   "cell_type": "markdown",
   "metadata": {},
   "source": [
    "Αν φτιάξουμε έναν άνθρωπο και δεν του δώσουμε ηλικία, προφανώς δεν μπορούμε να τρέξουμε την is_adult:"
   ]
  },
  {
   "cell_type": "code",
   "execution_count": 37,
   "metadata": {},
   "outputs": [
    {
     "ename": "AttributeError",
     "evalue": "'Human' object has no attribute 'age'",
     "output_type": "error",
     "traceback": [
      "\u001b[0;31m---------------------------------------------------------------------------\u001b[0m",
      "\u001b[0;31mAttributeError\u001b[0m                            Traceback (most recent call last)",
      "\u001b[0;32m<ipython-input-37-efae3772950a>\u001b[0m in \u001b[0;36m<module>\u001b[0;34m()\u001b[0m\n\u001b[1;32m      1\u001b[0m \u001b[0mkostas\u001b[0m \u001b[0;34m=\u001b[0m \u001b[0mHuman\u001b[0m\u001b[0;34m(\u001b[0m\u001b[0;34m)\u001b[0m\u001b[0;34m\u001b[0m\u001b[0m\n\u001b[1;32m      2\u001b[0m \u001b[0mkostas\u001b[0m\u001b[0;34m.\u001b[0m\u001b[0mname\u001b[0m\u001b[0;34m=\u001b[0m\u001b[0;34m\"Κώτσος\"\u001b[0m\u001b[0;34m\u001b[0m\u001b[0m\n\u001b[0;32m----> 3\u001b[0;31m \u001b[0mkostas\u001b[0m\u001b[0;34m.\u001b[0m\u001b[0mis_adult\u001b[0m\u001b[0;34m(\u001b[0m\u001b[0;34m)\u001b[0m\u001b[0;34m\u001b[0m\u001b[0m\n\u001b[0m",
      "\u001b[0;32m<ipython-input-36-3b5fc2a2b980>\u001b[0m in \u001b[0;36mis_adult\u001b[0;34m(self)\u001b[0m\n\u001b[1;32m      2\u001b[0m     \u001b[0;31m# Η Συνάρτηση ορίζεται μέσα στη κλάση\u001b[0m\u001b[0;34m\u001b[0m\u001b[0;34m\u001b[0m\u001b[0m\n\u001b[1;32m      3\u001b[0m     \u001b[0;32mdef\u001b[0m \u001b[0mis_adult\u001b[0m\u001b[0;34m(\u001b[0m\u001b[0mself\u001b[0m\u001b[0;34m,\u001b[0m\u001b[0;34m)\u001b[0m\u001b[0;34m:\u001b[0m \u001b[0;31m# Το πρώτο όρισμα είναι το self\u001b[0m\u001b[0;34m\u001b[0m\u001b[0m\n\u001b[0;32m----> 4\u001b[0;31m         \u001b[0;32mreturn\u001b[0m \u001b[0mself\u001b[0m\u001b[0;34m.\u001b[0m\u001b[0mage\u001b[0m \u001b[0;34m>=\u001b[0m \u001b[0;36m18\u001b[0m\u001b[0;34m\u001b[0m\u001b[0m\n\u001b[0m",
      "\u001b[0;31mAttributeError\u001b[0m: 'Human' object has no attribute 'age'"
     ]
    }
   ],
   "source": [
    "kostas = Human()\n",
    "kostas.name=\"Κώτσος\"\n",
    "kostas.is_adult()"
   ]
  },
  {
   "cell_type": "markdown",
   "metadata": {},
   "source": [
    "Πως μπορούμε να υποχρεώσουμε όταν δηλώνουμε ένα αντικείμενο τύπου Human, να δηλώνουμε και το age; Αυτό μπορεί να γίνε με την μέθοδο ```__init__()```:"
   ]
  },
  {
   "cell_type": "code",
   "execution_count": 38,
   "metadata": {},
   "outputs": [],
   "source": [
    "class Human:\n",
    "    def __init__(self, age):\n",
    "        self.age = age\n",
    "    # Η Συνάρτηση ορίζεται μέσα στη κλάση\n",
    "    def is_adult(self,): # Το πρώτο όρισμα είναι το self\n",
    "        return self.age >= 18"
   ]
  },
  {
   "cell_type": "markdown",
   "metadata": {},
   "source": [
    "Τι είναι αυτό το:\n",
    "\n",
    "```python\n",
    "self.age=age\n",
    "```\n",
    "\n",
    "Εδώ όταν αρχικοποιούμε ένα αντικείμενο, δημιουργούμε μία ιδιότητα (self.age) και την αρχικοποιούμε με την τιμη της παραμετρου age της ```__init__```:"
   ]
  },
  {
   "cell_type": "code",
   "execution_count": 39,
   "metadata": {},
   "outputs": [
    {
     "ename": "TypeError",
     "evalue": "__init__() missing 1 required positional argument: 'age'",
     "output_type": "error",
     "traceback": [
      "\u001b[0;31m---------------------------------------------------------------------------\u001b[0m",
      "\u001b[0;31mTypeError\u001b[0m                                 Traceback (most recent call last)",
      "\u001b[0;32m<ipython-input-39-12a27f13d5ce>\u001b[0m in \u001b[0;36m<module>\u001b[0;34m()\u001b[0m\n\u001b[0;32m----> 1\u001b[0;31m \u001b[0malex\u001b[0m \u001b[0;34m=\u001b[0m \u001b[0mHuman\u001b[0m\u001b[0;34m(\u001b[0m\u001b[0;34m)\u001b[0m\u001b[0;34m\u001b[0m\u001b[0m\n\u001b[0m",
      "\u001b[0;31mTypeError\u001b[0m: __init__() missing 1 required positional argument: 'age'"
     ]
    }
   ],
   "source": [
    "alex = Human()"
   ]
  },
  {
   "cell_type": "markdown",
   "metadata": {},
   "source": [
    "Είμαστε υποχρεωμένοι να δηλώσουμε age!"
   ]
  },
  {
   "cell_type": "code",
   "execution_count": 40,
   "metadata": {},
   "outputs": [],
   "source": [
    "alex = Human(age=40)"
   ]
  },
  {
   "cell_type": "code",
   "execution_count": 41,
   "metadata": {},
   "outputs": [
    {
     "data": {
      "text/plain": [
       "True"
      ]
     },
     "execution_count": 41,
     "metadata": {},
     "output_type": "execute_result"
    }
   ],
   "source": [
    "alex.is_adult()"
   ]
  },
  {
   "cell_type": "markdown",
   "metadata": {},
   "source": [
    "Οι κλάσεις έχουν κάποιες \"ειδικές\" μεθόδους οι οποίες καλούνται μέσα από της built-in συναρτήσεις (```print```, ```len```, ...) της python. Μία από αυτές είναι η ```___str___```. Αυτή η συνάρτηση καλείται όποτε χρειαζόμαστε μια αναπαράσταση της κλάσης σε string (συνήθως μέσω της ```print```): "
   ]
  },
  {
   "cell_type": "code",
   "execution_count": 42,
   "metadata": {},
   "outputs": [
    {
     "name": "stdout",
     "output_type": "stream",
     "text": [
      "-->Δημήτρης Τραμπάκουλας<--\n"
     ]
    }
   ],
   "source": [
    "class Person:\n",
    "    def __init__(self, name, surname):\n",
    "        self.name = name\n",
    "        self.surname = surname\n",
    "    def __str__(self):\n",
    "        return '-->{} {}<--'.format(self.name, self.surname)\n",
    "    \n",
    "mitsos = Person(\"Δημήτρης\", \"Τραμπάκουλας\")\n",
    "print (mitsos)"
   ]
  },
  {
   "cell_type": "markdown",
   "metadata": {},
   "source": [
    "Μία άλλη μέθοδος είναι η ```__len__``` η οποία καλείται όταν εφαρμόζουμε στο αντικέμενο μας την ```len()```:"
   ]
  },
  {
   "cell_type": "code",
   "execution_count": 43,
   "metadata": {},
   "outputs": [
    {
     "data": {
      "text/plain": [
       "50"
      ]
     },
     "execution_count": 43,
     "metadata": {},
     "output_type": "execute_result"
    }
   ],
   "source": [
    "class Gene:\n",
    "    def __init__(self, name, start, stop):\n",
    "        self.name = name\n",
    "        self.start = start\n",
    "        self.stop = stop\n",
    "        \n",
    "    def __len__(self,):\n",
    "        return self.stop-self.start\n",
    "    \n",
    "tpmt = Gene('TPMT', 150, 200)\n",
    "len(tpmt) # 200-150"
   ]
  },
  {
   "cell_type": "markdown",
   "metadata": {},
   "source": [
    "Μπορούμε να δούμε όλες τις \"ειδικές\" μεθόδους που έχει μία κλάση:"
   ]
  },
  {
   "cell_type": "code",
   "execution_count": 44,
   "metadata": {},
   "outputs": [
    {
     "data": {
      "text/plain": [
       "['__class__',\n",
       " '__delattr__',\n",
       " '__dict__',\n",
       " '__dir__',\n",
       " '__doc__',\n",
       " '__eq__',\n",
       " '__format__',\n",
       " '__ge__',\n",
       " '__getattribute__',\n",
       " '__gt__',\n",
       " '__hash__',\n",
       " '__init__',\n",
       " '__init_subclass__',\n",
       " '__le__',\n",
       " '__len__',\n",
       " '__lt__',\n",
       " '__module__',\n",
       " '__ne__',\n",
       " '__new__',\n",
       " '__reduce__',\n",
       " '__reduce_ex__',\n",
       " '__repr__',\n",
       " '__setattr__',\n",
       " '__sizeof__',\n",
       " '__str__',\n",
       " '__subclasshook__',\n",
       " '__weakref__']"
      ]
     },
     "execution_count": 44,
     "metadata": {},
     "output_type": "execute_result"
    }
   ],
   "source": [
    "dir(Gene)"
   ]
  },
  {
   "cell_type": "markdown",
   "metadata": {},
   "source": [
    "### Ένα ολοκληρωμένο παράδειγμα\n",
    "Αρκετά με τα λόγια. Ας κάνουμε τη παρακάτω άσκηση αποκλειστικά με κλάσεις."
   ]
  },
  {
   "cell_type": "markdown",
   "metadata": {},
   "source": [
    "[Σε αυτό το link](https://s3.eu-central-1.amazonaws.com/kantalepythonlessons/data.txt) υπάρχει ένα αρχείο το οποίο περιέχει βασικές πληροφορίες για 1000 γονίδια. Πρέπει να κατεβάσετε το αρχείο αυτό και να το αποθηκεύσετε στον υπολογιστή σας με το όνομα ```data.txt```. Ας το κάνουμε: "
   ]
  },
  {
   "cell_type": "code",
   "execution_count": 46,
   "metadata": {},
   "outputs": [
    {
     "name": "stdout",
     "output_type": "stream",
     "text": [
      "--2019-11-22 10:52:28--  https://s3.eu-central-1.amazonaws.com/kantalepythonlessons/data.txt\n",
      "Resolving s3.eu-central-1.amazonaws.com (s3.eu-central-1.amazonaws.com)... 52.219.74.139\n",
      "Connecting to s3.eu-central-1.amazonaws.com (s3.eu-central-1.amazonaws.com)|52.219.74.139|:443... connected.\n",
      "HTTP request sent, awaiting response... 200 OK\n",
      "Length: 35335 (35K) [text/plain]\n",
      "Saving to: 'data.txt'\n",
      "\n",
      "data.txt            100%[===================>]  34.51K  --.-KB/s    in 0.05s   \n",
      "\n",
      "2019-11-22 10:52:29 (677 KB/s) - 'data.txt' saved [35335/35335]\n",
      "\n"
     ]
    }
   ],
   "source": [
    "!wget -O data.txt https://s3.eu-central-1.amazonaws.com/kantalepythonlessons/data.txt"
   ]
  },
  {
   "cell_type": "markdown",
   "metadata": {},
   "source": [
    "Οι πρώτες 10 γραμμές του αρχείου είναι:"
   ]
  },
  {
   "cell_type": "code",
   "execution_count": 47,
   "metadata": {},
   "outputs": [
    {
     "name": "stdout",
     "output_type": "stream",
     "text": [
      "Gene Symbol;Entrez ID;Chr;Start;Stop;Strand\r\n",
      "DCBLD1;285761;6;117803803;117891021;+\r\n",
      "MEIS1;4211;2;66662257;66799891;+\r\n",
      "MED27;9442;9;134735497;134955274;-\r\n",
      "STAU1;6780;20;47729876;47804907;-\r\n",
      "IPO9;55705;1;201798288;201853422;+\r\n",
      "DNAJC4;3338;11;63997594;64001753;+\r\n",
      "DUSP10;11221;1;221874764;221916204;-\r\n",
      "GABRP;2568;5;170210723;170241051;+\r\n",
      "LIN28B;389421;6;105384874;105531207;+\r\n"
     ]
    }
   ],
   "source": [
    "!head data.txt"
   ]
  },
  {
   "cell_type": "markdown",
   "metadata": {},
   "source": [
    "H πρώτη γραμμή του αρχείου είναι η επικεφαλίδα (header). Κάθε μία από τις υπόλοιπες 1000 γραμμές περιέχουν πληροφορίες για ένα γονίδιο. Το αρχείο περιέχει 6 στήλες. Οι στήλες διαχωρίζονται με τον χαρακτήρα: ```;``` (ελληνικό ερωτηματικό). Αυτές οι στήλες είναι:\n",
    "\n",
    "* Στήλη: ```Gene Symbol``` περιέχει το όνομα του γονιδίου.\n",
    "* Στήλη: ```Entrez ID``` περιέχει έναν μοναδικό κωδικό για αυτό το γονίδιο (μπορούμε να το αγνοήσουμε αυτό)\n",
    "* Στήλη: ```Chr``` περέχει σε ποιο χρωμόσωμα ανοίκει το γονίδιο (από 1 μέχρι 22)\n",
    "* Στήλη: ```Start``` περιέχει τη θέση στο χρωμόσωμα που αρχίζει το γονίδιο (ή αλλιώς start position).\n",
    "* Στήλη: ```Stop``` περιέχει τη θέση στο χρωμόσωμα που τελειώνει το γονίδιο (ή αλλιώς end position).\n",
    "* Στήλη: ```Strand``` περιέχει αν το γονίδιο βρίσκεται στο positive (+) ή negative strand (-). Δεν χρειάζεται να ψάξετε τι ακριβώς σημαίνει αυτό για να λύσετε τις ασκήσεις!\n",
    "\n",
    "Απαντήστε με python στις παρακάτω ερωτήσεις:\n",
    " \n",
    "* Ερ 1: Ποιο χρωμόσωμα έχει τα περισσότερα γονίδια;\n",
    "* Ερ 2: Ποιο είναι το  μεγαλύτερο γονίδιο; (Το μήκος του γονιδίου είναι Stop-Start)\n",
    "* Ερ 3: Τυπώστε όλα τα γονίδια που ανοίκουν στον χρωμόσωμα 6 ταξινομημένα ανάλογα με τη θέση που αρχίζουν.\n",
    "* Ερ 4: Φτιάξτε μια συνάρτηση που θα παίρνει το όνομα ενός γονιδίου και θα βρίσκει ποιο γονίδιο είναι ποιο κοντά. Η απόσταση μεταξύ 2 γονιδίων (για αυτή την άσκηση) ορίζεται μόνο για γονίδια που ανοίκουν στο ίδιο χρωμόσωμα και είναι η απόλυτη διαφορά του start position τους.\n",
    "* Ερ 5: Πόσος είναι ο μέσος όρος του μήκους των γονιδίων που ανοίκουν σε ζυγό χρωμόσωμα (2,4,6,...) και βρίσκονται στο negative strand position;\n",
    "* Ερ 6: Υπάρχουν κάποια γονίδια με το ίδιο ```Entrez ID```;\n",
    "* **Προαιρετική**: Υπάρχουν γονίδια με Start position ανάμεσα στα Start και End position άλλων γονιδίων (που να ανοίκουν στο ίδιο χρωμόσωμα); Αν ναι, ποια ζευγάρια γονιδίων είναι αυτά;\n",
    "\n",
    "Σημείωση: Τα δεδομένα προέρχονται από το paper:\n",
    "> Hammerschlag, Anke R., et al. \\\"Genome-wide association analysis of insomnia complaints identifies risk genes and genetic overlap with psychiatric and metabolic traits.\\\" Nature Genetics (2017). https://www.nature.com/articles/ng.3888 . [Supplementary Table 6](https://images.nature.com/original/nature-assets/ng/journal/v49/n11/extref/ng.3888-S3.xlsx)\""
   ]
  },
  {
   "cell_type": "code",
   "execution_count": 52,
   "metadata": {},
   "outputs": [],
   "source": [
    "class CSV:\n",
    "    '''\n",
    "    Αυτή η κλάση διαχειρίζεται csv αρχεία.\n",
    "    '''\n",
    "    def __init__(self, filename, sep=',', header=True, preprocess_fields=None):\n",
    "        '''\n",
    "        sep: separator\n",
    "        header: Does it have header?\n",
    "        preprocess_fields: Optional apply a function to the data of a column.\n",
    "                    It is a dictionary\n",
    "        '''\n",
    "        self.filename = filename\n",
    "        self.sep = sep\n",
    "        self.header_exists = header\n",
    "        self.preprocess_fields = preprocess_fields\n",
    "        \n",
    "        #Parse the file\n",
    "        self.parse_file()\n",
    "        \n",
    "    def parse_file(self,):\n",
    "        '''\n",
    "        parses the CSV file\n",
    "        '''\n",
    "        with open(self.filename) as f:\n",
    "            data = f.read()\n",
    "            \n",
    "        data = data.split('\\n')\n",
    "        data = [x.split(self.sep) for x in data if x]\n",
    "        \n",
    "        if self.header_exists:\n",
    "            self.header = data[0]\n",
    "            self.data = data[1:]\n",
    "        else:\n",
    "            self.header = None # Δεν έχουμε header\n",
    "            self.data = data\n",
    "            \n",
    "        if (self.preprocess_fields):\n",
    "            self.preprocess()\n",
    "            \n",
    "    def preprocess(self,):\n",
    "        '''\n",
    "        Preprocesses the data\n",
    "        '''\n",
    "        \n",
    "        # We need the header to preprocess\n",
    "        if self.header is None:\n",
    "            raise Exception('Dataset needs to have a header to preprocess')\n",
    "        \n",
    "        for key, preprocess_function in self.preprocess_fields.items():\n",
    "            if not key in self.header:\n",
    "                continue\n",
    "            \n",
    "            index = self.header.index(key)\n",
    "            for data_row in self.data:\n",
    "                data_row[index] = preprocess_function(data_row[index])\n",
    "                \n",
    "    def dict_iterator(self,):\n",
    "        '''\n",
    "        Returns an iterator\n",
    "        Each item that it yields is a dictionary\n",
    "        '''\n",
    "        \n",
    "        if self.header is None:\n",
    "            raise Exception('Dataset needs to have a header in order to create an iterator')\n",
    "        \n",
    "        for d in self.data:\n",
    "            yield dict(zip(self.header, d))\n",
    "\n",
    "\n",
    "class Gene:\n",
    "        '''\n",
    "        A single gene\n",
    "        '''\n",
    "        def __init__(self, data):\n",
    "            self.name=data['Gene Symbol']\n",
    "            self.entrez=data['Entrez ID']\n",
    "            self.start=data['Start']\n",
    "            self.stop=data['Stop']\n",
    "            self.chromosome=data['Chr']\n",
    "            self.strand=data['Strand']  \n",
    "            \n",
    "        def __len__(self,):\n",
    "            '''\n",
    "            Αυτή η συνάρτηση καλείται όταν θέλουμε να εφαρμόζουμε το len() σε ένα αντικείμενο αυτής της κλάσσης\n",
    "            '''\n",
    "            return self.stop - self.start\n",
    "        \n",
    "        def __str__(self,):\n",
    "            '''\n",
    "            Αυτή η συνάρτηση καλείται όταν τυπώνουμε (π.χ. με τη print) ένα αντικείμενο αυτής της κλάσσης\n",
    "            '''\n",
    "            return '{} {} chr:{}:{}-{}/{}'.format(\n",
    "                self.name, \n",
    "                self.entrez, \n",
    "                self.chromosome,\n",
    "                self.start,\n",
    "                self.stop,\n",
    "                self.strand,\n",
    "            )\n",
    "        \n",
    "        def distance(self, gene):\n",
    "            '''\n",
    "            Επιστρέφει την απόσταση αυτού με ένα άλλο γονίδιο\n",
    "            '''\n",
    "            \n",
    "            #Αν δεν ανοίκουν στο ίδιο χρωμόσωμα δεν ορίζεται η απόσταση\n",
    "            if (self.chromosome != gene.chromosome):\n",
    "                return None\n",
    "            \n",
    "            return abs(self.start-gene.start)\n",
    "        \n",
    "        def in_between(self, gene):\n",
    "            '''\n",
    "            Ελέγχει αν το gene είναι \"μέσα\" σε αυτό το γονίδιο\n",
    "            '''\n",
    "            if self.chromosome != gene.chromosome:\n",
    "                return False\n",
    "            \n",
    "            if self.name == gene.name:\n",
    "                return False\n",
    "            \n",
    "            return self.start < gene.start < self.stop\n",
    "\n",
    "class GeneList:\n",
    "    '''\n",
    "    Stores and manages a list of genes\n",
    "    '''\n",
    "    \n",
    "    def __init__(self, filename=None, genes=None):\n",
    "        '''\n",
    "        Feeds the class with data from either:\n",
    "        filename: data from the filename\n",
    "        genes: A GeneList\n",
    "        '''\n",
    "        \n",
    "        if filename:\n",
    "            self.data = CSV(\n",
    "                filename=filename,\n",
    "                sep=';',\n",
    "                preprocess_fields = {\n",
    "                    'Start': int,\n",
    "                    'Stop': int,\n",
    "                }\n",
    "            )\n",
    "        \n",
    "            self.genes = [Gene(d) for d in self.data.dict_iterator()]\n",
    "            \n",
    "        elif genes:\n",
    "            self.genes = genes\n",
    "        else:\n",
    "            raise Exception ('At least one of filename , genes must be declared')\n",
    "    \n",
    "    def find_all_chromosomes(self,):\n",
    "        '''\n",
    "        Which chromosomes are in the dataset?\n",
    "        '''\n",
    "        self.all_chromosomes = set([g.chromosome for g in self.genes])\n",
    "    \n",
    "    def filter(self, filter_function):\n",
    "        '''\n",
    "        Create a new gene list from an existing.\n",
    "        filter_function: the function to filter\n",
    "        '''\n",
    "        return GeneList(\n",
    "            genes = [g for g in self.genes if filter_function(g)]\n",
    "        )\n",
    "    \n",
    "    def __len__(self, ):\n",
    "        '''\n",
    "        If we implement this method then we can apply len() in an object of the class!\n",
    "        '''\n",
    "        return len(self.genes)\n",
    "    \n",
    "    def count_chromosomes(self,):\n",
    "        self.find_all_chromosomes()\n",
    "        self.chromosome_counts = [(len(self.filter(lambda g:g.chromosome==c)), c) for c in self.all_chromosomes]\n",
    "\n",
    "    def sorted(self, key):\n",
    "        '''\n",
    "        Return a sorted genelist\n",
    "        '''\n",
    "        return GeneList(\n",
    "            genes = sorted(self.genes, key=key)\n",
    "        )\n",
    "        \n",
    "    def __str__(self,):\n",
    "        '''\n",
    "        Αυτή η συνάρτηση καλείται όταν θέλουμε να κάνουμε print ένα οbject αυτής της κλάσσης\n",
    "        '''\n",
    "        return '\\n'.join(map(str,self.genes))\n",
    "    \n",
    "    def get_name(self, name):\n",
    "        '''\n",
    "        Returns the gene with that name\n",
    "        '''\n",
    "        for g in self.genes:\n",
    "            if g.name == name:\n",
    "                return g\n",
    "            \n",
    "        raise Exception('Could not find gene with name: {}'.format(name))\n",
    "    \n",
    "    def closer(self, gene=None, name=None):\n",
    "        '''\n",
    "        Get the gene that is closer to the gene in the parameters\n",
    "        '''\n",
    "        \n",
    "        if name:\n",
    "            gene = self.get_name(name)\n",
    "        elif gene:\n",
    "            pass\n",
    "        else:\n",
    "            raise Exception('One o')\n",
    "        \n",
    "        all_distances = [(gene.distance(x), str(x)) for x in self.genes if gene.name != x.name and gene.chromosome == x.chromosome]\n",
    "        \n",
    "        return min(all_distances)\n",
    "    \n",
    "    def average_length(self,):\n",
    "        '''\n",
    "        Average length of all genes\n",
    "        '''\n",
    "        \n",
    "        return sum(map(len, self.genes))/len(self)\n",
    "\n",
    "    def check_entrez(self,):\n",
    "        '''\n",
    "        Check Entrez for double entries\n",
    "        '''\n",
    "        \n",
    "        return len(self.genes) == len(set([gene.name for gene in self.genes]))\n",
    "    \n",
    "    def in_between(self, geneList):\n",
    "        '''\n",
    "        Check if any of the genes in this object are in between genes in geneList\n",
    "        '''\n",
    "        \n",
    "        for gene_1 in self.genes:\n",
    "            for gene_2 in geneList.genes:\n",
    "                if gene_1.in_between(gene_2):\n",
    "                    print ('THIS GENE:\\n   {}\\nIS IN BETWEEN THIS GENE:\\n   {}\\n'.format(gene_2, gene_1))\n",
    "\n",
    "my_list = GeneList('data.txt')\n",
    "\n"
   ]
  },
  {
   "cell_type": "code",
   "execution_count": 53,
   "metadata": {},
   "outputs": [
    {
     "data": {
      "text/plain": [
       "(107, '11')"
      ]
     },
     "execution_count": 53,
     "metadata": {},
     "output_type": "execute_result"
    }
   ],
   "source": [
    "# Er.1. Ποιο χρωμόσωμα έχει τα περισσότερα γονίδια;\n",
    "my_list.count_chromosomes()\n",
    "max(my_list.chromosome_counts)"
   ]
  },
  {
   "cell_type": "code",
   "execution_count": 54,
   "metadata": {},
   "outputs": [
    {
     "name": "stdout",
     "output_type": "stream",
     "text": [
      "DPP10 57628 chr:2:115199899-116603328/+\n"
     ]
    }
   ],
   "source": [
    "#Er.2. Ποιο είναι το μεγαλύτερο γονίδιο; (Το μήκος του γονιδίου είναι Stop-Start)\n",
    "print(max(my_list.genes, key=len))"
   ]
  },
  {
   "cell_type": "code",
   "execution_count": 55,
   "metadata": {},
   "outputs": [
    {
     "name": "stdout",
     "output_type": "stream",
     "text": [
      "MYLK4 340156 chr:6:2663863-2765615/-\n",
      "C6orf201 404220 chr:6:4079440-4131000/+\n",
      "ECI2 10455 chr:6:4115927-4135831/-\n",
      "DTNBP1 84062 chr:6:15523032-15663289/-\n",
      "HIST1H4C 8364 chr:6:26104176-26104565/+\n",
      "HIST1H2BL 8340 chr:6:27775257-27775709/-\n",
      "HIST1H2AI 8329 chr:6:27775977-27776445/+\n",
      "HIST1H2AJ 8331 chr:6:27782080-27782518/-\n",
      "HIST1H2BM 8342 chr:6:27782822-27783267/+\n",
      "HIST1H2AK 8330 chr:6:27805658-27806117/-\n",
      "HIST1H1B 3009 chr:6:27834570-27835359/-\n",
      "MCCD1 401250 chr:6:31496739-31498008/+\n",
      "DDX39B 7919 chr:6:31497996-31510252/-\n",
      "LY6G5C 80741 chr:6:31644461-31648150/-\n",
      "BAK1 578 chr:6:33540323-33548072/-\n",
      "ITPR3 3710 chr:6:33587951-33664351/+\n",
      "IP6K3 117283 chr:6:33689415-33714762/-\n",
      "LEMD2 221496 chr:6:33738990-33756906/-\n",
      "MLN 4295 chr:6:33762449-33771793/-\n",
      "PI16 221476 chr:6:36916039-36932613/+\n",
      "RRP36 88745 chr:6:42989385-42997337/+\n",
      "PTK7 5754 chr:6:43044006-43129458/+\n",
      "SRF 6722 chr:6:43138920-43149244/+\n",
      "CUL9 23113 chr:6:43149913-43192325/+\n",
      "DNPH1 10591 chr:6:43193367-43197211/-\n",
      "VEGFA 7422 chr:6:43737946-43754224/+\n",
      "TMEM14A 28978 chr:6:52535884-52551386/+\n",
      "GSTA2 2939 chr:6:52614885-52628361/-\n",
      "DST 667 chr:6:56322785-56819426/-\n",
      "KHDC1 80759 chr:6:73951037-74019938/-\n",
      "DPPA5 340168 chr:6:74062785-74063999/-\n",
      "OOEP 441161 chr:6:74078278-74079515/-\n",
      "MB21D1 115004 chr:6:74134856-74162043/-\n",
      "SLC17A5 26503 chr:6:74303102-74363737/-\n",
      "LOC101928870 101928870 chr:6:87861525-87865307/+\n",
      "GJB7 375519 chr:6:87992696-88038996/-\n",
      "SMIM8 57150 chr:6:88032306-88052043/+\n",
      "C6orf163 206412 chr:6:88054571-88075381/+\n",
      "HACE1 57531 chr:6:105175968-105307794/-\n",
      "LIN28B 389421 chr:6:105384874-105531207/+\n",
      "DCBLD1 285761 chr:6:117803803-117891021/+\n",
      "GOPC 57120 chr:6:117881432-117923705/-\n",
      "NKAIN2 154215 chr:6:124124991-125146786/+\n",
      "BCLAF1 9774 chr:6:136578001-136611783/-\n",
      "MAP7 9053 chr:6:136663419-136871957/-\n",
      "IL20RA 53832 chr:6:137321108-137366317/-\n",
      "IFNGR1 3459 chr:6:137518621-137540981/-\n",
      "AKAP12 9590 chr:6:151561134-151679694/+\n",
      "ZBTB2 57621 chr:6:151685250-151712677/-\n",
      "RGS17 26575 chr:6:153332026-153452389/-\n",
      "ARID1B 57492 chr:6:157098980-157531913/+\n",
      "GTF2H5 404672 chr:6:158589379-158620376/+\n",
      "PLG 5340 chr:6:161123225-161175086/+\n",
      "RPS6KA2 6196 chr:6:166822854-167275948/-\n",
      "PSMB1 5689 chr:6:170844204-170862417/-\n",
      "TBP 6908 chr:6:170863384-170881958/+\n",
      "PDCD2 5134 chr:6:170884660-170893780/-\n"
     ]
    }
   ],
   "source": [
    "#Ερ. 3. Τυπώστε όλα τα γονίδια που ανοίκουν στον χρωμόσωμα 6 ταξινομημένα ανάλογα με τη θέση που αρχίζου\n",
    "print (my_list.filter(lambda gene:gene.chromosome=='6').sorted(key=lambda gene:gene.start))"
   ]
  },
  {
   "cell_type": "code",
   "execution_count": 56,
   "metadata": {},
   "outputs": [
    {
     "data": {
      "text/plain": [
       "(21276, 'TBP 6908 chr:6:170863384-170881958/+')"
      ]
     },
     "execution_count": 56,
     "metadata": {},
     "output_type": "execute_result"
    }
   ],
   "source": [
    "# Ερ. 4 Φτιάξτε μια συνάρτηση που θα παίρνει το όνομα ενός γονιδίου και θα βρίσκει ποιο γονίδιο είναι ποιο κοντά. \n",
    "# Η απόσταση μεταξύ 2 γονιδίων (για αυτή την άσκηση) ορίζεται μόνο για γονίδια που ανοίκουν στο \n",
    "# ίδιο χρωμόσωμα και είναι η απόλυτη διαφορά του start position τους.\n",
    "\n",
    "my_list.closer(name='PDCD2')"
   ]
  },
  {
   "cell_type": "code",
   "execution_count": 57,
   "metadata": {},
   "outputs": [
    {
     "data": {
      "text/plain": [
       "83351.24867724867"
      ]
     },
     "execution_count": 57,
     "metadata": {},
     "output_type": "execute_result"
    }
   ],
   "source": [
    "# Ερ. 5. Πόσος είναι ο μέσος όρος του μήκους των γονιδίων που ανοίκουν σε ζυγό χρωμόσωμα (2,4,6,...) \n",
    "# και βρίσκονται στο negative strand position;\n",
    "\n",
    "my_list.filter(lambda x:int(x.chromosome)%2==0 and x.strand=='-').average_length()"
   ]
  },
  {
   "cell_type": "code",
   "execution_count": 58,
   "metadata": {},
   "outputs": [
    {
     "data": {
      "text/plain": [
       "83351.24867724867"
      ]
     },
     "execution_count": 58,
     "metadata": {},
     "output_type": "execute_result"
    }
   ],
   "source": [
    "# Ερ. 5 (β τρόπος)\n",
    "my_list.filter(lambda x:int(x.chromosome)%2==0).filter(lambda x:x.strand=='-').average_length()"
   ]
  },
  {
   "cell_type": "code",
   "execution_count": 59,
   "metadata": {},
   "outputs": [
    {
     "data": {
      "text/plain": [
       "True"
      ]
     },
     "execution_count": 59,
     "metadata": {},
     "output_type": "execute_result"
    }
   ],
   "source": [
    "#Ερ 6: Υπάρχουν κάποια γονίδια με το ίδιο Entrez ID;\n",
    "my_list.check_entrez()"
   ]
  },
  {
   "cell_type": "code",
   "execution_count": 62,
   "metadata": {},
   "outputs": [
    {
     "name": "stdout",
     "output_type": "stream",
     "text": [
      "THIS GENE:\n",
      "   GOPC 57120 chr:6:117881432-117923705/-\n",
      "IS IN BETWEEN THIS GENE:\n",
      "   DCBLD1 285761 chr:6:117803803-117891021/+\n",
      "\n",
      "THIS GENE:\n",
      "   POLG 5428 chr:15:89859536-89878026/-\n",
      "IS IN BETWEEN THIS GENE:\n",
      "   FANCI 55215 chr:15:89785634-89860362/+\n",
      "\n",
      "THIS GENE:\n",
      "   LOC101929519 101929519 chr:9:96433303-96435032/-\n",
      "IS IN BETWEEN THIS GENE:\n",
      "   PHF2 5253 chr:9:96338909-96441869/+\n",
      "\n",
      "THIS GENE:\n",
      "   NMT1 4836 chr:17:43138322-43186384/+\n",
      "IS IN BETWEEN THIS GENE:\n",
      "   DCAKD 79877 chr:17:43100706-43138473/-\n",
      "\n",
      "THIS GENE:\n",
      "   FLRT1 23769 chr:11:63803442-63886655/+\n",
      "IS IN BETWEEN THIS GENE:\n",
      "   MACROD1 28992 chr:11:63766006-63933602/-\n",
      "\n",
      "THIS GENE:\n",
      "   CAMK2N2 94032 chr:3:183977003-183979251/-\n",
      "IS IN BETWEEN THIS GENE:\n",
      "   ECE2 9718 chr:3:183967445-184010819/+\n",
      "\n",
      "THIS GENE:\n",
      "   KRT81 3887 chr:12:52679697-52685299/-\n",
      "IS IN BETWEEN THIS GENE:\n",
      "   KRT86 3892 chr:12:52642892-52702947/+\n",
      "\n",
      "THIS GENE:\n",
      "   ERN2 10595 chr:16:23701625-23724821/-\n",
      "IS IN BETWEEN THIS GENE:\n",
      "   PLK1 5347 chr:16:23690201-23701688/+\n",
      "\n",
      "THIS GENE:\n",
      "   TRPT1 83707 chr:11:63991271-63993726/-\n",
      "IS IN BETWEEN THIS GENE:\n",
      "   FERMT3 83706 chr:11:63974152-63991363/+\n",
      "\n",
      "THIS GENE:\n",
      "   TIMP4 7079 chr:3:12194568-12200851/-\n",
      "IS IN BETWEEN THIS GENE:\n",
      "   SYN2 6854 chr:3:12182150-12233532/+\n",
      "\n",
      "THIS GENE:\n",
      "   TGS1 96764 chr:8:56685791-56738007/+\n",
      "IS IN BETWEEN THIS GENE:\n",
      "   TMEM68 137695 chr:8:56651317-56685955/-\n",
      "\n",
      "THIS GENE:\n",
      "   LURAP1 541468 chr:1:46669006-46686928/+\n",
      "IS IN BETWEEN THIS GENE:\n",
      "   POMGNT1 55624 chr:1:46654353-46685977/-\n",
      "\n",
      "THIS GENE:\n",
      "   LIMD2 80774 chr:17:61773249-61778527/-\n",
      "IS IN BETWEEN THIS GENE:\n",
      "   MAP3K3 4215 chr:17:61699404-61773670/+\n",
      "\n",
      "THIS GENE:\n",
      "   C14orf178 283579 chr:14:78227173-78236085/+\n",
      "IS IN BETWEEN THIS GENE:\n",
      "   SNW1 22938 chr:14:78183942-78227542/-\n",
      "\n",
      "THIS GENE:\n",
      "   HOXA6 3203 chr:7:27185202-27187393/-\n",
      "IS IN BETWEEN THIS GENE:\n",
      "   HOXA5 3202 chr:7:27180671-27192309/-\n",
      "\n",
      "THIS GENE:\n",
      "   NDUFAF3 25915 chr:3:49057908-49060928/+\n",
      "IS IN BETWEEN THIS GENE:\n",
      "   DALRD3 55152 chr:3:49052832-49058504/-\n",
      "\n",
      "THIS GENE:\n",
      "   TYW3 127253 chr:1:75198836-75232361/+\n",
      "IS IN BETWEEN THIS GENE:\n",
      "   CRYZ 1429 chr:1:75171170-75199092/-\n",
      "\n",
      "THIS GENE:\n",
      "   SRSF9 8683 chr:12:120899471-120907558/-\n",
      "IS IN BETWEEN THIS GENE:\n",
      "   GATC 283459 chr:12:120884241-120901556/+\n",
      "\n",
      "THIS GENE:\n",
      "   SNAP47 116841 chr:1:227922697-227968932/+\n",
      "IS IN BETWEEN THIS GENE:\n",
      "   JMJD4 65094 chr:1:227918890-227923284/-\n",
      "\n",
      "THIS GENE:\n",
      "   C3orf38 285237 chr:3:88198875-88207115/+\n",
      "IS IN BETWEEN THIS GENE:\n",
      "   CGGBP1 8545 chr:3:88101100-88199016/-\n",
      "\n",
      "THIS GENE:\n",
      "   ZNF654 55279 chr:3:88108394-88193814/+\n",
      "IS IN BETWEEN THIS GENE:\n",
      "   CGGBP1 8545 chr:3:88101100-88199016/-\n",
      "\n",
      "THIS GENE:\n",
      "   SNAPC5 10302 chr:15:66782666-66790146/-\n",
      "IS IN BETWEEN THIS GENE:\n",
      "   MAP2K1 5604 chr:15:66679182-66783882/+\n",
      "\n",
      "THIS GENE:\n",
      "   NICN1 84276 chr:3:49459766-49466777/-\n",
      "IS IN BETWEEN THIS GENE:\n",
      "   AMT 275 chr:3:49454211-49460111/-\n",
      "\n",
      "THIS GENE:\n",
      "   FABP3 2170 chr:1:31838100-31845923/-\n",
      "IS IN BETWEEN THIS GENE:\n",
      "   ZCCHC17 51538 chr:1:31769832-31838569/+\n",
      "\n",
      "THIS GENE:\n",
      "   TMEM262 100130348 chr:11:64855844-64856583/-\n",
      "IS IN BETWEEN THIS GENE:\n",
      "   ZFPL1 7542 chr:11:64851694-64855874/+\n",
      "\n",
      "THIS GENE:\n",
      "   SMIM8 57150 chr:6:88032306-88052043/+\n",
      "IS IN BETWEEN THIS GENE:\n",
      "   GJB7 375519 chr:6:87992696-88038996/-\n",
      "\n",
      "THIS GENE:\n",
      "   C10orf10 11067 chr:10:45471709-45474330/-\n",
      "IS IN BETWEEN THIS GENE:\n",
      "   RASSF4 83937 chr:10:45455183-45491337/+\n",
      "\n",
      "THIS GENE:\n",
      "   DDX39B 7919 chr:6:31497996-31510252/-\n",
      "IS IN BETWEEN THIS GENE:\n",
      "   MCCD1 401250 chr:6:31496739-31498008/+\n",
      "\n",
      "THIS GENE:\n",
      "   DZIP3 9666 chr:3:108308337-108413693/+\n",
      "IS IN BETWEEN THIS GENE:\n",
      "   KIAA1524 57650 chr:3:108268716-108308491/-\n",
      "\n",
      "THIS GENE:\n",
      "   S100PBP 64766 chr:1:33282368-33324480/+\n",
      "IS IN BETWEEN THIS GENE:\n",
      "   YARS 8565 chr:1:33240840-33283633/-\n",
      "\n",
      "THIS GENE:\n",
      "   LOC100293704 100293704 chr:12:123848046-123850336/+\n",
      "IS IN BETWEEN THIS GENE:\n",
      "   SBNO1 55206 chr:12:123773656-123849756/-\n",
      "\n",
      "THIS GENE:\n",
      "   RPL35 11224 chr:9:127620158-127624240/-\n",
      "IS IN BETWEEN THIS GENE:\n",
      "   WDR38 401551 chr:9:127615627-127620170/+\n",
      "\n",
      "THIS GENE:\n",
      "   LXN 56925 chr:3:158384203-158390482/-\n",
      "IS IN BETWEEN THIS GENE:\n",
      "   GFM1 85476 chr:3:158362286-158410361/+\n",
      "\n",
      "THIS GENE:\n",
      "   TMEM184B 25829 chr:22:38612415-38669040/-\n",
      "IS IN BETWEEN THIS GENE:\n",
      "   MAFF 23764 chr:22:38597939-38612518/+\n",
      "\n",
      "THIS GENE:\n",
      "   LCTL 197021 chr:15:66839806-66858317/-\n",
      "IS IN BETWEEN THIS GENE:\n",
      "   ZWILCH 55055 chr:15:66797431-66841823/+\n",
      "\n",
      "THIS GENE:\n",
      "   ZBTB46 140685 chr:20:62375021-62463731/-\n",
      "IS IN BETWEEN THIS GENE:\n",
      "   SLC2A4RG 56731 chr:20:62371211-62375403/+\n",
      "\n",
      "THIS GENE:\n",
      "   PGBD3 267004 chr:10:50723151-50732327/-\n",
      "IS IN BETWEEN THIS GENE:\n",
      "   ERCC6 2074 chr:10:50662526-50747169/-\n",
      "\n",
      "THIS GENE:\n",
      "   RARRES2 5919 chr:7:150031033-150038773/-\n",
      "IS IN BETWEEN THIS GENE:\n",
      "   LRRC61 65999 chr:7:150020296-150035245/+\n",
      "\n",
      "THIS GENE:\n",
      "   ZBED6CL 113763 chr:7:150026938-150029810/+\n",
      "IS IN BETWEEN THIS GENE:\n",
      "   LRRC61 65999 chr:7:150020296-150035245/+\n",
      "\n",
      "THIS GENE:\n",
      "   LRRC61 65999 chr:7:150020296-150035245/+\n",
      "IS IN BETWEEN THIS GENE:\n",
      "   ACTR3C 653857 chr:7:149944301-150020758/-\n",
      "\n",
      "THIS GENE:\n",
      "   PPP3R2 5535 chr:9:104353897-104357283/-\n",
      "IS IN BETWEEN THIS GENE:\n",
      "   GRIN3A 116443 chr:9:104331634-104500862/-\n",
      "\n",
      "THIS GENE:\n",
      "   MFAP4 4239 chr:17:19286755-19290532/-\n",
      "IS IN BETWEEN THIS GENE:\n",
      "   MAPK7 5598 chr:17:19281034-19286857/+\n",
      "\n",
      "THIS GENE:\n",
      "   C9orf50 375759 chr:9:132374504-132383055/-\n",
      "IS IN BETWEEN THIS GENE:\n",
      "   NTMT1 28989 chr:9:132371036-132397879/+\n",
      "\n",
      "THIS GENE:\n",
      "   COLCA2 120376 chr:11:111169271-111179460/+\n",
      "IS IN BETWEEN THIS GENE:\n",
      "   COLCA1 399948 chr:11:111164114-111177104/-\n",
      "\n",
      "THIS GENE:\n",
      "   ECI2 10455 chr:6:4115927-4135831/-\n",
      "IS IN BETWEEN THIS GENE:\n",
      "   C6orf201 404220 chr:6:4079440-4131000/+\n",
      "\n"
     ]
    },
    {
     "ename": "TypeError",
     "evalue": "'NoneType' object is not subscriptable",
     "output_type": "error",
     "traceback": [
      "\u001b[0;31m---------------------------------------------------------------------------\u001b[0m",
      "\u001b[0;31mTypeError\u001b[0m                                 Traceback (most recent call last)",
      "\u001b[0;32m<ipython-input-62-71496bbbd8f2>\u001b[0m in \u001b[0;36m<module>\u001b[0;34m()\u001b[0m\n\u001b[0;32m----> 1\u001b[0;31m \u001b[0mmy_list\u001b[0m\u001b[0;34m.\u001b[0m\u001b[0min_between\u001b[0m\u001b[0;34m(\u001b[0m\u001b[0mmy_list\u001b[0m\u001b[0;34m)\u001b[0m\u001b[0;34m[\u001b[0m\u001b[0;34m:\u001b[0m\u001b[0;36m10\u001b[0m\u001b[0;34m]\u001b[0m \u001b[0;31m#  Τυπώνω μόνο τα πρώτα 10\u001b[0m\u001b[0;34m\u001b[0m\u001b[0m\n\u001b[0m",
      "\u001b[0;31mTypeError\u001b[0m: 'NoneType' object is not subscriptable"
     ]
    }
   ],
   "source": [
    "my_list.in_between(my_list)[:10] #  Τυπώνω μόνο τα πρώτα 10"
   ]
  },
  {
   "cell_type": "markdown",
   "metadata": {},
   "source": [
    "Παρατηρούμε ότι η υλοποίηση με κλάσεις είναι πολύ πιο μεγάλη, δηλαδή έχει πολύ περισσότερες γραμμές κώδικα. Παρόλα αυτά ο κώδικας είναι καλύτερα οργανομένος και οι εντολές που απαντούν στις ερωτήσεις της άσκησεις είναι πιο κατανοητές (π.χ. ```my_list.closer(name='PDCD2')```). \n",
    "\n",
    "Οι κλάσεις έχουν τα θετικά και τα [αρνητικά](https://en.wikipedia.org/wiki/Object-oriented_programming#Criticism) τους. Ένας κλασσικός κανόνας που εφαρμόζουμε είναι: Υλοποιούμε το πρόγραμμά μας σε κλάσεις όταν υπάρχει ένας σαφής εννοιολογικός διαχωρισμός των οντοτήτων που θέλουμε να διαχειριστούμε (π.χ. πρόσωπα, γονίδια, εταιρία, βάση δεδομένων, κτλ.)"
   ]
  },
  {
   "cell_type": "markdown",
   "metadata": {},
   "source": [
    "# Κλάσεις (μέρος 2ο)\n",
    "Είχαμε πει ότι μπορεί μία κλάση να αποκτήσει \"μέγεθος\" (length) αν υλοποιήσει τη ```__len__``` μέθοδο:"
   ]
  },
  {
   "cell_type": "code",
   "execution_count": 72,
   "metadata": {},
   "outputs": [],
   "source": [
    "class Gene:\n",
    "    def __len__(self,):\n",
    "        return 50"
   ]
  },
  {
   "cell_type": "code",
   "execution_count": 74,
   "metadata": {},
   "outputs": [
    {
     "name": "stdout",
     "output_type": "stream",
     "text": [
      "50\n"
     ]
    }
   ],
   "source": [
    "b = Gene()\n",
    "print (len(b))"
   ]
  },
  {
   "cell_type": "markdown",
   "metadata": {},
   "source": [
    "Άλλωστε όταν εφαρμόζουμε τη ```len``` σε μία λίστα στη πραγματικότητα εκτελείται η ```__len__()```:"
   ]
  },
  {
   "cell_type": "code",
   "execution_count": 76,
   "metadata": {},
   "outputs": [
    {
     "name": "stdout",
     "output_type": "stream",
     "text": [
      "3\n"
     ]
    }
   ],
   "source": [
    "a = [1,2,5]\n",
    "print (a.__len__())"
   ]
  },
  {
   "cell_type": "markdown",
   "metadata": {},
   "source": [
    "Ας φτιάξουμε μία κλάση που αντιπροσωπεύει έναν άνθρωπο:"
   ]
  },
  {
   "cell_type": "code",
   "execution_count": 176,
   "metadata": {},
   "outputs": [],
   "source": [
    "class Human:\n",
    "    def __init__(self, name, age):\n",
    "        self.name = name\n",
    "        self.age = age"
   ]
  },
  {
   "cell_type": "markdown",
   "metadata": {},
   "source": [
    "Και ας φτιάξουμε και ένα αντικέμενο:"
   ]
  },
  {
   "cell_type": "code",
   "execution_count": 177,
   "metadata": {},
   "outputs": [],
   "source": [
    "mitsos = Human('Μήτσος', 50)"
   ]
  },
  {
   "cell_type": "code",
   "execution_count": 178,
   "metadata": {},
   "outputs": [
    {
     "data": {
      "text/plain": [
       "'Μήτσος'"
      ]
     },
     "execution_count": 178,
     "metadata": {},
     "output_type": "execute_result"
    }
   ],
   "source": [
    "mitsos.name"
   ]
  },
  {
   "cell_type": "markdown",
   "metadata": {},
   "source": [
    "Όπως έχουμε δει το name και το age είναι \"πεδία\" της κλάσης Human. Πολλές φορές χρειάζεται μία κλάση να έχει κάποιες μεταβλητές (συνήθως σταθερές τιμές) η οποία να είναι ίδιες για ΟΛΑ τα αντικείμενα αυτής της κλασής. Να πως γίνεται αυτό:"
   ]
  },
  {
   "cell_type": "code",
   "execution_count": 181,
   "metadata": {},
   "outputs": [],
   "source": [
    "class Human:\n",
    "    max_age = 100\n",
    "    \n",
    "    def __init__(self, name, age):\n",
    "        self.name = name\n",
    "        self.age = age\n",
    "        \n",
    "mitsos = Human('Μήτσος', 50)\n",
    "kwstas = Human('Κώστας', 10)"
   ]
  },
  {
   "cell_type": "code",
   "execution_count": 182,
   "metadata": {},
   "outputs": [
    {
     "name": "stdout",
     "output_type": "stream",
     "text": [
      "100\n"
     ]
    }
   ],
   "source": [
    "print (mitsos.max_age)"
   ]
  },
  {
   "cell_type": "markdown",
   "metadata": {},
   "source": [
    "Παρατηρήστε οτι το ```max_age``` δεν το έχουμε θέσει ούτε στον ```mitsos``` ούτε στο ```kwstas```. Παρόλα αυτά αν κάνουμε ```print (mitsos.max_age)``` βγάζει τη τιμή που έχουμε θέσει στη ```Human```. Αυτό γίνεται γιατί το max_age υπάρχει σε ΟΛΑ τα αντικείμενα της κλάσης ```Human```. Επίσης αν αλλάξουμε τη τιμή αυτού του πεδίου στη Human τότε θα αλλάξει σε όλα τα αντικείμενα αυτής της κλάσης:"
   ]
  },
  {
   "cell_type": "code",
   "execution_count": 183,
   "metadata": {},
   "outputs": [
    {
     "name": "stdout",
     "output_type": "stream",
     "text": [
      "200\n"
     ]
    }
   ],
   "source": [
    "Human.max_age = 200\n",
    "print (mitsos.max_age)"
   ]
  },
  {
   "cell_type": "markdown",
   "metadata": {},
   "source": [
    "**Ορισμός: οι ιδιότητες (πεδία ή μέθοδοι) μίας κλάσης που είναι προσπελάσιμες από την κλάση χωρίς να χρειάζεται η δημιουργία ενός αντικειμένου τους ονομάζονται static**"
   ]
  },
  {
   "cell_type": "markdown",
   "metadata": {},
   "source": [
    "Μπορεί και μία μέθοδος να είναι static:"
   ]
  },
  {
   "cell_type": "code",
   "execution_count": 186,
   "metadata": {},
   "outputs": [
    {
     "data": {
      "text/plain": [
       "True"
      ]
     },
     "execution_count": 186,
     "metadata": {},
     "output_type": "execute_result"
    }
   ],
   "source": [
    "class Human:\n",
    "    max_age = 100\n",
    "    \n",
    "    def __init__(self, name, age):\n",
    "        self.name = name\n",
    "        self.age = age\n",
    "        \n",
    "    def is_adult(age):\n",
    "        return age>18\n",
    "\n",
    "Human.is_adult(30)"
   ]
  },
  {
   "cell_type": "markdown",
   "metadata": {},
   "source": [
    "Το μειονέκτημα της παραπάνω υλοποίησης είναι ότι ΔΕΝ μπορούμε να τρέξουμε την ```is_adult``` από ένα αντικείμενο:"
   ]
  },
  {
   "cell_type": "code",
   "execution_count": 189,
   "metadata": {},
   "outputs": [
    {
     "ename": "TypeError",
     "evalue": "is_adult() takes 1 positional argument but 2 were given",
     "output_type": "error",
     "traceback": [
      "\u001b[0;31m---------------------------------------------------------------------------\u001b[0m",
      "\u001b[0;31mTypeError\u001b[0m                                 Traceback (most recent call last)",
      "\u001b[0;32m<ipython-input-189-a0e45862f27e>\u001b[0m in \u001b[0;36m<module>\u001b[0;34m()\u001b[0m\n\u001b[1;32m      1\u001b[0m \u001b[0mmitsos\u001b[0m \u001b[0;34m=\u001b[0m \u001b[0mHuman\u001b[0m\u001b[0;34m(\u001b[0m\u001b[0;34m'Μήτσος'\u001b[0m\u001b[0;34m,\u001b[0m \u001b[0;36m50\u001b[0m\u001b[0;34m)\u001b[0m\u001b[0;34m\u001b[0m\u001b[0m\n\u001b[0;32m----> 2\u001b[0;31m \u001b[0mmitsos\u001b[0m\u001b[0;34m.\u001b[0m\u001b[0mis_adult\u001b[0m\u001b[0;34m(\u001b[0m\u001b[0;36m100\u001b[0m\u001b[0;34m)\u001b[0m\u001b[0;34m\u001b[0m\u001b[0m\n\u001b[0m",
      "\u001b[0;31mTypeError\u001b[0m: is_adult() takes 1 positional argument but 2 were given"
     ]
    }
   ],
   "source": [
    "mitsos = Human('Μήτσος', 50)\n",
    "mitsos.is_adult(100)"
   ]
  },
  {
   "cell_type": "markdown",
   "metadata": {},
   "source": [
    "Για να μπορεί να τρέξει μία μέθοδος και από τη κλάση αλλά και από το αντικείμενο πρέπει να χρησιμοποιήσουμε το ```@staticmethod```:"
   ]
  },
  {
   "cell_type": "code",
   "execution_count": 190,
   "metadata": {},
   "outputs": [],
   "source": [
    "class Human:\n",
    "    max_age = 100\n",
    "    \n",
    "    def __init__(self, name, age):\n",
    "        self.name = name\n",
    "        self.age = age\n",
    "\n",
    "    @staticmethod\n",
    "    def is_adult(age):\n",
    "        return age>18"
   ]
  },
  {
   "cell_type": "code",
   "execution_count": 192,
   "metadata": {},
   "outputs": [
    {
     "name": "stdout",
     "output_type": "stream",
     "text": [
      "True\n",
      "True\n"
     ]
    }
   ],
   "source": [
    "print (Human.is_adult(60))\n",
    "mitsos = Human('Μήτσος', 50)\n",
    "print (mitsos.is_adult(60))"
   ]
  },
  {
   "cell_type": "markdown",
   "metadata": {},
   "source": [
    "Μία καλύτερη υλοποίηση:"
   ]
  },
  {
   "cell_type": "code",
   "execution_count": 199,
   "metadata": {},
   "outputs": [
    {
     "name": "stdout",
     "output_type": "stream",
     "text": [
      "True\n",
      "False\n",
      "True\n"
     ]
    }
   ],
   "source": [
    "class Human:\n",
    "    max_age = 100\n",
    "    adult_age = 18\n",
    "    \n",
    "    def __init__(self, name, age):\n",
    "        self.name = name\n",
    "        self.age = age\n",
    "            \n",
    "    def is_adult(self,):\n",
    "        return Human.is_adult_2(self.age)\n",
    "\n",
    "    @staticmethod\n",
    "    def is_adult_2(age):\n",
    "        return age >= Human.adult_age\n",
    "\n",
    "    \n",
    "    \n",
    "mitsos = Human('Μήτσος', 50)\n",
    "print (mitsos.is_adult()) # True\n",
    "kwstas = Human('Κώστας', 10)\n",
    "print (kwstas.is_adult()) # False\n",
    "print (Human.is_adult_2(20)) # True"
   ]
  },
  {
   "cell_type": "markdown",
   "metadata": {},
   "source": [
    "Μα τι είναι αυτό το ```@staticmethod```;; Αυτό ονομάζεται [decorator](https://www.learnpython.org/en/Decorators) και θα το αναλύσουμε άλλη φορά."
   ]
  },
  {
   "cell_type": "markdown",
   "metadata": {},
   "source": [
    "# Κλάσεις (Μέρος 3ο)"
   ]
  },
  {
   "cell_type": "markdown",
   "metadata": {},
   "source": [
    "Μία κλάση μπορεί να \"κληρονομήσει\" μία άλλη κλάση: https://en.wikipedia.org/wiki/Inheritance_(object-oriented_programming) \n",
    "\n",
    "Όταν γίνεται αυτό, τότε η νέα κλάση περιέχει όλες τις ιδιότητες (πεδία + μέθοδοι) της παλιάς. Κλασσικά παραδείγματα είναι: \n",
    "* η κλάση φορτηγό έχει κληρονομήσει τη κλάση όχημα\n",
    "* η κλάση DNA και η κλάση RNA έχει κληρονομήσει τη κλάση sequence\n",
    "* η κλάση Employee έχει κληρονιμήσει τη κλάση Human \n",
    "\n",
    "Στη python αυτό γίνεται ως εξής:"
   ]
  },
  {
   "cell_type": "code",
   "execution_count": 201,
   "metadata": {},
   "outputs": [],
   "source": [
    "class Employee(Human):\n",
    "    pass\n",
    "\n",
    "manolis = Employee('Μανόλης', 40)"
   ]
  },
  {
   "cell_type": "markdown",
   "metadata": {},
   "source": [
    "Η Employee περιέχει όλες τις μεθόδους της Human:"
   ]
  },
  {
   "cell_type": "code",
   "execution_count": 202,
   "metadata": {},
   "outputs": [
    {
     "data": {
      "text/plain": [
       "True"
      ]
     },
     "execution_count": 202,
     "metadata": {},
     "output_type": "execute_result"
    }
   ],
   "source": [
    "manolis.is_adult()"
   ]
  },
  {
   "cell_type": "markdown",
   "metadata": {},
   "source": [
    "Ας βάλουμε μία νέα ιδιότητα στη Employee"
   ]
  },
  {
   "cell_type": "code",
   "execution_count": 206,
   "metadata": {},
   "outputs": [],
   "source": [
    "class Employee(Human):\n",
    "    def __init__(self, name, age, salary):\n",
    "        self.name = name\n",
    "        self.age = age\n",
    "        self.salary = salary\n",
    "        \n",
    "        if not self.is_adult():\n",
    "            raise Exception('THIS IS ILLEGAL!')\n",
    "\n",
    "manolis = Employee('Μανόλης', 40, 10000)"
   ]
  },
  {
   "cell_type": "code",
   "execution_count": 208,
   "metadata": {},
   "outputs": [
    {
     "ename": "Exception",
     "evalue": "THIS IS ILLEGAL!",
     "output_type": "error",
     "traceback": [
      "\u001b[0;31m---------------------------------------------------------------------------\u001b[0m",
      "\u001b[0;31mException\u001b[0m                                 Traceback (most recent call last)",
      "\u001b[0;32m<ipython-input-208-f7869cbe3fb9>\u001b[0m in \u001b[0;36m<module>\u001b[0;34m()\u001b[0m\n\u001b[0;32m----> 1\u001b[0;31m \u001b[0mjohn\u001b[0m \u001b[0;34m=\u001b[0m \u001b[0mEmployee\u001b[0m\u001b[0;34m(\u001b[0m\u001b[0;34m'Γιάννης'\u001b[0m\u001b[0;34m,\u001b[0m \u001b[0;36m17\u001b[0m\u001b[0;34m,\u001b[0m \u001b[0;36m10000\u001b[0m\u001b[0;34m)\u001b[0m \u001b[0;31m# παιδική εργασία!\u001b[0m\u001b[0;34m\u001b[0m\u001b[0m\n\u001b[0m",
      "\u001b[0;32m<ipython-input-206-70c56380c507>\u001b[0m in \u001b[0;36m__init__\u001b[0;34m(self, name, age, salary)\u001b[0m\n\u001b[1;32m      6\u001b[0m \u001b[0;34m\u001b[0m\u001b[0m\n\u001b[1;32m      7\u001b[0m         \u001b[0;32mif\u001b[0m \u001b[0;32mnot\u001b[0m \u001b[0mself\u001b[0m\u001b[0;34m.\u001b[0m\u001b[0mis_adult\u001b[0m\u001b[0;34m(\u001b[0m\u001b[0;34m)\u001b[0m\u001b[0;34m:\u001b[0m\u001b[0;34m\u001b[0m\u001b[0m\n\u001b[0;32m----> 8\u001b[0;31m             \u001b[0;32mraise\u001b[0m \u001b[0mException\u001b[0m\u001b[0;34m(\u001b[0m\u001b[0;34m'THIS IS ILLEGAL!'\u001b[0m\u001b[0;34m)\u001b[0m\u001b[0;34m\u001b[0m\u001b[0m\n\u001b[0m\u001b[1;32m      9\u001b[0m \u001b[0;34m\u001b[0m\u001b[0m\n\u001b[1;32m     10\u001b[0m \u001b[0mmanolis\u001b[0m \u001b[0;34m=\u001b[0m \u001b[0mEmployee\u001b[0m\u001b[0;34m(\u001b[0m\u001b[0;34m'Μανόλης'\u001b[0m\u001b[0;34m,\u001b[0m \u001b[0;36m40\u001b[0m\u001b[0;34m,\u001b[0m \u001b[0;36m10000\u001b[0m\u001b[0;34m)\u001b[0m\u001b[0;34m\u001b[0m\u001b[0m\n",
      "\u001b[0;31mException\u001b[0m: THIS IS ILLEGAL!"
     ]
    }
   ],
   "source": [
    "john = Employee('Γιάννης', 17, 10000) # παιδική εργασία!"
   ]
  },
  {
   "cell_type": "markdown",
   "metadata": {},
   "source": [
    "Παρατηρείστε ότι το κομμάτι\n",
    "```python\n",
    "        self.name = name\n",
    "        self.age = age\n",
    "```\n",
    "Το έχουμε στη Human αλλά και στην Employee. Δεν μπορούμε να το αποφύγουμε αυτό; Γίνεται με την εντολή ```super``` η οποία καλεί την parent class.  "
   ]
  },
  {
   "cell_type": "code",
   "execution_count": 210,
   "metadata": {},
   "outputs": [],
   "source": [
    "class Employee(Human):\n",
    "    def __init__(self, name, age, salary):\n",
    "        super().__init__(name, age)\n",
    "        self.salary = salary\n",
    "        \n",
    "        if not self.is_adult():\n",
    "            raise Exception('THIS IS ILLEGAL!')\n",
    "\n",
    "manolis = Employee('Μανόλης', 40, 10000)"
   ]
  },
  {
   "cell_type": "markdown",
   "metadata": {},
   "source": [
    "H ```super().__init__()``` καλεί ```__init__()``` της parent class. "
   ]
  },
  {
   "cell_type": "markdown",
   "metadata": {},
   "source": [
    "### Πολλαπλή κληρονομικότητα\n"
   ]
  },
  {
   "cell_type": "markdown",
   "metadata": {},
   "source": [
    "Μία κλάση μπορεί να κληρονομήσει περισσότερες από μία κλάσεις. π.χ:"
   ]
  },
  {
   "cell_type": "code",
   "execution_count": 226,
   "metadata": {},
   "outputs": [],
   "source": [
    "class Resident:\n",
    "    def __init__(self, address):\n",
    "        self.address = address\n",
    "        \n",
    "    def show_address(self):\n",
    "        print (self.address)"
   ]
  },
  {
   "cell_type": "code",
   "execution_count": 217,
   "metadata": {},
   "outputs": [],
   "source": [
    "class Employee(Human, Resident):\n",
    "    pass\n"
   ]
  },
  {
   "cell_type": "markdown",
   "metadata": {},
   "source": [
    "Εδώ πρέπει να τονίσουμε κάτι πολύ σημαντικό: Η σειρά με την οποία δηλώνουμε τις parent classes είναι πολύ σημαντική. Η νέα κλάση κληρονομεί τον constructor (```__init__()```) ΜΟΝΟ της πρώτης κλάσης: "
   ]
  },
  {
   "cell_type": "code",
   "execution_count": 219,
   "metadata": {},
   "outputs": [],
   "source": [
    "mitsos = Employee('Μήτσος', 50)"
   ]
  },
  {
   "cell_type": "markdown",
   "metadata": {},
   "source": [
    "Εδώ παρατηρούμε ότι ο constructor της Resident δεν καλέστηκε!"
   ]
  },
  {
   "cell_type": "code",
   "execution_count": 221,
   "metadata": {},
   "outputs": [
    {
     "ename": "AttributeError",
     "evalue": "'Employee' object has no attribute 'address'",
     "output_type": "error",
     "traceback": [
      "\u001b[0;31m---------------------------------------------------------------------------\u001b[0m",
      "\u001b[0;31mAttributeError\u001b[0m                            Traceback (most recent call last)",
      "\u001b[0;32m<ipython-input-221-05b17d0e9a10>\u001b[0m in \u001b[0;36m<module>\u001b[0;34m()\u001b[0m\n\u001b[0;32m----> 1\u001b[0;31m \u001b[0mmitsos\u001b[0m\u001b[0;34m.\u001b[0m\u001b[0mshow_address\u001b[0m\u001b[0;34m(\u001b[0m\u001b[0;34m)\u001b[0m\u001b[0;34m\u001b[0m\u001b[0m\n\u001b[0m",
      "\u001b[0;32m<ipython-input-212-260abcb16edb>\u001b[0m in \u001b[0;36mshow_address\u001b[0;34m(self)\u001b[0m\n\u001b[1;32m      4\u001b[0m \u001b[0;34m\u001b[0m\u001b[0m\n\u001b[1;32m      5\u001b[0m     \u001b[0;32mdef\u001b[0m \u001b[0mshow_address\u001b[0m\u001b[0;34m(\u001b[0m\u001b[0mself\u001b[0m\u001b[0;34m)\u001b[0m\u001b[0;34m:\u001b[0m\u001b[0;34m\u001b[0m\u001b[0m\n\u001b[0;32m----> 6\u001b[0;31m         \u001b[0mprint\u001b[0m \u001b[0;34m(\u001b[0m\u001b[0mself\u001b[0m\u001b[0;34m.\u001b[0m\u001b[0maddress\u001b[0m\u001b[0;34m)\u001b[0m\u001b[0;34m\u001b[0m\u001b[0m\n\u001b[0m",
      "\u001b[0;31mAttributeError\u001b[0m: 'Employee' object has no attribute 'address'"
     ]
    }
   ],
   "source": [
    "mitsos.show_address()"
   ]
  },
  {
   "cell_type": "markdown",
   "metadata": {},
   "source": [
    "Αυτό μπορούμε να το διορθώσουμε καλώντας τους constructors με όποια σειρά θέλουμε από την ```__init__``` της νέας κλάσης:"
   ]
  },
  {
   "cell_type": "code",
   "execution_count": 229,
   "metadata": {},
   "outputs": [
    {
     "name": "stdout",
     "output_type": "stream",
     "text": [
      "True\n",
      "Ηράκλειο\n"
     ]
    }
   ],
   "source": [
    "class Employee(Human, Resident):\n",
    "    def __init__(self, name, age, address, salary):\n",
    "        Human.__init__(self, name, age)\n",
    "        Resident.__init__(self, address)\n",
    "        self.salary = salary\n",
    "        \n",
    "mitsos = Employee('Μήτσος', 50, \"Ηράκλειο\", 10000)\n",
    "print (mitsos.is_adult())\n",
    "mitsos.show_address()"
   ]
  },
  {
   "cell_type": "markdown",
   "metadata": {},
   "source": [
    "### Μπορούμε να βάλουμε αντικείμενα μέσα σε λίστες dictionaries.."
   ]
  },
  {
   "cell_type": "code",
   "execution_count": 231,
   "metadata": {},
   "outputs": [],
   "source": [
    "stuff = {\n",
    "    0: Employee('Kostas', 40, 'Ηράκλειο', 1000),\n",
    "    1: Employee('Andreas', 40, 'Πάτρα', 100),\n",
    "}"
   ]
  },
  {
   "cell_type": "markdown",
   "metadata": {},
   "source": [
    "Τι γίνεται όταν θέλουμε να σώσουμε μία λίστα/dictionary που έχει αντικείμενα σε ένα αρχείο; Δεν μπορούμε να τα μετατρέψουμε άμεσα σε string:"
   ]
  },
  {
   "cell_type": "code",
   "execution_count": 232,
   "metadata": {},
   "outputs": [
    {
     "data": {
      "text/plain": [
       "'{0: <__main__.Employee object at 0x1106bd5f8>, 1: <__main__.Employee object at 0x1106bd550>}'"
      ]
     },
     "execution_count": 232,
     "metadata": {},
     "output_type": "execute_result"
    }
   ],
   "source": [
    "str(stuff)"
   ]
  },
  {
   "cell_type": "markdown",
   "metadata": {},
   "source": [
    "Ούτε μπορούμε να τα κάνουμε json:"
   ]
  },
  {
   "cell_type": "code",
   "execution_count": 234,
   "metadata": {},
   "outputs": [
    {
     "ename": "TypeError",
     "evalue": "Object of type 'Employee' is not JSON serializable",
     "output_type": "error",
     "traceback": [
      "\u001b[0;31m---------------------------------------------------------------------------\u001b[0m",
      "\u001b[0;31mTypeError\u001b[0m                                 Traceback (most recent call last)",
      "\u001b[0;32m<ipython-input-234-54caab5df3b5>\u001b[0m in \u001b[0;36m<module>\u001b[0;34m()\u001b[0m\n\u001b[1;32m      1\u001b[0m \u001b[0;32mimport\u001b[0m \u001b[0mjson\u001b[0m\u001b[0;34m\u001b[0m\u001b[0m\n\u001b[0;32m----> 2\u001b[0;31m \u001b[0mjson\u001b[0m\u001b[0;34m.\u001b[0m\u001b[0mdumps\u001b[0m\u001b[0;34m(\u001b[0m\u001b[0mstuff\u001b[0m\u001b[0;34m)\u001b[0m\u001b[0;34m\u001b[0m\u001b[0m\n\u001b[0m",
      "\u001b[0;32m~/anaconda3/envs/arkalos/lib/python3.6/json/__init__.py\u001b[0m in \u001b[0;36mdumps\u001b[0;34m(obj, skipkeys, ensure_ascii, check_circular, allow_nan, cls, indent, separators, default, sort_keys, **kw)\u001b[0m\n\u001b[1;32m    229\u001b[0m         \u001b[0mcls\u001b[0m \u001b[0;32mis\u001b[0m \u001b[0;32mNone\u001b[0m \u001b[0;32mand\u001b[0m \u001b[0mindent\u001b[0m \u001b[0;32mis\u001b[0m \u001b[0;32mNone\u001b[0m \u001b[0;32mand\u001b[0m \u001b[0mseparators\u001b[0m \u001b[0;32mis\u001b[0m \u001b[0;32mNone\u001b[0m \u001b[0;32mand\u001b[0m\u001b[0;34m\u001b[0m\u001b[0m\n\u001b[1;32m    230\u001b[0m         default is None and not sort_keys and not kw):\n\u001b[0;32m--> 231\u001b[0;31m         \u001b[0;32mreturn\u001b[0m \u001b[0m_default_encoder\u001b[0m\u001b[0;34m.\u001b[0m\u001b[0mencode\u001b[0m\u001b[0;34m(\u001b[0m\u001b[0mobj\u001b[0m\u001b[0;34m)\u001b[0m\u001b[0;34m\u001b[0m\u001b[0m\n\u001b[0m\u001b[1;32m    232\u001b[0m     \u001b[0;32mif\u001b[0m \u001b[0mcls\u001b[0m \u001b[0;32mis\u001b[0m \u001b[0;32mNone\u001b[0m\u001b[0;34m:\u001b[0m\u001b[0;34m\u001b[0m\u001b[0m\n\u001b[1;32m    233\u001b[0m         \u001b[0mcls\u001b[0m \u001b[0;34m=\u001b[0m \u001b[0mJSONEncoder\u001b[0m\u001b[0;34m\u001b[0m\u001b[0m\n",
      "\u001b[0;32m~/anaconda3/envs/arkalos/lib/python3.6/json/encoder.py\u001b[0m in \u001b[0;36mencode\u001b[0;34m(self, o)\u001b[0m\n\u001b[1;32m    197\u001b[0m         \u001b[0;31m# exceptions aren't as detailed.  The list call should be roughly\u001b[0m\u001b[0;34m\u001b[0m\u001b[0;34m\u001b[0m\u001b[0m\n\u001b[1;32m    198\u001b[0m         \u001b[0;31m# equivalent to the PySequence_Fast that ''.join() would do.\u001b[0m\u001b[0;34m\u001b[0m\u001b[0;34m\u001b[0m\u001b[0m\n\u001b[0;32m--> 199\u001b[0;31m         \u001b[0mchunks\u001b[0m \u001b[0;34m=\u001b[0m \u001b[0mself\u001b[0m\u001b[0;34m.\u001b[0m\u001b[0miterencode\u001b[0m\u001b[0;34m(\u001b[0m\u001b[0mo\u001b[0m\u001b[0;34m,\u001b[0m \u001b[0m_one_shot\u001b[0m\u001b[0;34m=\u001b[0m\u001b[0;32mTrue\u001b[0m\u001b[0;34m)\u001b[0m\u001b[0;34m\u001b[0m\u001b[0m\n\u001b[0m\u001b[1;32m    200\u001b[0m         \u001b[0;32mif\u001b[0m \u001b[0;32mnot\u001b[0m \u001b[0misinstance\u001b[0m\u001b[0;34m(\u001b[0m\u001b[0mchunks\u001b[0m\u001b[0;34m,\u001b[0m \u001b[0;34m(\u001b[0m\u001b[0mlist\u001b[0m\u001b[0;34m,\u001b[0m \u001b[0mtuple\u001b[0m\u001b[0;34m)\u001b[0m\u001b[0;34m)\u001b[0m\u001b[0;34m:\u001b[0m\u001b[0;34m\u001b[0m\u001b[0m\n\u001b[1;32m    201\u001b[0m             \u001b[0mchunks\u001b[0m \u001b[0;34m=\u001b[0m \u001b[0mlist\u001b[0m\u001b[0;34m(\u001b[0m\u001b[0mchunks\u001b[0m\u001b[0;34m)\u001b[0m\u001b[0;34m\u001b[0m\u001b[0m\n",
      "\u001b[0;32m~/anaconda3/envs/arkalos/lib/python3.6/json/encoder.py\u001b[0m in \u001b[0;36miterencode\u001b[0;34m(self, o, _one_shot)\u001b[0m\n\u001b[1;32m    255\u001b[0m                 \u001b[0mself\u001b[0m\u001b[0;34m.\u001b[0m\u001b[0mkey_separator\u001b[0m\u001b[0;34m,\u001b[0m \u001b[0mself\u001b[0m\u001b[0;34m.\u001b[0m\u001b[0mitem_separator\u001b[0m\u001b[0;34m,\u001b[0m \u001b[0mself\u001b[0m\u001b[0;34m.\u001b[0m\u001b[0msort_keys\u001b[0m\u001b[0;34m,\u001b[0m\u001b[0;34m\u001b[0m\u001b[0m\n\u001b[1;32m    256\u001b[0m                 self.skipkeys, _one_shot)\n\u001b[0;32m--> 257\u001b[0;31m         \u001b[0;32mreturn\u001b[0m \u001b[0m_iterencode\u001b[0m\u001b[0;34m(\u001b[0m\u001b[0mo\u001b[0m\u001b[0;34m,\u001b[0m \u001b[0;36m0\u001b[0m\u001b[0;34m)\u001b[0m\u001b[0;34m\u001b[0m\u001b[0m\n\u001b[0m\u001b[1;32m    258\u001b[0m \u001b[0;34m\u001b[0m\u001b[0m\n\u001b[1;32m    259\u001b[0m def _make_iterencode(markers, _default, _encoder, _indent, _floatstr,\n",
      "\u001b[0;32m~/anaconda3/envs/arkalos/lib/python3.6/json/encoder.py\u001b[0m in \u001b[0;36mdefault\u001b[0;34m(self, o)\u001b[0m\n\u001b[1;32m    178\u001b[0m         \"\"\"\n\u001b[1;32m    179\u001b[0m         raise TypeError(\"Object of type '%s' is not JSON serializable\" %\n\u001b[0;32m--> 180\u001b[0;31m                         o.__class__.__name__)\n\u001b[0m\u001b[1;32m    181\u001b[0m \u001b[0;34m\u001b[0m\u001b[0m\n\u001b[1;32m    182\u001b[0m     \u001b[0;32mdef\u001b[0m \u001b[0mencode\u001b[0m\u001b[0;34m(\u001b[0m\u001b[0mself\u001b[0m\u001b[0;34m,\u001b[0m \u001b[0mo\u001b[0m\u001b[0;34m)\u001b[0m\u001b[0;34m:\u001b[0m\u001b[0;34m\u001b[0m\u001b[0m\n",
      "\u001b[0;31mTypeError\u001b[0m: Object of type 'Employee' is not JSON serializable"
     ]
    }
   ],
   "source": [
    "import json\n",
    "json.dumps(stuff)"
   ]
  },
  {
   "cell_type": "markdown",
   "metadata": {},
   "source": [
    "Για αυτό το σκοπό μπορούμε να χρησιμοποιήσουμε τη βιβλιοθήκη [pickle](https://docs.python.org/3.1/library/pickle.html):"
   ]
  },
  {
   "cell_type": "code",
   "execution_count": 235,
   "metadata": {},
   "outputs": [],
   "source": [
    "import pickle\n",
    "stuff_serialized = pickle.dumps(stuff)"
   ]
  },
  {
   "cell_type": "code",
   "execution_count": 238,
   "metadata": {},
   "outputs": [
    {
     "data": {
      "text/plain": [
       "b'\\x80\\x03}q\\x00(K\\x00c__main__\\nEmployee\\nq\\x01)\\x81q\\x02}q\\x03(X\\x04\\x00\\x00\\x00nameq\\x04X\\x06\\x00\\x00\\x00Kostasq\\x05X\\x03\\x00\\x00\\x00ageq\\x06K(X\\x07\\x00\\x00\\x00addressq\\x07X\\x10\\x00\\x00\\x00\\xce\\x97\\xcf\\x81\\xce\\xac\\xce\\xba\\xce\\xbb\\xce\\xb5\\xce\\xb9\\xce\\xbfq\\x08X\\x06\\x00\\x00\\x00salaryq\\tM\\xe8\\x03ubK\\x01h\\x01)\\x81q\\n}q\\x0b(h\\x04X\\x07\\x00\\x00\\x00Andreasq\\x0ch\\x06K(h\\x07X\\n\\x00\\x00\\x00\\xce\\xa0\\xce\\xac\\xcf\\x84\\xcf\\x81\\xce\\xb1q\\rh\\tKdubu.'"
      ]
     },
     "execution_count": 238,
     "metadata": {},
     "output_type": "execute_result"
    }
   ],
   "source": [
    "stuff_serialized"
   ]
  },
  {
   "cell_type": "code",
   "execution_count": 239,
   "metadata": {},
   "outputs": [
    {
     "data": {
      "text/plain": [
       "bytes"
      ]
     },
     "execution_count": 239,
     "metadata": {},
     "output_type": "execute_result"
    }
   ],
   "source": [
    "type(stuff_serialized)"
   ]
  },
  {
   "cell_type": "markdown",
   "metadata": {},
   "source": [
    "Μπορούμε να φορτώσουμε pickle δεδομένα:"
   ]
  },
  {
   "cell_type": "code",
   "execution_count": 237,
   "metadata": {},
   "outputs": [
    {
     "name": "stdout",
     "output_type": "stream",
     "text": [
      "{0: <__main__.Employee object at 0x110665470>, 1: <__main__.Employee object at 0x110665e80>}\n"
     ]
    }
   ],
   "source": [
    "a = pickle.loads(stuff_serialized)\n",
    "print (a)"
   ]
  },
  {
   "cell_type": "markdown",
   "metadata": {},
   "source": [
    "# Επιπλέον σημειώσεις\n",
    "Σας προτρέπω να διαβάσετε τις [έξοχες σημειώσεις](https://gist.github.com/spirosChv/6f22d6dc5cf79eec78069ddf36749fa4) από τον Σπύρο Χαυλή [schavlis@imbb.forth.gr](mailto:schavlis@imbb.forth.gr) που είχε ετοιμάσει για το μάθημα του 2016 σχετικά με τις κλάσεις και τον αντικειμενικοστραφή προγραμματισμό. \n"
   ]
  }
 ],
 "metadata": {
  "kernelspec": {
   "display_name": "Python 3",
   "language": "python",
   "name": "python3"
  },
  "language_info": {
   "codemirror_mode": {
    "name": "ipython",
    "version": 3
   },
   "file_extension": ".py",
   "mimetype": "text/x-python",
   "name": "python",
   "nbconvert_exporter": "python",
   "pygments_lexer": "ipython3",
   "version": "3.8.5"
  }
 },
 "nbformat": 4,
 "nbformat_minor": 2
}
