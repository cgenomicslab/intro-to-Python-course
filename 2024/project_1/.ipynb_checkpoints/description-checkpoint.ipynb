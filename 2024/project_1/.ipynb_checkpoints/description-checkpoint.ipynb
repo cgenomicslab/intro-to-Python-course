{
 "cells": [
  {
   "cell_type": "markdown",
   "metadata": {},
   "source": [
    "\n",
    "### Data\n",
    "* Access data: [Metabolomics reveals impaired maturation of HDL particles in adolescents with hyperinsulinaemic androgen excess](https://www.ebi.ac.uk/metabolights/MTBLS103)\n",
    "* Paper: [Metabolomics reveals impaired maturation of HDL particles in adolescents with hyperinsulinaemic androgen excess](https://www.ncbi.nlm.nih.gov/pmc/articles/PMC4477239/)\n",
    "* This dataset is also used in this paper: [CliqueMS: a computational tool for annotating in-source metabolite ions from LC-MS untargeted metabolomics data based on a coelution similarity network ](https://academic.oup.com/bioinformatics/article/35/20/4089/5418951)\n",
    "\n",
    "### Resources\n",
    "\n",
    "* [Tutorial in bioinformatics for Mass spectrometry analysis](https://www.mygoblet.org/training-portal/materials/bioinformatics-ms-analysis) . Pay attention on slide 26! This is the workflow that you will have to implement!\n",
    "* [Interesting dicussion on reddit on the basics of data challenges in mass spectroscopy](https://www.reddit.com/r/massspectrometry/comments/byd2d7/details_of_ms_data/?ref=readnext)\n",
    "* [Mass spectrometry data format page on wikipedia](https://en.wikipedia.org/wiki/Mass_spectrometry_data_format)\n",
    "* Pyteomics\n",
    "   * [Overview](https://www.biostars.org/p/66772/) , [also from pypi](https://pypi.org/project/pyteomics/)\n",
    "   * [Tutorial: Parsing data with pyteomics](https://pyteomics.readthedocs.io/en/latest/data.html)\n",
    "   * [How to plot and visualize a peak with pyteomics](https://pubs.acs.org/doi/abs/10.1021/acs.jproteome.8b00717)\n",
    "\n",
    "* pyQms, generalized, fast and accurate mass spectrometry data quantification   https://github.com/pyQms/pyQms \n",
    "   * [Download Instructions and Documentations](https://pyqms.readthedocs.io/en/latest/intro.html#download-instructions)\n",
    "   * Paper: [pyQms enables universal and accurate quantification of mass spectrometry data](https://www.ncbi.nlm.nih.gov/pmc/articles/PMC5629261/)\n",
    "   * How to match a pick list with PyQms: https://pyqms.readthedocs.io/en/latest/quick_start.html#matching-a-peak-list \n",
    "* [pymzML - an interface between Python and mzML Mass spectrometry Files](https://github.com/pymzml/pymzML) \n"
   ]
  },
  {
   "cell_type": "markdown",
   "metadata": {},
   "source": [
    "### Install tools\n",
    "```bash\n",
    "pip install lxml numpy matplotlib pyteomics\n",
    "pip install pyqms \n",
    "```\n",
    "\n",
    "pymqs also installs pymzML"
   ]
  },
  {
   "cell_type": "markdown",
   "metadata": {},
   "source": [
    "### Reading a mzXML file"
   ]
  },
  {
   "cell_type": "code",
   "execution_count": 3,
   "metadata": {},
   "outputs": [],
   "source": [
    "from pyteomics import mzxml\n",
    "f = mzxml.MzXML('C18_CON_BASA_567795.mzXML')\n"
   ]
  },
  {
   "cell_type": "code",
   "execution_count": 4,
   "metadata": {},
   "outputs": [],
   "source": [
    "# Get the first entry:\n",
    "s = next(f)"
   ]
  },
  {
   "cell_type": "code",
   "execution_count": 6,
   "metadata": {},
   "outputs": [
    {
     "data": {
      "text/plain": [
       "[<matplotlib.lines.Line2D at 0x111d5b910>]"
      ]
     },
     "execution_count": 6,
     "metadata": {},
     "output_type": "execute_result"
    },
    {
     "data": {
      "image/png": "[encoded data removed]",
      "text/plain": [
       "<Figure size 432x288 with 1 Axes>"
      ]
     },
     "metadata": {
      "needs_background": "light"
     },
     "output_type": "display_data"
    }
   ],
   "source": [
    "# Visualize the peak:\n",
    "import matplotlib.pyplot as plt \n",
    "\n",
    "plt.plot(s['m/z array'], s['intensity array'], )"
   ]
  },
  {
   "cell_type": "markdown",
   "metadata": {},
   "source": [
    "### Perform protein identification with pyQms"
   ]
  },
  {
   "cell_type": "code",
   "execution_count": 8,
   "metadata": {},
   "outputs": [
    {
     "name": "stdout",
     "output_type": "stream",
     "text": [
      "> Metabolic labels        > {'15N': [0.0]}\n",
      "> Fixed labels            > {}\n",
      "> Charges                 > [2]\n",
      "> Machine ppm offset      > 0.0\n",
      "> Label percentile tuples > [(('N', '0.000'),)]\n",
      "> Creating binomial cache > [9 ... 59]\n",
      "> Building     C element tree with a depth of   37, labeling percentile: 0.000\n",
      "> Building     H element tree with a depth of   59, labeling percentile: 0.000\n",
      "> Building     N element tree with a depth of    9, labeling percentile: 0.000\n",
      "> Building     O element tree with a depth of   16, labeling percentile: 0.000\n",
      "> Building isotopologue 00001/00001\r\n",
      "> Execution time 0.01 seconds\n",
      "> Created 1 match sets, total mz range [ 443.71126 ..  447.22112]\n"
     ]
    }
   ],
   "source": [
    "import pyqms\n",
    "\n",
    "# Create a peak list\n",
    "peak_list = list(zip(s['m/z array'], s['intensity array']))\n",
    "\n",
    "# Creare a library\n",
    "lib = pyqms.IsotopologueLibrary(\n",
    "    molecules  = [ 'DDSPDLPK' ],\n",
    "    charges    = [ 2 ],\n",
    ")"
   ]
  },
  {
   "cell_type": "markdown",
   "metadata": {},
   "source": [
    "Match peak with peak list"
   ]
  },
  {
   "cell_type": "code",
   "execution_count": 17,
   "metadata": {},
   "outputs": [],
   "source": [
    "results = lib.match_all(\n",
    "    mz_i_list = peak_list,\n",
    "    #spec_id   = 1165,\n",
    "    #spec_rt   = 29.10,\n",
    "    results   = None\n",
    ")\n",
    "    "
   ]
  },
  {
   "cell_type": "code",
   "execution_count": 16,
   "metadata": {},
   "outputs": [
    {
     "data": {
      "text/plain": [
       "{}"
      ]
     },
     "execution_count": 16,
     "metadata": {},
     "output_type": "execute_result"
    }
   ],
   "source": [
    "results"
   ]
  }
 ],
 "metadata": {
  "kernelspec": {
   "display_name": "Python 3",
   "language": "python",
   "name": "python3"
  },
  "language_info": {
   "codemirror_mode": {
    "name": "ipython",
    "version": 3
   },
   "file_extension": ".py",
   "mimetype": "text/x-python",
   "name": "python",
   "nbconvert_exporter": "python",
   "pygments_lexer": "ipython3",
   "version": "3.7.4"
  }
 },
 "nbformat": 4,
 "nbformat_minor": 2
}
