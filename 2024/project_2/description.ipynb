{
 "cells": [
  {
   "cell_type": "markdown",
   "metadata": {},
   "source": [
    "There are many online services that annotate with valuable information a set of mutations. Some of these are:\n",
    "* Variant Effect Predictor : https://rest.ensembl.org/\n",
    "* Variant Validator: https://variantvalidator.org/ \n",
    "* Mutalyzer: https://mutalyzer.nl/\n",
    "* Transvar: https://bioinformatics.mdanderson.org/transvar/\n",
    "* DbSNP variation service: https://api.ncbi.nlm.nih.gov/variation/v0/\n",
    "* MyVariant.info: https://myvariant.info/ \n",
    "* ...\n",
    "\n",
    "\n",
    "The project will have to answer the following questions:\n",
    "* What is the concordance of these tools on a big variety of different types of mutations?\n"
   ]
  },
  {
   "cell_type": "code",
   "execution_count": null,
   "metadata": {},
   "outputs": [],
   "source": []
  }
 ],
 "metadata": {
  "kernelspec": {
   "display_name": "Python 3",
   "language": "python",
   "name": "python3"
  },
  "language_info": {
   "codemirror_mode": {
    "name": "ipython",
    "version": 3
   },
   "file_extension": ".py",
   "mimetype": "text/x-python",
   "name": "python",
   "nbconvert_exporter": "python",
   "pygments_lexer": "ipython3",
   "version": "3.7.0"
  }
 },
 "nbformat": 4,
 "nbformat_minor": 2
}
