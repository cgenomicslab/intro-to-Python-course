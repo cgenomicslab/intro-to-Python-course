{
 "cells": [
  {
   "cell_type": "markdown",
   "metadata": {},
   "source": [
    "## Προγραμματισμός με τη γλώσσα python\n",
    "### Alexandros Kanterakis [kantale@ics.forth.gr](mailto:kantale@ics.forth.gr)\n",
    "### Διάλεξη 12η, Παρασκευή 26 Ιανουαρίου 2018"
   ]
  },
  {
   "cell_type": "markdown",
   "metadata": {},
   "source": [
    "Σκοπός αυτής της διάλεξης είναι η εισαγωγή σε μεθόδους για να προσπελαύνουμε υπάρχοντες online βάσεις δεδομένων οι οποίες περιέχουν γενετικές-βιολογικές πληροφορίες. \n",
    "\n",
    "Καταρχήν πρέπει να αναφέρουμε ότι υπάρχουν χιλιάδες τέτοιες βάσεις οι οποίες περιέχουν πληροφορίες για όλες τις μορφές των -omics data. Μία πολύ καλή λίστα βρίσκεται εδώ: https://www.oxfordjournals.org/nar/database/a/ (προφανώς και η λίστα δεν είναι πλήρης).\n",
    "\n",
    "Πως λοιπόν μπορούμε προγραμματιστικά να προσπελάσουμε αυτές τις βάσεις;\n",
    "\n",
    "### HTTP GET and POST requests\n",
    "\n",
    "Πριν απαντήσουμε σε αυτό πρέπει να πούμε κάποια βασικά στοιχεία για το [HTTP](https://en.wikipedia.org/wiki/Hypertext_Transfer_Protocol) πρωτόκολλο. Το HTTP είναι ένα πρωτόκολλο που καθορίζει πως δύο υπολογιστές μπορούν να επικοινωνήσουν ώστε ο ένας να \"πάρει\" κάποια πληροφορία από τον άλλο. Αυτή η \"πληροφορία\" είναι συνήθως μία HTML σελίδα, αλλά μπορεί να είναι και οποιαδίποτε άλλη μορφή πληροφορίας. Μία πηγή πληροφορίας ορίζεται σύμφωνα με το HTTP ως ένα URL ή αλλιώς ένα link. π.χ: http://bioinfo-grad.gr/eclass/. \n",
    "\n",
    "Ένας υπολογιστής που \"ζητάει\" πληροφορία συνήθως αναφέρεται ως \"client\" ενώ ένας υπολογιστής που μπορεί να τη δώσει ονομάζεται ως server. Ένας client για να \"ζητήσει\" πληροφορία από τον \"server\" πρέπει να ξέρει το URL του server. Στη συνέχεια εκτελεί ένα \"request\" (υποθέτω \"αίτημα\" στα ελληνικά),  προς τον server και του δηλώνει ποια είναι η μορφή της πληροφορίας που θέλει. Ο server αποφασίζει αν την έχει (και αν πρέπει να τη δώσει) την πληροφορία και ανάλογα την επιστρέφει στον client (κάτι σαν το ΚΕΠ..). Σε περίπτωση που κάτι δεν πάει καλά, ο server μπορεί να ενημερώσει τον client τι λάθος έγινε επιστρέφοντας έναν [κωδικό](https://en.wikipedia.org/wiki/List_of_HTTP_status_codes). Αν ο κωδικός είναι το 200, τότε δεν συνέβει κανένα λάθος. Όταν ένας server \"απαντάει\" σε ένα request, τότε λέμε ότι έστειλε ένα responce. \n",
    "\n",
    "Όταν ο client επικοινωνεί με τον server του δηλώνει: Τι θέλει, και σε ποια μορφή το θέλει.\n",
    "\n",
    "Σχετικά με το \"τι θέλω\" υπάρχουν ΔΥΟ βασικοί τρόποι δήλωσης: οι [\"GET\" και \"POST\"](http://www.w3schools.com/tags/ref_httpmethods.asp).\n",
    "\n",
    "H GET είναι ένας τρόπος να δηλώσεις τι θέλεις από έναν server, κωδικοποιώντας το αίτημα σου πάνω στο link. Αν υποθέσουμε π.χ. ότι θέλεις πληροροφίες για το προιόν με id=123 και το οποίο ανοίκει στη κατηγορία category=678 τότε το link που εκτελεί ένα GET request θα έχει τη μορφή: http://www.example.com/index.html?id=123&category=678. Για παράδειγμα αν κοιτάξουμε αυτό το εντελώς τυχαίο link: http://news.in.gr/greece/article/?aid=1500029633 θα δούμε ότι  είναι ένα GET request στη σελίδα news.in.gr/greece/article όπου ζητάει το \"resource\" το οποίο έχει aid=1500029633. Το GET request είναι ο κύριος τρόπος επικοινωνίας των browsers με τους web servers.  \n",
    "\n",
    "Τα GET requests έχουν δύο μειονεκτήματα:\n",
    "* Αυτό που ζητάει ο client \"φαίνεται\" πάνω στο link. Γενικότερα τα links δεν θεωρούνται \"ασφαλή\" πληροφορία και είναι προσβάσιμα από πολλούς \"ενδιάμεσους\". Αν για παράδειγμα ζητάμε κάποια δεδομένα με βάση προσωπικές μας πληροφορίες (π.χ. τηλέφωνο) δεν είναι καλή ιδέα να φαίνεται αυτό στο link. \n",
    "* Δεδομένου ότι αυτό που ζητάμε βρίσκεται πάνω στο link. Αν αυτό που ζητάμε είναι πολύπλοκο, τότε το link μπορεί να γίνει τεράστιο και μη διαχειρίσιμο. Για παράδειγμα να ένα άσχημο link με πολλά GET πεδία: https://www.amazon.com/Data-Visualization-Python-JavaScript-Transform/dp/1491920513/ref=s9_cartx_gw_g14_i5_r?_encoding=UTF8&fpl=fresh&pf_rd_m=ATVPDKIKX0DER&pf_rd_s=&pf_rd_r=WRMBPSF9K3H62TEWG5DW&pf_rd_t=36701&pf_rd_p=a6aaf593-1ba4-4f4e-bdcc-0febe090b8ed&pf_rd_i=desktop \n",
    "\n",
    "O δεύτερος τρόπος επικοινωνίας του client με τον server είναι μεσώ του POST request. Όταν κάνουμε POST βάζουμε μέσα σε ένα ειδικό πεδίο τα δεδομένα μας και το HTTP πρωτόκολο στέλνει αυτά τα δεδομένα στον server χωρίς να φαίνονται στο link. Π.χ. όταν κάνετε login στο site: http://bioinfo-grad.gr/eclass/ βάζετε το username και το password σας. Στη συνέχεια ο browser στέλνει αυτά τα δεδομένα στον server για επιβεβαίωση. Αυτά τα δεδομένα ΔΕΝ πρέπει προφανώς να φαίνονται στο link. Πως γίνεται αυτό; Αν κοιτάξετε τον κώδικα της σελίδας (π.χ. από Firefox μπορείτε να το δείτε επιλέγοντας Tools -> Web Developer -> Page Source). Θα δείτε σε ένα σημείο να γράφει:\n",
    "\n",
    "```html\n",
    "<h2>Σύνδεση χρήστη</h2>\n",
    "<div><form action='http://bioinfo-grad.gr/eclass/' method='post'>\n",
    "```\n",
    "\n",
    "Δηλαδή λέει: τα δεδομένα που βάζουμε σε αυτή τη φόρμα (form) θέλω να στέλνονται στον server μέσω POST request.\n",
    "\n",
    "Ένα τελευταίο σημείο για το HTTP είναι οι [headers](https://en.wikipedia.org/wiki/List_of_HTTP_header_fields). Τα headers (επικεφαλίδες;;) είναι πεδία με προ-καθορισμένα ονόματα στα οποία μπορούμε να βάλουμε πληροφορίες που διευκολύνουν τον server να διεκπεραιώσει το request μας. Π.χ. αν βάλουμε στο header με το όνομα \"Content-Type\" τη τιμή \"application/json\", τότε λέμε στον server ότι τα δεδομένα που του στέλνουμε μέσω POST είναι σε μορφή JSON. "
   ]
  },
  {
   "cell_type": "markdown",
   "metadata": {},
   "source": [
    "### python requests package\n",
    "\n",
    "Ωραία όλα αυτά, αλλά πως τα κάνουμε μέσω python; Παρόλο που η python έχει βιβλιοθήκες για να κάνουμε GET και POST, θα χρησιμοποιήσουμε ένα εξωτερικό πακέτο το οποίο είναι εξαιρετικά εύχρηστο. Αυτό το πακέτο είναι το requests: http://docs.python-requests.org/en/master/ . Για να το εγκαταστίσετε τρέξτε:\n",
    "\n",
    "```bash\n",
    "pip install requests\n",
    "```\n",
    "\n",
    "**ΠΡΟΣΟΧΗ!** πρέπει να βεβαιωθείτε ότι το πρόγραμμα pip βρίσκεται στο ίδιο σημείο που είναι και η python που τρέχετε!.\n",
    "Για παράδειγμα:\n",
    "\n",
    "```bash\n",
    "$ which pip\n",
    "/Users/alexandroskanterakis/anaconda3/bin/pip\n",
    "$ which python\n",
    "/Users/alexandroskanterakis/anaconda3/bin/python\n",
    "```\n",
    "\n",
    "Βλέπουμε δηλαδή ότι το pip και η python που τρέχω είναι στο ίδιο σημείο. Διαφορετικά θα πρέπει να γράψετε κάτι σαν αυτό:\n",
    "\n",
    "```bash\n",
    "/Directory/where/your/python/is/pip install requests \n",
    "```\n",
    "\n",
    "Για να βεβαιωθείτε ότι έχει εγκατασταθεί σωστά θα πρέπει να μπορείτε να κάνετε import αυτό το πακέτο χωρίς πρόβλημα:\n",
    "```bash\n",
    "$ python\n",
    "Python 3.5.2 |Anaconda 4.1.1 (x86_64)| (default, Jul  2 2016, 17:52:12) \n",
    "[GCC 4.2.1 Compatible Apple LLVM 4.2 (clang-425.0.28)] on darwin\n",
    "Type \"help\", \"copyright\", \"credits\" or \"license\" for more information.\n",
    ">>> import requests\n",
    ">>> \n",
    "```\n"
   ]
  },
  {
   "cell_type": "markdown",
   "metadata": {},
   "source": [
    "## Προσπελαύνοντας την ENSEMBL\n",
    "\n",
    "Η [ENSEMBL](http://www.ensembl.org/index.html) είναι ένα από τα πιο σημαντικά portals με διάφορες γενομικές πληροφορίες για πολλούς οργανισμούς. Η ENSEMBL έχει ένα API ([Application programming interface](https://en.wikipedia.org/wiki/Application_programming_interface)) το οποίο είναι ένα σύνολο από οδηγίες προς προγραμματιστές για να προσπελαύνουν μία υπηρεσία. Το API της ENSEMBL περιγράφεται εδώ:  http://rest.ensembl.org/ \n",
    "\n",
    "Παρατηρήστε ότι κάποιες υπηρεσίες είναι προσβάσιμες μέσω GET και κάποιες μέσω POST.\n",
    "\n",
    "Σαν παράδειγμα θα χρησιμοποιήσουμε το API της ENSEMBL το οποίο αναφέρεται στο [Variant Effect Predictor](http://www.ensembl.org/info/docs/tools/vep/index.html). Το Variant Effect Predictor μας δίνει διάφορες πληροφορίες σχετικά με το downstream effect και clinical significance ενώς variant. Αλλα πριν κάνουμε αυτό ας δούμε με ποιους τρόπους κωδικοποιούμε έναν variant. \n",
    "\n",
    "Γενικότερα υπάρχουν δύο τρόποι. \n",
    "\n",
    "Αν ο variant είναι γνωστός τότε κοιτάμε αν έχει καταχωρηθεί στη [dbSNP](https://www.ncbi.nlm.nih.gov/projects/SNP/). Σε αυτή τη περίπτωση ο variant θα έχει εναν κωδικό με το φορμάτ: rsXXXXXX. πχ: rs56116432.  \n",
    "\n",
    "Αν ο variant δεν είναι γνωστός και δεν υπάρχει στη dbSNP τότε μπορούμε να τον περιγράψουμε μέσω του [HGVS](http://varnomen.hgvs.org/recommendations/general/) φορμάτ. Η περιγραφή αυτή είναι αρκετά πολύπλοκη και ξεφεύγει λίγο από τους σκοπούς αυτής της διάλεξης. Απλά θα πούμε ότι μία από τις πολλές HGVS μορφές ενώς variant είναι το:\n",
    "\n",
    "{ΧΡΩΜΟΣΩΜΑ}:g.{ΘΕΣΗ}{REFERENCE}>{ALTERNATIVE}\n",
    "\n",
    "π.χ.:\n",
    "\n",
    "9:g.22125504G>C  \n",
    "\n",
    "Δηλαδή στο χρωμόσωμα 9 στη θέση 22125504 αντί για G που είναι το reference υπάρχει C.\n"
   ]
  },
  {
   "cell_type": "markdown",
   "metadata": {},
   "source": [
    "### GET request για dbSNP variant\n",
    "\n",
    "Για να πάρουμε πληροφορίες από το Variant Effect Predictor για ένα dbSNP variant, η ENSEMBL δίνει αυτό το API: http://rest.ensembl.org/documentation/info/vep_id_get Μπορούμε να κάνουμε ένα request σε αυτό το API ως εξής:"
   ]
  },
  {
   "cell_type": "code",
   "execution_count": 1,
   "metadata": {},
   "outputs": [],
   "source": [
    "import requests\n",
    "\n",
    "# Το URL που πρέπει να χρησιμοποιήσουμε \n",
    "# υπάρχει στη σελίδα http://rest.ensembl.org/documentation/info/vep_id_get \n",
    "# Επίσης Αφού είναι GET Request βάζουμε τη πληροφορία που θέλουμε στο URL:\n",
    "url = 'http://rest.ensembl.org/vep/human/id/rs56116432?'\n",
    "headers = { \"Content-Type\" : \"application/json\"}\n",
    "\n",
    "# Κάνουμε το GET request\n",
    "r = requests.get(url, headers=headers)"
   ]
  },
  {
   "cell_type": "markdown",
   "metadata": {},
   "source": [
    "Στη συνέχεια κοιτάμαι αν όλα πήγαν οκ:"
   ]
  },
  {
   "cell_type": "code",
   "execution_count": 33,
   "metadata": {},
   "outputs": [
    {
     "name": "stdout",
     "output_type": "stream",
     "text": [
      "True\n"
     ]
    }
   ],
   "source": [
    "print (r.ok) # Στην ουσία εδώ κοιτάει αν το response έχει κωδικό 200"
   ]
  },
  {
   "cell_type": "markdown",
   "metadata": {},
   "source": [
    "Παίρνουμε τα JSON δεδομένα:"
   ]
  },
  {
   "cell_type": "code",
   "execution_count": 10,
   "metadata": {},
   "outputs": [
    {
     "name": "stdout",
     "output_type": "stream",
     "text": [
      "[{'transcript_consequences': [{'biotype': 'processed_transcript', 'gene_id': 'ENSG00000175164', 'cdna_end': 700, 'hgnc_id': 'HGNC:79', 'gene_symbol_source': 'HGNC', 'cdna_start': 700, 'variant_allele': 'T', 'transcript_id': 'ENST00000453660', 'consequence_terms': ['non_coding_transcript_exon_variant', 'non_coding_transcript_variant'], 'impact': 'MODIFIER', 'strand': -1, 'gene_symbol': 'ABO'}, {'biotype': 'protein_coding', 'gene_id': 'ENSG00000175164', 'sift_score': 0, 'hgnc_id': 'HGNC:79', 'polyphen_score': 0.997, 'sift_prediction': 'deleterious', 'variant_allele': 'T', 'cds_start': 686, 'codons': 'gGc/gAc', 'transcript_id': 'ENST00000538324', 'cds_end': 686, 'polyphen_prediction': 'probably_damaging', 'impact': 'MODERATE', 'cdna_end': 711, 'gene_symbol_source': 'HGNC', 'cdna_start': 711, 'consequence_terms': ['missense_variant'], 'protein_end': 229, 'protein_start': 229, 'strand': -1, 'amino_acids': 'G/D', 'gene_symbol': 'ABO'}, {'biotype': 'protein_coding', 'gene_id': 'ENSG00000175164', 'sift_score': 0, 'hgnc_id': 'HGNC:79', 'polyphen_score': 0.997, 'sift_prediction': 'deleterious', 'variant_allele': 'T', 'cds_start': 686, 'codons': 'gGc/gAc', 'transcript_id': 'ENST00000611156', 'cds_end': 686, 'polyphen_prediction': 'probably_damaging', 'impact': 'MODERATE', 'cdna_end': 711, 'gene_symbol_source': 'HGNC', 'cdna_start': 711, 'consequence_terms': ['missense_variant'], 'protein_end': 229, 'protein_start': 229, 'strand': -1, 'amino_acids': 'G/D', 'gene_symbol': 'ABO'}], 'most_severe_consequence': 'missense_variant', 'input': 'rs56116432', 'seq_region_name': '9', 'allele_string': 'C/T', 'end': 133256042, 'assembly_name': 'GRCh38', 'colocated_variants': [{'exac_amr_maf': 0.004932, 'exac_sas_maf': 0.001639, 'exac_nfe_maf': 0.005339, 'end': 133256042, 'eas_maf': 0, 'exac_adj_allele': 'T', 'exac_eas_maf': 0, 'exac_fin_maf': 0.02601, 'exac_amr_allele': 'T', 'ea_maf': 0.003809, 'exac_oth_allele': 'T', 'minor_allele': 'T', 'sas_allele': 'T', 'amr_allele': 'T', 'exac_afr_allele': 'T', 'start': 133256042, 'ea_allele': 'T', 'allele_string': 'C/T', 'exac_eas_allele': 'T', 'afr_maf': 0, 'amr_maf': 0.0014, 'sas_maf': 0.001, 'eur_allele': 'T', 'exac_fin_allele': 'T', 'strand': 1, 'afr_allele': 'T', 'exac_maf': 0.003022, 'minor_allele_freq': 0.0026, 'seq_region_name': 9, 'exac_nfe_allele': 'T', 'exac_adj_maf': 0.004439, 'exac_afr_maf': 0.0005079, 'aa_maf': 0.0007102, 'exac_sas_allele': 'T', 'eur_maf': 0.0109, 'aa_allele': 'T', 'eas_allele': 'T', 'id': 'rs56116432', 'exac_allele': 'T', 'exac_oth_maf': 0.004926}], 'strand': 1, 'id': 'rs56116432', 'start': 133256042}, {'transcript_consequences': [{'biotype': 'protein_coding', 'gene_id': 'ENSG00000281879', 'sift_score': 0, 'hgnc_id': 'HGNC:79', 'polyphen_score': 0.997, 'sift_prediction': 'deleterious', 'variant_allele': 'T', 'cds_start': 689, 'codons': 'gGc/gAc', 'transcript_id': 'ENST00000626615', 'cds_end': 689, 'polyphen_prediction': 'probably_damaging', 'impact': 'MODERATE', 'cdna_end': 714, 'gene_symbol_source': 'HGNC', 'cdna_start': 714, 'consequence_terms': ['missense_variant'], 'protein_end': 230, 'protein_start': 230, 'strand': -1, 'amino_acids': 'G/D', 'gene_symbol': 'ABO'}], 'most_severe_consequence': 'missense_variant', 'input': 'rs56116432', 'seq_region_name': 'CHR_HG2030_PATCH', 'allele_string': 'C/T', 'end': 133256189, 'assembly_name': 'GRCh38', 'colocated_variants': [{'allele_string': 'C/T', 'seq_region_name': 'CHR_HG2030_PATCH', 'end': 133256189, 'minor_allele': 'T', 'strand': 1, 'id': 'rs56116432', 'minor_allele_freq': 0.0026, 'start': 133256189}], 'strand': 1, 'id': 'rs56116432', 'start': 133256189}]\n"
     ]
    }
   ],
   "source": [
    "data = r.json()\n",
    "print (data)"
   ]
  },
  {
   "cell_type": "code",
   "execution_count": 11,
   "metadata": {},
   "outputs": [
    {
     "name": "stdout",
     "output_type": "stream",
     "text": [
      "2\n"
     ]
    }
   ],
   "source": [
    "print (len(data))"
   ]
  },
  {
   "cell_type": "markdown",
   "metadata": {},
   "source": [
    "επέστρεψε 2 εγγραφές. Ας πάρουμε την πρώτη:"
   ]
  },
  {
   "cell_type": "code",
   "execution_count": 12,
   "metadata": {},
   "outputs": [
    {
     "name": "stdout",
     "output_type": "stream",
     "text": [
      "{'transcript_consequences': [{'biotype': 'processed_transcript', 'gene_id': 'ENSG00000175164', 'cdna_end': 700, 'hgnc_id': 'HGNC:79', 'gene_symbol_source': 'HGNC', 'cdna_start': 700, 'variant_allele': 'T', 'transcript_id': 'ENST00000453660', 'consequence_terms': ['non_coding_transcript_exon_variant', 'non_coding_transcript_variant'], 'impact': 'MODIFIER', 'strand': -1, 'gene_symbol': 'ABO'}, {'biotype': 'protein_coding', 'gene_id': 'ENSG00000175164', 'sift_score': 0, 'hgnc_id': 'HGNC:79', 'polyphen_score': 0.997, 'sift_prediction': 'deleterious', 'variant_allele': 'T', 'cds_start': 686, 'codons': 'gGc/gAc', 'transcript_id': 'ENST00000538324', 'cds_end': 686, 'polyphen_prediction': 'probably_damaging', 'impact': 'MODERATE', 'cdna_end': 711, 'gene_symbol_source': 'HGNC', 'cdna_start': 711, 'consequence_terms': ['missense_variant'], 'protein_end': 229, 'protein_start': 229, 'strand': -1, 'amino_acids': 'G/D', 'gene_symbol': 'ABO'}, {'biotype': 'protein_coding', 'gene_id': 'ENSG00000175164', 'sift_score': 0, 'hgnc_id': 'HGNC:79', 'polyphen_score': 0.997, 'sift_prediction': 'deleterious', 'variant_allele': 'T', 'cds_start': 686, 'codons': 'gGc/gAc', 'transcript_id': 'ENST00000611156', 'cds_end': 686, 'polyphen_prediction': 'probably_damaging', 'impact': 'MODERATE', 'cdna_end': 711, 'gene_symbol_source': 'HGNC', 'cdna_start': 711, 'consequence_terms': ['missense_variant'], 'protein_end': 229, 'protein_start': 229, 'strand': -1, 'amino_acids': 'G/D', 'gene_symbol': 'ABO'}], 'most_severe_consequence': 'missense_variant', 'input': 'rs56116432', 'seq_region_name': '9', 'allele_string': 'C/T', 'end': 133256042, 'assembly_name': 'GRCh38', 'colocated_variants': [{'exac_amr_maf': 0.004932, 'exac_sas_maf': 0.001639, 'exac_nfe_maf': 0.005339, 'end': 133256042, 'eas_maf': 0, 'exac_adj_allele': 'T', 'exac_eas_maf': 0, 'exac_fin_maf': 0.02601, 'exac_amr_allele': 'T', 'ea_maf': 0.003809, 'exac_oth_allele': 'T', 'minor_allele': 'T', 'sas_allele': 'T', 'amr_allele': 'T', 'exac_afr_allele': 'T', 'start': 133256042, 'ea_allele': 'T', 'allele_string': 'C/T', 'exac_eas_allele': 'T', 'afr_maf': 0, 'amr_maf': 0.0014, 'sas_maf': 0.001, 'eur_allele': 'T', 'exac_fin_allele': 'T', 'strand': 1, 'afr_allele': 'T', 'exac_maf': 0.003022, 'minor_allele_freq': 0.0026, 'seq_region_name': 9, 'exac_nfe_allele': 'T', 'exac_adj_maf': 0.004439, 'exac_afr_maf': 0.0005079, 'aa_maf': 0.0007102, 'exac_sas_allele': 'T', 'eur_maf': 0.0109, 'aa_allele': 'T', 'eas_allele': 'T', 'id': 'rs56116432', 'exac_allele': 'T', 'exac_oth_maf': 0.004926}], 'strand': 1, 'id': 'rs56116432', 'start': 133256042}\n"
     ]
    }
   ],
   "source": [
    "print (data[0])"
   ]
  },
  {
   "cell_type": "code",
   "execution_count": 13,
   "metadata": {},
   "outputs": [
    {
     "name": "stdout",
     "output_type": "stream",
     "text": [
      "3\n"
     ]
    }
   ],
   "source": [
    "print (len(data[0][\"transcript_consequences\"]))"
   ]
  },
  {
   "cell_type": "markdown",
   "metadata": {},
   "source": [
    "Η πρώτη εγγραφή έχει consequences σε 3 transcripts. Ας πάρουμε το 2ο:"
   ]
  },
  {
   "cell_type": "code",
   "execution_count": 14,
   "metadata": {},
   "outputs": [
    {
     "name": "stdout",
     "output_type": "stream",
     "text": [
      "{'biotype': 'protein_coding', 'gene_id': 'ENSG00000175164', 'sift_score': 0, 'hgnc_id': 'HGNC:79', 'polyphen_score': 0.997, 'sift_prediction': 'deleterious', 'variant_allele': 'T', 'cds_start': 686, 'codons': 'gGc/gAc', 'transcript_id': 'ENST00000538324', 'cds_end': 686, 'polyphen_prediction': 'probably_damaging', 'impact': 'MODERATE', 'cdna_end': 711, 'gene_symbol_source': 'HGNC', 'cdna_start': 711, 'consequence_terms': ['missense_variant'], 'protein_end': 229, 'protein_start': 229, 'strand': -1, 'amino_acids': 'G/D', 'gene_symbol': 'ABO'}\n"
     ]
    }
   ],
   "source": [
    "print (data[0][\"transcript_consequences\"][1])"
   ]
  },
  {
   "cell_type": "markdown",
   "metadata": {},
   "source": [
    "Ας δούμε ποιο είναι το consequence αυτού του mutation σε αυτό το transcript σύμφωνα με το [polyphen](http://genetics.bwh.harvard.edu/pph2/):"
   ]
  },
  {
   "cell_type": "code",
   "execution_count": 15,
   "metadata": {},
   "outputs": [
    {
     "name": "stdout",
     "output_type": "stream",
     "text": [
      "probably_damaging\n"
     ]
    }
   ],
   "source": [
    "print (data[0][\"transcript_consequences\"][1][\"polyphen_prediction\"])"
   ]
  },
  {
   "cell_type": "markdown",
   "metadata": {},
   "source": [
    "### POST request για dbSNP variant\n",
    "\n",
    "Θα κάνουμε τώρα το ίδιο αλλά θα χρησιμοποιήσουμε το API για POST request: http://rest.ensembl.org/documentation/info/vep_id_post "
   ]
  },
  {
   "cell_type": "code",
   "execution_count": 17,
   "metadata": {},
   "outputs": [],
   "source": [
    "url = 'http://rest.ensembl.org/vep/human/id'\n",
    "\n",
    "# δηλώνουμε ότι το αποτέλεσμα θέλουμε να είναι σε JSON φορματ (Accept)\n",
    "headers = { \"Content-Type\" : \"application/json\", \"Accept\" : \"application/json\"} \n",
    "\n",
    "# Αφού είναι POST βάζουμε τα data ξεχωριστά:\n",
    "data = { \"ids\" : [\"rs56116432\", \"COSM476\" ] }\n",
    "\n",
    "# ΠΡΟΣΟΧΗ!!!\n",
    "# Τα data είναι ένα dictionary το οποίο πρέπει να το μετατρέψουμε σε JSON!\n",
    "import json\n",
    "data_json = json.dumps(data)\n",
    "\n",
    "# Κάνουμε το POST request:\n",
    "r = requests.post(url, headers=headers, data=data_json)"
   ]
  },
  {
   "cell_type": "markdown",
   "metadata": {},
   "source": [
    "Τσεκάρουμε ότι όλα πήγαν οκ:"
   ]
  },
  {
   "cell_type": "code",
   "execution_count": 18,
   "metadata": {},
   "outputs": [
    {
     "name": "stdout",
     "output_type": "stream",
     "text": [
      "True\n"
     ]
    }
   ],
   "source": [
    "print (r.ok)"
   ]
  },
  {
   "cell_type": "markdown",
   "metadata": {},
   "source": [
    "παίρνουμε τα data:"
   ]
  },
  {
   "cell_type": "code",
   "execution_count": 19,
   "metadata": {},
   "outputs": [
    {
     "name": "stdout",
     "output_type": "stream",
     "text": [
      "[{'transcript_consequences': [{'biotype': 'processed_transcript', 'gene_id': 'ENSG00000175164', 'cdna_end': 700, 'hgnc_id': 'HGNC:79', 'gene_symbol_source': 'HGNC', 'cdna_start': 700, 'variant_allele': 'T', 'transcript_id': 'ENST00000453660', 'consequence_terms': ['non_coding_transcript_exon_variant', 'non_coding_transcript_variant'], 'impact': 'MODIFIER', 'strand': -1, 'gene_symbol': 'ABO'}, {'biotype': 'protein_coding', 'gene_id': 'ENSG00000175164', 'sift_score': 0, 'hgnc_id': 'HGNC:79', 'polyphen_score': 0.997, 'sift_prediction': 'deleterious', 'variant_allele': 'T', 'cds_start': 686, 'codons': 'gGc/gAc', 'transcript_id': 'ENST00000538324', 'cds_end': 686, 'polyphen_prediction': 'probably_damaging', 'impact': 'MODERATE', 'cdna_end': 711, 'gene_symbol_source': 'HGNC', 'cdna_start': 711, 'consequence_terms': ['missense_variant'], 'protein_end': 229, 'protein_start': 229, 'strand': -1, 'amino_acids': 'G/D', 'gene_symbol': 'ABO'}, {'biotype': 'protein_coding', 'gene_id': 'ENSG00000175164', 'sift_score': 0, 'hgnc_id': 'HGNC:79', 'polyphen_score': 0.997, 'sift_prediction': 'deleterious', 'variant_allele': 'T', 'cds_start': 686, 'codons': 'gGc/gAc', 'transcript_id': 'ENST00000611156', 'cds_end': 686, 'polyphen_prediction': 'probably_damaging', 'impact': 'MODERATE', 'cdna_end': 711, 'gene_symbol_source': 'HGNC', 'cdna_start': 711, 'consequence_terms': ['missense_variant'], 'protein_end': 229, 'protein_start': 229, 'strand': -1, 'amino_acids': 'G/D', 'gene_symbol': 'ABO'}], 'most_severe_consequence': 'missense_variant', 'input': 'rs56116432', 'seq_region_name': '9', 'allele_string': 'C/T', 'end': 133256042, 'assembly_name': 'GRCh38', 'colocated_variants': [{'exac_amr_maf': 0.004932, 'exac_sas_maf': 0.001639, 'exac_nfe_maf': 0.005339, 'end': 133256042, 'eas_maf': 0, 'exac_adj_allele': 'T', 'exac_eas_maf': 0, 'exac_fin_maf': 0.02601, 'exac_amr_allele': 'T', 'ea_maf': 0.003809, 'exac_oth_allele': 'T', 'minor_allele': 'T', 'sas_allele': 'T', 'amr_allele': 'T', 'exac_afr_allele': 'T', 'start': 133256042, 'ea_allele': 'T', 'allele_string': 'C/T', 'exac_eas_allele': 'T', 'afr_maf': 0, 'amr_maf': 0.0014, 'sas_maf': 0.001, 'eur_allele': 'T', 'exac_fin_allele': 'T', 'strand': 1, 'afr_allele': 'T', 'exac_maf': 0.003022, 'minor_allele_freq': 0.0026, 'seq_region_name': 9, 'exac_nfe_allele': 'T', 'exac_adj_maf': 0.004439, 'exac_afr_maf': 0.0005079, 'aa_maf': 0.0007102, 'exac_sas_allele': 'T', 'eur_maf': 0.0109, 'aa_allele': 'T', 'eas_allele': 'T', 'id': 'rs56116432', 'exac_allele': 'T', 'exac_oth_maf': 0.004926}], 'strand': 1, 'id': 'rs56116432', 'start': 133256042}, {'transcript_consequences': [{'biotype': 'protein_coding', 'gene_id': 'ENSG00000281879', 'sift_score': 0, 'hgnc_id': 'HGNC:79', 'polyphen_score': 0.997, 'sift_prediction': 'deleterious', 'variant_allele': 'T', 'cds_start': 689, 'codons': 'gGc/gAc', 'transcript_id': 'ENST00000626615', 'cds_end': 689, 'polyphen_prediction': 'probably_damaging', 'impact': 'MODERATE', 'cdna_end': 714, 'gene_symbol_source': 'HGNC', 'cdna_start': 714, 'consequence_terms': ['missense_variant'], 'protein_end': 230, 'protein_start': 230, 'strand': -1, 'amino_acids': 'G/D', 'gene_symbol': 'ABO'}], 'most_severe_consequence': 'missense_variant', 'input': 'rs56116432', 'seq_region_name': 'CHR_HG2030_PATCH', 'allele_string': 'C/T', 'end': 133256189, 'assembly_name': 'GRCh38', 'colocated_variants': [{'allele_string': 'C/T', 'seq_region_name': 'CHR_HG2030_PATCH', 'end': 133256189, 'minor_allele': 'T', 'strand': 1, 'id': 'rs56116432', 'minor_allele_freq': 0.0026, 'start': 133256189}], 'strand': 1, 'id': 'rs56116432', 'start': 133256189}, {'most_severe_consequence': '?', 'allele_string': 'COSMIC_MUTATION', 'input': 'COSM476', 'seq_region_name': '7', 'end': 140753336, 'assembly_name': 'GRCh38', 'colocated_variants': [{'allele_string': 'HGMD_MUTATION', 'seq_region_name': 7, 'phenotype_or_disease': 1, 'strand': 1, 'id': 'CM112509', 'end': 140753336, 'start': 140753336}, {'allele_string': 'COSMIC_MUTATION', 'seq_region_name': 7, 'phenotype_or_disease': 1, 'start': 140753336, 'strand': 1, 'id': 'COSM18443', 'end': 140753336, 'somatic': 1}, {'allele_string': 'COSMIC_MUTATION', 'seq_region_name': 7, 'phenotype_or_disease': 1, 'start': 140753336, 'strand': 1, 'id': 'COSM476', 'end': 140753336, 'somatic': 1}, {'allele_string': 'COSMIC_MUTATION', 'seq_region_name': 7, 'phenotype_or_disease': 1, 'start': 140753336, 'strand': 1, 'id': 'COSM6137', 'end': 140753336, 'somatic': 1}], 'strand': 1, 'id': 'COSM476', 'start': 140753336}]\n"
     ]
    }
   ],
   "source": [
    "data = r.json()\n",
    "print (data)"
   ]
  },
  {
   "cell_type": "markdown",
   "metadata": {},
   "source": [
    "Είναι τα ίδια με πριν:"
   ]
  },
  {
   "cell_type": "code",
   "execution_count": 20,
   "metadata": {},
   "outputs": [
    {
     "name": "stdout",
     "output_type": "stream",
     "text": [
      "probably_damaging\n"
     ]
    }
   ],
   "source": [
    "print (data[0][\"transcript_consequences\"][1][\"polyphen_prediction\"])"
   ]
  },
  {
   "cell_type": "markdown",
   "metadata": {},
   "source": [
    "### GET request για HGVS variant\n",
    "\n",
    "H ENSEMBL μας δίνει ένα API για να πάρουμε πληροφορίες από το Variant Effect Predictor για ένα HGVS variant μέσω GET request: http://rest.ensembl.org/documentation/info/vep_hgvs_get "
   ]
  },
  {
   "cell_type": "code",
   "execution_count": 21,
   "metadata": {
    "collapsed": true
   },
   "outputs": [],
   "source": [
    "url = 'http://rest.ensembl.org/vep/human/hgvs/9:g.22125504G>C?'\n",
    "headers={ \"Content-Type\" : \"application/json\"}\n",
    "\n",
    "r = requests.get(url, headers=headers)"
   ]
  },
  {
   "cell_type": "code",
   "execution_count": 22,
   "metadata": {},
   "outputs": [
    {
     "name": "stdout",
     "output_type": "stream",
     "text": [
      "True\n"
     ]
    }
   ],
   "source": [
    "print (r.ok)"
   ]
  },
  {
   "cell_type": "code",
   "execution_count": 23,
   "metadata": {
    "collapsed": true
   },
   "outputs": [],
   "source": [
    "data = r.json()"
   ]
  },
  {
   "cell_type": "code",
   "execution_count": 24,
   "metadata": {},
   "outputs": [
    {
     "name": "stdout",
     "output_type": "stream",
     "text": [
      "[{'transcript_consequences': [{'consequence_terms': ['downstream_gene_variant'], 'impact': 'MODIFIER', 'biotype': 'antisense', 'gene_id': 'ENSG00000240498', 'hgnc_id': 'HGNC:34341', 'distance': 4407, 'gene_symbol': 'CDKN2B-AS1', 'gene_symbol_source': 'HGNC', 'strand': 1, 'variant_allele': 'C', 'transcript_id': 'ENST00000422420'}, {'consequence_terms': ['downstream_gene_variant'], 'impact': 'MODIFIER', 'biotype': 'antisense', 'gene_id': 'ENSG00000240498', 'hgnc_id': 'HGNC:34341', 'distance': 4409, 'gene_symbol': 'CDKN2B-AS1', 'gene_symbol_source': 'HGNC', 'strand': 1, 'variant_allele': 'C', 'transcript_id': 'ENST00000428597'}, {'consequence_terms': ['downstream_gene_variant'], 'impact': 'MODIFIER', 'biotype': 'antisense', 'gene_id': 'ENSG00000240498', 'hgnc_id': 'HGNC:34341', 'distance': 4932, 'gene_symbol': 'CDKN2B-AS1', 'gene_symbol_source': 'HGNC', 'strand': 1, 'variant_allele': 'C', 'transcript_id': 'ENST00000577551'}, {'consequence_terms': ['downstream_gene_variant'], 'impact': 'MODIFIER', 'biotype': 'antisense', 'gene_id': 'ENSG00000240498', 'hgnc_id': 'HGNC:34341', 'distance': 4858, 'gene_symbol': 'CDKN2B-AS1', 'gene_symbol_source': 'HGNC', 'strand': 1, 'variant_allele': 'C', 'transcript_id': 'ENST00000580576'}, {'consequence_terms': ['downstream_gene_variant'], 'impact': 'MODIFIER', 'biotype': 'antisense', 'gene_id': 'ENSG00000240498', 'hgnc_id': 'HGNC:34341', 'distance': 4932, 'gene_symbol': 'CDKN2B-AS1', 'gene_symbol_source': 'HGNC', 'strand': 1, 'variant_allele': 'C', 'transcript_id': 'ENST00000581051'}, {'consequence_terms': ['downstream_gene_variant'], 'impact': 'MODIFIER', 'biotype': 'antisense', 'gene_id': 'ENSG00000240498', 'hgnc_id': 'HGNC:34341', 'distance': 4932, 'gene_symbol': 'CDKN2B-AS1', 'gene_symbol_source': 'HGNC', 'strand': 1, 'variant_allele': 'C', 'transcript_id': 'ENST00000582072'}, {'consequence_terms': ['downstream_gene_variant'], 'impact': 'MODIFIER', 'biotype': 'antisense', 'gene_id': 'ENSG00000240498', 'hgnc_id': 'HGNC:34341', 'distance': 4932, 'gene_symbol': 'CDKN2B-AS1', 'gene_symbol_source': 'HGNC', 'strand': 1, 'variant_allele': 'C', 'transcript_id': 'ENST00000584020'}, {'consequence_terms': ['downstream_gene_variant'], 'impact': 'MODIFIER', 'biotype': 'antisense', 'gene_id': 'ENSG00000240498', 'hgnc_id': 'HGNC:34341', 'distance': 4932, 'gene_symbol': 'CDKN2B-AS1', 'gene_symbol_source': 'HGNC', 'strand': 1, 'variant_allele': 'C', 'transcript_id': 'ENST00000584637'}, {'consequence_terms': ['downstream_gene_variant'], 'impact': 'MODIFIER', 'biotype': 'antisense', 'gene_id': 'ENSG00000240498', 'hgnc_id': 'HGNC:34341', 'distance': 4932, 'gene_symbol': 'CDKN2B-AS1', 'gene_symbol_source': 'HGNC', 'strand': 1, 'variant_allele': 'C', 'transcript_id': 'ENST00000584816'}, {'consequence_terms': ['downstream_gene_variant'], 'impact': 'MODIFIER', 'biotype': 'antisense', 'gene_id': 'ENSG00000240498', 'hgnc_id': 'HGNC:34341', 'distance': 4960, 'gene_symbol': 'CDKN2B-AS1', 'gene_symbol_source': 'HGNC', 'strand': 1, 'variant_allele': 'C', 'transcript_id': 'ENST00000585267'}], 'most_severe_consequence': 'downstream_gene_variant', 'input': '9:g.22125504G>C', 'seq_region_name': '9', 'allele_string': 'G/C', 'end': 22125504, 'assembly_name': 'GRCh38', 'colocated_variants': [{'allele_string': 'G/C', 'eur_maf': 0.4722, 'amr_maf': 0.4553, 'sas_maf': 0.4908, 'eur_allele': 'C', 'end': 22125504, 'eas_maf': 0.5367, 'afr_allele': 'C', 'minor_allele': 'C', 'seq_region_name': 9, 'minor_allele_freq': 0.4181, 'strand': 1, 'pubmed': '24262325,19501493,22042884,21860704,21149552,20159871,19474294,21894447,21971053,21804106,20502693,22199011,18224312,22400124,18533027,18852197,21297524,22403240,22856518,23963167,19343170,20386740,21400687,24728607,20017983,24573017,24607648,20549515,22144573,22623978,22029572,18362232,19173706,19214202,26252781,20435227,21606135,19924713,17554300,19955471,19956433,25717410,24098343,18780302,18675980,19475673,20231156,20858905,21152093,21698238,24906238,17634449,18979498,19164808,19207022,19750184,20098575,20981302,21242481,21369780,22295058,22848412,25617895,23729007,18469204,20605023,21372283,22429504,26483964,23870195,18704761,23587283,24926413,19463184,24676469,21424681,20175863,22505696,19559344,19578366,23142796,19171343,24246088,18987759,19819472,19926059,21375403,21385355,21705410,24777168,25105296,19888323,23454037,18264662,18599798,18652946,18654002,18925945,18957718,19135198,19319159,19329499,19548844,19664850,19709660,19885677,19956784,20031540,20031580,20031606,20230275,20335276,20395598,2040077', 'sas_allele': 'C', 'phenotype_or_disease': 1, 'amr_allele': 'C', 'afr_maf': 0.2133, 'eas_allele': 'C', 'id': 'rs1333049', 'start': 22125504}], 'strand': 1, 'id': '9:g.22125504G>C', 'start': 22125504}]\n"
     ]
    }
   ],
   "source": [
    "print (data)"
   ]
  },
  {
   "cell_type": "code",
   "execution_count": 25,
   "metadata": {},
   "outputs": [
    {
     "name": "stdout",
     "output_type": "stream",
     "text": [
      "1\n"
     ]
    }
   ],
   "source": [
    "print (len(data))"
   ]
  },
  {
   "cell_type": "markdown",
   "metadata": {},
   "source": [
    "Επέστρεψε μόνο μία εγγρφή."
   ]
  },
  {
   "cell_type": "code",
   "execution_count": 26,
   "metadata": {},
   "outputs": [
    {
     "data": {
      "text/plain": [
       "dict_keys(['transcript_consequences', 'most_severe_consequence', 'input', 'seq_region_name', 'allele_string', 'end', 'assembly_name', 'colocated_variants', 'strand', 'id', 'start'])"
      ]
     },
     "execution_count": 26,
     "metadata": {},
     "output_type": "execute_result"
    }
   ],
   "source": [
    "data[0].keys()"
   ]
  },
  {
   "cell_type": "markdown",
   "metadata": {},
   "source": [
    "Ας δούμε τα transcript consequences:"
   ]
  },
  {
   "cell_type": "code",
   "execution_count": 27,
   "metadata": {},
   "outputs": [
    {
     "data": {
      "text/plain": [
       "[{'biotype': 'antisense',\n",
       "  'consequence_terms': ['downstream_gene_variant'],\n",
       "  'distance': 4407,\n",
       "  'gene_id': 'ENSG00000240498',\n",
       "  'gene_symbol': 'CDKN2B-AS1',\n",
       "  'gene_symbol_source': 'HGNC',\n",
       "  'hgnc_id': 'HGNC:34341',\n",
       "  'impact': 'MODIFIER',\n",
       "  'strand': 1,\n",
       "  'transcript_id': 'ENST00000422420',\n",
       "  'variant_allele': 'C'},\n",
       " {'biotype': 'antisense',\n",
       "  'consequence_terms': ['downstream_gene_variant'],\n",
       "  'distance': 4409,\n",
       "  'gene_id': 'ENSG00000240498',\n",
       "  'gene_symbol': 'CDKN2B-AS1',\n",
       "  'gene_symbol_source': 'HGNC',\n",
       "  'hgnc_id': 'HGNC:34341',\n",
       "  'impact': 'MODIFIER',\n",
       "  'strand': 1,\n",
       "  'transcript_id': 'ENST00000428597',\n",
       "  'variant_allele': 'C'},\n",
       " {'biotype': 'antisense',\n",
       "  'consequence_terms': ['downstream_gene_variant'],\n",
       "  'distance': 4932,\n",
       "  'gene_id': 'ENSG00000240498',\n",
       "  'gene_symbol': 'CDKN2B-AS1',\n",
       "  'gene_symbol_source': 'HGNC',\n",
       "  'hgnc_id': 'HGNC:34341',\n",
       "  'impact': 'MODIFIER',\n",
       "  'strand': 1,\n",
       "  'transcript_id': 'ENST00000577551',\n",
       "  'variant_allele': 'C'},\n",
       " {'biotype': 'antisense',\n",
       "  'consequence_terms': ['downstream_gene_variant'],\n",
       "  'distance': 4858,\n",
       "  'gene_id': 'ENSG00000240498',\n",
       "  'gene_symbol': 'CDKN2B-AS1',\n",
       "  'gene_symbol_source': 'HGNC',\n",
       "  'hgnc_id': 'HGNC:34341',\n",
       "  'impact': 'MODIFIER',\n",
       "  'strand': 1,\n",
       "  'transcript_id': 'ENST00000580576',\n",
       "  'variant_allele': 'C'},\n",
       " {'biotype': 'antisense',\n",
       "  'consequence_terms': ['downstream_gene_variant'],\n",
       "  'distance': 4932,\n",
       "  'gene_id': 'ENSG00000240498',\n",
       "  'gene_symbol': 'CDKN2B-AS1',\n",
       "  'gene_symbol_source': 'HGNC',\n",
       "  'hgnc_id': 'HGNC:34341',\n",
       "  'impact': 'MODIFIER',\n",
       "  'strand': 1,\n",
       "  'transcript_id': 'ENST00000581051',\n",
       "  'variant_allele': 'C'},\n",
       " {'biotype': 'antisense',\n",
       "  'consequence_terms': ['downstream_gene_variant'],\n",
       "  'distance': 4932,\n",
       "  'gene_id': 'ENSG00000240498',\n",
       "  'gene_symbol': 'CDKN2B-AS1',\n",
       "  'gene_symbol_source': 'HGNC',\n",
       "  'hgnc_id': 'HGNC:34341',\n",
       "  'impact': 'MODIFIER',\n",
       "  'strand': 1,\n",
       "  'transcript_id': 'ENST00000582072',\n",
       "  'variant_allele': 'C'},\n",
       " {'biotype': 'antisense',\n",
       "  'consequence_terms': ['downstream_gene_variant'],\n",
       "  'distance': 4932,\n",
       "  'gene_id': 'ENSG00000240498',\n",
       "  'gene_symbol': 'CDKN2B-AS1',\n",
       "  'gene_symbol_source': 'HGNC',\n",
       "  'hgnc_id': 'HGNC:34341',\n",
       "  'impact': 'MODIFIER',\n",
       "  'strand': 1,\n",
       "  'transcript_id': 'ENST00000584020',\n",
       "  'variant_allele': 'C'},\n",
       " {'biotype': 'antisense',\n",
       "  'consequence_terms': ['downstream_gene_variant'],\n",
       "  'distance': 4932,\n",
       "  'gene_id': 'ENSG00000240498',\n",
       "  'gene_symbol': 'CDKN2B-AS1',\n",
       "  'gene_symbol_source': 'HGNC',\n",
       "  'hgnc_id': 'HGNC:34341',\n",
       "  'impact': 'MODIFIER',\n",
       "  'strand': 1,\n",
       "  'transcript_id': 'ENST00000584637',\n",
       "  'variant_allele': 'C'},\n",
       " {'biotype': 'antisense',\n",
       "  'consequence_terms': ['downstream_gene_variant'],\n",
       "  'distance': 4932,\n",
       "  'gene_id': 'ENSG00000240498',\n",
       "  'gene_symbol': 'CDKN2B-AS1',\n",
       "  'gene_symbol_source': 'HGNC',\n",
       "  'hgnc_id': 'HGNC:34341',\n",
       "  'impact': 'MODIFIER',\n",
       "  'strand': 1,\n",
       "  'transcript_id': 'ENST00000584816',\n",
       "  'variant_allele': 'C'},\n",
       " {'biotype': 'antisense',\n",
       "  'consequence_terms': ['downstream_gene_variant'],\n",
       "  'distance': 4960,\n",
       "  'gene_id': 'ENSG00000240498',\n",
       "  'gene_symbol': 'CDKN2B-AS1',\n",
       "  'gene_symbol_source': 'HGNC',\n",
       "  'hgnc_id': 'HGNC:34341',\n",
       "  'impact': 'MODIFIER',\n",
       "  'strand': 1,\n",
       "  'transcript_id': 'ENST00000585267',\n",
       "  'variant_allele': 'C'}]"
      ]
     },
     "execution_count": 27,
     "metadata": {},
     "output_type": "execute_result"
    }
   ],
   "source": [
    "data[0][\"transcript_consequences\"]"
   ]
  },
  {
   "cell_type": "markdown",
   "metadata": {},
   "source": [
    "### POST request για HGVS variant\n",
    "\n",
    "Μπορούμε να κάνουμε το ίδιο, κάνοντας ένα POST request: http://rest.ensembl.org/documentation/info/vep_hgvs_post"
   ]
  },
  {
   "cell_type": "code",
   "execution_count": 28,
   "metadata": {
    "collapsed": true
   },
   "outputs": [],
   "source": [
    "url = 'http://rest.ensembl.org/vep/human/hgvs'\n",
    "headers = { \"Content-Type\" : \"application/json\", \"Accept\" : \"application/json\"}\n",
    "data = { \"hgvs_notations\" : [\"9:g.22125504G>C\"] } # Παρατηρείστε ότι αυτό είναι μία λίστα. \n",
    "                                                  # Μπορούμε να βάλουμε (σχεδόν) όσα HGVS variants θέλουμε\n",
    "    \n",
    "data_json = json.dumps(data)\n",
    "\n",
    "r = requests.post(url, headers=headers, data=data_json)"
   ]
  },
  {
   "cell_type": "code",
   "execution_count": 29,
   "metadata": {},
   "outputs": [
    {
     "name": "stdout",
     "output_type": "stream",
     "text": [
      "True\n"
     ]
    }
   ],
   "source": [
    "print (r.ok)"
   ]
  },
  {
   "cell_type": "code",
   "execution_count": 30,
   "metadata": {},
   "outputs": [
    {
     "name": "stdout",
     "output_type": "stream",
     "text": [
      "[{'transcript_consequences': [{'consequence_terms': ['downstream_gene_variant'], 'impact': 'MODIFIER', 'biotype': 'antisense', 'gene_id': 'ENSG00000240498', 'hgnc_id': 'HGNC:34341', 'distance': 4407, 'gene_symbol': 'CDKN2B-AS1', 'gene_symbol_source': 'HGNC', 'strand': 1, 'variant_allele': 'C', 'transcript_id': 'ENST00000422420'}, {'consequence_terms': ['downstream_gene_variant'], 'impact': 'MODIFIER', 'biotype': 'antisense', 'gene_id': 'ENSG00000240498', 'hgnc_id': 'HGNC:34341', 'distance': 4409, 'gene_symbol': 'CDKN2B-AS1', 'gene_symbol_source': 'HGNC', 'strand': 1, 'variant_allele': 'C', 'transcript_id': 'ENST00000428597'}, {'consequence_terms': ['downstream_gene_variant'], 'impact': 'MODIFIER', 'biotype': 'antisense', 'gene_id': 'ENSG00000240498', 'hgnc_id': 'HGNC:34341', 'distance': 4932, 'gene_symbol': 'CDKN2B-AS1', 'gene_symbol_source': 'HGNC', 'strand': 1, 'variant_allele': 'C', 'transcript_id': 'ENST00000577551'}, {'consequence_terms': ['downstream_gene_variant'], 'impact': 'MODIFIER', 'biotype': 'antisense', 'gene_id': 'ENSG00000240498', 'hgnc_id': 'HGNC:34341', 'distance': 4858, 'gene_symbol': 'CDKN2B-AS1', 'gene_symbol_source': 'HGNC', 'strand': 1, 'variant_allele': 'C', 'transcript_id': 'ENST00000580576'}, {'consequence_terms': ['downstream_gene_variant'], 'impact': 'MODIFIER', 'biotype': 'antisense', 'gene_id': 'ENSG00000240498', 'hgnc_id': 'HGNC:34341', 'distance': 4932, 'gene_symbol': 'CDKN2B-AS1', 'gene_symbol_source': 'HGNC', 'strand': 1, 'variant_allele': 'C', 'transcript_id': 'ENST00000581051'}, {'consequence_terms': ['downstream_gene_variant'], 'impact': 'MODIFIER', 'biotype': 'antisense', 'gene_id': 'ENSG00000240498', 'hgnc_id': 'HGNC:34341', 'distance': 4932, 'gene_symbol': 'CDKN2B-AS1', 'gene_symbol_source': 'HGNC', 'strand': 1, 'variant_allele': 'C', 'transcript_id': 'ENST00000582072'}, {'consequence_terms': ['downstream_gene_variant'], 'impact': 'MODIFIER', 'biotype': 'antisense', 'gene_id': 'ENSG00000240498', 'hgnc_id': 'HGNC:34341', 'distance': 4932, 'gene_symbol': 'CDKN2B-AS1', 'gene_symbol_source': 'HGNC', 'strand': 1, 'variant_allele': 'C', 'transcript_id': 'ENST00000584020'}, {'consequence_terms': ['downstream_gene_variant'], 'impact': 'MODIFIER', 'biotype': 'antisense', 'gene_id': 'ENSG00000240498', 'hgnc_id': 'HGNC:34341', 'distance': 4932, 'gene_symbol': 'CDKN2B-AS1', 'gene_symbol_source': 'HGNC', 'strand': 1, 'variant_allele': 'C', 'transcript_id': 'ENST00000584637'}, {'consequence_terms': ['downstream_gene_variant'], 'impact': 'MODIFIER', 'biotype': 'antisense', 'gene_id': 'ENSG00000240498', 'hgnc_id': 'HGNC:34341', 'distance': 4932, 'gene_symbol': 'CDKN2B-AS1', 'gene_symbol_source': 'HGNC', 'strand': 1, 'variant_allele': 'C', 'transcript_id': 'ENST00000584816'}, {'consequence_terms': ['downstream_gene_variant'], 'impact': 'MODIFIER', 'biotype': 'antisense', 'gene_id': 'ENSG00000240498', 'hgnc_id': 'HGNC:34341', 'distance': 4960, 'gene_symbol': 'CDKN2B-AS1', 'gene_symbol_source': 'HGNC', 'strand': 1, 'variant_allele': 'C', 'transcript_id': 'ENST00000585267'}], 'most_severe_consequence': 'downstream_gene_variant', 'input': '9:g.22125504G>C', 'seq_region_name': '9', 'allele_string': 'G/C', 'end': 22125504, 'assembly_name': 'GRCh38', 'colocated_variants': [{'allele_string': 'G/C', 'eur_maf': 0.4722, 'amr_maf': 0.4553, 'sas_maf': 0.4908, 'eur_allele': 'C', 'end': 22125504, 'eas_maf': 0.5367, 'afr_allele': 'C', 'minor_allele': 'C', 'seq_region_name': 9, 'minor_allele_freq': 0.4181, 'strand': 1, 'pubmed': '24262325,19501493,22042884,21860704,21149552,20159871,19474294,21894447,21971053,21804106,20502693,22199011,18224312,22400124,18533027,18852197,21297524,22403240,22856518,23963167,19343170,20386740,21400687,24728607,20017983,24573017,24607648,20549515,22144573,22623978,22029572,18362232,19173706,19214202,26252781,20435227,21606135,19924713,17554300,19955471,19956433,25717410,24098343,18780302,18675980,19475673,20231156,20858905,21152093,21698238,24906238,17634449,18979498,19164808,19207022,19750184,20098575,20981302,21242481,21369780,22295058,22848412,25617895,23729007,18469204,20605023,21372283,22429504,26483964,23870195,18704761,23587283,24926413,19463184,24676469,21424681,20175863,22505696,19559344,19578366,23142796,19171343,24246088,18987759,19819472,19926059,21375403,21385355,21705410,24777168,25105296,19888323,23454037,18264662,18599798,18652946,18654002,18925945,18957718,19135198,19319159,19329499,19548844,19664850,19709660,19885677,19956784,20031540,20031580,20031606,20230275,20335276,20395598,2040077', 'sas_allele': 'C', 'phenotype_or_disease': 1, 'amr_allele': 'C', 'afr_maf': 0.2133, 'eas_allele': 'C', 'id': 'rs1333049', 'start': 22125504}], 'strand': 1, 'id': '9:g.22125504G>C', 'start': 22125504}]\n"
     ]
    }
   ],
   "source": [
    "returned_data = r.json()\n",
    "print (returned_data)"
   ]
  },
  {
   "cell_type": "markdown",
   "metadata": {},
   "source": [
    "### Mutalyzer\n",
    "Το [mutalyzer](https://mutalyzer.nl/) είναι ένα service με το οποίο μπορούμε να ελέγχουμε και να κάνουμε μετατροπές σε variants οι οποίοι περιγράφονται σε HGVS. Για παράδειγμα μέσω το numberConversion μπορούμε να βρούμε το genomic location ενός variant:"
   ]
  },
  {
   "cell_type": "code",
   "execution_count": 2,
   "metadata": {},
   "outputs": [
    {
     "name": "stdout",
     "output_type": "stream",
     "text": [
      "['NC_000011.10:g.112088901C>T']\n"
     ]
    }
   ],
   "source": [
    "r = requests.get(\n",
    "  'https://mutalyzer.nl/json/numberConversion', \n",
    "  {\n",
    "  'build': 'hg38', \n",
    "  'variant': 'NM_001276506.1:c.204C>T'\n",
    "  })\n",
    "data = r.json()\n",
    "print (data) "
   ]
  },
  {
   "cell_type": "markdown",
   "metadata": {},
   "source": [
    "### Variation Reporter\n",
    "Το [Variation Reporter](https://www.ncbi.nlm.nih.gov/variation/tools/reporter) είναι το αντίστοιχο με το VEP service του NCBI. Μπορουμε να το χρησιμοποιήσουμε ως εξής: "
   ]
  },
  {
   "cell_type": "code",
   "execution_count": 4,
   "metadata": {},
   "outputs": [
    {
     "name": "stdout",
     "output_type": "stream",
     "text": [
      "True\n",
      "Submitted: JSID_01_1003310_130.14.18.6_9000__variant_analyzer\n",
      ".\n",
      "## URL: https://www.ncbi.nlm.nih.gov/variation/tools/reporter/JSID_01_1003310_130.14.18.6_9000__variant_analyzer\n",
      "## Submitted time:\t01/26/2018 11:29:20\n",
      "## Report generated time:\t01/26/2018 11:29:22\n",
      "## Summary report for \n",
      "## Summary of Submitted Data\n",
      "## Number of variant locations:\t1\n",
      "## Number of variant alleles:\t1\n",
      "## Summary of Data Report:\n",
      "## Number of unique NCBI Ids found:\t1\n",
      "## Number of novel alleles at known locations:\t0\n",
      "## Number of novel alleles at novel locations:\t0\n",
      "## Total number of novel locations:\t0\n",
      "## Variant alleles with clinical information:\t1\n",
      "## Variant alleles with molecular consequence:\t1\n",
      "## Total number of rows in the report:\t13\n",
      "## Assembly:\tGRCh37.p13\n",
      "\n",
      "# Submitted ID\tSubmitted Loc\tCytoband\tMapped Loc\tNCBI ID\tAllele\tGMAF\tGene ID\tGene Symbol\tHgvs_g\tOrigin\tHgvs_g (RefSeqGene)\tHgvs_c\tHgvs_p\tConsequences\tOnTestPanel\tClinVar Accession\tClinical Source ID\tClinical Significance\tClinical Evidence\tClinical Review\tPhenotype ID\tPhenotype Description\tPMIDs\tNumber Of Submissions\tSuspected False Positive\tGWAS Association\tHas Genotype?\tOn Genotyping Kit?\tException\tNovel allele?\n",
      "NM_001276506.1:c.204C>T\tNM_001276506.1: 288\t11q23.1\tNP_002993.1:68\trs9919552\tNC_000011.9:g.111959625C>T\tT: 0.1134\t6392\tSDHD\tNC_000011.9:g.111959625C>T\tgermline\tNG_012337.3:g.7055C>T\tNM_001276506.1:c.204C>T\tNP_001263435.1:p.Ser68=\tSO:0001819 (synonymous_codon)\t\tRCV000037727.5; RCV000162450.1; RCV000265027.1\tIllumina Clinical Services Laboratory,Illumina:839653\tConflicting interpretations of pathogenicity; Benign; Benign\tclinical testing; clinical testing; clinical testing\tconf; single; single\tMedGen:CN169374; MedGen:C0027672,SNOMED CT:699346009; MedGen:C0031511,OMIM:171300\tnot specified; Hereditary cancer-predisposing syndrome; Pheochromocytoma\t24033266;25741868\t34\t\t\tYes\tYes\t\t\n",
      "NM_001276506.1:c.204C>T\tNM_001276506.1: 288\t11q23.1\tNT_033899.8:15522041\trs9919552\tNC_000011.9:g.111959625C>T\tT: 0.1134\t6392\tSDHD\tNC_000011.9:g.111959625C>T\tgermline\tNG_012337.3:g.7055C>T\tNM_001276506.1:c.204C>T\tNP_001263435.1:p.Ser68=\tSO:0001819 (synonymous_codon)\t\tRCV000037727.5; RCV000162450.1; RCV000265027.1\tIllumina Clinical Services Laboratory,Illumina:839653\tConflicting interpretations of pathogenicity; Benign; Benign\tclinical testing; clinical testing; clinical testing\tconf; single; single\tMedGen:CN169374; MedGen:C0027672,SNOMED CT:699346009; MedGen:C0031511,OMIM:171300\tnot specified; Hereditary cancer-predisposing syndrome; Pheochromocytoma\t24033266;25741868\t34\t\t\tYes\tYes\t\t\n",
      "NM_001276506.1:c.204C>T\tNM_001276506.1: 288\t11q23.1\tNC_000011.9:111959625\trs9919552\tNC_000011.9:g.111959625C>T\tT: 0.1134\t6392\tSDHD\tNC_000011.9:g.111959625C>T\tgermline\tNG_012337.3:g.7055C>T\tNM_001276506.1:c.204C>T\tNP_001263435.1:p.Ser68=\tSO:0001819 (synonymous_codon)\t\tRCV000037727.5; RCV000162450.1; RCV000265027.1\tIllumina Clinical Services Laboratory,Illumina:839653\tConflicting interpretations of pathogenicity; Benign; Benign\tclinical testing; clinical testing; clinical testing\tconf; single; single\tMedGen:CN169374; MedGen:C0027672,SNOMED CT:699346009; MedGen:C0031511,OMIM:171300\tnot specified; Hereditary cancer-predisposing syndrome; Pheochromocytoma\t24033266;25741868\t34\t\t\tYes\tYes\t\t\n",
      "NM_001276506.1:c.204C>T\tNM_001276506.1: 288\t11q23.1\tNM_003002.3:288\trs9919552\tNC_000011.9:g.111959625C>T\tT: 0.1134\t6392\tSDHD\tNC_000011.9:g.111959625C>T\tgermline\tNG_012337.3:g.7055C>T\tNM_001276506.1:c.204C>T\tNP_001263435.1:p.Ser68=\tSO:0001819 (synonymous_codon)\t\tRCV000037727.5; RCV000162450.1; RCV000265027.1\tIllumina Clinical Services Laboratory,Illumina:839653\tConflicting interpretations of pathogenicity; Benign; Benign\tclinical testing; clinical testing; clinical testing\tconf; single; single\tMedGen:CN169374; MedGen:C0027672,SNOMED CT:699346009; MedGen:C0031511,OMIM:171300\tnot specified; Hereditary cancer-predisposing syndrome; Pheochromocytoma\t24033266;25741868\t34\t\t\tYes\tYes\t\t\n",
      "NM_001276506.1:c.204C>T\tNM_001276506.1: 288\t11q23.1\tNM_001276504.1:171\trs9919552\tNC_000011.9:g.111959625C>T\tT: 0.1134\t6392\tSDHD\tNC_000011.9:g.111959625C>T\tgermline\tNG_012337.3:g.7055C>T\tNM_001276506.1:c.204C>T\tNP_001263435.1:p.Ser68=\tSO:0001819 (synonymous_codon)\t\tRCV000037727.5; RCV000162450.1; RCV000265027.1\tIllumina Clinical Services Laboratory,Illumina:839653\tConflicting interpretations of pathogenicity; Benign; Benign\tclinical testing; clinical testing; clinical testing\tconf; single; single\tMedGen:CN169374; MedGen:C0027672,SNOMED CT:699346009; MedGen:C0031511,OMIM:171300\tnot specified; Hereditary cancer-predisposing syndrome; Pheochromocytoma\t24033266;25741868\t34\t\t\tYes\tYes\t\t\n",
      "NM_001276506.1:c.204C>T\tNM_001276506.1: 288\t11q23.1\tNP_001263433.1:29\trs9919552\tNC_000011.9:g.111959625C>T\tT: 0.1134\t6392\tSDHD\tNC_000011.9:g.111959625C>T\tgermline\tNG_012337.3:g.7055C>T\tNM_001276506.1:c.204C>T\tNP_001263435.1:p.Ser68=\tSO:0001819 (synonymous_codon)\t\tRCV000037727.5; RCV000162450.1; RCV000265027.1\tIllumina Clinical Services Laboratory,Illumina:839653\tConflicting interpretations of pathogenicity; Benign; Benign\tclinical testing; clinical testing; clinical testing\tconf; single; single\tMedGen:CN169374; MedGen:C0027672,SNOMED CT:699346009; MedGen:C0031511,OMIM:171300\tnot specified; Hereditary cancer-predisposing syndrome; Pheochromocytoma\t24033266;25741868\t34\t\t\tYes\tYes\t\t\n",
      "NM_001276506.1:c.204C>T\tNM_001276506.1: 288\t11q23.1\tNM_001276506.1:288\trs9919552\tNC_000011.9:g.111959625C>T\tT: 0.1134\t6392\tSDHD\tNC_000011.9:g.111959625C>T\tgermline\tNG_012337.3:g.7055C>T\tNM_001276506.1:c.204C>T\tNP_001263435.1:p.Ser68=\tSO:0001819 (synonymous_codon)\t\tRCV000037727.5; RCV000162450.1; RCV000265027.1\tIllumina Clinical Services Laboratory,Illumina:839653\tConflicting interpretations of pathogenicity; Benign; Benign\tclinical testing; clinical testing; clinical testing\tconf; single; single\tMedGen:CN169374; MedGen:C0027672,SNOMED CT:699346009; MedGen:C0031511,OMIM:171300\tnot specified; Hereditary cancer-predisposing syndrome; Pheochromocytoma\t24033266;25741868\t34\t\t\tYes\tYes\t\t\n",
      "NM_001276506.1:c.204C>T\tNM_001276506.1: 288\t11q23.1\tNP_001263435.1:68\trs9919552\tNC_000011.9:g.111959625C>T\tT: 0.1134\t6392\tSDHD\tNC_000011.9:g.111959625C>T\tgermline\tNG_012337.3:g.7055C>T\tNM_001276506.1:c.204C>T\tNP_001263435.1:p.Ser68=\tSO:0001819 (synonymous_codon)\t\tRCV000037727.5; RCV000162450.1; RCV000265027.1\tIllumina Clinical Services Laboratory,Illumina:839653\tConflicting interpretations of pathogenicity; Benign; Benign\tclinical testing; clinical testing; clinical testing\tconf; single; single\tMedGen:CN169374; MedGen:C0027672,SNOMED CT:699346009; MedGen:C0031511,OMIM:171300\tnot specified; Hereditary cancer-predisposing syndrome; Pheochromocytoma\t24033266;25741868\t34\t\t\tYes\tYes\t\t\n",
      "NM_001276506.1:c.204C>T\tNM_001276506.1: 288\t11q23.1\tNR_077060.1:288\trs9919552\tNC_000011.9:g.111959625C>T\tT: 0.1134\t6392\tSDHD\tNC_000011.9:g.111959625C>T\tgermline\tNG_012337.3:g.7055C>T\tNM_001276506.1:c.204C>T\tNP_001263435.1:p.Ser68=\tSO:0001819 (synonymous_codon)\t\tRCV000037727.5; RCV000162450.1; RCV000265027.1\tIllumina Clinical Services Laboratory,Illumina:839653\tConflicting interpretations of pathogenicity; Benign; Benign\tclinical testing; clinical testing; clinical testing\tconf; single; single\tMedGen:CN169374; MedGen:C0027672,SNOMED CT:699346009; MedGen:C0031511,OMIM:171300\tnot specified; Hereditary cancer-predisposing syndrome; Pheochromocytoma\t24033266;25741868\t34\t\t\tYes\tYes\t\t\n",
      "NM_001276506.1:c.204C>T\tNM_001276506.1: 288\t11q23.1\tNG_033145.1:2898\trs9919552\tNC_000011.9:g.111959625C>T\tT: 0.1134\t6392\tSDHD\tNC_000011.9:g.111959625C>T\tgermline\tNG_012337.3:g.7055C>T\tNM_001276506.1:c.204C>T\tNP_001263435.1:p.Ser68=\tSO:0001819 (synonymous_codon)\t\tRCV000037727.5; RCV000162450.1; RCV000265027.1\tIllumina Clinical Services Laboratory,Illumina:839653\tConflicting interpretations of pathogenicity; Benign; Benign\tclinical testing; clinical testing; clinical testing\tconf; single; single\tMedGen:CN169374; MedGen:C0027672,SNOMED CT:699346009; MedGen:C0031511,OMIM:171300\tnot specified; Hereditary cancer-predisposing syndrome; Pheochromocytoma\t24033266;25741868\t34\t\t\tYes\tYes\t\t\n",
      "NM_001276506.1:c.204C>T\tNM_001276506.1: 288\t11q23.1\tXM_005271644.1:283\trs9919552\tNC_000011.9:g.111959625C>T\tT: 0.1134\t6392\tSDHD\tNC_000011.9:g.111959625C>T\tgermline\tNG_012337.3:g.7055C>T\tNM_001276506.1:c.204C>T\tNP_001263435.1:p.Ser68=\tSO:0001819 (synonymous_codon)\t\tRCV000037727.5; RCV000162450.1; RCV000265027.1\tIllumina Clinical Services Laboratory,Illumina:839653\tConflicting interpretations of pathogenicity; Benign; Benign\tclinical testing; clinical testing; clinical testing\tconf; single; single\tMedGen:CN169374; MedGen:C0027672,SNOMED CT:699346009; MedGen:C0031511,OMIM:171300\tnot specified; Hereditary cancer-predisposing syndrome; Pheochromocytoma\t24033266;25741868\t34\t\t\tYes\tYes\t\t\n",
      "NM_001276506.1:c.204C>T\tNM_001276506.1: 288\t11q23.1\tXP_005271701.1:68\trs9919552\tNC_000011.9:g.111959625C>T\tT: 0.1134\t6392\tSDHD\tNC_000011.9:g.111959625C>T\tgermline\tNG_012337.3:g.7055C>T\tNM_001276506.1:c.204C>T\tNP_001263435.1:p.Ser68=\tSO:0001819 (synonymous_codon)\t\tRCV000037727.5; RCV000162450.1; RCV000265027.1\tIllumina Clinical Services Laboratory,Illumina:839653\tConflicting interpretations of pathogenicity; Benign; Benign\tclinical testing; clinical testing; clinical testing\tconf; single; single\tMedGen:CN169374; MedGen:C0027672,SNOMED CT:699346009; MedGen:C0031511,OMIM:171300\tnot specified; Hereditary cancer-predisposing syndrome; Pheochromocytoma\t24033266;25741868\t34\t\t\tYes\tYes\t\t\n",
      "NM_001276506.1:c.204C>T\tNM_001276506.1: 288\t11q23.1\tNG_012337.3:7055\trs9919552\tNC_000011.9:g.111959625C>T\tT: 0.1134\t6392\tSDHD\tNC_000011.9:g.111959625C>T\tgermline\tNG_012337.3:g.7055C>T\tNM_001276506.1:c.204C>T\tNP_001263435.1:p.Ser68=\tSO:0001819 (synonymous_codon)\t\tRCV000037727.5; RCV000162450.1; RCV000265027.1\tIllumina Clinical Services Laboratory,Illumina:839653\tConflicting interpretations of pathogenicity; Benign; Benign\tclinical testing; clinical testing; clinical testing\tconf; single; single\tMedGen:CN169374; MedGen:C0027672,SNOMED CT:699346009; MedGen:C0031511,OMIM:171300\tnot specified; Hereditary cancer-predisposing syndrome; Pheochromocytoma\t24033266;25741868\t34\t\t\tYes\tYes\t\t\n",
      "\n",
      "\n"
     ]
    }
   ],
   "source": [
    "url='https://www.ncbi.nlm.nih.gov/projects/SNP/VariantAnalyzer/var_rep.cgi'\n",
    "var = 'NM_001276506.1:c.204C>T'\n",
    "r = requests.post(url, {'annot1': var, })\n",
    "print (r.ok)\n",
    "data = r.text\n",
    "print (data)"
   ]
  },
  {
   "cell_type": "markdown",
   "metadata": {},
   "source": [
    "Παρατηρούμε ότι τα δεδομένα που επιστρέφει δεν είναι σε JSON αλλά tabular. Μπορούμε να τα \"φροτώσουμε\" σε ένα pandas DataFrame!"
   ]
  },
  {
   "cell_type": "code",
   "execution_count": 6,
   "metadata": {},
   "outputs": [
    {
     "data": {
      "text/html": [
       "<div>\n",
       "<style>\n",
       "    .dataframe thead tr:only-child th {\n",
       "        text-align: right;\n",
       "    }\n",
       "\n",
       "    .dataframe thead th {\n",
       "        text-align: left;\n",
       "    }\n",
       "\n",
       "    .dataframe tbody tr th {\n",
       "        vertical-align: top;\n",
       "    }\n",
       "</style>\n",
       "<table border=\"1\" class=\"dataframe\">\n",
       "  <thead>\n",
       "    <tr style=\"text-align: right;\">\n",
       "      <th></th>\n",
       "      <th># Submitted ID</th>\n",
       "      <th>Submitted Loc</th>\n",
       "      <th>Cytoband</th>\n",
       "      <th>Mapped Loc</th>\n",
       "      <th>NCBI ID</th>\n",
       "      <th>Allele</th>\n",
       "      <th>GMAF</th>\n",
       "      <th>Gene ID</th>\n",
       "      <th>Gene Symbol</th>\n",
       "      <th>Hgvs_g</th>\n",
       "      <th>...</th>\n",
       "      <th>Phenotype ID</th>\n",
       "      <th>Phenotype Description</th>\n",
       "      <th>PMIDs</th>\n",
       "      <th>Number Of Submissions</th>\n",
       "      <th>Suspected False Positive</th>\n",
       "      <th>GWAS Association</th>\n",
       "      <th>Has Genotype?</th>\n",
       "      <th>On Genotyping Kit?</th>\n",
       "      <th>Exception</th>\n",
       "      <th>Novel allele?</th>\n",
       "    </tr>\n",
       "  </thead>\n",
       "  <tbody>\n",
       "    <tr>\n",
       "      <th>0</th>\n",
       "      <td>NM_001276506.1:c.204C&gt;T</td>\n",
       "      <td>NM_001276506.1: 288</td>\n",
       "      <td>11q23.1</td>\n",
       "      <td>NP_002993.1:68</td>\n",
       "      <td>rs9919552</td>\n",
       "      <td>NC_000011.9:g.111959625C&gt;T</td>\n",
       "      <td>T: 0.1134</td>\n",
       "      <td>6392</td>\n",
       "      <td>SDHD</td>\n",
       "      <td>NC_000011.9:g.111959625C&gt;T</td>\n",
       "      <td>...</td>\n",
       "      <td>MedGen:CN169374; MedGen:C0027672,SNOMED CT:699...</td>\n",
       "      <td>not specified; Hereditary cancer-predisposing ...</td>\n",
       "      <td>24033266;25741868</td>\n",
       "      <td>34</td>\n",
       "      <td>NaN</td>\n",
       "      <td>NaN</td>\n",
       "      <td>Yes</td>\n",
       "      <td>Yes</td>\n",
       "      <td>NaN</td>\n",
       "      <td>NaN</td>\n",
       "    </tr>\n",
       "    <tr>\n",
       "      <th>1</th>\n",
       "      <td>NM_001276506.1:c.204C&gt;T</td>\n",
       "      <td>NM_001276506.1: 288</td>\n",
       "      <td>11q23.1</td>\n",
       "      <td>NT_033899.8:15522041</td>\n",
       "      <td>rs9919552</td>\n",
       "      <td>NC_000011.9:g.111959625C&gt;T</td>\n",
       "      <td>T: 0.1134</td>\n",
       "      <td>6392</td>\n",
       "      <td>SDHD</td>\n",
       "      <td>NC_000011.9:g.111959625C&gt;T</td>\n",
       "      <td>...</td>\n",
       "      <td>MedGen:CN169374; MedGen:C0027672,SNOMED CT:699...</td>\n",
       "      <td>not specified; Hereditary cancer-predisposing ...</td>\n",
       "      <td>24033266;25741868</td>\n",
       "      <td>34</td>\n",
       "      <td>NaN</td>\n",
       "      <td>NaN</td>\n",
       "      <td>Yes</td>\n",
       "      <td>Yes</td>\n",
       "      <td>NaN</td>\n",
       "      <td>NaN</td>\n",
       "    </tr>\n",
       "    <tr>\n",
       "      <th>2</th>\n",
       "      <td>NM_001276506.1:c.204C&gt;T</td>\n",
       "      <td>NM_001276506.1: 288</td>\n",
       "      <td>11q23.1</td>\n",
       "      <td>NC_000011.9:111959625</td>\n",
       "      <td>rs9919552</td>\n",
       "      <td>NC_000011.9:g.111959625C&gt;T</td>\n",
       "      <td>T: 0.1134</td>\n",
       "      <td>6392</td>\n",
       "      <td>SDHD</td>\n",
       "      <td>NC_000011.9:g.111959625C&gt;T</td>\n",
       "      <td>...</td>\n",
       "      <td>MedGen:CN169374; MedGen:C0027672,SNOMED CT:699...</td>\n",
       "      <td>not specified; Hereditary cancer-predisposing ...</td>\n",
       "      <td>24033266;25741868</td>\n",
       "      <td>34</td>\n",
       "      <td>NaN</td>\n",
       "      <td>NaN</td>\n",
       "      <td>Yes</td>\n",
       "      <td>Yes</td>\n",
       "      <td>NaN</td>\n",
       "      <td>NaN</td>\n",
       "    </tr>\n",
       "    <tr>\n",
       "      <th>3</th>\n",
       "      <td>NM_001276506.1:c.204C&gt;T</td>\n",
       "      <td>NM_001276506.1: 288</td>\n",
       "      <td>11q23.1</td>\n",
       "      <td>NM_003002.3:288</td>\n",
       "      <td>rs9919552</td>\n",
       "      <td>NC_000011.9:g.111959625C&gt;T</td>\n",
       "      <td>T: 0.1134</td>\n",
       "      <td>6392</td>\n",
       "      <td>SDHD</td>\n",
       "      <td>NC_000011.9:g.111959625C&gt;T</td>\n",
       "      <td>...</td>\n",
       "      <td>MedGen:CN169374; MedGen:C0027672,SNOMED CT:699...</td>\n",
       "      <td>not specified; Hereditary cancer-predisposing ...</td>\n",
       "      <td>24033266;25741868</td>\n",
       "      <td>34</td>\n",
       "      <td>NaN</td>\n",
       "      <td>NaN</td>\n",
       "      <td>Yes</td>\n",
       "      <td>Yes</td>\n",
       "      <td>NaN</td>\n",
       "      <td>NaN</td>\n",
       "    </tr>\n",
       "    <tr>\n",
       "      <th>4</th>\n",
       "      <td>NM_001276506.1:c.204C&gt;T</td>\n",
       "      <td>NM_001276506.1: 288</td>\n",
       "      <td>11q23.1</td>\n",
       "      <td>NM_001276504.1:171</td>\n",
       "      <td>rs9919552</td>\n",
       "      <td>NC_000011.9:g.111959625C&gt;T</td>\n",
       "      <td>T: 0.1134</td>\n",
       "      <td>6392</td>\n",
       "      <td>SDHD</td>\n",
       "      <td>NC_000011.9:g.111959625C&gt;T</td>\n",
       "      <td>...</td>\n",
       "      <td>MedGen:CN169374; MedGen:C0027672,SNOMED CT:699...</td>\n",
       "      <td>not specified; Hereditary cancer-predisposing ...</td>\n",
       "      <td>24033266;25741868</td>\n",
       "      <td>34</td>\n",
       "      <td>NaN</td>\n",
       "      <td>NaN</td>\n",
       "      <td>Yes</td>\n",
       "      <td>Yes</td>\n",
       "      <td>NaN</td>\n",
       "      <td>NaN</td>\n",
       "    </tr>\n",
       "    <tr>\n",
       "      <th>5</th>\n",
       "      <td>NM_001276506.1:c.204C&gt;T</td>\n",
       "      <td>NM_001276506.1: 288</td>\n",
       "      <td>11q23.1</td>\n",
       "      <td>NP_001263433.1:29</td>\n",
       "      <td>rs9919552</td>\n",
       "      <td>NC_000011.9:g.111959625C&gt;T</td>\n",
       "      <td>T: 0.1134</td>\n",
       "      <td>6392</td>\n",
       "      <td>SDHD</td>\n",
       "      <td>NC_000011.9:g.111959625C&gt;T</td>\n",
       "      <td>...</td>\n",
       "      <td>MedGen:CN169374; MedGen:C0027672,SNOMED CT:699...</td>\n",
       "      <td>not specified; Hereditary cancer-predisposing ...</td>\n",
       "      <td>24033266;25741868</td>\n",
       "      <td>34</td>\n",
       "      <td>NaN</td>\n",
       "      <td>NaN</td>\n",
       "      <td>Yes</td>\n",
       "      <td>Yes</td>\n",
       "      <td>NaN</td>\n",
       "      <td>NaN</td>\n",
       "    </tr>\n",
       "    <tr>\n",
       "      <th>6</th>\n",
       "      <td>NM_001276506.1:c.204C&gt;T</td>\n",
       "      <td>NM_001276506.1: 288</td>\n",
       "      <td>11q23.1</td>\n",
       "      <td>NM_001276506.1:288</td>\n",
       "      <td>rs9919552</td>\n",
       "      <td>NC_000011.9:g.111959625C&gt;T</td>\n",
       "      <td>T: 0.1134</td>\n",
       "      <td>6392</td>\n",
       "      <td>SDHD</td>\n",
       "      <td>NC_000011.9:g.111959625C&gt;T</td>\n",
       "      <td>...</td>\n",
       "      <td>MedGen:CN169374; MedGen:C0027672,SNOMED CT:699...</td>\n",
       "      <td>not specified; Hereditary cancer-predisposing ...</td>\n",
       "      <td>24033266;25741868</td>\n",
       "      <td>34</td>\n",
       "      <td>NaN</td>\n",
       "      <td>NaN</td>\n",
       "      <td>Yes</td>\n",
       "      <td>Yes</td>\n",
       "      <td>NaN</td>\n",
       "      <td>NaN</td>\n",
       "    </tr>\n",
       "    <tr>\n",
       "      <th>7</th>\n",
       "      <td>NM_001276506.1:c.204C&gt;T</td>\n",
       "      <td>NM_001276506.1: 288</td>\n",
       "      <td>11q23.1</td>\n",
       "      <td>NP_001263435.1:68</td>\n",
       "      <td>rs9919552</td>\n",
       "      <td>NC_000011.9:g.111959625C&gt;T</td>\n",
       "      <td>T: 0.1134</td>\n",
       "      <td>6392</td>\n",
       "      <td>SDHD</td>\n",
       "      <td>NC_000011.9:g.111959625C&gt;T</td>\n",
       "      <td>...</td>\n",
       "      <td>MedGen:CN169374; MedGen:C0027672,SNOMED CT:699...</td>\n",
       "      <td>not specified; Hereditary cancer-predisposing ...</td>\n",
       "      <td>24033266;25741868</td>\n",
       "      <td>34</td>\n",
       "      <td>NaN</td>\n",
       "      <td>NaN</td>\n",
       "      <td>Yes</td>\n",
       "      <td>Yes</td>\n",
       "      <td>NaN</td>\n",
       "      <td>NaN</td>\n",
       "    </tr>\n",
       "    <tr>\n",
       "      <th>8</th>\n",
       "      <td>NM_001276506.1:c.204C&gt;T</td>\n",
       "      <td>NM_001276506.1: 288</td>\n",
       "      <td>11q23.1</td>\n",
       "      <td>NR_077060.1:288</td>\n",
       "      <td>rs9919552</td>\n",
       "      <td>NC_000011.9:g.111959625C&gt;T</td>\n",
       "      <td>T: 0.1134</td>\n",
       "      <td>6392</td>\n",
       "      <td>SDHD</td>\n",
       "      <td>NC_000011.9:g.111959625C&gt;T</td>\n",
       "      <td>...</td>\n",
       "      <td>MedGen:CN169374; MedGen:C0027672,SNOMED CT:699...</td>\n",
       "      <td>not specified; Hereditary cancer-predisposing ...</td>\n",
       "      <td>24033266;25741868</td>\n",
       "      <td>34</td>\n",
       "      <td>NaN</td>\n",
       "      <td>NaN</td>\n",
       "      <td>Yes</td>\n",
       "      <td>Yes</td>\n",
       "      <td>NaN</td>\n",
       "      <td>NaN</td>\n",
       "    </tr>\n",
       "    <tr>\n",
       "      <th>9</th>\n",
       "      <td>NM_001276506.1:c.204C&gt;T</td>\n",
       "      <td>NM_001276506.1: 288</td>\n",
       "      <td>11q23.1</td>\n",
       "      <td>NG_033145.1:2898</td>\n",
       "      <td>rs9919552</td>\n",
       "      <td>NC_000011.9:g.111959625C&gt;T</td>\n",
       "      <td>T: 0.1134</td>\n",
       "      <td>6392</td>\n",
       "      <td>SDHD</td>\n",
       "      <td>NC_000011.9:g.111959625C&gt;T</td>\n",
       "      <td>...</td>\n",
       "      <td>MedGen:CN169374; MedGen:C0027672,SNOMED CT:699...</td>\n",
       "      <td>not specified; Hereditary cancer-predisposing ...</td>\n",
       "      <td>24033266;25741868</td>\n",
       "      <td>34</td>\n",
       "      <td>NaN</td>\n",
       "      <td>NaN</td>\n",
       "      <td>Yes</td>\n",
       "      <td>Yes</td>\n",
       "      <td>NaN</td>\n",
       "      <td>NaN</td>\n",
       "    </tr>\n",
       "    <tr>\n",
       "      <th>10</th>\n",
       "      <td>NM_001276506.1:c.204C&gt;T</td>\n",
       "      <td>NM_001276506.1: 288</td>\n",
       "      <td>11q23.1</td>\n",
       "      <td>XM_005271644.1:283</td>\n",
       "      <td>rs9919552</td>\n",
       "      <td>NC_000011.9:g.111959625C&gt;T</td>\n",
       "      <td>T: 0.1134</td>\n",
       "      <td>6392</td>\n",
       "      <td>SDHD</td>\n",
       "      <td>NC_000011.9:g.111959625C&gt;T</td>\n",
       "      <td>...</td>\n",
       "      <td>MedGen:CN169374; MedGen:C0027672,SNOMED CT:699...</td>\n",
       "      <td>not specified; Hereditary cancer-predisposing ...</td>\n",
       "      <td>24033266;25741868</td>\n",
       "      <td>34</td>\n",
       "      <td>NaN</td>\n",
       "      <td>NaN</td>\n",
       "      <td>Yes</td>\n",
       "      <td>Yes</td>\n",
       "      <td>NaN</td>\n",
       "      <td>NaN</td>\n",
       "    </tr>\n",
       "    <tr>\n",
       "      <th>11</th>\n",
       "      <td>NM_001276506.1:c.204C&gt;T</td>\n",
       "      <td>NM_001276506.1: 288</td>\n",
       "      <td>11q23.1</td>\n",
       "      <td>XP_005271701.1:68</td>\n",
       "      <td>rs9919552</td>\n",
       "      <td>NC_000011.9:g.111959625C&gt;T</td>\n",
       "      <td>T: 0.1134</td>\n",
       "      <td>6392</td>\n",
       "      <td>SDHD</td>\n",
       "      <td>NC_000011.9:g.111959625C&gt;T</td>\n",
       "      <td>...</td>\n",
       "      <td>MedGen:CN169374; MedGen:C0027672,SNOMED CT:699...</td>\n",
       "      <td>not specified; Hereditary cancer-predisposing ...</td>\n",
       "      <td>24033266;25741868</td>\n",
       "      <td>34</td>\n",
       "      <td>NaN</td>\n",
       "      <td>NaN</td>\n",
       "      <td>Yes</td>\n",
       "      <td>Yes</td>\n",
       "      <td>NaN</td>\n",
       "      <td>NaN</td>\n",
       "    </tr>\n",
       "    <tr>\n",
       "      <th>12</th>\n",
       "      <td>NM_001276506.1:c.204C&gt;T</td>\n",
       "      <td>NM_001276506.1: 288</td>\n",
       "      <td>11q23.1</td>\n",
       "      <td>NG_012337.3:7055</td>\n",
       "      <td>rs9919552</td>\n",
       "      <td>NC_000011.9:g.111959625C&gt;T</td>\n",
       "      <td>T: 0.1134</td>\n",
       "      <td>6392</td>\n",
       "      <td>SDHD</td>\n",
       "      <td>NC_000011.9:g.111959625C&gt;T</td>\n",
       "      <td>...</td>\n",
       "      <td>MedGen:CN169374; MedGen:C0027672,SNOMED CT:699...</td>\n",
       "      <td>not specified; Hereditary cancer-predisposing ...</td>\n",
       "      <td>24033266;25741868</td>\n",
       "      <td>34</td>\n",
       "      <td>NaN</td>\n",
       "      <td>NaN</td>\n",
       "      <td>Yes</td>\n",
       "      <td>Yes</td>\n",
       "      <td>NaN</td>\n",
       "      <td>NaN</td>\n",
       "    </tr>\n",
       "  </tbody>\n",
       "</table>\n",
       "<p>13 rows × 31 columns</p>\n",
       "</div>"
      ],
      "text/plain": [
       "             # Submitted ID        Submitted Loc Cytoband  \\\n",
       "0   NM_001276506.1:c.204C>T  NM_001276506.1: 288  11q23.1   \n",
       "1   NM_001276506.1:c.204C>T  NM_001276506.1: 288  11q23.1   \n",
       "2   NM_001276506.1:c.204C>T  NM_001276506.1: 288  11q23.1   \n",
       "3   NM_001276506.1:c.204C>T  NM_001276506.1: 288  11q23.1   \n",
       "4   NM_001276506.1:c.204C>T  NM_001276506.1: 288  11q23.1   \n",
       "5   NM_001276506.1:c.204C>T  NM_001276506.1: 288  11q23.1   \n",
       "6   NM_001276506.1:c.204C>T  NM_001276506.1: 288  11q23.1   \n",
       "7   NM_001276506.1:c.204C>T  NM_001276506.1: 288  11q23.1   \n",
       "8   NM_001276506.1:c.204C>T  NM_001276506.1: 288  11q23.1   \n",
       "9   NM_001276506.1:c.204C>T  NM_001276506.1: 288  11q23.1   \n",
       "10  NM_001276506.1:c.204C>T  NM_001276506.1: 288  11q23.1   \n",
       "11  NM_001276506.1:c.204C>T  NM_001276506.1: 288  11q23.1   \n",
       "12  NM_001276506.1:c.204C>T  NM_001276506.1: 288  11q23.1   \n",
       "\n",
       "               Mapped Loc    NCBI ID                      Allele       GMAF  \\\n",
       "0          NP_002993.1:68  rs9919552  NC_000011.9:g.111959625C>T  T: 0.1134   \n",
       "1    NT_033899.8:15522041  rs9919552  NC_000011.9:g.111959625C>T  T: 0.1134   \n",
       "2   NC_000011.9:111959625  rs9919552  NC_000011.9:g.111959625C>T  T: 0.1134   \n",
       "3         NM_003002.3:288  rs9919552  NC_000011.9:g.111959625C>T  T: 0.1134   \n",
       "4      NM_001276504.1:171  rs9919552  NC_000011.9:g.111959625C>T  T: 0.1134   \n",
       "5       NP_001263433.1:29  rs9919552  NC_000011.9:g.111959625C>T  T: 0.1134   \n",
       "6      NM_001276506.1:288  rs9919552  NC_000011.9:g.111959625C>T  T: 0.1134   \n",
       "7       NP_001263435.1:68  rs9919552  NC_000011.9:g.111959625C>T  T: 0.1134   \n",
       "8         NR_077060.1:288  rs9919552  NC_000011.9:g.111959625C>T  T: 0.1134   \n",
       "9        NG_033145.1:2898  rs9919552  NC_000011.9:g.111959625C>T  T: 0.1134   \n",
       "10     XM_005271644.1:283  rs9919552  NC_000011.9:g.111959625C>T  T: 0.1134   \n",
       "11      XP_005271701.1:68  rs9919552  NC_000011.9:g.111959625C>T  T: 0.1134   \n",
       "12       NG_012337.3:7055  rs9919552  NC_000011.9:g.111959625C>T  T: 0.1134   \n",
       "\n",
       "    Gene ID Gene Symbol                      Hgvs_g      ...       \\\n",
       "0      6392        SDHD  NC_000011.9:g.111959625C>T      ...        \n",
       "1      6392        SDHD  NC_000011.9:g.111959625C>T      ...        \n",
       "2      6392        SDHD  NC_000011.9:g.111959625C>T      ...        \n",
       "3      6392        SDHD  NC_000011.9:g.111959625C>T      ...        \n",
       "4      6392        SDHD  NC_000011.9:g.111959625C>T      ...        \n",
       "5      6392        SDHD  NC_000011.9:g.111959625C>T      ...        \n",
       "6      6392        SDHD  NC_000011.9:g.111959625C>T      ...        \n",
       "7      6392        SDHD  NC_000011.9:g.111959625C>T      ...        \n",
       "8      6392        SDHD  NC_000011.9:g.111959625C>T      ...        \n",
       "9      6392        SDHD  NC_000011.9:g.111959625C>T      ...        \n",
       "10     6392        SDHD  NC_000011.9:g.111959625C>T      ...        \n",
       "11     6392        SDHD  NC_000011.9:g.111959625C>T      ...        \n",
       "12     6392        SDHD  NC_000011.9:g.111959625C>T      ...        \n",
       "\n",
       "                                         Phenotype ID  \\\n",
       "0   MedGen:CN169374; MedGen:C0027672,SNOMED CT:699...   \n",
       "1   MedGen:CN169374; MedGen:C0027672,SNOMED CT:699...   \n",
       "2   MedGen:CN169374; MedGen:C0027672,SNOMED CT:699...   \n",
       "3   MedGen:CN169374; MedGen:C0027672,SNOMED CT:699...   \n",
       "4   MedGen:CN169374; MedGen:C0027672,SNOMED CT:699...   \n",
       "5   MedGen:CN169374; MedGen:C0027672,SNOMED CT:699...   \n",
       "6   MedGen:CN169374; MedGen:C0027672,SNOMED CT:699...   \n",
       "7   MedGen:CN169374; MedGen:C0027672,SNOMED CT:699...   \n",
       "8   MedGen:CN169374; MedGen:C0027672,SNOMED CT:699...   \n",
       "9   MedGen:CN169374; MedGen:C0027672,SNOMED CT:699...   \n",
       "10  MedGen:CN169374; MedGen:C0027672,SNOMED CT:699...   \n",
       "11  MedGen:CN169374; MedGen:C0027672,SNOMED CT:699...   \n",
       "12  MedGen:CN169374; MedGen:C0027672,SNOMED CT:699...   \n",
       "\n",
       "                                Phenotype Description              PMIDs  \\\n",
       "0   not specified; Hereditary cancer-predisposing ...  24033266;25741868   \n",
       "1   not specified; Hereditary cancer-predisposing ...  24033266;25741868   \n",
       "2   not specified; Hereditary cancer-predisposing ...  24033266;25741868   \n",
       "3   not specified; Hereditary cancer-predisposing ...  24033266;25741868   \n",
       "4   not specified; Hereditary cancer-predisposing ...  24033266;25741868   \n",
       "5   not specified; Hereditary cancer-predisposing ...  24033266;25741868   \n",
       "6   not specified; Hereditary cancer-predisposing ...  24033266;25741868   \n",
       "7   not specified; Hereditary cancer-predisposing ...  24033266;25741868   \n",
       "8   not specified; Hereditary cancer-predisposing ...  24033266;25741868   \n",
       "9   not specified; Hereditary cancer-predisposing ...  24033266;25741868   \n",
       "10  not specified; Hereditary cancer-predisposing ...  24033266;25741868   \n",
       "11  not specified; Hereditary cancer-predisposing ...  24033266;25741868   \n",
       "12  not specified; Hereditary cancer-predisposing ...  24033266;25741868   \n",
       "\n",
       "   Number Of Submissions Suspected False Positive  GWAS Association  \\\n",
       "0                     34                      NaN               NaN   \n",
       "1                     34                      NaN               NaN   \n",
       "2                     34                      NaN               NaN   \n",
       "3                     34                      NaN               NaN   \n",
       "4                     34                      NaN               NaN   \n",
       "5                     34                      NaN               NaN   \n",
       "6                     34                      NaN               NaN   \n",
       "7                     34                      NaN               NaN   \n",
       "8                     34                      NaN               NaN   \n",
       "9                     34                      NaN               NaN   \n",
       "10                    34                      NaN               NaN   \n",
       "11                    34                      NaN               NaN   \n",
       "12                    34                      NaN               NaN   \n",
       "\n",
       "   Has Genotype? On Genotyping Kit? Exception Novel allele?  \n",
       "0            Yes                Yes       NaN           NaN  \n",
       "1            Yes                Yes       NaN           NaN  \n",
       "2            Yes                Yes       NaN           NaN  \n",
       "3            Yes                Yes       NaN           NaN  \n",
       "4            Yes                Yes       NaN           NaN  \n",
       "5            Yes                Yes       NaN           NaN  \n",
       "6            Yes                Yes       NaN           NaN  \n",
       "7            Yes                Yes       NaN           NaN  \n",
       "8            Yes                Yes       NaN           NaN  \n",
       "9            Yes                Yes       NaN           NaN  \n",
       "10           Yes                Yes       NaN           NaN  \n",
       "11           Yes                Yes       NaN           NaN  \n",
       "12           Yes                Yes       NaN           NaN  \n",
       "\n",
       "[13 rows x 31 columns]"
      ]
     },
     "execution_count": 6,
     "metadata": {},
     "output_type": "execute_result"
    }
   ],
   "source": [
    "import pandas as pd\n",
    "from io import StringIO\n",
    "\n",
    "# Remove non tabular data\n",
    "data = [x for x in data.split('\\n') if x[:2] not in ['Su', '.', '##']]\n",
    "data = '\\n'.join(data)\n",
    "\n",
    "#Create a \"virtual\" file-like structure that contains the string.\n",
    "data_f = StringIO(data)\n",
    "\n",
    "#data_f is a file. Yet it is not stored in the disk. \n",
    "#Now we can pass it to pandas!\n",
    "df = pd.read_csv(data_f, sep='\\t')\n",
    "df\n"
   ]
  },
  {
   "cell_type": "markdown",
   "metadata": {},
   "source": [
    "### Assembly Converter \n",
    "Με το [Assembly Converter](https://rest.ensembl.org/documentation/info/assembly_map) μπορούμε να μετατρέψουμε μία γενομική θέση από ένα assembly σε ένα άλλο. Για παράδειγμα έστω ότι έχουμε τη θέση 111959625 στο χρωμόσωμα 11 στο assembly GRCh37 και θέλουμε να το μετατρέψουμε στο GRCh38 assembly:"
   ]
  },
  {
   "cell_type": "code",
   "execution_count": 8,
   "metadata": {},
   "outputs": [
    {
     "name": "stdout",
     "output_type": "stream",
     "text": [
      "True\n",
      "{'mappings': [{'original': {'seq_region_name': '11', 'strand': 1, 'coord_system': 'chromosome', 'end': 111959625, 'start': 111959625, 'assembly': 'GRCh37'}, 'mapped': {'seq_region_name': '11', 'strand': 1, 'coord_system': 'chromosome', 'end': 112088901, 'start': 112088901, 'assembly': 'GRCh38'}}]}\n"
     ]
    }
   ],
   "source": [
    "location = 111959625\n",
    "chromosome = 11\n",
    "\n",
    "url = 'https://rest.ensembl.org/map/human/GRCh37/{chr}:{pos}..{pos}:1/GRCh38'\n",
    "\n",
    "this_url = url.format(pos=location, chr=chromosome)\n",
    "headers = {'content-type':'application/json'}\n",
    "\n",
    "r = requests.get(this_url, headers=headers)\n",
    "\n",
    "print (r.ok)\n",
    "\n",
    "data = r.json()\n",
    "print (data)\n"
   ]
  },
  {
   "cell_type": "markdown",
   "metadata": {},
   "source": [
    "Το νέο location είναι το:\n"
   ]
  },
  {
   "cell_type": "code",
   "execution_count": 9,
   "metadata": {},
   "outputs": [
    {
     "name": "stdout",
     "output_type": "stream",
     "text": [
      "112088901\n"
     ]
    }
   ],
   "source": [
    "print (data['mappings'][0]['mapped']['start'])"
   ]
  },
  {
   "cell_type": "markdown",
   "metadata": {},
   "source": [
    "## Biopython / Entrez\n",
    "\n",
    "Η [ENTREZ](https://www.ncbi.nlm.nih.gov/gquery/) είναι μία ομογενοποιημένη βάση δεδομένων από το NCBI (Το αμερικάνικο EMBL). Δυστυχώς το API της ENTREZ δεν είναι τόσο φιλικό όσο της ENSEMBL. Το [documentation](https://www.ncbi.nlm.nih.gov/books/NBK25501/) είναι διάσπαρτο και δεν υπάρχουν πολλά παραδείγματα ([Και για αυτά που υπάρχουν είναι σε perl](https://www.ncbi.nlm.nih.gov/books/NBK25498/) &#x1F631;). \n",
    "\n",
    "Η [biopython](http://biopython.org) είναι το πιο γνωστό και σημαντικό πακέτο της python για πρόσβαση σε γενετική πληροφορία αλλά και επεξεργασία. Από το [documentation](http://biopython.org/DIST/docs/tutorial/Tutorial.html) φαίνεται ότι πρόκειται στην ουσία για ένα ολοκληρωμένο περιβάλλον το οποίο δεν προλαβαίνουμε να καλύψουμε όλο. Εδώ θα δούμε πως μπορούμε να χρησιμοποιήσουμε την biopython για να έχουμε πρόσβαση στο NCBI μέσω του Entrez. \n",
    "\n",
    "Για να εγκαταστήσουμε τη biopython τρέχουμε:\n",
    "\n",
    "```bash\n",
    "pip install biopython\n",
    "```\n",
    "\n",
    "**ΠΡΟΣΟΧΗ:**\n",
    "Σας προτείνω να ρίξετε τουλάχιστον μία ματιά στο υπέροχο tutorial της biopython:\n",
    "http://biopython.org/DIST/docs/tutorial/Tutorial.html\n",
    "\n",
    "Δύσκολα δεν θα βρείτε κάτι σχετικό με την έρευνα που κάνετε!\n",
    "\n",
    "\n",
    "\n",
    "\n",
    "Αρχικά κάνουμε import τις βιβλιοθήκες:"
   ]
  },
  {
   "cell_type": "code",
   "execution_count": 5,
   "metadata": {},
   "outputs": [],
   "source": [
    "from Bio import Entrez\n",
    "import pandas as pd\n",
    "\n",
    "# For some reason Entrez needs to know who are you\n",
    "# but you don't have to be that honest..\n",
    "Entrez.email = 'anonymous@gmail.com'  \n"
   ]
  },
  {
   "cell_type": "markdown",
   "metadata": {},
   "source": [
    "Ας δούμε σε ποιες βάσεις δεδομένων παρέχει πρόσβαση η Entrez:"
   ]
  },
  {
   "cell_type": "code",
   "execution_count": 6,
   "metadata": {},
   "outputs": [],
   "source": [
    "handle = Entrez.einfo()\n",
    "record = Entrez.read(handle)"
   ]
  },
  {
   "cell_type": "code",
   "execution_count": 7,
   "metadata": {},
   "outputs": [
    {
     "data": {
      "text/html": [
       "<div>\n",
       "<style scoped>\n",
       "    .dataframe tbody tr th:only-of-type {\n",
       "        vertical-align: middle;\n",
       "    }\n",
       "\n",
       "    .dataframe tbody tr th {\n",
       "        vertical-align: top;\n",
       "    }\n",
       "\n",
       "    .dataframe thead th {\n",
       "        text-align: right;\n",
       "    }\n",
       "</style>\n",
       "<table border=\"1\" class=\"dataframe\">\n",
       "  <thead>\n",
       "    <tr style=\"text-align: right;\">\n",
       "      <th></th>\n",
       "      <th>DbList</th>\n",
       "    </tr>\n",
       "  </thead>\n",
       "  <tbody>\n",
       "    <tr>\n",
       "      <th>0</th>\n",
       "      <td>pubmed</td>\n",
       "    </tr>\n",
       "    <tr>\n",
       "      <th>1</th>\n",
       "      <td>protein</td>\n",
       "    </tr>\n",
       "    <tr>\n",
       "      <th>2</th>\n",
       "      <td>nuccore</td>\n",
       "    </tr>\n",
       "    <tr>\n",
       "      <th>3</th>\n",
       "      <td>ipg</td>\n",
       "    </tr>\n",
       "    <tr>\n",
       "      <th>4</th>\n",
       "      <td>nucleotide</td>\n",
       "    </tr>\n",
       "    <tr>\n",
       "      <th>5</th>\n",
       "      <td>structure</td>\n",
       "    </tr>\n",
       "    <tr>\n",
       "      <th>6</th>\n",
       "      <td>genome</td>\n",
       "    </tr>\n",
       "    <tr>\n",
       "      <th>7</th>\n",
       "      <td>annotinfo</td>\n",
       "    </tr>\n",
       "    <tr>\n",
       "      <th>8</th>\n",
       "      <td>assembly</td>\n",
       "    </tr>\n",
       "    <tr>\n",
       "      <th>9</th>\n",
       "      <td>bioproject</td>\n",
       "    </tr>\n",
       "    <tr>\n",
       "      <th>10</th>\n",
       "      <td>biosample</td>\n",
       "    </tr>\n",
       "    <tr>\n",
       "      <th>11</th>\n",
       "      <td>blastdbinfo</td>\n",
       "    </tr>\n",
       "    <tr>\n",
       "      <th>12</th>\n",
       "      <td>books</td>\n",
       "    </tr>\n",
       "    <tr>\n",
       "      <th>13</th>\n",
       "      <td>cdd</td>\n",
       "    </tr>\n",
       "    <tr>\n",
       "      <th>14</th>\n",
       "      <td>clinvar</td>\n",
       "    </tr>\n",
       "    <tr>\n",
       "      <th>15</th>\n",
       "      <td>gap</td>\n",
       "    </tr>\n",
       "    <tr>\n",
       "      <th>16</th>\n",
       "      <td>gapplus</td>\n",
       "    </tr>\n",
       "    <tr>\n",
       "      <th>17</th>\n",
       "      <td>grasp</td>\n",
       "    </tr>\n",
       "    <tr>\n",
       "      <th>18</th>\n",
       "      <td>dbvar</td>\n",
       "    </tr>\n",
       "    <tr>\n",
       "      <th>19</th>\n",
       "      <td>gene</td>\n",
       "    </tr>\n",
       "    <tr>\n",
       "      <th>20</th>\n",
       "      <td>gds</td>\n",
       "    </tr>\n",
       "    <tr>\n",
       "      <th>21</th>\n",
       "      <td>geoprofiles</td>\n",
       "    </tr>\n",
       "    <tr>\n",
       "      <th>22</th>\n",
       "      <td>homologene</td>\n",
       "    </tr>\n",
       "    <tr>\n",
       "      <th>23</th>\n",
       "      <td>medgen</td>\n",
       "    </tr>\n",
       "    <tr>\n",
       "      <th>24</th>\n",
       "      <td>mesh</td>\n",
       "    </tr>\n",
       "    <tr>\n",
       "      <th>25</th>\n",
       "      <td>ncbisearch</td>\n",
       "    </tr>\n",
       "    <tr>\n",
       "      <th>26</th>\n",
       "      <td>nlmcatalog</td>\n",
       "    </tr>\n",
       "    <tr>\n",
       "      <th>27</th>\n",
       "      <td>omim</td>\n",
       "    </tr>\n",
       "    <tr>\n",
       "      <th>28</th>\n",
       "      <td>orgtrack</td>\n",
       "    </tr>\n",
       "    <tr>\n",
       "      <th>29</th>\n",
       "      <td>pmc</td>\n",
       "    </tr>\n",
       "    <tr>\n",
       "      <th>30</th>\n",
       "      <td>popset</td>\n",
       "    </tr>\n",
       "    <tr>\n",
       "      <th>31</th>\n",
       "      <td>proteinclusters</td>\n",
       "    </tr>\n",
       "    <tr>\n",
       "      <th>32</th>\n",
       "      <td>pcassay</td>\n",
       "    </tr>\n",
       "    <tr>\n",
       "      <th>33</th>\n",
       "      <td>protfam</td>\n",
       "    </tr>\n",
       "    <tr>\n",
       "      <th>34</th>\n",
       "      <td>biosystems</td>\n",
       "    </tr>\n",
       "    <tr>\n",
       "      <th>35</th>\n",
       "      <td>pccompound</td>\n",
       "    </tr>\n",
       "    <tr>\n",
       "      <th>36</th>\n",
       "      <td>pcsubstance</td>\n",
       "    </tr>\n",
       "    <tr>\n",
       "      <th>37</th>\n",
       "      <td>seqannot</td>\n",
       "    </tr>\n",
       "    <tr>\n",
       "      <th>38</th>\n",
       "      <td>snp</td>\n",
       "    </tr>\n",
       "    <tr>\n",
       "      <th>39</th>\n",
       "      <td>sra</td>\n",
       "    </tr>\n",
       "    <tr>\n",
       "      <th>40</th>\n",
       "      <td>taxonomy</td>\n",
       "    </tr>\n",
       "    <tr>\n",
       "      <th>41</th>\n",
       "      <td>biocollections</td>\n",
       "    </tr>\n",
       "    <tr>\n",
       "      <th>42</th>\n",
       "      <td>gtr</td>\n",
       "    </tr>\n",
       "  </tbody>\n",
       "</table>\n",
       "</div>"
      ],
      "text/plain": [
       "             DbList\n",
       "0            pubmed\n",
       "1           protein\n",
       "2           nuccore\n",
       "3               ipg\n",
       "4        nucleotide\n",
       "5         structure\n",
       "6            genome\n",
       "7         annotinfo\n",
       "8          assembly\n",
       "9        bioproject\n",
       "10        biosample\n",
       "11      blastdbinfo\n",
       "12            books\n",
       "13              cdd\n",
       "14          clinvar\n",
       "15              gap\n",
       "16          gapplus\n",
       "17            grasp\n",
       "18            dbvar\n",
       "19             gene\n",
       "20              gds\n",
       "21      geoprofiles\n",
       "22       homologene\n",
       "23           medgen\n",
       "24             mesh\n",
       "25       ncbisearch\n",
       "26       nlmcatalog\n",
       "27             omim\n",
       "28         orgtrack\n",
       "29              pmc\n",
       "30           popset\n",
       "31  proteinclusters\n",
       "32          pcassay\n",
       "33          protfam\n",
       "34       biosystems\n",
       "35       pccompound\n",
       "36      pcsubstance\n",
       "37         seqannot\n",
       "38              snp\n",
       "39              sra\n",
       "40         taxonomy\n",
       "41   biocollections\n",
       "42              gtr"
      ]
     },
     "execution_count": 7,
     "metadata": {},
     "output_type": "execute_result"
    }
   ],
   "source": [
    "pd.DataFrame(record)"
   ]
  },
  {
   "cell_type": "markdown",
   "metadata": {},
   "source": [
    "Για να δούμε περισσότερες πληροφορίες για όλες αυτές τις βάσεις μπορούμε να πάμε στο λινκ:\n",
    "    \n",
    "https://www.ncbi.nlm.nih.gov/{ΟΝΟΜΑ_ΒΑΣΗΣ}\n",
    "\n",
    "Π.χ:\n",
    "\n",
    "* https://www.ncbi.nlm.nih.gov/sra\n",
    "* https://www.ncbi.nlm.nih.gov/probe \n",
    "* κτλ...\n"
   ]
  },
  {
   "cell_type": "markdown",
   "metadata": {},
   "source": [
    "Κάθε στοιχείο της βάσης αυτή έχει ένα \"id\". Μπορούμε να \"κατεβάσουμε\" μία εγγραφή της βάσης δίνοντας το ονομα της βάσης, το id του στοιχείου και σε τι φορμάτ το θέλουμε. Για παράδειγμα μπορούμε να κατεβάσουμε σε fasta φορμάτ την ακολουθία με id: \"NM_000762.5\" από τη nuccore βάση. Το link αυτής της εγγραφής είναι το εξής: https://www.ncbi.nlm.nih.gov/nuccore/189339232"
   ]
  },
  {
   "cell_type": "code",
   "execution_count": 8,
   "metadata": {
    "scrolled": true
   },
   "outputs": [
    {
     "name": "stdout",
     "output_type": "stream",
     "text": [
      ">NM_000762.5 Homo sapiens cytochrome P450 family 2 subfamily A member 6 (CYP2A6), mRNA\n",
      "ATCTATCATCCCACTACCACCATGCTGGCCTCAGGGATGCTTCTGGTGGCCTTGCTGGTCTGCCTGACTG\n",
      "TAATGGTCTTGATGTCTGTTTGGCAGCAGAGGAAGAGCAAGGGGAAGCTGCCTCCGGGACCCACCCCATT\n",
      "GCCCTTCATTGGAAACTACCTGCAGCTGAACACAGAGCAGATGTACAACTCCCTCATGAAGATCAGTGAG\n",
      "CGCTATGGCCCCGTGTTCACCATTCACTTGGGGCCCCGGCGGGTCGTGGTGCTGTGTGGACATGATGCCG\n",
      "TCAGGGAGGCTCTGGTGGACCAGGCTGAGGAGTTCAGCGGGCGAGGCGAGCAAGCCACCTTCGACTGGGT\n",
      "CTTCAAAGGCTATGGCGTGGTATTCAGCAACGGGGAGCGCGCCAAGCAGCTCCGGCGCTTCTCCATCGCC\n",
      "ACCCTGCGGGACTTCGGGGTGGGCAAGCGAGGCATCGAGGAGCGCATCCAGGAGGAGGCGGGCTTCCTCA\n",
      "TCGACGCCCTCCGGGGCACTGGCGGCGCCAATATCGATCCCACCTTCTTCCTGAGCCGCACAGTCTCCAA\n",
      "TGTCATCAGCTCCATTGTCTTTGGGGACCGCTTTGACTATAAGGACAAAGAGTTCCTGTCACTGTTGCGC\n",
      "ATGATGCTAGGAATCTTCCAGTTCACGTCAACCTCCACGGGGCAGCTCTATGAGATGTTCTCTTCGGTGA\n",
      "TGAAACACCTGCCAGGACCACAGCAACAGGCCTTTCAGTTGCTGCAAGGGCTGGAGGACTTCATAGCCAA\n",
      "GAAGGTGGAGCACAACCAGCGCACGCTGGATCCCAATTCCCCACGGGACTTCATTGACTCCTTTCTCATC\n",
      "CGCATGCAGGAGGAGGAGAAGAACCCCAACACGGAGTTCTACTTGAAAAACCTGGTGATGACCACGTTGA\n",
      "ACCTCTTCATTGGGGGCACCGAGACCGTCAGCACCACCCTGCGCTATGGCTTCTTGCTGCTCATGAAGCA\n",
      "CCCAGAGGTGGAGGCCAAGGTCCATGAGGAGATTGACAGAGTGATCGGCAAGAACCGGCAGCCCAAGTTT\n",
      "GAGGACCGGGCCAAGATGCCCTACATGGAGGCAGTGATCCACGAGATCCAAAGATTTGGAGACGTGATCC\n",
      "CCATGAGTTTGGCCCGCAGAGTCAAAAAGGACACCAAGTTTCGGGATTTCTTCCTCCCTAAGGGCACCGA\n",
      "AGTGTACCCTATGCTGGGCTCTGTGCTGAGAGACCCCAGTTTCTTCTCCAACCCCCAGGACTTCAATCCC\n",
      "CAGCACTTCCTGAATGAGAAGGGGCAGTTTAAGAAGAGTGATGCTTTTGTGCCCTTTTCCATCGGAAAGC\n",
      "GGAACTGTTTCGGAGAAGGCCTGGCCAGAATGGAGCTCTTTCTCTTCTTCACCACCGTCATGCAGAACTT\n",
      "CCGCCTCAAGTCCTCCCAGTCACCTAAGGACATTGACGTGTCCCCCAAACACGTGGGCTTTGCCACGATC\n",
      "CCACGAAACTACACCATGAGCTTCCTGCCCCGCTGAGCGAGGGCTGTGCCGGTGCAGGTCTGGTGGGCGG\n",
      "GGCCAGGGAAAGGGCAGGGCCAAGACCGGGCTTGGGAGAGGGGCGCAGCTAAGACTGGGGGCAGGATGGC\n",
      "GGAAAGGAAGGGGCGTGGTGGCTAGAGGGAAGAGAAGAAACAGAAGCGGCTCAGTTCACCTTGATAAGGT\n",
      "GCTTCCGAGCTGGGATGAGAGGAAGGAAACCCTTACATTATGCTATGAAGAGTAGTAATAATAGCAGCTC\n",
      "TTATTTCCTGAGCAAAAAAAAAAAA\n",
      "\n",
      "\n"
     ]
    }
   ],
   "source": [
    "handle = Entrez.efetch(\n",
    "  db='nuccore', \n",
    "  id='NM_000762.5', \n",
    "  retmode='text', \n",
    "  rettype='fasta',\n",
    "  #rettype='genbank',\n",
    ")\n",
    "\n",
    "data = handle.read()\n",
    "print (data)"
   ]
  },
  {
   "cell_type": "markdown",
   "metadata": {},
   "source": [
    "Μπορούμε τώρα να τρέξουμε [BLAT](https://en.wikipedia.org/wiki/BLAT_(bioinformatics%29) σε αυτή την ακολουθία και να δούμε σε ποιο σημείο του ανθρώπινου γονιδιώματος ανοίκει:"
   ]
  },
  {
   "cell_type": "code",
   "execution_count": 9,
   "metadata": {},
   "outputs": [],
   "source": [
    "from Bio.Blast import NCBIWWW\n",
    "from Bio.Blast import NCBIXML\n",
    "\n",
    "#result_handle = NCBIWWW.qblast(\"blastn\", \"refseq_genomic_human\", data)\n",
    "result_handle = NCBIWWW.qblast(\"blastn\", \"nt\", data.format(\"fasta\"))\n",
    "blast_record = NCBIXML.read(result_handle)"
   ]
  },
  {
   "cell_type": "markdown",
   "metadata": {},
   "source": [
    "Σε πόσες ακολουθίες έγινε match;"
   ]
  },
  {
   "cell_type": "code",
   "execution_count": 10,
   "metadata": {},
   "outputs": [
    {
     "data": {
      "text/plain": [
       "50"
      ]
     },
     "execution_count": 10,
     "metadata": {},
     "output_type": "execute_result"
    }
   ],
   "source": [
    "len(blast_record.alignments)"
   ]
  },
  {
   "cell_type": "markdown",
   "metadata": {},
   "source": [
    "Ποιες είναι αυτές;"
   ]
  },
  {
   "cell_type": "code",
   "execution_count": 11,
   "metadata": {},
   "outputs": [
    {
     "name": "stdout",
     "output_type": "stream",
     "text": [
      "gi|1519246407|ref|NM_000762.6| Homo sapiens cytochrome P450 family 2 subfamily A member 6 (CYP2A6), mRNA\n",
      "gi|180986|gb|M33318.1|HUMCPIIA3A Human cytochrome P450IIA3 (CYP2A3) mRNA, complete cds\n",
      "gi|29546|emb|X13897.1| Human mRNA for cytochrome P-450IIA\n",
      "gi|30331|emb|X13930.1| Human CYP2A4 mRNA for P-450 IIA4 protein\n",
      "gi|1753053698|ref|XM_019015583.2| PREDICTED: Gorilla gorilla gorilla cytochrome P450 2A6 (LOC101146638), transcript variant X1, mRNA\n",
      "gi|64654819|gb|BC096256.1| Homo sapiens cytochrome P450, family 2, subfamily A, polypeptide 6, mRNA (cDNA clone MGC:116921 IMAGE:40006068), complete cds\n",
      "gi|64654814|gb|BC096255.1| Homo sapiens cytochrome P450, family 2, subfamily A, polypeptide 6, mRNA (cDNA clone MGC:116920 IMAGE:40006064), complete cds\n",
      "gi|64653226|gb|BC096254.1| Homo sapiens cytochrome P450, family 2, subfamily A, polypeptide 6, mRNA (cDNA clone MGC:116919 IMAGE:40006062), complete cds\n",
      "gi|109730085|gb|BC096253.3| Homo sapiens cytochrome P450, family 2, subfamily A, polypeptide 6, mRNA (cDNA clone MGC:116918 IMAGE:40006061), complete cds\n",
      "gi|1351473687|ref|XM_024237332.1| PREDICTED: Pongo abelii cytochrome P450 2A6 (LOC100457048), transcript variant X1, mRNA\n",
      "gi|35197|emb|X13929.1| Human CYP2A3 mRNA for P-450 IIA3 protein\n",
      "gi|6470138|gb|AF182275.1|AF182275 Homo sapiens cytochrome P450-2A6 (CYP2A6) mRNA, complete cds\n",
      "gi|1887789759|ref|NM_000764.3| Homo sapiens cytochrome P450 family 2 subfamily A member 7 (CYP2A7), transcript variant 1, mRNA\n",
      "gi|1849054764|ref|XM_034944594.1| PREDICTED: Pan paniscus cytochrome P450 family 2 subfamily A member 7 (CYP2A7), mRNA\n",
      "gi|181269|gb|M33317.1|HUMCYIIA4A Human cytochrome P450IIA4 (CYP2A4) mRNA, complete cds\n",
      "gi|1367220708|ref|XM_024351394.1| PREDICTED: Pan troglodytes cytochrome P450 2A7 (LOC107966456), mRNA\n",
      "gi|1008465|gb|U22029.1|HSU22029 Human cytochrome P450 (CYP2A7) mRNA, complete cds\n",
      "gi|1743170194|ref|XM_003282448.4| PREDICTED: Nomascus leucogenys cytochrome P450 2A13 (LOC100579248), transcript variant X1, mRNA\n",
      "gi|1800015647|ref|XM_032172847.1| PREDICTED: Hylobates moloch cytochrome P450 2A13 (LOC116480658), transcript variant X1, mRNA\n",
      "gi|1751200936|ref|XM_010380822.2| PREDICTED: Rhinopithecus roxellana cytochrome P450 2A13-like (LOC104676097), transcript variant X1, mRNA\n",
      "gi|795398387|ref|XM_012086802.1| PREDICTED: Cercocebus atys cytochrome P450 2A13-like (LOC105598002), transcript variant X1, mRNA\n",
      "gi|1825863830|ref|XM_033224912.1| PREDICTED: Trachypithecus francoisi cytochrome P450 2A13 (LOC117091930), mRNA\n",
      "gi|548960720|ref|NM_001285348.1| Macaca fascicularis cytochrome P450 family 2 subfamily A member 24 (CYP2A24), mRNA >gi|71152698|gb|DQ074792.1| Macaca fascicularis cytochrome P450 2A24 (CYP2A24) mRNA, complete cds\n",
      "gi|164691768|dbj|AK312964.1| Homo sapiens cDNA, FLJ93424, highly similar to Homo sapiens cytochrome P450, family 2, subfamily A, polypeptide 6 (CYP2A6), mRNA\n",
      "gi|1825821225|ref|XM_033218604.1| PREDICTED: Trachypithecus francoisi cytochrome P450 2A13-like (LOC117087862), mRNA\n",
      "gi|1653961540|ref|NM_000766.5| Homo sapiens cytochrome P450 family 2 subfamily A member 13 (CYP2A13), mRNA\n",
      "gi|1411126738|ref|XM_025366233.1| PREDICTED: Theropithecus gelada cytochrome P450 2A13-like (LOC112612112), transcript variant X2, mRNA\n",
      "gi|795398405|ref|XM_012086807.1| PREDICTED: Cercocebus atys cytochrome P450 2A13-like (LOC105598006), mRNA\n",
      "gi|1351473349|ref|XM_024237225.1| PREDICTED: Pongo abelii cytochrome P450 2A13 (LOC100458875), transcript variant X1, mRNA\n",
      "gi|795234893|ref|XM_011952499.1| PREDICTED: Colobus angolensis palliatus cytochrome P450 2A13-like (LOC105519195), transcript variant X1, mRNA\n",
      "gi|1622890953|ref|XM_028838334.1| PREDICTED: Macaca mulatta cytochrome P450, family 2, subfamily A, polypeptide 24 (CYP2A24), transcript variant X1, mRNA\n",
      "gi|1849062391|ref|XM_003812465.2| PREDICTED: Pan paniscus cytochrome P450 family 2 subfamily A member 13 (CYP2A13), mRNA\n",
      "gi|1788688032|ref|XM_023229274.3| PREDICTED: Piliocolobus tephrosceles cytochrome P450 2A13 (LOC111554025), transcript variant X1, mRNA\n",
      "gi|1411126736|ref|XM_025366232.1| PREDICTED: Theropithecus gelada cytochrome P450 2A13-like (LOC112612112), transcript variant X1, mRNA\n",
      "gi|649118244|gb|KJ896677.1| Synthetic construct Homo sapiens clone ccsbBroadEn_06071 CYP2A6 gene, encodes complete protein\n",
      "gi|1147694741|emb|LT740833.1| Human ORFeome Gateway entry vector pENTR223-CYP2A6, complete sequence\n",
      "gi|823673899|gb|KR711779.1| Synthetic construct Homo sapiens clone CCSBHm_00030839 CYP2A6 (CYP2A6) mRNA, encodes complete protein\n",
      "gi|823673897|gb|KR711778.1| Synthetic construct Homo sapiens clone CCSBHm_00030834 CYP2A6 (CYP2A6) mRNA, encodes complete protein\n",
      "gi|823673895|gb|KR711777.1| Synthetic construct Homo sapiens clone CCSBHm_00030831 CYP2A6 (CYP2A6) mRNA, encodes complete protein\n",
      "gi|823673893|gb|KR711776.1| Synthetic construct Homo sapiens clone CCSBHm_00030829 CYP2A6 (CYP2A6) mRNA, encodes complete protein\n",
      "gi|795398351|ref|XM_012086792.1| PREDICTED: Cercocebus atys cytochrome P450 2A13 (LOC105597997), transcript variant X3, mRNA\n",
      "gi|795398348|ref|XM_012086791.1| PREDICTED: Cercocebus atys cytochrome P450 2A13 (LOC105597997), transcript variant X2, mRNA\n",
      "gi|795398345|ref|XM_012086790.1| PREDICTED: Cercocebus atys cytochrome P450 2A13 (LOC105597997), transcript variant X1, mRNA\n",
      "gi|544525941|ref|XM_005595716.1| PREDICTED: Macaca fascicularis cytochrome P450 2A13-like (LOC102143277), mRNA\n",
      "gi|1751208157|ref|XM_030913665.1| PREDICTED: Rhinopithecus roxellana cytochrome P450 2A13 (LOC104676180), mRNA\n",
      "gi|1753052882|ref|XM_031004339.1| PREDICTED: Gorilla gorilla gorilla cytochrome P450 2A13 (LOC101127384), mRNA\n",
      "gi|795137501|ref|XM_011936512.1| PREDICTED: Colobus angolensis palliatus cytochrome P450 2A13 (LOC105507828), transcript variant X1, mRNA\n",
      "gi|1825820915|ref|XM_033216130.1| PREDICTED: Trachypithecus francoisi cytochrome P450 2A13-like (LOC117086673), mRNA\n",
      "gi|1751201107|ref|XM_010380820.2| PREDICTED: Rhinopithecus roxellana cytochrome P450 2A13 (LOC104676095), mRNA\n",
      "gi|1381460778|ref|XM_011764694.2| PREDICTED: Macaca nemestrina cytochrome P450 2A13 (LOC105495313), mRNA\n"
     ]
    }
   ],
   "source": [
    "for x in blast_record.alignments:\n",
    "    print (x.title)"
   ]
  },
  {
   "cell_type": "markdown",
   "metadata": {},
   "source": [
    "Ας πάρουμε το πρώτο:"
   ]
  },
  {
   "cell_type": "code",
   "execution_count": 12,
   "metadata": {},
   "outputs": [],
   "source": [
    "first_alignment = blast_record.alignments[0]"
   ]
  },
  {
   "cell_type": "markdown",
   "metadata": {},
   "source": [
    "Το κάθε alignment έχει πολλά \"hsps\". Σύμφωνα με το [documentation](http://biopython.org/DIST/docs/tutorial/Tutorial.html#htoc105):\n",
    "\n",
    "```\n",
    "HSP (high-scoring pair) represents region(s) in the hit sequence that contains significant alignment(s) to the query sequence. It contains the actual match between your query sequence and a database entry. As this match is determined by the sequence search tool’s algorithms, the HSP object contains the bulk of the statistics computed by the search tool. This also makes the distinction between HSP objects from different search tools more apparent compared to the differences you’ve seen in QueryResult or Hit objects.\n",
    "```\n",
    "\n",
    "Ας πάρουμε το πρώτο:"
   ]
  },
  {
   "cell_type": "code",
   "execution_count": 13,
   "metadata": {},
   "outputs": [],
   "source": [
    "first_hsp = first_alignment.hsps[0]"
   ]
  },
  {
   "cell_type": "markdown",
   "metadata": {},
   "source": [
    "Μπορούμε να τυπώσουμε το match:"
   ]
  },
  {
   "cell_type": "code",
   "execution_count": 14,
   "metadata": {},
   "outputs": [
    {
     "name": "stdout",
     "output_type": "stream",
     "text": [
      "Score 3522 (3177 bits), expectation 0.0e+00, alignment length 1761\n",
      "Query:       1 ATCTATCATCCCACTACCACCATGCTGGCCTCAGGGATGCTTCTG...TGA 1761\n",
      "               |||||||||||||||||||||||||||||||||||||||||||||...|||\n",
      "Sbjct:       1 ATCTATCATCCCACTACCACCATGCTGGCCTCAGGGATGCTTCTG...TGA 1761\n"
     ]
    }
   ],
   "source": [
    "print (first_hsp)"
   ]
  },
  {
   "cell_type": "markdown",
   "metadata": {},
   "source": [
    "Επίσης μπορούμε να πάρουμε πληροφορίες για το match:"
   ]
  },
  {
   "cell_type": "code",
   "execution_count": 15,
   "metadata": {},
   "outputs": [
    {
     "name": "stdout",
     "output_type": "stream",
     "text": [
      "Subject start: 1\n",
      "Subject end: 1761\n",
      "Query start: 1\n",
      "Query end: 1761\n"
     ]
    }
   ],
   "source": [
    "print ('Subject start:', first_hsp.sbjct_start)\n",
    "print ('Subject end:', first_hsp.sbjct_end)\n",
    "print ('Query start:', first_hsp.query_start)\n",
    "print ('Query end:', first_hsp.query_end)"
   ]
  },
  {
   "cell_type": "markdown",
   "metadata": {},
   "source": [
    "Ας δούμε πως είναι και ένα \"κακό\" alignment:"
   ]
  },
  {
   "cell_type": "code",
   "execution_count": 16,
   "metadata": {},
   "outputs": [
    {
     "name": "stdout",
     "output_type": "stream",
     "text": [
      "Score 2873 (2591 bits), expectation 0.0e+00, alignment length 1765\n",
      "Query:       1 ATCTATCATCCCACTACCACCATGCTGGCCTCAGGGATGCTTCTG...CAA 1765\n",
      "               ||| ||||||||||| || ||||||||||||||||| |||| |||...|||\n",
      "Sbjct:     564 ATCGATCATCCCACTGCCCCCATGCTGGCCTCAGGGCTGCTCCTG...CAA 2310\n"
     ]
    }
   ],
   "source": [
    "last_alignment = blast_record.alignments[-1]\n",
    "last_hsp = last_alignment.hsps[-1]\n",
    "print (last_hsp)"
   ]
  },
  {
   "cell_type": "markdown",
   "metadata": {},
   "source": [
    "### Paiwise alignment με biopython\n",
    "\n"
   ]
  },
  {
   "cell_type": "code",
   "execution_count": 17,
   "metadata": {},
   "outputs": [
    {
     "name": "stdout",
     "output_type": "stream",
     "text": [
      "ACCGT\n",
      "| || \n",
      "A-CG-\n",
      "  Score=3\n",
      "\n"
     ]
    }
   ],
   "source": [
    "from Bio import pairwise2\n",
    "from Bio.pairwise2 import format_alignment\n",
    "\n",
    "alignments = pairwise2.align.globalxx(\"ACCGT\", \"ACG\")\n",
    "print(format_alignment(*alignments[0]))"
   ]
  },
  {
   "cell_type": "markdown",
   "metadata": {},
   "source": [
    "# Άλλες βάσεις δεδομένων"
   ]
  },
  {
   "cell_type": "markdown",
   "metadata": {},
   "source": [
    "Γενικότερα το τοπίο με της online βάσεις γενομικών δεδομένων είναι αρκετά δυναμικό. Καινούργιες βάσεις προστίθονται, νέα APIs κτλ. Σε επίπεδα οργανισμών υπάρχουν δύο μεγάλοι το NCBI και το EMBL. Το NCBI έχει ομαδοποιήσει όλες τις βάσεις δεδομένων με το σύστημα Entrez, ενώ το EMBL έχει το [REST API](https://rest.ensembl.org/). Άλλες αντιστοιχίες είναι:\n",
    "\n",
    "\n",
    "Service | [EMBL](https://www.embl.de/) | [NCBI](https://www.ncbi.nlm.nih.gov/)\n",
    "------|------|---\n",
    "Variant Annotation|[VEP](https://www.ensembl.org/info/docs/tools/vep/index.html)|[Variation Reporter](https://www.ncbi.nlm.nih.gov/variation/tools/reporter)\n",
    "Raw Sequencing Data | [European Nucleotide Archive](https://www.ebi.ac.uk/ena) | [SRA](https://www.ncbi.nlm.nih.gov/sra)\n",
    "Expression Data | [ArrayExpress](https://www.ebi.ac.uk/arrayexpress/) | [Gene Expression Omnibus](https://www.ncbi.nlm.nih.gov/geo/)\n",
    "Phenotype | [EGA (European Genome-Phenome Archive)](https://www.ebi.ac.uk/ega/home) | [dbGAP](https://www.ncbi.nlm.nih.gov/gap)\n",
    "Mutation Database | [Ensembl](http://www.ensembl.org/index.html) | [dbSNP](https://www.ncbi.nlm.nih.gov/projects/SNP/) \n",
    "Genomic Browsers | [Ensembl](http://www.ensembl.org/Homo_sapiens/Location/View?r=17:63992802-64038237) | [UCSC](https://genome.ucsc.edu/cgi-bin/hgTracks?db=hg38&lastVirtModeType=default&lastVirtModeExtraState=&virtModeType=default&virtMode=0&nonVirtPosition=&position=chr17%3A63992802%2D64038237&hgsid=654038027_kzafCuBRWkvSS4Uq55z0pjldJcyS)\n",
    "Location converters | [REST API (map)](https://rest.ensembl.org/documentation/info/assembly_map) | [remap](https://www.ncbi.nlm.nih.gov/genome/tools/remap)\n",
    "Query services | [REST API](https://rest.ensembl.org/) | [Entrez](https://www.ncbi.nlm.nih.gov/Class/MLACourse/Original8Hour/Entrez/)\n",
    "\n",
    "\n",
    "Εκτός από ENSEMBL/NCBI μια άλλη πολύ καλή βάση είναι:\n",
    "\n",
    "* [MyGene](http://mygene.info/), [MyVariant](http://myvariant.info/) . Πολύ μοντέρνο API, φιλικό και καλή οργάνωση πληροφορίας. Δοκιμάστε το: http://myvariant.info/v1/api . Το αρνητικό του είναι ότι περιέχει ΜΟΝΟ πληροφορίες για variants (π.χ. δεν έχει transcripts, proteins, ...)\n"
   ]
  }
 ],
 "metadata": {
  "anaconda-cloud": {},
  "kernelspec": {
   "display_name": "Python 3",
   "language": "python",
   "name": "python3"
  },
  "language_info": {
   "codemirror_mode": {
    "name": "ipython",
    "version": 3
   },
   "file_extension": ".py",
   "mimetype": "text/x-python",
   "name": "python",
   "nbconvert_exporter": "python",
   "pygments_lexer": "ipython3",
   "version": "3.7.0"
  }
 },
 "nbformat": 4,
 "nbformat_minor": 1
}
