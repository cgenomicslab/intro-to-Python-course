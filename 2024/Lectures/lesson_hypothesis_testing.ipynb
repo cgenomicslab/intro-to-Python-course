{
 "cells": [
  {
   "cell_type": "markdown",
   "metadata": {},
   "source": [
    "### Hypothesis Testing\n",
    "\n",
    "* Έστω https://twitter.com/meganinlisbon/status/1101870079858409478\n",
    "\n",
    "```\n",
    "I presented the math for this at the #cosyne19 diversity lunch today. \n",
    "\n",
    "Success rates for first authors with known gender: \n",
    "Female: 83/264 accepted = 31.4%\n",
    "Male: 255/677 accepted = 37.7%\n",
    "\n",
    "37.7/31.4 = a 20% higher success rate for men\n",
    "```\n",
    "\n",
    "Υπάρχει όντως προκατάληψη εναντίων των γυναικών σε αυτό το συνέδριο;"
   ]
  },
  {
   "cell_type": "code",
   "execution_count": 7,
   "metadata": {},
   "outputs": [
    {
     "name": "stdout",
     "output_type": "stream",
     "text": [
      "total papers: 941\n",
      "Accepted papers: 338\n",
      "Failed papers:: 603\n"
     ]
    },
    {
     "data": {
      "text/plain": [
       "0.06226780358981243"
      ]
     },
     "execution_count": 7,
     "metadata": {},
     "output_type": "execute_result"
    }
   ],
   "source": [
    "female_yes = 83\n",
    "female_total = 264\n",
    "\n",
    "male_yes = 255\n",
    "male_total = 677 \n",
    "\n",
    "total = female_total + male_total\n",
    "accepted = female_yes + male_yes\n",
    "failed = total - accepted\n",
    "\n",
    "print ('total papers:', total)\n",
    "print ('Accepted papers:', accepted)\n",
    "print ('Failed papers::', fail)\n",
    "\n",
    "female_success_rate = female_yes/female_total\n",
    "male_success_rate = male_yes/male_total\n",
    "\n",
    "diff = male_success_rate - female_success_rate\n",
    "diff"
   ]
  },
  {
   "cell_type": "markdown",
   "metadata": {},
   "source": [
    "Η διαφορά μεταξύ του acceptance rate (ποσοστό των papers που έγιναν δεκτά) μεταξύ των ανδρών και γυναικών είναι 0.06226780358981243 . Άραγε αυτό έγινε κατά τύχη, ή λόγω προκατάληψης; \n",
    "\n",
    "Αρχικά κοιτάμε να δούμε ποια είναι η πιθανότητα να έγινε κατά τύχη. Για να το κάνουμε αυτό πρέπει να βρούμε το εξής:\n",
    "\n",
    "Βάζουμε σε ένα κουτί 338 μαύρες μπάλες (failed papers) και 603 άσπρες μπάλες (accepted papers). Στη συνέχεια ανακατέβουμε το κουτί και παίρνουμε 264 τυχαίες μπάλες (female papers) και τις βάζουμε στο δοχείο Α και τις υπόλοιπες 677 μπάλες (male papers) τις βάζουμε στο δοχείο Β. Μετά μετράμε το ποσοστό των μπαλών που είναι άσπρες στο κουτί Α και το ποσοστό των μπαλών που είναι άσπρες στο κουτί Β. Τέλος υπολογίζουμε τη διαφορά αυτών των ποσοστών και ελέγχουμε αν αυτή η διαφορά είναι μεγαλύτερη ή ίση με αυτή που παρατηρήσαμε..\n",
    "\n",
    "**Δηλαδή βρίσκουμε τη πιθανότητα αυτή η \"ανισότητα\" που βρήκαμε να ήταν τυχαία αν υποθέσουμε ότι ΔΕΝ υπάρχει προκατάληψη**\n",
    "\n",
    "Ας το κάνουμε αυτό σε python:\n"
   ]
  },
  {
   "cell_type": "code",
   "execution_count": 30,
   "metadata": {},
   "outputs": [],
   "source": [
    "import random\n",
    "\n",
    "def random_papers():\n",
    "    \n",
    "    box = [True] * accepted + [False] * failed\n",
    "    random.shuffle(box)\n",
    "    \n",
    "    female_papers = box[:female_total]\n",
    "    male_papers = box[female_total:]\n",
    "    \n",
    "    female_acceptance_rate = sum(female_papers)/female_total\n",
    "    male_acceptance_rate = sum(male_papers)/male_total\n",
    "    \n",
    "    return (male_acceptance_rate - female_acceptance_rate) > diff\n",
    "    "
   ]
  },
  {
   "cell_type": "markdown",
   "metadata": {},
   "source": [
    "Ας κάνουμε 100.000 πειράματα:"
   ]
  },
  {
   "cell_type": "code",
   "execution_count": 35,
   "metadata": {},
   "outputs": [
    {
     "data": {
      "text/plain": [
       "0.0326"
      ]
     },
     "execution_count": 35,
     "metadata": {},
     "output_type": "execute_result"
    }
   ],
   "source": [
    "tries = 100_000\n",
    "sum (random_papers() for x in range(tries))/tries"
   ]
  },
  {
   "cell_type": "markdown",
   "metadata": {},
   "source": [
    "Το αποτέλεσμα είναι 0.0326. Το οποίο μπορεί να \"ερμηνευθεί\" ως εξής: Η πιθανότητα αυτή η διαφορά που υπολογίσαμε (0.06226780358981243) να μην οφείλεται σε κάποια προκατάληψη αλλά.. στη τύχη είναι μικρότερη από 1 στις 20. Ένα από τα πιο συνηθισμένα όρια που θέτουμε για να πούμε ότι \"κάτι παίζει\" και ότι αυτό που μετρήσαμε δεν είναι τυχαίο είναι το 0.05 (1/20). \n",
    "\n",
    "Άρα βγάζουμε το συμπέρασμα ότι όντως υπήρχε προκατάληψη σε αυτό το συνέδριο.\n",
    "\n",
    "Ένας στατιστικός θα το υπολόγιζε με αυτό τον τρόπο:"
   ]
  },
  {
   "cell_type": "code",
   "execution_count": 36,
   "metadata": {},
   "outputs": [
    {
     "data": {
      "text/plain": [
       "0.03683152398331601"
      ]
     },
     "execution_count": 36,
     "metadata": {},
     "output_type": "execute_result"
    }
   ],
   "source": [
    "import numpy as np\n",
    "import scipy.stats.distributions as dist\n",
    "\n",
    "total_accepted_rate = (female_yes + male_yes) / total\n",
    "\n",
    "variance = total_accepted_rate * (1 - total_accepted_rate)\n",
    "\n",
    "standard_error = np.sqrt(variance * ((1 / female_total) + (1 / male_total)))\n",
    "\n",
    "best_estimate = male_success_rate - female_success_rate\n",
    "\n",
    "hypothesized_estimate = 0.0\n",
    "\n",
    "test_stat = (best_estimate-hypothesized_estimate) / standard_error\n",
    "\n",
    "dist.norm.cdf(-np.abs(test_stat))"
   ]
  },
  {
   "cell_type": "markdown",
   "metadata": {},
   "source": [
    "Το ποιον τρόπο θα επιλέξετε είναι δικό σας θέμα! Αλλά: ο πρώτος (ονομάζεται και permutation test: https://en.wikipedia.org/wiki/Resampling_(statistics) ) είναι πιο ευκολονόητος και διαισθητικός για αυτούς που έχουν εμπειρία στον προγραμματισμό! Ο 2ος βέβαια είναι πιο γρήγορος και πιο ακριβής (αν το κάνετε σωστά). Μία μέση λύση είναι να κάνετε το πρώτο για να έχετε μία ιδέα το που κυμαίνεται το p-value και μετά να το επιβεβαιώσετε με τον 2ο τρόπο."
   ]
  },
  {
   "cell_type": "markdown",
   "metadata": {},
   "source": [
    "### Παράδειγμα 2\n",
    "**Αυτό το παράδειγμα είναι \"κλεμμένο\" από εδώ:** https://www.youtube.com/watch?v=5Dnw46eC-0o **H παρακολούθηση αυτού του βίντεο είναι υποχρεωτική!**\n",
    "\n",
    "Σε ένα [paper](https://journals.plos.org/plosone/article?id=10.1371/journal.pone.0009546)  οι συγγραφείς εξέτασαν την υπόθεση: \"Η κατανάλωση μπύρας αυξάνει την ελκυστικότητά μας στα κουνούπια που προκαλούν ελονοσία\". Για να το ελέγξουν, χωρίσανε μία ομάδα από ανθρώπους σε δύο γκρουπ. Στη 1η δώσανε να πιούν μπύρα και στη δεύτερη νερό. Στη συνέχεια για κάθε άνθρωπο ελέγξαν το πλήθος από κουνούπια που προσέλκησε. Τα δεδομένα είναι:"
   ]
  },
  {
   "cell_type": "code",
   "execution_count": 37,
   "metadata": {},
   "outputs": [],
   "source": [
    "beer = [\n",
    "    29, 19, 20, \n",
    "    20, 23, 17, \n",
    "    21, 24, 31,\n",
    "    26, 28, 20,\n",
    "    27, 19, 25,\n",
    "    31, 24, 28,\n",
    "    24, 29, 21,\n",
    "    21, 18, 27,\n",
    "    20\n",
    "]\n",
    "\n",
    "water = [\n",
    "    21, 19, 13,\n",
    "    22, 15, 22,\n",
    "    15, 22, 20,\n",
    "    12, 24, 24,\n",
    "    21, 19, 18,\n",
    "    16, 23, 20,\n",
    "]"
   ]
  },
  {
   "cell_type": "markdown",
   "metadata": {},
   "source": [
    "Ας ελέγξουμε για αρχή τη διαφορά στον μέσο όρο:"
   ]
  },
  {
   "cell_type": "code",
   "execution_count": 38,
   "metadata": {},
   "outputs": [
    {
     "data": {
      "text/plain": [
       "4.457777777777778"
      ]
     },
     "execution_count": 38,
     "metadata": {},
     "output_type": "execute_result"
    }
   ],
   "source": [
    "beer_average = sum(beer)/len(beer)\n",
    "water_average = sum(water)/len(water)\n",
    "diff = beer_average - water_average\n",
    "diff"
   ]
  },
  {
   "cell_type": "markdown",
   "metadata": {},
   "source": [
    "Ποια είναι η πιθανότητα αυτή η διαφορά να προήλθε κατά τύχη; Κάνουμε ότι κάναμε και πριν. Υποθέτουμε ότι είτε πιει κάποιος μπύρα είτε νερό θα συγκεντρώσει το ίδιο πλήθος από κουνούπια. Αρα αν πάρουμε τυχάια ```len(beer)``` άτομα θα έχουν τον ίδιο μέσο όρο κουνουπιών με τους υπόλοιπους ```len(water)```. Επίσης υποθέτουμε ότι αυτή η διαφορά πυ μετρήσαμε (4.458) συμβαίνει \"πολύ συχνά\" (δηλαδή ποιο συχνά από 1/20) κατά τύχη:"
   ]
  },
  {
   "cell_type": "code",
   "execution_count": 52,
   "metadata": {},
   "outputs": [],
   "source": [
    "def random_mosquitos():\n",
    "    box = beer + water \n",
    "    random.shuffle(box)\n",
    "    random_beer = box[:len(beer)]\n",
    "    random_water = box[len(beer):]\n",
    "    \n",
    "    random_average_beer = sum(random_beer) / len(random_beer)\n",
    "    random_average_water = sum(random_water) / len(random_water)\n",
    "    \n",
    "    return (random_average_beer - random_average_water) >= diff"
   ]
  },
  {
   "cell_type": "code",
   "execution_count": 54,
   "metadata": {},
   "outputs": [
    {
     "data": {
      "text/plain": [
       "0.00042"
      ]
     },
     "execution_count": 54,
     "metadata": {},
     "output_type": "execute_result"
    }
   ],
   "source": [
    "tries = 100_000\n",
    "sum (random_mosquitos() for x in range(tries)) / tries"
   ]
  },
  {
   "cell_type": "markdown",
   "metadata": {},
   "source": [
    "Ας το υπολογίσουμε τώρα με την αναλυτική μέθοδο:"
   ]
  },
  {
   "cell_type": "code",
   "execution_count": 51,
   "metadata": {},
   "outputs": [
    {
     "data": {
      "text/plain": [
       "0.0004205775278799323"
      ]
     },
     "execution_count": 51,
     "metadata": {},
     "output_type": "execute_result"
    }
   ],
   "source": [
    "from scipy.stats import ttest_ind\n",
    "ttest_ind(beer, water).pvalue/2"
   ]
  },
  {
   "cell_type": "markdown",
   "metadata": {},
   "source": [
    "### Παράδειγμα 3\n",
    "Ίσως το κυριότερο ερώτημα στις γενετικές έρευνες είναι: \"υπάρχει συσχετισμός μεταξύ ενός αλληλόμορφου και στην εμφάνιση μιας ασθένειας\"; Με την σημερινή τεχνογία μπορούμε να πάρουμε τον γονότυπο ενώς μεγάλου μέρους τον γονοδιόματος από έναν άνθρωπο. Αυτή η διαδικασία ονομάζεται \"γονοτύπηση\". Αν κάνουμε αυτή τη διαδικασία για ένα μεγάλο πλήθος από ανθρώπους, κάποιους από τους οποίους εμφανίζουν μία ασθένεια, τότε μπορούμε να απαντήσουμε στο παραπάνω ερώτημα. Οι έρευνες αυτού του είδους ονομάζονται και GWAS: [Genome Wide Association Studies](https://en.wikipedia.org/wiki/Genome-wide_association_study). Ας δούμε λοιπόν πως μπορούμε να προσεγγίσουμε αυτό το ερώτημα. Για αρχή ας υποθέσουμε ότι έχουμε 10 ανθρώπους. 5 από αυτούς εμφανίζουν μία ασθένεια η οποία πιστεύουμε ότι έχει γενετική βάση και 5 δεν την εμφανίζουν. Ας πάρουμε τον γονότυπό τους σε μία περιοχή του γονιδώματος:\n",
    "\n",
    "\n",
    "|  Δείγμα        | Α1 | Α2 | Α3 | Α4 | Α5 | Α6 | Α7 | Α8 | Α9 | Α10|\n",
    "|----------------|----|----|----|----|----|----|----|----|----|----|\n",
    "| Γονότυπος      | A/A| A/a| A/A| A/A| A/A| A/A| A/a| A/a| a/a| a/a|\n",
    "| Ασθένεια       | ΟΧΙ| ΟΧΙ|ΟΧΙ | ΟΧΙ|ΟΧΙ | ΝΑΙ|ΝΑΙ | ΝΑΙ| ΝΑΙ| ΝΑΙ|\n",
    "\n",
    "Και σε python:"
   ]
  },
  {
   "cell_type": "code",
   "execution_count": 55,
   "metadata": {},
   "outputs": [],
   "source": [
    "genotypes = [('A','A'), ('A','a'), ('A','A'), ('A','A'), ('A','A'), \n",
    "             ('A','A'), ('A','a'), ('A','a'), ('a','a'), ('a','a')]\n",
    "phenotypes = ['NO', 'NO', 'NO', 'NO', 'NO', 'YES', 'YES', 'YES', 'YES', 'YES']"
   ]
  },
  {
   "cell_type": "markdown",
   "metadata": {},
   "source": [
    "Για αρχή φτιάχνουμε έναν πίνακα που δείχνει πόσα αλληλόμορφα υπάρχουν σε ασθενείς και μη ασθενείς. Αυτός ο πίνακας ονομάζεται [contingency table](https://en.wikipedia.org/wiki/Contingency_table). \n"
   ]
  },
  {
   "cell_type": "code",
   "execution_count": 56,
   "metadata": {},
   "outputs": [
    {
     "data": {
      "text/html": [
       "<div>\n",
       "<style scoped>\n",
       "    .dataframe tbody tr th:only-of-type {\n",
       "        vertical-align: middle;\n",
       "    }\n",
       "\n",
       "    .dataframe tbody tr th {\n",
       "        vertical-align: top;\n",
       "    }\n",
       "\n",
       "    .dataframe thead th {\n",
       "        text-align: right;\n",
       "    }\n",
       "</style>\n",
       "<table border=\"1\" class=\"dataframe\">\n",
       "  <thead>\n",
       "    <tr style=\"text-align: right;\">\n",
       "      <th></th>\n",
       "      <th>A</th>\n",
       "      <th>a</th>\n",
       "      <th>total</th>\n",
       "    </tr>\n",
       "    <tr>\n",
       "      <th>Disease</th>\n",
       "      <th></th>\n",
       "      <th></th>\n",
       "      <th></th>\n",
       "    </tr>\n",
       "  </thead>\n",
       "  <tbody>\n",
       "    <tr>\n",
       "      <th>NO</th>\n",
       "      <td>9</td>\n",
       "      <td>1</td>\n",
       "      <td>10</td>\n",
       "    </tr>\n",
       "    <tr>\n",
       "      <th>YES</th>\n",
       "      <td>4</td>\n",
       "      <td>6</td>\n",
       "      <td>10</td>\n",
       "    </tr>\n",
       "    <tr>\n",
       "      <th>total</th>\n",
       "      <td>13</td>\n",
       "      <td>7</td>\n",
       "      <td>20</td>\n",
       "    </tr>\n",
       "  </tbody>\n",
       "</table>\n",
       "</div>"
      ],
      "text/plain": [
       "          A  a  total\n",
       "Disease              \n",
       "NO        9  1     10\n",
       "YES       4  6     10\n",
       "total    13  7     20"
      ]
     },
     "execution_count": 56,
     "metadata": {},
     "output_type": "execute_result"
    }
   ],
   "source": [
    "import pandas as pd\n",
    "\n",
    "def create_contingency_table(genotypes, phenotypes):\n",
    "    contingency = {'Disease': ['NO', 'YES', 'total']}\n",
    "    for allele in ('A', 'a'):\n",
    "        contingency[allele] = []\n",
    "        total = 0\n",
    "        for phenotype in ('NO', 'YES'):\n",
    "            c = sum(g.count(allele) for g,p in zip(genotypes, phenotypes) if p==phenotype)\n",
    "            contingency[allele].append(c)\n",
    "            total += c\n",
    "        contingency[allele].append(total)\n",
    "\n",
    "    contingency = pd.DataFrame(contingency)\n",
    "    contingency = contingency.set_index('Disease')\n",
    "    contingency['total'] = contingency.apply(sum, axis=1)\n",
    "    \n",
    "    return contingency\n",
    "\n",
    "contingency = create_contingency_table(genotypes, phenotypes)\n",
    "\n",
    "contingency"
   ]
  },
  {
   "cell_type": "markdown",
   "metadata": {},
   "source": [
    "Φτιάχνουμε τώρα έναν άλλο πίνακα που περιέχει την αναμενόμενες τιμές του πινακα αν υποθέταμε ότι ο γονότυπος αυτός δεν έχει κάποια σχέση με την εκδήλωση της ασθένειας.\n",
    "\n",
    "Το στοιχείο του πίνακα αυτού για το allele=X και phenotype=Y ισούται με:\n",
    "\n",
    "$$ E_{X,Y} = \\frac{Total_X * Total_Y}{total} $$\n"
   ]
  },
  {
   "cell_type": "code",
   "execution_count": 58,
   "metadata": {},
   "outputs": [
    {
     "data": {
      "text/html": [
       "<div>\n",
       "<style scoped>\n",
       "    .dataframe tbody tr th:only-of-type {\n",
       "        vertical-align: middle;\n",
       "    }\n",
       "\n",
       "    .dataframe tbody tr th {\n",
       "        vertical-align: top;\n",
       "    }\n",
       "\n",
       "    .dataframe thead th {\n",
       "        text-align: right;\n",
       "    }\n",
       "</style>\n",
       "<table border=\"1\" class=\"dataframe\">\n",
       "  <thead>\n",
       "    <tr style=\"text-align: right;\">\n",
       "      <th></th>\n",
       "      <th>A</th>\n",
       "      <th>a</th>\n",
       "      <th>total</th>\n",
       "    </tr>\n",
       "    <tr>\n",
       "      <th>Disease</th>\n",
       "      <th></th>\n",
       "      <th></th>\n",
       "      <th></th>\n",
       "    </tr>\n",
       "  </thead>\n",
       "  <tbody>\n",
       "    <tr>\n",
       "      <th>NO</th>\n",
       "      <td>6.5</td>\n",
       "      <td>3.5</td>\n",
       "      <td>10.0</td>\n",
       "    </tr>\n",
       "    <tr>\n",
       "      <th>YES</th>\n",
       "      <td>6.5</td>\n",
       "      <td>3.5</td>\n",
       "      <td>10.0</td>\n",
       "    </tr>\n",
       "    <tr>\n",
       "      <th>total</th>\n",
       "      <td>13.0</td>\n",
       "      <td>7.0</td>\n",
       "      <td>20.0</td>\n",
       "    </tr>\n",
       "  </tbody>\n",
       "</table>\n",
       "</div>"
      ],
      "text/plain": [
       "            A    a  total\n",
       "Disease                  \n",
       "NO        6.5  3.5   10.0\n",
       "YES       6.5  3.5   10.0\n",
       "total    13.0  7.0   20.0"
      ]
     },
     "execution_count": 58,
     "metadata": {},
     "output_type": "execute_result"
    }
   ],
   "source": [
    "def create_expected_contingency_table(observed):\n",
    "\n",
    "    contingency_e = {'Disease': ['NO', 'YES', 'total']}\n",
    "    for allele in ('A', 'a'):\n",
    "        contingency_e[allele] = []\n",
    "        total = 0\n",
    "        for phenotype in ('NO', 'YES'):\n",
    "            #c = sum(g.count(allele) for g,p in zip(genotypes, phenotypes) if p==phenotype)\n",
    "\n",
    "            c = observed.loc[phenotype]['total'] * observed.loc['total'][allele]\n",
    "            c = c/observed.loc['total']['total']\n",
    "\n",
    "            contingency_e[allele].append(c)\n",
    "            total += c\n",
    "        contingency_e[allele].append(total)\n",
    "\n",
    "    contingency_e = pd.DataFrame(contingency_e)\n",
    "    contingency_e = contingency_e.set_index('Disease')\n",
    "    contingency_e['total'] = contingency_e.apply(sum, axis=1)\n",
    "    \n",
    "    return contingency_e\n",
    "\n",
    "\n",
    "contingency_e = create_expected_contingency_table(contingency)\n",
    "contingency_e"
   ]
  },
  {
   "cell_type": "markdown",
   "metadata": {},
   "source": [
    "Παρατηρείστε ότι αν υποθέσουμε ότι η θέση αυτή δεν συσχετίζεται με την ασθένεια, τότε η κατανομή των αλληλόμορφων είναι ίδια για τις δύο κλάσεις (NO, YES) της ασθένειας. \n",
    "\n",
    "Τώρα μπορούμε να δούμε αν η διαφορά μεταξύ του observed contingency table ($O$) και του expected contingency table (E) είναι στατιστικά σημαντική. Υπολογίζουμε το $\\chi^2$:\n",
    "\n",
    "$$\\chi^2 = \\sum_{p=[YES,NO]} \\sum_{al=[A,a]} \\frac{ \\left ( O_{p,al}-E_{p,al} \\right )^2 }{E_{p,al}} $$\n",
    "\n"
   ]
  },
  {
   "cell_type": "code",
   "execution_count": 59,
   "metadata": {},
   "outputs": [],
   "source": [
    "def get_chi_square(O,E):\n",
    "    ret = 0\n",
    "    for p in ('NO', 'YES'):\n",
    "        for al in ('A', 'a'):\n",
    "            O_p_al = O.loc[p][al]\n",
    "            E_p_al = E.loc[p][al]\n",
    "            ret += (O_p_al-E_p_al)**2 / E_p_al\n",
    "    \n",
    "    return ret\n"
   ]
  },
  {
   "cell_type": "code",
   "execution_count": 61,
   "metadata": {},
   "outputs": [
    {
     "name": "stdout",
     "output_type": "stream",
     "text": [
      "chi square: 5.4945054945054945\n"
     ]
    }
   ],
   "source": [
    "chi_square = get_chi_square(contingency, contingency_e)\n",
    "print ('chi square:', chi_square)"
   ]
  },
  {
   "cell_type": "markdown",
   "metadata": {},
   "source": [
    "Ποια είναι η πιθανότητα να βρούμε αυτό το chi-square (ή μεγαλύτερο) αν υποθέσουμε ότι δεν υπάρχει σχέση μεταξύ της μετάλλαξης και της ασθένειας; Απλό: φτιάχνουμε έναν τυχαίο contingency table ο οποίως κάνει αυτή ακριβώς την υπόθεση:"
   ]
  },
  {
   "cell_type": "code",
   "execution_count": 82,
   "metadata": {},
   "outputs": [
    {
     "data": {
      "text/html": [
       "<div>\n",
       "<style scoped>\n",
       "    .dataframe tbody tr th:only-of-type {\n",
       "        vertical-align: middle;\n",
       "    }\n",
       "\n",
       "    .dataframe tbody tr th {\n",
       "        vertical-align: top;\n",
       "    }\n",
       "\n",
       "    .dataframe thead th {\n",
       "        text-align: right;\n",
       "    }\n",
       "</style>\n",
       "<table border=\"1\" class=\"dataframe\">\n",
       "  <thead>\n",
       "    <tr style=\"text-align: right;\">\n",
       "      <th></th>\n",
       "      <th>A</th>\n",
       "      <th>a</th>\n",
       "      <th>total</th>\n",
       "    </tr>\n",
       "    <tr>\n",
       "      <th>Disease</th>\n",
       "      <th></th>\n",
       "      <th></th>\n",
       "      <th></th>\n",
       "    </tr>\n",
       "  </thead>\n",
       "  <tbody>\n",
       "    <tr>\n",
       "      <th>NO</th>\n",
       "      <td>5</td>\n",
       "      <td>5</td>\n",
       "      <td>10</td>\n",
       "    </tr>\n",
       "    <tr>\n",
       "      <th>YES</th>\n",
       "      <td>8</td>\n",
       "      <td>2</td>\n",
       "      <td>10</td>\n",
       "    </tr>\n",
       "    <tr>\n",
       "      <th>total</th>\n",
       "      <td>13</td>\n",
       "      <td>7</td>\n",
       "      <td>20</td>\n",
       "    </tr>\n",
       "  </tbody>\n",
       "</table>\n",
       "</div>"
      ],
      "text/plain": [
       "          A  a  total\n",
       "Disease              \n",
       "NO        5  5     10\n",
       "YES       8  2     10\n",
       "total    13  7     20"
      ]
     },
     "execution_count": 82,
     "metadata": {},
     "output_type": "execute_result"
    }
   ],
   "source": [
    "genotypes = [('A','A'), ('A','a'), ('A','A'), ('A','A'), ('A','A'), \n",
    "             ('A','A'), ('A','a'), ('A','a'), ('a','a'), ('a','a')]\n",
    "phenotypes = ['NO', 'NO', 'NO', 'NO', 'NO', 'YES', 'YES', 'YES', 'YES', 'YES']\n",
    "\n",
    "phenotypes_random = phenotypes\n",
    "random.shuffle(phenotypes_random)\n",
    "\n",
    "random_contigency_table = create_contingency_table(genotypes, phenotypes_random)\n",
    "random_contigency_table"
   ]
  },
  {
   "cell_type": "markdown",
   "metadata": {},
   "source": [
    "Και υπολογίζουμε το chi-square αυτού του τυχαίου πίνακα:"
   ]
  },
  {
   "cell_type": "code",
   "execution_count": 83,
   "metadata": {},
   "outputs": [
    {
     "data": {
      "text/plain": [
       "1.978021978021978"
      ]
     },
     "execution_count": 83,
     "metadata": {},
     "output_type": "execute_result"
    }
   ],
   "source": [
    "random_chi_square = get_chi_square(random_contigency_table, contingency_e)\n",
    "random_chi_square"
   ]
  },
  {
   "cell_type": "markdown",
   "metadata": {},
   "source": [
    "Παρατηρούμε ότι σε ένα τυχαίο \"ανακάτωμα\" των φαινότυπων, το chi-square είναι μικρότερο από αυτό που παρατηρήσαμε (1.978<5.494). Ας δούμε λοιπόν ποια είναι η πιθανότητα να βρούμε chi-suare μεγαλύτερο από αυτό που παρατηρήσαμε:"
   ]
  },
  {
   "cell_type": "code",
   "execution_count": 93,
   "metadata": {},
   "outputs": [],
   "source": [
    "def random_trial():\n",
    "    random.shuffle(phenotypes_random)\n",
    "\n",
    "    random_contigency_table = create_contingency_table(genotypes, phenotypes_random)\n",
    "    random_chi_square = get_chi_square(random_contigency_table, contingency_e)\n",
    "    \n",
    "    return random_chi_square > chi_square"
   ]
  },
  {
   "cell_type": "code",
   "execution_count": 94,
   "metadata": {},
   "outputs": [
    {
     "data": {
      "text/plain": [
       "0.007"
      ]
     },
     "execution_count": 94,
     "metadata": {},
     "output_type": "execute_result"
    }
   ],
   "source": [
    "trials = 10_000\n",
    "sum(random_trial() for x in range(trials))/trials"
   ]
  },
  {
   "cell_type": "markdown",
   "metadata": {},
   "source": [
    "Αν λοιπόν θέσουμε ως όριο σημαντικότητας το 0.05 τότε βγάζουμε ως συμπέρασμα ότι p_value < 0.05, άρα το αλληλόμορφο a σε αυτή τη θέση συσχετίζεται με την ανάπτυξη της ασθένειας. \n",
    "\n",
    "Ας το υπολογίσουμε τώρα και με τον αναλυτικό τρόπο:"
   ]
  },
  {
   "cell_type": "code",
   "execution_count": 100,
   "metadata": {},
   "outputs": [
    {
     "name": "stdout",
     "output_type": "stream",
     "text": [
      "p_value= 0.01907632210177841\n"
     ]
    }
   ],
   "source": [
    "from scipy.stats.distributions import chi2 \n",
    "p_value = chi2.sf(chi_square, 1) # 1 = degrees of freedom\n",
    "print ('p_value=', p_value)"
   ]
  },
  {
   "cell_type": "code",
   "execution_count": null,
   "metadata": {},
   "outputs": [],
   "source": []
  }
 ],
 "metadata": {
  "kernelspec": {
   "display_name": "Python 3",
   "language": "python",
   "name": "python3"
  },
  "language_info": {
   "codemirror_mode": {
    "name": "ipython",
    "version": 3
   },
   "file_extension": ".py",
   "mimetype": "text/x-python",
   "name": "python",
   "nbconvert_exporter": "python",
   "pygments_lexer": "ipython3",
   "version": "3.7.0"
  }
 },
 "nbformat": 4,
 "nbformat_minor": 2
}
