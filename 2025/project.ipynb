{
 "cells": [
  {
   "cell_type": "markdown",
   "id": "d446d4a2-e853-4378-b09b-ece7599f684c",
   "metadata": {},
   "source": [
    "# Environment - Tools"
   ]
  },
  {
   "cell_type": "markdown",
   "id": "f60dedeb-b29c-4554-b31c-043b2b5e95b7",
   "metadata": {},
   "source": [
    "## Ubuntu installation in Windows\n",
    "- Check Windows Subsystem for Linux (<a href=\"https://ubuntu.com/desktop/wsl\">WSL</a>)\n",
    "\n",
    "Consider a symbolic link of a data folder in ~/Documents/\n",
    "\n",
    "```bash\n",
    "ln -s /mnt/c/myrepo ~/Documents/my_dir\n",
    "```\n",
    "\n",
    "## Ways to run python code\n",
    "- Write code in python script and execute in **shell** (*python script_name.py*)\n",
    "- Execute in **(i)python** command shell (*ipython: %run script_name.py*)\n",
    "- **jupyter** notebook/lab\n",
    "- VS code integrated terminal etc.\n",
    "- .."
   ]
  },
  {
   "cell_type": "markdown",
   "id": "664d8b48-a2fc-4dc2-8838-e2ef3f646e80",
   "metadata": {},
   "source": [
    "! Check relative path"
   ]
  },
  {
   "cell_type": "markdown",
   "id": "43cfae59-2a84-4626-b1c7-a91e8f68f938",
   "metadata": {},
   "source": [
    "Do note that there are multiple ways to create a virtualenv, such as:\n",
    "\n",
    "- The venv module.\n",
    "- The virtualenv package.\n",
    "- Via package managers like conda.\n",
    "\n",
    "We will use conda (minimum installation of Anaconda Distribution)."
   ]
  },
  {
   "cell_type": "markdown",
   "id": "d12476d9-3a9b-472e-8535-a0d0b40dd692",
   "metadata": {},
   "source": [
    "## Installing Miniconda (https://docs.anaconda.com/miniconda/install/)\n",
    "**Linux instructions** Terminal or here..\n",
    "- create a new directory named “miniconda3” in your home directory.\n",
    "- download the Linux Miniconda installation script for your chosen chip architecture and save the script as -miniconda.sh in the miniconda3 directory.\n",
    "- run the miniconda.sh installation script in silent mode using bash.\n",
    "- remove the miniconda.sh installation script file after installation is complete.\n",
    "\n",
    "```bash\n",
    "mkdir -p ~/miniconda3\n",
    "wget https://repo.anaconda.com/miniconda/Miniconda3-latest-Linux-x86_64.sh -O ~/miniconda3/miniconda.sh\n",
    "bash ~/miniconda3/miniconda.sh -b -u -p ~/miniconda3\n",
    "rm ~/miniconda3/miniconda.sh\n",
    "```\n",
    "- after installing, close and reopen your terminal application or refresh it by running the following command\n",
    "\n",
    "```bash\n",
    "source ~/miniconda3/bin/activate\n",
    "```\n",
    "- Then, initialize conda on all available shells\n",
    "\n",
    "```bash\n",
    "conda init --all\n",
    "```\n"
   ]
  },
  {
   "cell_type": "markdown",
   "id": "35947890-fea4-4963-8018-89c2c9c3ceb7",
   "metadata": {},
   "source": [
    "## Create conda environment - install jupyter\n",
    "\n",
    "- we create the environment \"python_intro\", activate it, and install packages, and kernel\n",
    "\n",
    "```bash\n",
    "# conda create -n python_course python=3.11 notebook\n",
    "conda create --name python_intro --channel=conda-forge python=3.11 jupyterlab nb_conda_kernels\n",
    "conda activate python_intro\n",
    "conda install -c bioconda hmmer #mafft fasttree datamash mmseqs2 astral-tree biopython\n",
    "# pip install ipykernel\n",
    "python -m ipykernel install --user --name python_intro --display-name \"Python Intro\"\n",
    "```\n"
   ]
  },
  {
   "cell_type": "markdown",
   "id": "2f54fb96-d245-40a0-ad26-294cee7d2ea4",
   "metadata": {},
   "source": [
    "* Download the notebook (project.ipynb), rename or copy (project_myname.ipynb) and run:"
   ]
  },
  {
   "cell_type": "markdown",
   "id": "a23997d6-6ab1-4662-b4c5-a534edea841c",
   "metadata": {},
   "source": [
    "```bash\n",
    "jupyter-lab project_myname.ipynb\n",
    "```"
   ]
  },
  {
   "cell_type": "markdown",
   "id": "f3457bd2-5ca6-4763-a112-496478423706",
   "metadata": {},
   "source": [
    "- **Use one cell per code line/block, and look for function or method help (help(str.split) or str.split?).**"
   ]
  },
  {
   "cell_type": "markdown",
   "id": "a3c4662f-7cef-4cd7-9885-1dbf153bc6e8",
   "metadata": {},
   "source": [
    "# Project - <a href=\"https://en.wikipedia.org/wiki/Codon_usage_bias\">Codon usage bias</a>"
   ]
  },
  {
   "cell_type": "markdown",
   "id": "e8daff87-2e6e-462f-9e92-d462f809b0f7",
   "metadata": {},
   "source": [
    "## Translation (mRNA 2 protein sequence)\n",
    "- We will use NCBI Genomes <a href=\"https://www.ncbi.nlm.nih.gov/datasets/genome/\">data</a>.\n",
    "- You may also access it programmatically via <a href=\"https://www.ncbi.nlm.nih.gov/datasets/docs/v2/command-line-tools/download-and-install/\">command-line tools</a> or <a href=\"https://biopython.org/docs/1.76/api/Bio.Entrez.html\">Biopython</a>.\n",
    "\n",
    "- Files may be also found in https://github.com/cgenomicslab/intro-to-Python-course/tree/main/2025/data"
   ]
  },
  {
   "cell_type": "markdown",
   "id": "6402f09b-0282-4f8a-b7f5-0711c8b7e41d",
   "metadata": {},
   "source": [
    "* **Download** and **parse** (store in a dictionary) <a href=\"https://www.ncbi.nlm.nih.gov/nuccore/KT964724.1?report=fasta\" target=\"_blank\">KT964724.1</a> sequence entry from NCBI\n",
    "    * Take into account that the sequence is split over 80 character lines\n",
    "    * Keep only the sequence ID (KT964724.1) from the header (using the python string split() method)"
   ]
  },
  {
   "cell_type": "markdown",
   "id": "5280357c-59ee-4677-8293-1d8c1afd383f",
   "metadata": {},
   "source": [
    "```python\n",
    ">KT964724.1 Euplokamis dunlapae putative nonfluorescent protein mRNA, complete cds\n",
    "\n",
    "ATTACTATATTTTAATTGAGTGCCTAGTGAGCAGCAATGGACTCCCGTATGGAAAGGGCAGAGTCTGTCT TTGCAGGCAGTATAAAGAGTAAACTCATTGCTGACTTAGTTTATGAGGACCAAACCTACAAGTTGTCAGG GGAAGGGTTTGGGAACCCCCAAGAGGGTCAGCATACGTTAGAGATGAGGTGTTTTGGTACGGAGGCATGC CCTCTTTCATGGTTTGTACTGGGTCCAGTGATACAGTACAGTTACAGAATGTTCACCCAGTATTCAGGTA ACGGAATGTACGACTTCTTCAAGACCTCCTTCCCTGGTGGTCTTAGTACAGAGTCAGTGTGTACCTTCAA TGATGGGGCTACTATCACTGGCAGTCATAATATCAGCTTTGTCAAGGACATCGTGGTCTGCAGATCTAAG CTGGAGTGCGCAGGGTTCAATGACGAGTCTCTGGCCCTGTCCCAGGAGCTGTCCCAAGTCAAGCCTTGTT ACGAGATAATAGATGGATCCGGAGTAGACGCTGTTTCCAGCTCTGTCAAACTCGAGTGGGACTTGTCAGA CGGGGATAAGTACAGTGCCCAGGTAGAGTCAGTGATCAGGAGTAAGACCAACTTTGCACCACAGAGACAC TTTATAGCTCATCACAGCAAGGTGATTGAAAAGTCGCAGAACAATCTGCACTTTTCCCAGCGTGATAAGT CCAGAGCAAACGTCATCAACTTCTACCTGCATAAAGAACAACACAAACGATAGGTCACGTTTAATGAGCA AGTTCTCGCAGTCTGTTTAGCACTCCGGGACTCTGTCTACCGTGGGAACTGAGAGGTGTCACGGGGAAGA TGTCTGTTTGTATTCGGTAGTTAATTTGAACTTGAAGGGAGTTTGTATGGAGTTGCTTGTTGAATGGGAT AAAGCTTTTGAAATGCTTGAGAAGCTTAGGAAGCGGAAGAGTTAAGAGGGGATTTTGAAAAAGGAATGCT\n",
    "TAAATTATTTTGTTTGACG\n",
    "```"
   ]
  },
  {
   "cell_type": "code",
   "execution_count": null,
   "id": "1695f35d-8fa7-4ea9-80af-ef9ad283dcfe",
   "metadata": {},
   "outputs": [],
   "source": []
  },
  {
   "cell_type": "markdown",
   "id": "12ec4a0a-c857-42b8-8eb0-03413009005b",
   "metadata": {},
   "source": [
    "- Find the overall length of the sequence?"
   ]
  },
  {
   "cell_type": "code",
   "execution_count": null,
   "id": "5d555462-a5c7-40f4-826c-ac5b2d10f12d",
   "metadata": {},
   "outputs": [],
   "source": []
  },
  {
   "cell_type": "markdown",
   "id": "5bc56fe5-525c-40ff-bb2c-faa48fd0ed8e",
   "metadata": {},
   "source": [
    "- Get the reverse of the sequence using **indexing with negative step** (sequence[Start : End : Step], see also [here](https://www.geeksforgeeks.org/slicing-with-negative-numbers-in-python/) for slicing)"
   ]
  },
  {
   "cell_type": "code",
   "execution_count": null,
   "id": "2a5445eb-8315-467f-ae37-5b2c55b9f38b",
   "metadata": {},
   "outputs": [],
   "source": []
  },
  {
   "cell_type": "markdown",
   "id": "fb4d05d9-b431-4214-a1cb-c9d557082009",
   "metadata": {},
   "source": [
    "- How many start codons (ATG) can be found in the three 5′→3′ reading frames?"
   ]
  },
  {
   "cell_type": "code",
   "execution_count": null,
   "id": "e332d8da-ea12-42c3-a387-59a7b0fdd01b",
   "metadata": {},
   "outputs": [],
   "source": []
  },
  {
   "cell_type": "markdown",
   "id": "7ca7816c-eedc-46f0-8fb4-499c95a3139d",
   "metadata": {},
   "source": [
    "- If the sequence starts with a start codon keep it, else find the first ATG (if first three letters == \"ATG\" else find it) and remove trailing sequence upstream. (**str.find?** for help)"
   ]
  },
  {
   "cell_type": "code",
   "execution_count": null,
   "id": "4ca3a8fe-818b-4f5c-b087-ecd4080a63d3",
   "metadata": {},
   "outputs": [],
   "source": []
  },
  {
   "cell_type": "markdown",
   "id": "c9f63027-01f8-4652-ad3e-45a19b6f5ab8",
   "metadata": {},
   "source": [
    "- Find the **first** in-frame stop codon (TAA, TAG, TGA) (**increment counter by 3 in a while loop**)"
   ]
  },
  {
   "cell_type": "code",
   "execution_count": null,
   "id": "6cdca248-c069-4226-8ad7-bdfdb86c4b5e",
   "metadata": {},
   "outputs": [],
   "source": []
  },
  {
   "cell_type": "markdown",
   "id": "87fcc75d-10c8-4175-9c3f-6dd8c5748cef",
   "metadata": {},
   "source": [
    "- Get the **coding sequence** from start codon to last (before last codon)"
   ]
  },
  {
   "cell_type": "code",
   "execution_count": null,
   "id": "ea54207d-27f5-4ce5-8758-09c42efbf6f6",
   "metadata": {},
   "outputs": [],
   "source": []
  },
  {
   "cell_type": "markdown",
   "id": "9d3969b5-7458-457f-98e9-1feeaa95a367",
   "metadata": {},
   "source": [
    "- Write a **function** that takes mRNA (cds, nucleotides) as input and returns the amino acid (aa) sequence using the standard genetic code (below).\n",
    "\n",
    "```python\n",
    "codon2aa = {\n",
    "        'ATA':'I', 'ATC':'I', 'ATT':'I', 'ATG':'M',\n",
    "        'ACA':'T', 'ACC':'T', 'ACG':'T', 'ACT':'T',\n",
    "        'AAC':'N', 'AAT':'N', 'AAA':'K', 'AAG':'K',\n",
    "        'AGC':'S', 'AGT':'S', 'AGA':'R', 'AGG':'R',                 \n",
    "        'CTA':'L', 'CTC':'L', 'CTG':'L', 'CTT':'L',\n",
    "        'CCA':'P', 'CCC':'P', 'CCG':'P', 'CCT':'P',\n",
    "        'CAC':'H', 'CAT':'H', 'CAA':'Q', 'CAG':'Q',\n",
    "        'CGA':'R', 'CGC':'R', 'CGG':'R', 'CGT':'R',\n",
    "        'GTA':'V', 'GTC':'V', 'GTG':'V', 'GTT':'V',\n",
    "        'GCA':'A', 'GCC':'A', 'GCG':'A', 'GCT':'A',\n",
    "        'GAC':'D', 'GAT':'D', 'GAA':'E', 'GAG':'E',\n",
    "        'GGA':'G', 'GGC':'G', 'GGG':'G', 'GGT':'G',\n",
    "        'TCA':'S', 'TCC':'S', 'TCG':'S', 'TCT':'S',\n",
    "        'TTC':'F', 'TTT':'F', 'TTA':'L', 'TTG':'L',\n",
    "        'TAC':'Y', 'TAT':'Y', 'TAA':'*', 'TAG':'*',\n",
    "        'TGC':'C', 'TGT':'C', 'TGA':'*', 'TGG':'W'\n",
    "    }\n",
    "```    "
   ]
  },
  {
   "cell_type": "markdown",
   "id": "d3cff801-e036-40d2-8793-1f11c9496008",
   "metadata": {},
   "source": [
    "## Codon frequencies"
   ]
  },
  {
   "cell_type": "markdown",
   "id": "b6aaf758-5c18-43e0-9604-0272a9dc58d9",
   "metadata": {},
   "source": [
    "- What is the GC content of the gene? Write a **function** that returns it and print \"Gene's GC content: X%\" using string formatting."
   ]
  },
  {
   "cell_type": "code",
   "execution_count": null,
   "id": "1cffd218-1d05-484c-bacc-1cfb7cdb242f",
   "metadata": {},
   "outputs": [],
   "source": []
  },
  {
   "cell_type": "markdown",
   "id": "b427eb45-d487-4268-a0da-0566964224d8",
   "metadata": {},
   "source": [
    "- Count the number of total different and unique codons in the sequence (list vs set). see **range** function (**range? for help**)."
   ]
  },
  {
   "cell_type": "code",
   "execution_count": null,
   "id": "cf252233-4da6-4e09-9d82-e5aa7b013817",
   "metadata": {},
   "outputs": [],
   "source": []
  },
  {
   "cell_type": "markdown",
   "id": "f5ecfb3e-8753-4a0b-b1b4-54b08fef4396",
   "metadata": {},
   "source": [
    "- Create a codon counter, dictionary with codons as keys, their count as value (check also dict.setdefault method)."
   ]
  },
  {
   "cell_type": "code",
   "execution_count": null,
   "id": "b9bc29da-7020-4672-a026-a5b3701b9395",
   "metadata": {},
   "outputs": [],
   "source": []
  },
  {
   "cell_type": "markdown",
   "id": "907cbc87-aab5-4df3-a027-3253adac612b",
   "metadata": {},
   "source": [
    "- Do the same using Python’s Counter (import from collections)."
   ]
  },
  {
   "cell_type": "code",
   "execution_count": null,
   "id": "8ba69a0b-b9dc-43a2-b105-cb4245cbaa7a",
   "metadata": {},
   "outputs": [],
   "source": []
  },
  {
   "attachments": {},
   "cell_type": "markdown",
   "id": "0e48d37b-aea4-49c9-8602-20787869924d",
   "metadata": {},
   "source": [
    "- Estimate the **frequencies** of **codons** and of **aa categories** below (A, B, C, D).\n",
    "    - Use list comprehension and Python’s Counter (import from collections).\n",
    "    - ```python\n",
    "      # cat2aa = {'A':['R','H','K', 'D', 'E']} etc.\n",
    "      ```\n",
    "\n",
    "![title](https://cdn.technologynetworks.com/tn/images/body/aminoacids-pic3revised1574260662291.png)"
   ]
  },
  {
   "cell_type": "code",
   "execution_count": null,
   "id": "2618c5db-00f5-46b9-88ec-f305b1ae4f62",
   "metadata": {},
   "outputs": [],
   "source": []
  },
  {
   "cell_type": "markdown",
   "id": "2b48ac11-7295-4084-99dc-f012cc48a1a5",
   "metadata": {},
   "source": [
    "- **Download** and **parse** the Genomic coding sequences (cds) for the Reference African savanna elephant (*Loxodonta africana*) genome from [NCBI](https://www.ncbi.nlm.nih.gov/datasets/genome/GCF_030014295.1/)\n",
    "    - We want the CDS (cds_from_genomic.fna.gz) from the [ftp site](https://ftp.ncbi.nlm.nih.gov/genomes/all/GCF/030/014/295/GCF_030014295.1_mLoxAfr1.hap2/).\n",
    "    - **Optional**: There are multiple transcripts/isoforms per gene. To avoid redundancy in the data we may keep only the longest transcript/isoform per gene.\n",
    "\n",
    "```bash\n",
    "wget -q \"https://ftp.ncbi.nlm.nih.gov/genomes/all/GCF/030/014/295/GCF_030014295.1_mLoxAfr1.hap2/GCF_030014295.1_mLoxAfr1.hap2_cds_from_genomic.fna.gz\"\n",
    "```"
   ]
  },
  {
   "cell_type": "code",
   "execution_count": null,
   "id": "30649527-15a0-4da4-8ba1-e87281d75fb2",
   "metadata": {},
   "outputs": [],
   "source": []
  },
  {
   "cell_type": "markdown",
   "id": "ae0bddca-e91a-4c5a-8b5d-cdb00069de94",
   "metadata": {},
   "source": [
    "- **Check** if all CDS start with a start codon (ATG)."
   ]
  },
  {
   "cell_type": "code",
   "execution_count": null,
   "id": "2c5c75e6-3a1a-4bd6-8da1-364ea434f2e9",
   "metadata": {},
   "outputs": [],
   "source": []
  },
  {
   "cell_type": "markdown",
   "id": "c18fac94-02fd-410f-95bd-b03540443d6c",
   "metadata": {},
   "source": [
    "- Estimate the overall codon frequencies of the elephant genome"
   ]
  },
  {
   "cell_type": "markdown",
   "id": "a7d535fc-5ea8-4704-af95-a0bb6e3a7190",
   "metadata": {},
   "source": [
    "## Plotting"
   ]
  },
  {
   "cell_type": "markdown",
   "id": "1144b673-badd-4963-aa5a-8f498912a9a0",
   "metadata": {},
   "source": [
    "- Plot "
   ]
  }
 ],
 "metadata": {
  "kernelspec": {
   "display_name": "Python 3 (ipykernel)",
   "language": "python",
   "name": "python3"
  },
  "language_info": {
   "codemirror_mode": {
    "name": "ipython",
    "version": 3
   },
   "file_extension": ".py",
   "mimetype": "text/x-python",
   "name": "python",
   "nbconvert_exporter": "python",
   "pygments_lexer": "ipython3",
   "version": "3.11.8"
  }
 },
 "nbformat": 4,
 "nbformat_minor": 5
}
