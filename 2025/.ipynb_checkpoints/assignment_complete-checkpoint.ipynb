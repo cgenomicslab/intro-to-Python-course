{
 "cells": [
  {
   "cell_type": "markdown",
   "id": "14d29534-499e-43d6-af15-fae54c17e64e",
   "metadata": {},
   "source": [
    "# Introduction to Python course (BIO102.1)\n",
    "* Postgraduate MSc Program in \"Bioinformatics\"\n",
    "* (https://bioinfo-grad.gr/en/)\n",
    "  \n",
    "### Contact\n",
    "- alexandros.pittis@gmail.com\n",
    "- alexandros.pittis@imbb.forth.gr"
   ]
  },
  {
   "cell_type": "code",
   "execution_count": null,
   "id": "a56d20d0-c6db-4b67-803c-4e7a8268bb09",
   "metadata": {},
   "outputs": [],
   "source": [
    "# The assignment plus the complete project should be submitted"
   ]
  },
  {
   "cell_type": "markdown",
   "id": "93386a94-6caa-451e-8668-461c984ba5d8",
   "metadata": {},
   "source": [
    "# Test if codon usage bias positively correlates with gene expression levels in mammals"
   ]
  },
  {
   "cell_type": "code",
   "execution_count": 1,
   "id": "727adce6-2a94-4af5-a976-37a5d8878ab4",
   "metadata": {},
   "outputs": [
    {
     "name": "stdout",
     "output_type": "stream",
     "text": [
      "./data_assignment directory created\n"
     ]
    }
   ],
   "source": [
    "# We create ./data/ directory if it does not exist (in the current path where this notebook is placed..)\n",
    "import os\n",
    "\n",
    "path = \"./data_assignment\"\n",
    "# Check if path exists\n",
    "if not os.path.exists(path):\n",
    "    # Create the directory\n",
    "    os.makedirs(path)\n",
    "    print(path, \"directory created\")\n",
    "else:\n",
    "    print(path, \"directory exists\")"
   ]
  },
  {
   "cell_type": "code",
   "execution_count": null,
   "id": "e92bdea6-c7d4-4d49-900e-f8868d4d6cc0",
   "metadata": {},
   "outputs": [],
   "source": []
  },
  {
   "cell_type": "code",
   "execution_count": null,
   "id": "9fa8ed76-4707-4955-8676-c9997144b541",
   "metadata": {},
   "outputs": [],
   "source": [
    "# A simpler way to parse a fasta using the dictionary's method setdefault\n",
    "'''\n",
    "The setdefault() method is a built-in method for Python dictionaries:\n",
    "\n",
    "If the key doesn't exist, it adds the key with a specified default value and returns that default value (initialization)\n",
    "'''\n",
    "def parse_fasta(fasta_file):\n",
    "    id2seq = {}\n",
    "    with open(\"data/KT964724.1.fasta\") as infile:\n",
    "        for line in infile:\n",
    "            line = line.strip()\n",
    "            if line.startswith(\">\"):\n",
    "                header = line[1:]\n",
    "                seqid = header.split()[0]\n",
    "                # We initialize the dictionary with each seqid as key and empty string as value\n",
    "                id2seq.setdefault(seqid, '')\n",
    "            else:\n",
    "                # For the same seqid (unchanged since last '>') we add/concatenate the next lines)\n",
    "                # When the seqid changes the lines will correspond to the new key\n",
    "                id2seq[seqid] += line\n",
    "                \n",
    "    return id2seq"
   ]
  }
 ],
 "metadata": {
  "kernelspec": {
   "display_name": "Python [conda env:python_course] *",
   "language": "python",
   "name": "conda-env-python_course-py"
  },
  "language_info": {
   "codemirror_mode": {
    "name": "ipython",
    "version": 3
   },
   "file_extension": ".py",
   "mimetype": "text/x-python",
   "name": "python",
   "nbconvert_exporter": "python",
   "pygments_lexer": "ipython3",
   "version": "3.11.8"
  }
 },
 "nbformat": 4,
 "nbformat_minor": 5
}
