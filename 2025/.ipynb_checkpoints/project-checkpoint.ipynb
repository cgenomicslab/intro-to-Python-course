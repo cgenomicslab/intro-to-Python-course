{
 "cells": [
  {
   "cell_type": "markdown",
   "id": "bc7341c2-df4c-49c3-9297-ce204556406c",
   "metadata": {},
   "source": [
    "# Introduction to Python course (BIO102.1)\n",
    "* Postgraduate MSc Program in \"Bioinformatics\"\n",
    "* (https://bioinfo-grad.gr/en/)\n",
    "  \n",
    "### Contact\n",
    "- alexandros.pittis@gmail.com\n",
    "- alexandros.pittis@imbb.forth.gr"
   ]
  },
  {
   "cell_type": "markdown",
   "id": "a76cd937-d0c8-4a47-812d-ef412183d07a",
   "metadata": {},
   "source": [
    "# Part B - Data analysis, packages, plotting"
   ]
  },
  {
   "cell_type": "markdown",
   "id": "d446d4a2-e853-4378-b09b-ece7599f684c",
   "metadata": {},
   "source": [
    "# Environment - Tools"
   ]
  },
  {
   "cell_type": "markdown",
   "id": "f60dedeb-b29c-4554-b31c-043b2b5e95b7",
   "metadata": {},
   "source": [
    "## Ubuntu installation in Windows\n",
    "- Check Windows Subsystem for Linux (<a href=\"https://ubuntu.com/desktop/wsl\">WSL</a>)\n",
    "\n",
    "**Optional**: Consider a symbolic link of a data folder in WSL ~/Documents/\n",
    "\n",
    "```bash\n",
    "ln -s /mnt/c/myrepo ~/Documents/my_dir\n",
    "```\n",
    "\n",
    "## Ways to run python code\n",
    "- Write code in python script and execute in **shell** (*python script_name.py*)\n",
    "- Execute in **(i)python** command shell (*ipython: %run script_name.py*)\n",
    "- **jupyter** notebook/lab\n",
    "- VS code integrated terminal etc.\n",
    "- .."
   ]
  },
  {
   "cell_type": "markdown",
   "id": "664d8b48-a2fc-4dc2-8838-e2ef3f646e80",
   "metadata": {},
   "source": [
    "! Check relative path"
   ]
  },
  {
   "cell_type": "markdown",
   "id": "43cfae59-2a84-4626-b1c7-a91e8f68f938",
   "metadata": {},
   "source": [
    "Do note that there are multiple ways to create a virtualenv, such as:\n",
    "\n",
    "- The venv module.\n",
    "- The virtualenv package.\n",
    "- Via package managers like conda.\n",
    "\n",
    "We will use conda (minimum installation of Anaconda Distribution)."
   ]
  },
  {
   "cell_type": "markdown",
   "id": "d12476d9-3a9b-472e-8535-a0d0b40dd692",
   "metadata": {},
   "source": [
    "## Installing Miniconda (https://docs.anaconda.com/miniconda/install/)\n",
    "**Linux instructions** Terminal or here..\n",
    "- create a new directory named “miniconda3” in your home directory.\n",
    "- download the Linux Miniconda installation script for your chosen chip architecture and save the script as -miniconda.sh in the miniconda3 directory.\n",
    "- run the miniconda.sh installation script in silent mode using bash.\n",
    "- remove the miniconda.sh installation script file after installation is complete.\n",
    "\n",
    "```bash\n",
    "mkdir -p ~/miniconda3\n",
    "wget https://repo.anaconda.com/miniconda/Miniconda3-latest-Linux-x86_64.sh -O ~/miniconda3/miniconda.sh\n",
    "bash ~/miniconda3/miniconda.sh -b -u -p ~/miniconda3\n",
    "rm ~/miniconda3/miniconda.sh\n",
    "```\n",
    "- after installing, close and reopen your terminal application or refresh it by running the following command\n",
    "\n",
    "```bash\n",
    "source ~/miniconda3/bin/activate\n",
    "```\n",
    "- Then, initialize conda on all available shells\n",
    "\n",
    "```bash\n",
    "conda init --all\n",
    "```\n"
   ]
  },
  {
   "cell_type": "markdown",
   "id": "35947890-fea4-4963-8018-89c2c9c3ceb7",
   "metadata": {
    "jp-MarkdownHeadingCollapsed": true
   },
   "source": [
    "## Create conda environment - install jupyter\n",
    "\n",
    "- we create the environment \"python_intro\", activate it, and install packages, and kernel\n",
    "\n",
    "```bash\n",
    "# conda create -n python_course python=3.11 notebook\n",
    "conda create --name python_intro --channel=conda-forge python=3.11 jupyterlab nb_conda_kernels\n",
    "conda activate python_intro\n",
    "conda install -c bioconda hmmer #mafft fasttree datamash mmseqs2 astral-tree biopython\n",
    "# pip install ipykernel\n",
    "python -m ipykernel install --user --name python_intro --display-name \"Python Intro\"\n",
    "```\n"
   ]
  },
  {
   "cell_type": "markdown",
   "id": "2f54fb96-d245-40a0-ad26-294cee7d2ea4",
   "metadata": {},
   "source": [
    "* Download the notebook (project.ipynb), rename or copy (project_myname.ipynb) and run:"
   ]
  },
  {
   "cell_type": "markdown",
   "id": "a23997d6-6ab1-4662-b4c5-a534edea841c",
   "metadata": {},
   "source": [
    "```bash\n",
    "jupyter-lab project_myname.ipynb\n",
    "```"
   ]
  },
  {
   "cell_type": "markdown",
   "id": "f3457bd2-5ca6-4763-a112-496478423706",
   "metadata": {},
   "source": [
    "- **Use one cell per code line/block, and look for function or method help (help(str.split) or str.split?).**"
   ]
  },
  {
   "cell_type": "markdown",
   "id": "a3c4662f-7cef-4cd7-9885-1dbf153bc6e8",
   "metadata": {},
   "source": [
    "# Project - <a href=\"https://en.wikipedia.org/wiki/Codon_usage_bias\">Codon usage bias</a>"
   ]
  },
  {
   "cell_type": "markdown",
   "id": "3abce248-15d4-4920-97c0-39eda7715cbe",
   "metadata": {},
   "source": [
    "There are 64 different codons (61 codons encoding for amino acids and 3 stop codons) but only 20 different translated amino acids. Most amino acids are coded by various codons, i.e, a few codons are synonyms and this aspect is known as the degeneracy of genetic code. It is thought that \"optimal\" codons -codons for which more tRNA genes exist- help to achieve faster translation rates, therefore \"optimized\" and highly expressed genes are expected to preferentially contain \"optimal\" codons.\n",
    "\n",
    "![genetic code](https://microbenotes.com/wp-content/uploads/2018/08/Characteristic-of-Genetic-Code.jpg)"
   ]
  },
  {
   "cell_type": "markdown",
   "id": "e8daff87-2e6e-462f-9e92-d462f809b0f7",
   "metadata": {},
   "source": [
    "## Translation (mRNA 2 protein sequence)\n",
    "- We will use NCBI Genomes <a href=\"https://www.ncbi.nlm.nih.gov/datasets/genome/\">data</a>.\n",
    "- You may also access it programmatically via <a href=\"https://www.ncbi.nlm.nih.gov/datasets/docs/v2/command-line-tools/download-and-install/\">command-line tools</a> or <a href=\"https://biopython.org/docs/1.76/api/Bio.Entrez.html\">Biopython</a>.\n",
    "\n",
    "- Files can also be found in https://github.com/cgenomicslab/intro-to-Python-course/tree/main/2025/data"
   ]
  },
  {
   "cell_type": "markdown",
   "id": "6402f09b-0282-4f8a-b7f5-0711c8b7e41d",
   "metadata": {},
   "source": [
    "* **Download** and **parse** (store in a dictionary) <a href=\"https://www.ncbi.nlm.nih.gov/nuccore/KT964724.1?report=fasta\" target=\"_blank\">KT964724.1</a> sequence entry from NCBI\n",
    "    * ```bash\n",
    "      wget -q -O data/KT964724.1.fasta \"https://eutils.ncbi.nlm.nih.gov/entrez/eutils/efetch.fcgi?db=nuccore&id=KT964724.1&rettype=fasta\"\n",
    "      ```\n",
    "    * Take into account that the sequence is split over 80 character lines\n",
    "    * Keep only the sequence ID (KT964724.1) from the header (using the python string split() method)"
   ]
  },
  {
   "cell_type": "code",
   "execution_count": 1,
   "id": "ad223338-a058-440c-a2ce-db4890c276f7",
   "metadata": {},
   "outputs": [
    {
     "name": "stdout",
     "output_type": "stream",
     "text": [
      "./data directory exists\n"
     ]
    }
   ],
   "source": [
    "# We create ./data/ directory if it does not exist (in the current path where this notebook is placed..)\n",
    "import os\n",
    "\n",
    "path = \"./data\"\n",
    "# Check if path exists\n",
    "if not os.path.exists(path):\n",
    "    # Create the directory\n",
    "    os.makedirs(path)\n",
    "    print(path, \"directory created\")\n",
    "else:\n",
    "    print(path, \"directory exists\")"
   ]
  },
  {
   "cell_type": "code",
   "execution_count": 2,
   "id": "df21e079-3029-454b-ab87-dc1a3a49089a",
   "metadata": {},
   "outputs": [
    {
     "name": "stdout",
     "output_type": "stream",
     "text": [
      "File already exists. Skipping download.\n"
     ]
    }
   ],
   "source": [
    "# Check if file exists\n",
    "fasta_path = './data/KT964724.1.fasta'\n",
    "if not os.path.exists(fasta_path):\n",
    "    print(\"File does not exist. Downloading fasta file.\")\n",
    "    os.system('wget -q -O ./data/KT964724.1.fasta \"https://eutils.ncbi.nlm.nih.gov/entrez/eutils/efetch.fcgi?db=nuccore&id=KT964724.1&rettype=fasta\"')\n",
    "else:\n",
    "    print(\"File already exists. Skipping download.\")\n",
    "    \n",
    "#!wget -q -O ./data/KT964724.1.fasta \"https://eutils.ncbi.nlm.nih.gov/entrez/eutils/efetch.fcgi?db=nuccore&id=KT964724.1&rettype=fasta\""
   ]
  },
  {
   "cell_type": "code",
   "execution_count": 3,
   "id": "250e2500-adb5-4bd5-8844-931bb43fd990",
   "metadata": {},
   "outputs": [],
   "source": [
    "# A simpler way to parse a fasta using the dictionary's method setdefault\n",
    "'''\n",
    "The setdefault() method is a built-in method for Python dictionaries:\n",
    "\n",
    "If the key doesn't exist, it adds the key with a specified default value and returns that default value (initialization)\n",
    "'''\n",
    "def parse_fasta(fasta_file):\n",
    "    id2seq = {}\n",
    "    with open(fasta_file) as infile:\n",
    "        for line in infile:\n",
    "            line = line.strip()\n",
    "            if line.startswith(\">\"):\n",
    "                header = line[1:]\n",
    "                seqid = header.split()[0]\n",
    "                # We initialize the dictionary with each seqid as key and empty string as value\n",
    "                id2seq.setdefault(seqid, '')\n",
    "            else:\n",
    "                # For the same seqid (unchanged since last '>') we add/concatenate the next lines)\n",
    "                # When the seqid changes the lines will correspond to the new key\n",
    "                id2seq[seqid] += line\n",
    "                \n",
    "    return id2seq"
   ]
  },
  {
   "cell_type": "code",
   "execution_count": 4,
   "id": "1ab9826e-4ff5-4b0f-bb61-f87fb29d6f90",
   "metadata": {},
   "outputs": [],
   "source": [
    "id2seq = parse_fasta('data/KT964724.1.fasta')"
   ]
  },
  {
   "cell_type": "markdown",
   "id": "12ec4a0a-c857-42b8-8eb0-03413009005b",
   "metadata": {},
   "source": [
    "- Find the overall length of the sequence?"
   ]
  },
  {
   "cell_type": "code",
   "execution_count": 5,
   "id": "5d555462-a5c7-40f4-826c-ac5b2d10f12d",
   "metadata": {},
   "outputs": [
    {
     "name": "stdout",
     "output_type": "stream",
     "text": [
      "length of the sequence: 999\n"
     ]
    }
   ],
   "source": [
    "seq = id2seq['KT964724.1']\n",
    "print(\"length of the sequence:\", len(seq))"
   ]
  },
  {
   "cell_type": "markdown",
   "id": "5bc56fe5-525c-40ff-bb2c-faa48fd0ed8e",
   "metadata": {},
   "source": [
    "- Get the reverse of the sequence using **indexing with negative step** (sequence[Start : End : Step], see also [here](https://www.geeksforgeeks.org/slicing-with-negative-numbers-in-python/) for slicing)"
   ]
  },
  {
   "cell_type": "code",
   "execution_count": 6,
   "id": "2a5445eb-8315-467f-ae37-5b2c55b9f38b",
   "metadata": {},
   "outputs": [
    {
     "name": "stdout",
     "output_type": "stream",
     "text": [
      "[0, 1, 2, 3, 4, 5, 6, 7, 8, 9]\n",
      "[9, 8, 7, 6, 5, 4, 3, 2, 1, 0]\n",
      "[0, 3, 6, 9]\n"
     ]
    }
   ],
   "source": [
    "print( [n for n in range(10)] )\n",
    "\n",
    "print( [n for n in range(10)][::-1] )\n",
    "\n",
    "print( [n for n in range(10)][::3] )"
   ]
  },
  {
   "cell_type": "code",
   "execution_count": 7,
   "id": "48d77d53-3c48-40ac-a55a-49cff13c4086",
   "metadata": {},
   "outputs": [
    {
     "data": {
      "text/plain": [
       "'GCAGTTTGTTTTATTAAATTCGTAAGGAAAAAGTTTTAGGGGAGAATTGAGAAGGCGAAGGATTCGAAGAGTTCGTAAAGTTTTCGAAATAGGGTAAGTTGTTCGTTGAGGTATGTTTGAGGGAAGTTCAAGTTTAATTGATGGCTTATGTTTGTCTGTAGAAGGGGCACTGTGGAGAGTCAAGGGTGCCATCTGTCTCAGGGCCTCACGATTTGTCTGACGCTCTTGAACGAGTAATTTGCACTGGATAGCAAACACAACAAGAAATACGTCCATCTTCAACTACTGCAAACGAGACCTGAATAGTGCGACCCTTTTCACGTCTAACAAGACGCTGAAAAGTTAGTGGAACGACACTACTCGATATTTCACAGAGACACCACGTTTCAACCAGAATGAGGACTAGTGACTGAGATGGACCCGTGACATGAATAGGGGCAGACTGTTCAGGGTGAGCTCAAACTGTCTCGACCTTTGTCGCAGATGAGGCCTAGGTAGATAATAGAGCATTGTTCCGAACTGAACCCTGTCGAGGACCCTGTCCCGGTCTCTGAGCAGTAACTTGGGACGCGTGAGGTCGAATCTAGACGTCTGGTGCTACAGGAACTGTTTCGACTATAATACTGACGGTCACTATCATCGGGGTAGTAACTTCCATGTGTGACTGAGACATGATTCTGGTGGTCCCTTCCTCCAGAACTTCTTCAGCATGTAAGGCAATGGACTTATGACCCACTTGTAAGACATTGACATGACATAGTGACCTGGGTCATGTTTGGTACTTTCTCCCGTACGGAGGCATGGTTTTGTGGAGTAGAGATTGCATACGACTGGGAGAACCCCCAAGGGTTTGGGAAGGGGACTGTTGAACATCCAAACCAGGAGTATTTGATTCAGTCGTTACTCAAATGAGAAATATGACGGACGTTTCTGTCTGAGACGGGAAAGGTATGCCCTCAGGTAACGACGAGTGATCCGTGAGTTAATTTTATATCATTA'"
      ]
     },
     "execution_count": 7,
     "metadata": {},
     "output_type": "execute_result"
    }
   ],
   "source": [
    "seq[::-1]"
   ]
  },
  {
   "cell_type": "markdown",
   "id": "fb4d05d9-b431-4214-a1cb-c9d557082009",
   "metadata": {},
   "source": [
    "- How many start codons (ATG) can be found in the three 5′→3′ reading frames? (**str.count?** for help)"
   ]
  },
  {
   "cell_type": "code",
   "execution_count": 8,
   "id": "e332d8da-ea12-42c3-a387-59a7b0fdd01b",
   "metadata": {},
   "outputs": [
    {
     "data": {
      "text/plain": [
       "18"
      ]
     },
     "execution_count": 8,
     "metadata": {},
     "output_type": "execute_result"
    }
   ],
   "source": [
    "seq.count('ATG')"
   ]
  },
  {
   "cell_type": "markdown",
   "id": "7ca7816c-eedc-46f0-8fb4-499c95a3139d",
   "metadata": {},
   "source": [
    "- If the sequence starts with a start codon keep it, else find the first ATG (if first three letters == \"ATG\" else find it) and remove trailing sequence upstream. (**str.find?** for help)"
   ]
  },
  {
   "cell_type": "code",
   "execution_count": 9,
   "id": "4ca3a8fe-818b-4f5c-b087-ecd4080a63d3",
   "metadata": {},
   "outputs": [
    {
     "name": "stdout",
     "output_type": "stream",
     "text": [
      "36\n"
     ]
    }
   ],
   "source": [
    "seq = id2seq['KT964724.1']\n",
    "\n",
    "if seq[0:3] == 'ATG':\n",
    "    seq = seq[0:]\n",
    "else:\n",
    "    # find returns the index of first 'ATG' occurence\n",
    "    start_pos = seq.find('ATG')\n",
    "    print(start_pos)\n",
    "    seq = seq[start_pos:]"
   ]
  },
  {
   "cell_type": "code",
   "execution_count": 10,
   "id": "f2598b90-f27f-47a2-92f3-fef7a4ee6c23",
   "metadata": {},
   "outputs": [
    {
     "data": {
      "text/plain": [
       "'ATGGACTCCCGTATGGAAAGGGCAGAGTCTGTCTTTGCAGGCAGTATAAAGAGTAAACTCATTGCTGACTTAGTTTATGAGGACCAAACCTACAAGTTGTCAGGGGAAGGGTTTGGGAACCCCCAAGAGGGTCAGCATACGTTAGAGATGAGGTGTTTTGGTACGGAGGCATGCCCTCTTTCATGGTTTGTACTGGGTCCAGTGATACAGTACAGTTACAGAATGTTCACCCAGTATTCAGGTAACGGAATGTACGACTTCTTCAAGACCTCCTTCCCTGGTGGTCTTAGTACAGAGTCAGTGTGTACCTTCAATGATGGGGCTACTATCACTGGCAGTCATAATATCAGCTTTGTCAAGGACATCGTGGTCTGCAGATCTAAGCTGGAGTGCGCAGGGTTCAATGACGAGTCTCTGGCCCTGTCCCAGGAGCTGTCCCAAGTCAAGCCTTGTTACGAGATAATAGATGGATCCGGAGTAGACGCTGTTTCCAGCTCTGTCAAACTCGAGTGGGACTTGTCAGACGGGGATAAGTACAGTGCCCAGGTAGAGTCAGTGATCAGGAGTAAGACCAACTTTGCACCACAGAGACACTTTATAGCTCATCACAGCAAGGTGATTGAAAAGTCGCAGAACAATCTGCACTTTTCCCAGCGTGATAAGTCCAGAGCAAACGTCATCAACTTCTACCTGCATAAAGAACAACACAAACGATAGGTCACGTTTAATGAGCAAGTTCTCGCAGTCTGTTTAGCACTCCGGGACTCTGTCTACCGTGGGAACTGAGAGGTGTCACGGGGAAGATGTCTGTTTGTATTCGGTAGTTAATTTGAACTTGAAGGGAGTTTGTATGGAGTTGCTTGTTGAATGGGATAAAGCTTTTGAAATGCTTGAGAAGCTTAGGAAGCGGAAGAGTTAAGAGGGGATTTTGAAAAAGGAATGCTTAAATTATTTTGTTTGACG'"
      ]
     },
     "execution_count": 10,
     "metadata": {},
     "output_type": "execute_result"
    }
   ],
   "source": [
    "seq"
   ]
  },
  {
   "cell_type": "markdown",
   "id": "c9f63027-01f8-4652-ad3e-45a19b6f5ab8",
   "metadata": {},
   "source": [
    "- Find the **first** in-frame stop codon (TAA, TAG, TGA) (**increment counter by 3 in a while loop**)"
   ]
  },
  {
   "cell_type": "code",
   "execution_count": 11,
   "id": "44041cf4-f691-4b36-9b39-ab106f81630a",
   "metadata": {},
   "outputs": [
    {
     "data": {
      "text/plain": [
       "\u001b[0;31mInit signature:\u001b[0m \u001b[0mrange\u001b[0m\u001b[0;34m(\u001b[0m\u001b[0mself\u001b[0m\u001b[0;34m,\u001b[0m \u001b[0;34m/\u001b[0m\u001b[0;34m,\u001b[0m \u001b[0;34m*\u001b[0m\u001b[0margs\u001b[0m\u001b[0;34m,\u001b[0m \u001b[0;34m**\u001b[0m\u001b[0mkwargs\u001b[0m\u001b[0;34m)\u001b[0m\u001b[0;34m\u001b[0m\u001b[0;34m\u001b[0m\u001b[0m\n",
       "\u001b[0;31mDocstring:\u001b[0m     \n",
       "range(stop) -> range object\n",
       "range(start, stop[, step]) -> range object\n",
       "\n",
       "Return an object that produces a sequence of integers from start (inclusive)\n",
       "to stop (exclusive) by step.  range(i, j) produces i, i+1, i+2, ..., j-1.\n",
       "start defaults to 0, and stop is omitted!  range(4) produces 0, 1, 2, 3.\n",
       "These are exactly the valid indices for a list of 4 elements.\n",
       "When step is given, it specifies the increment (or decrement).\n",
       "\u001b[0;31mType:\u001b[0m           type\n",
       "\u001b[0;31mSubclasses:\u001b[0m     "
      ]
     },
     "metadata": {},
     "output_type": "display_data"
    }
   ],
   "source": [
    "range?"
   ]
  },
  {
   "cell_type": "code",
   "execution_count": 12,
   "id": "2afb9dcd-c7f5-4405-9ece-5c1d0d15d597",
   "metadata": {},
   "outputs": [
    {
     "data": {
      "text/plain": [
       "'ATGGACTCCCGTATGGAAAGGGCAGAGTCTGTCTTTGCAGGCAGTATAAAGAGTAAACTCATTGCTGACTTAGTTTATGAGGACCAAACCTACAAGTTGTCAGGGGAAGGGTTTGGGAACCCCCAAGAGGGTCAGCATACGTTAGAGATGAGGTGTTTTGGTACGGAGGCATGCCCTCTTTCATGGTTTGTACTGGGTCCAGTGATACAGTACAGTTACAGAATGTTCACCCAGTATTCAGGTAACGGAATGTACGACTTCTTCAAGACCTCCTTCCCTGGTGGTCTTAGTACAGAGTCAGTGTGTACCTTCAATGATGGGGCTACTATCACTGGCAGTCATAATATCAGCTTTGTCAAGGACATCGTGGTCTGCAGATCTAAGCTGGAGTGCGCAGGGTTCAATGACGAGTCTCTGGCCCTGTCCCAGGAGCTGTCCCAAGTCAAGCCTTGTTACGAGATAATAGATGGATCCGGAGTAGACGCTGTTTCCAGCTCTGTCAAACTCGAGTGGGACTTGTCAGACGGGGATAAGTACAGTGCCCAGGTAGAGTCAGTGATCAGGAGTAAGACCAACTTTGCACCACAGAGACACTTTATAGCTCATCACAGCAAGGTGATTGAAAAGTCGCAGAACAATCTGCACTTTTCCCAGCGTGATAAGTCCAGAGCAAACGTCATCAACTTCTACCTGCATAAAGAACAACACAAACGATAGGTCACGTTTAATGAGCAAGTTCTCGCAGTCTGTTTAGCACTCCGGGACTCTGTCTACCGTGGGAACTGAGAGGTGTCACGGGGAAGATGTCTGTTTGTATTCGGTAGTTAATTTGAACTTGAAGGGAGTTTGTATGGAGTTGCTTGTTGAATGGGATAAAGCTTTTGAAATGCTTGAGAAGCTTAGGAAGCGGAAGAGTTAAGAGGGGATTTTGAAAAAGGAATGCTTAAATTATTTTGTTTGACG'"
      ]
     },
     "execution_count": 12,
     "metadata": {},
     "output_type": "execute_result"
    }
   ],
   "source": [
    "seq"
   ]
  },
  {
   "cell_type": "code",
   "execution_count": 13,
   "id": "6cdca248-c069-4226-8ad7-bdfdb86c4b5e",
   "metadata": {
    "scrolled": true
   },
   "outputs": [
    {
     "name": "stdout",
     "output_type": "stream",
     "text": [
      "TAG\n"
     ]
    }
   ],
   "source": [
    "# Break is used to break out a for loop, or a while loop.\n",
    "# If the break statement is inside a nested loop, the break will terminate the innermost loop.\n",
    "\n",
    "n = 0\n",
    "while n <= len(seq) - 3:\n",
    "    codon = seq[n:n+3]\n",
    "    if codon in ['TAG','TAA','TGA']:\n",
    "        stop_pos = n\n",
    "        break\n",
    "    n += 3\n",
    "    \n",
    "end_codon = seq[stop_pos:stop_pos+3]\n",
    "print(end_codon)"
   ]
  },
  {
   "cell_type": "markdown",
   "id": "87fcc75d-10c8-4175-9c3f-6dd8c5748cef",
   "metadata": {},
   "source": [
    "- Get the **coding sequence** from start codon to last (before last codon)"
   ]
  },
  {
   "cell_type": "code",
   "execution_count": 14,
   "id": "ea54207d-27f5-4ce5-8758-09c42efbf6f6",
   "metadata": {},
   "outputs": [
    {
     "name": "stdout",
     "output_type": "stream",
     "text": [
      "ATGGACTCCCGTATGGAAAGGGCAGAGTCTGTCTTTGCAGGCAGTATAAAGAGTAAACTCATTGCTGACTTAGTTTATGAGGACCAAACCTACAAGTTGTCAGGGGAAGGGTTTGGGAACCCCCAAGAGGGTCAGCATACGTTAGAGATGAGGTGTTTTGGTACGGAGGCATGCCCTCTTTCATGGTTTGTACTGGGTCCAGTGATACAGTACAGTTACAGAATGTTCACCCAGTATTCAGGTAACGGAATGTACGACTTCTTCAAGACCTCCTTCCCTGGTGGTCTTAGTACAGAGTCAGTGTGTACCTTCAATGATGGGGCTACTATCACTGGCAGTCATAATATCAGCTTTGTCAAGGACATCGTGGTCTGCAGATCTAAGCTGGAGTGCGCAGGGTTCAATGACGAGTCTCTGGCCCTGTCCCAGGAGCTGTCCCAAGTCAAGCCTTGTTACGAGATAATAGATGGATCCGGAGTAGACGCTGTTTCCAGCTCTGTCAAACTCGAGTGGGACTTGTCAGACGGGGATAAGTACAGTGCCCAGGTAGAGTCAGTGATCAGGAGTAAGACCAACTTTGCACCACAGAGACACTTTATAGCTCATCACAGCAAGGTGATTGAAAAGTCGCAGAACAATCTGCACTTTTCCCAGCGTGATAAGTCCAGAGCAAACGTCATCAACTTCTACCTGCATAAAGAACAACACAAACGA\n"
     ]
    }
   ],
   "source": [
    "seq = seq[:stop_pos]\n",
    "print(seq)"
   ]
  },
  {
   "cell_type": "markdown",
   "id": "9d3969b5-7458-457f-98e9-1feeaa95a367",
   "metadata": {},
   "source": [
    "- Write a **function** that takes mRNA (cds, nucleotides) as input and returns the amino acid (aa) sequence using the standard genetic code (below).\n",
    "\n",
    "```python\n",
    "codon2aa = {\n",
    "        'ATA':'I', 'ATC':'I', 'ATT':'I', 'ATG':'M',\n",
    "        'ACA':'T', 'ACC':'T', 'ACG':'T', 'ACT':'T',\n",
    "        'AAC':'N', 'AAT':'N', 'AAA':'K', 'AAG':'K',\n",
    "        'AGC':'S', 'AGT':'S', 'AGA':'R', 'AGG':'R',                 \n",
    "        'CTA':'L', 'CTC':'L', 'CTG':'L', 'CTT':'L',\n",
    "        'CCA':'P', 'CCC':'P', 'CCG':'P', 'CCT':'P',\n",
    "        'CAC':'H', 'CAT':'H', 'CAA':'Q', 'CAG':'Q',\n",
    "        'CGA':'R', 'CGC':'R', 'CGG':'R', 'CGT':'R',\n",
    "        'GTA':'V', 'GTC':'V', 'GTG':'V', 'GTT':'V',\n",
    "        'GCA':'A', 'GCC':'A', 'GCG':'A', 'GCT':'A',\n",
    "        'GAC':'D', 'GAT':'D', 'GAA':'E', 'GAG':'E',\n",
    "        'GGA':'G', 'GGC':'G', 'GGG':'G', 'GGT':'G',\n",
    "        'TCA':'S', 'TCC':'S', 'TCG':'S', 'TCT':'S',\n",
    "        'TTC':'F', 'TTT':'F', 'TTA':'L', 'TTG':'L',\n",
    "        'TAC':'Y', 'TAT':'Y', 'TAA':'*', 'TAG':'*',\n",
    "        'TGC':'C', 'TGT':'C', 'TGA':'*', 'TGG':'W'\n",
    "    }\n",
    "```    "
   ]
  },
  {
   "cell_type": "code",
   "execution_count": 15,
   "id": "71448636-2185-42e8-8b18-b4b1d3a8ece7",
   "metadata": {},
   "outputs": [],
   "source": [
    "codon2aa = {\n",
    "        'ATA':'I', 'ATC':'I', 'ATT':'I', 'ATG':'M',\n",
    "        'ACA':'T', 'ACC':'T', 'ACG':'T', 'ACT':'T',\n",
    "        'AAC':'N', 'AAT':'N', 'AAA':'K', 'AAG':'K',\n",
    "        'AGC':'S', 'AGT':'S', 'AGA':'R', 'AGG':'R',                 \n",
    "        'CTA':'L', 'CTC':'L', 'CTG':'L', 'CTT':'L',\n",
    "        'CCA':'P', 'CCC':'P', 'CCG':'P', 'CCT':'P',\n",
    "        'CAC':'H', 'CAT':'H', 'CAA':'Q', 'CAG':'Q',\n",
    "        'CGA':'R', 'CGC':'R', 'CGG':'R', 'CGT':'R',\n",
    "        'GTA':'V', 'GTC':'V', 'GTG':'V', 'GTT':'V',\n",
    "        'GCA':'A', 'GCC':'A', 'GCG':'A', 'GCT':'A',\n",
    "        'GAC':'D', 'GAT':'D', 'GAA':'E', 'GAG':'E',\n",
    "        'GGA':'G', 'GGC':'G', 'GGG':'G', 'GGT':'G',\n",
    "        'TCA':'S', 'TCC':'S', 'TCG':'S', 'TCT':'S',\n",
    "        'TTC':'F', 'TTT':'F', 'TTA':'L', 'TTG':'L',\n",
    "        'TAC':'Y', 'TAT':'Y', 'TAA':'*', 'TAG':'*',\n",
    "        'TGC':'C', 'TGT':'C', 'TGA':'*', 'TGG':'W'\n",
    "    }"
   ]
  },
  {
   "cell_type": "code",
   "execution_count": 16,
   "id": "3449584d-c4db-4a7a-897c-36717421e1c8",
   "metadata": {
    "scrolled": true
   },
   "outputs": [
    {
     "data": {
      "text/plain": [
       "'MDSRMERAESVFAGSIKSKLIADLVYEDQTYKLSGEGFGNPQEGQHTLEMRCFGTEACPLSWFVLGPVIQYSYRMFTQYSGNGMYDFFKTSFPGGLSTESVCTFNDGATITGSHNISFVKDIVVCRSKLECAGFNDESLALSQELSQVKPCYEIIDGSGVDAVSSSVKLEWDLSDGDKYSAQVESVIRSKTNFAPQRHFIAHHSKVIEKSQNNLHFSQRDKSRANVINFYLHKEQHKR'"
      ]
     },
     "execution_count": 16,
     "metadata": {},
     "output_type": "execute_result"
    }
   ],
   "source": [
    "def translate_dna_find_start(sequence):\n",
    "    start_pos = sequence.find('ATG')\n",
    "    sequence = sequence[start_pos:]\n",
    "    codons = []\n",
    "    for n in range(0,len(sequence), 3):\n",
    "        codon = sequence[n:n+3]\n",
    "        if codon not in ['TAA', 'TGA', 'TAG']:\n",
    "            codons.append(codon)\n",
    "        else:\n",
    "            break\n",
    "            \n",
    "    aa = \"\".join([codon2aa[codon] for codon in codons])\n",
    "    return aa\n",
    "\n",
    "translate_dna_find_start(id2seq['KT964724.1'])"
   ]
  },
  {
   "cell_type": "markdown",
   "id": "d3cff801-e036-40d2-8793-1f11c9496008",
   "metadata": {},
   "source": [
    "## Codon frequencies"
   ]
  },
  {
   "cell_type": "markdown",
   "id": "b6aaf758-5c18-43e0-9604-0272a9dc58d9",
   "metadata": {},
   "source": [
    "- What is the GC content of the gene? Write a **function** that returns it and print \"Gene's GC content: X%\" using string formatting (2 decimals)."
   ]
  },
  {
   "cell_type": "code",
   "execution_count": 17,
   "id": "1cffd218-1d05-484c-bacc-1cfb7cdb242f",
   "metadata": {},
   "outputs": [
    {
     "name": "stdout",
     "output_type": "stream",
     "text": [
      "47.61904761904762\n",
      "Gene's GC content: 47.62 %\n",
      "Gene's GC content: 47.62 %\n"
     ]
    }
   ],
   "source": [
    "gc = 100 * (seq.count('G') + seq.count('C')) / len(seq)\n",
    "\n",
    "print(gc)\n",
    "\n",
    "print(\"Gene's GC content: {0:.2f} %\".format( gc ))\n",
    "\n",
    "# OR\n",
    "\n",
    "print(\"Gene's GC content: %.2f %%\" % gc)"
   ]
  },
  {
   "cell_type": "markdown",
   "id": "b427eb45-d487-4268-a0da-0566964224d8",
   "metadata": {},
   "source": [
    "- Count the number of total and unique codons in the sequence (list vs set). see **range** function (**range? for help**)."
   ]
  },
  {
   "cell_type": "code",
   "execution_count": 18,
   "id": "cf252233-4da6-4e09-9d82-e5aa7b013817",
   "metadata": {
    "scrolled": true
   },
   "outputs": [
    {
     "name": "stdout",
     "output_type": "stream",
     "text": [
      "Total nucleotide length: 714\n",
      "Codons total: 238\n",
      "Codons unique: 56\n"
     ]
    }
   ],
   "source": [
    "# It assumes that seq is a coding sequence only (no stop codons)\n",
    "\n",
    "#range(seq)\n",
    "codons = [seq[n:n+3] for n in range(len(seq))[::3]]\n",
    "#ucodons = set(codons)\n",
    "print(\"Total nucleotide length:\", len(seq))\n",
    "print(\"Codons total:\", len(codons))\n",
    "print(\"Codons unique:\", len(set(codons)))"
   ]
  },
  {
   "cell_type": "markdown",
   "id": "f5ecfb3e-8753-4a0b-b1b4-54b08fef4396",
   "metadata": {},
   "source": [
    "- Create a codon counter, dictionary with codons as keys, their count as value (check also dict.setdefault method)."
   ]
  },
  {
   "cell_type": "code",
   "execution_count": 19,
   "id": "011358bf-d815-4729-971b-070abe39f3fc",
   "metadata": {},
   "outputs": [
    {
     "data": {
      "text/plain": [
       "{'ATG': 5,\n",
       " 'GAC': 9,\n",
       " 'TCC': 8,\n",
       " 'CGT': 2,\n",
       " 'GAA': 4,\n",
       " 'AGG': 3,\n",
       " 'GCA': 6,\n",
       " 'GAG': 12,\n",
       " 'TCT': 4,\n",
       " 'GTC': 6,\n",
       " 'TTT': 8,\n",
       " 'GGC': 2,\n",
       " 'AGT': 7,\n",
       " 'ATA': 5,\n",
       " 'AAG': 11,\n",
       " 'AAA': 4,\n",
       " 'CTC': 2,\n",
       " 'ATT': 2,\n",
       " 'GCT': 4,\n",
       " 'TTA': 2,\n",
       " 'GTT': 2,\n",
       " 'TAT': 2,\n",
       " 'CAA': 4,\n",
       " 'ACC': 5,\n",
       " 'TAC': 7,\n",
       " 'TTG': 2,\n",
       " 'TCA': 6,\n",
       " 'GGG': 6,\n",
       " 'AAC': 6,\n",
       " 'CCC': 1,\n",
       " 'GGT': 6,\n",
       " 'CAG': 8,\n",
       " 'CAT': 4,\n",
       " 'ACG': 2,\n",
       " 'TGT': 3,\n",
       " 'TGC': 3,\n",
       " 'CCT': 3,\n",
       " 'CTT': 2,\n",
       " 'TGG': 2,\n",
       " 'GTA': 3,\n",
       " 'CTG': 7,\n",
       " 'CCA': 2,\n",
       " 'GTG': 5,\n",
       " 'AGA': 4,\n",
       " 'TTC': 7,\n",
       " 'GGA': 3,\n",
       " 'ACA': 1,\n",
       " 'AAT': 4,\n",
       " 'GAT': 4,\n",
       " 'ACT': 2,\n",
       " 'ATC': 5,\n",
       " 'AGC': 3,\n",
       " 'GCC': 2,\n",
       " 'CAC': 4,\n",
       " 'TCG': 1,\n",
       " 'CGA': 1}"
      ]
     },
     "execution_count": 19,
     "metadata": {},
     "output_type": "execute_result"
    }
   ],
   "source": [
    "codon2count = {}\n",
    "for codon in codons:\n",
    "    codon2count.setdefault(codon, 0)\n",
    "    codon2count[codon] += 1\n",
    "\n",
    "codon2count"
   ]
  },
  {
   "cell_type": "markdown",
   "id": "907cbc87-aab5-4df3-a027-3253adac612b",
   "metadata": {},
   "source": [
    "- Do the same using Python’s Counter (import from collections)."
   ]
  },
  {
   "cell_type": "code",
   "execution_count": 20,
   "id": "8ba69a0b-b9dc-43a2-b105-cb4245cbaa7a",
   "metadata": {},
   "outputs": [
    {
     "data": {
      "text/plain": [
       "Counter({'GAG': 12,\n",
       "         'AAG': 11,\n",
       "         'GAC': 9,\n",
       "         'TCC': 8,\n",
       "         'TTT': 8,\n",
       "         'CAG': 8,\n",
       "         'AGT': 7,\n",
       "         'TAC': 7,\n",
       "         'CTG': 7,\n",
       "         'TTC': 7,\n",
       "         'GCA': 6,\n",
       "         'GTC': 6,\n",
       "         'TCA': 6,\n",
       "         'GGG': 6,\n",
       "         'AAC': 6,\n",
       "         'GGT': 6,\n",
       "         'ATG': 5,\n",
       "         'ATA': 5,\n",
       "         'ACC': 5,\n",
       "         'GTG': 5,\n",
       "         'ATC': 5,\n",
       "         'GAA': 4,\n",
       "         'TCT': 4,\n",
       "         'AAA': 4,\n",
       "         'GCT': 4,\n",
       "         'CAA': 4,\n",
       "         'CAT': 4,\n",
       "         'AGA': 4,\n",
       "         'AAT': 4,\n",
       "         'GAT': 4,\n",
       "         'CAC': 4,\n",
       "         'AGG': 3,\n",
       "         'TGT': 3,\n",
       "         'TGC': 3,\n",
       "         'CCT': 3,\n",
       "         'GTA': 3,\n",
       "         'GGA': 3,\n",
       "         'AGC': 3,\n",
       "         'CGT': 2,\n",
       "         'GGC': 2,\n",
       "         'CTC': 2,\n",
       "         'ATT': 2,\n",
       "         'TTA': 2,\n",
       "         'GTT': 2,\n",
       "         'TAT': 2,\n",
       "         'TTG': 2,\n",
       "         'ACG': 2,\n",
       "         'CTT': 2,\n",
       "         'TGG': 2,\n",
       "         'CCA': 2,\n",
       "         'ACT': 2,\n",
       "         'GCC': 2,\n",
       "         'CCC': 1,\n",
       "         'ACA': 1,\n",
       "         'TCG': 1,\n",
       "         'CGA': 1})"
      ]
     },
     "execution_count": 20,
     "metadata": {},
     "output_type": "execute_result"
    }
   ],
   "source": [
    "from collections import Counter\n",
    "Counter(codons)"
   ]
  },
  {
   "attachments": {},
   "cell_type": "markdown",
   "id": "0e48d37b-aea4-49c9-8602-20787869924d",
   "metadata": {},
   "source": [
    "- Estimate the **frequencies** of **codons** and of **aa categories** below (A, B, C, D) - Ratio over total number of codons.\n",
    "    - Use list comprehension and Python’s Counter (import from collections).\n",
    "    - ```python\n",
    "      cat2aa = {'A':['R','H','K', 'D', 'E']} etc.\n",
    "      ```\n",
    "\n",
    "![title](https://cdn.technologynetworks.com/tn/images/body/aminoacids-pic3revised1574260662291.png)"
   ]
  },
  {
   "cell_type": "code",
   "execution_count": 7,
   "id": "3f308edb-3475-4ba0-86b4-d5039f55cb47",
   "metadata": {},
   "outputs": [
    {
     "data": {
      "text/plain": [
       "{'R': 'A',\n",
       " 'H': 'A',\n",
       " 'K': 'A',\n",
       " 'D': 'A',\n",
       " 'E': 'A',\n",
       " 'S': 'B',\n",
       " 'T': 'B',\n",
       " 'N': 'B',\n",
       " 'Q': 'B',\n",
       " 'C': 'C',\n",
       " 'G': 'C',\n",
       " 'P': 'C',\n",
       " 'A': 'D',\n",
       " 'V': 'D',\n",
       " 'I': 'D',\n",
       " 'L': 'D',\n",
       " 'M': 'D',\n",
       " 'F': 'D',\n",
       " 'Y': 'D',\n",
       " 'W': 'D'}"
      ]
     },
     "execution_count": 7,
     "metadata": {},
     "output_type": "execute_result"
    }
   ],
   "source": [
    "cat2aa = {'A' : ['R','H','K', 'D', 'E'],\n",
    "          'B' : ['S','T','N','Q'],\n",
    "          'C' : ['C','G','P'],\n",
    "          'D' : ['A','V','I','L','M','F','Y','W']\n",
    "         }\n",
    "\n",
    "\n",
    "#dict([(aa, cat) for cat in cat2aa for aa in cat2aa[cat]])\n",
    "aa2cat = dict([(aa, cat) for cat in cat2aa for aa in cat2aa[cat]])\n",
    "aa2cat"
   ]
  },
  {
   "cell_type": "code",
   "execution_count": 22,
   "id": "999cbbc5-aeee-401f-81b0-a2952864e65d",
   "metadata": {},
   "outputs": [
    {
     "data": {
      "text/plain": [
       "{'ATG': 0.02100840336134454,\n",
       " 'GAC': 0.037815126050420166,\n",
       " 'TCC': 0.03361344537815126,\n",
       " 'CGT': 0.008403361344537815,\n",
       " 'GAA': 0.01680672268907563,\n",
       " 'AGG': 0.012605042016806723,\n",
       " 'GCA': 0.025210084033613446,\n",
       " 'GAG': 0.05042016806722689,\n",
       " 'TCT': 0.01680672268907563,\n",
       " 'GTC': 0.025210084033613446,\n",
       " 'TTT': 0.03361344537815126,\n",
       " 'GGC': 0.008403361344537815,\n",
       " 'AGT': 0.029411764705882353,\n",
       " 'ATA': 0.02100840336134454,\n",
       " 'AAG': 0.046218487394957986,\n",
       " 'AAA': 0.01680672268907563,\n",
       " 'CTC': 0.008403361344537815,\n",
       " 'ATT': 0.008403361344537815,\n",
       " 'GCT': 0.01680672268907563,\n",
       " 'TTA': 0.008403361344537815,\n",
       " 'GTT': 0.008403361344537815,\n",
       " 'TAT': 0.008403361344537815,\n",
       " 'CAA': 0.01680672268907563,\n",
       " 'ACC': 0.02100840336134454,\n",
       " 'TAC': 0.029411764705882353,\n",
       " 'TTG': 0.008403361344537815,\n",
       " 'TCA': 0.025210084033613446,\n",
       " 'GGG': 0.025210084033613446,\n",
       " 'AAC': 0.025210084033613446,\n",
       " 'CCC': 0.004201680672268907,\n",
       " 'GGT': 0.025210084033613446,\n",
       " 'CAG': 0.03361344537815126,\n",
       " 'CAT': 0.01680672268907563,\n",
       " 'ACG': 0.008403361344537815,\n",
       " 'TGT': 0.012605042016806723,\n",
       " 'TGC': 0.012605042016806723,\n",
       " 'CCT': 0.012605042016806723,\n",
       " 'CTT': 0.008403361344537815,\n",
       " 'TGG': 0.008403361344537815,\n",
       " 'GTA': 0.012605042016806723,\n",
       " 'CTG': 0.029411764705882353,\n",
       " 'CCA': 0.008403361344537815,\n",
       " 'GTG': 0.02100840336134454,\n",
       " 'AGA': 0.01680672268907563,\n",
       " 'TTC': 0.029411764705882353,\n",
       " 'GGA': 0.012605042016806723,\n",
       " 'ACA': 0.004201680672268907,\n",
       " 'AAT': 0.01680672268907563,\n",
       " 'GAT': 0.01680672268907563,\n",
       " 'ACT': 0.008403361344537815,\n",
       " 'ATC': 0.02100840336134454,\n",
       " 'AGC': 0.012605042016806723,\n",
       " 'GCC': 0.008403361344537815,\n",
       " 'CAC': 0.01680672268907563,\n",
       " 'TCG': 0.004201680672268907,\n",
       " 'CGA': 0.004201680672268907}"
      ]
     },
     "execution_count": 22,
     "metadata": {},
     "output_type": "execute_result"
    }
   ],
   "source": [
    "dict([(k, v/len(codons)) for k, v in codon2count.items()])"
   ]
  },
  {
   "cell_type": "markdown",
   "id": "9432e39f-b970-46dc-9f33-5e3a22b794ce",
   "metadata": {},
   "source": [
    "## Genome scale"
   ]
  },
  {
   "cell_type": "markdown",
   "id": "2b48ac11-7295-4084-99dc-f012cc48a1a5",
   "metadata": {},
   "source": [
    "- **Download** and **parse** the Genomic coding sequences (cds) for the Reference African savanna elephant (*Loxodonta africana*) genome from [NCBI](https://www.ncbi.nlm.nih.gov/datasets/genome/GCF_030014295.1/)\n",
    "    - We want the CDS (cds_from_genomic.fna.gz) from the [ftp site](https://ftp.ncbi.nlm.nih.gov/genomes/all/GCF/030/014/295/GCF_030014295.1_mLoxAfr1.hap2/).\n",
    "    - Modify the *load_fasta* function accordingly to keep as dictionary keys the unique IDs of each entry (e.g. NC_087342.1_cds_XP_064145200.1_6)\n",
    "    - **Optional**: There are multiple transcripts/isoforms per gene. To avoid redundancy in the data we may keep only the longest transcript/isoform per gene. (**Very important in real life!**)\n",
    "\n",
    "```bash\n",
    "wget -q \"https://ftp.ncbi.nlm.nih.gov/genomes/all/GCF/030/014/295/GCF_030014295.1_mLoxAfr1.hap2/GCF_030014295.1_mLoxAfr1.hap2_cds_from_genomic.fna.gz\"\n",
    "```\n",
    "\n",
    "**Note** that the downloaded file is compressed (*gz). You may decompress it first using the gunzip command, or better import and use the Python *gzip module* in your new load_fasta function (remember to convert binary to text with .decode('utf-8')).\n",
    "\n",
    "Example:\n",
    "```python\n",
    "import gzip\n",
    "with gzip.open('mypath/file.txt.gz', 'rb') as f:\n",
    "   for line in f:\n",
    "       # read line by line\n",
    "       line = line.strip().decode('utf-8')\n",
    "       print(line)\n",
    "       ...\n",
    "```\n",
    "\n",
    "See also gzip.open?"
   ]
  },
  {
   "cell_type": "code",
   "execution_count": null,
   "id": "30649527-15a0-4da4-8ba1-e87281d75fb2",
   "metadata": {},
   "outputs": [],
   "source": []
  },
  {
   "cell_type": "markdown",
   "id": "ae0bddca-e91a-4c5a-8b5d-cdb00069de94",
   "metadata": {},
   "source": [
    "- **Check** if all CDS start with a start codon (ATG). How many transcripts do NOT start from ATG.\n",
    "\n",
    "According to the [README file](https://ftp.ncbi.nlm.nih.gov/genomes/all/GCF/030/014/295/GCF_030014295.1_mLoxAfr1.hap2/README.txt):\n",
    "  \"For CDS features that begin in frame 2 or 3, the first 1 or 2 bp of sequence\n",
    "are trimmed from the CDS FASTA so that it always begins with the first complete\n",
    "codon. The location and frame qualifiers are left unaltered; consequently, the \n",
    "length of the ranges in the location string may be 1-2 bp longer than the FASTA \n",
    "sequence.\" "
   ]
  },
  {
   "cell_type": "code",
   "execution_count": null,
   "id": "2c5c75e6-3a1a-4bd6-8da1-364ea434f2e9",
   "metadata": {},
   "outputs": [],
   "source": []
  },
  {
   "cell_type": "markdown",
   "id": "c18fac94-02fd-410f-95bd-b03540443d6c",
   "metadata": {},
   "source": [
    "- Estimate the overall codon frequencies of the elephant genome"
   ]
  },
  {
   "cell_type": "code",
   "execution_count": null,
   "id": "3214414c-2168-4b3c-8182-ccf65b0dbb68",
   "metadata": {},
   "outputs": [],
   "source": []
  },
  {
   "cell_type": "markdown",
   "id": "745fb026-13d9-4974-b462-a31c58fec98e",
   "metadata": {},
   "source": [
    "## Plotting - data visualization"
   ]
  },
  {
   "cell_type": "markdown",
   "id": "1144b673-badd-4963-aa5a-8f498912a9a0",
   "metadata": {},
   "source": [
    "- Plot the codon frequency counts, and normalized codon frequency per aa in a barplot."
   ]
  },
  {
   "cell_type": "markdown",
   "id": "f940ddb5-ae5c-4c96-84e0-3ea59260ddc8",
   "metadata": {},
   "source": [
    "We need to install different libraries matplotlib, pandas, (seaborn, plotly, altair). See also [here](https://medium.com/weekly-python/data-visualization-in-python-matplotlib-seaborn-and-plotly-f1d6192f7d)"
   ]
  },
  {
   "cell_type": "markdown",
   "id": "4c35c541-4758-4efc-b294-069972dffdde",
   "metadata": {},
   "source": [
    "[Matplotlib](https://matplotlib.org/)"
   ]
  },
  {
   "cell_type": "code",
   "execution_count": 23,
   "id": "d1fa4e65-8b33-4a65-bfaf-a698e11edb86",
   "metadata": {},
   "outputs": [
    {
     "name": "stdout",
     "output_type": "stream",
     "text": [
      "Requirement already satisfied: matplotlib in /opt/homebrew/Caskroom/mambaforge/base/envs/python_course/lib/python3.11/site-packages (3.10.1)\n",
      "Requirement already satisfied: contourpy>=1.0.1 in /opt/homebrew/Caskroom/mambaforge/base/envs/python_course/lib/python3.11/site-packages (from matplotlib) (1.3.1)\n",
      "Requirement already satisfied: cycler>=0.10 in /opt/homebrew/Caskroom/mambaforge/base/envs/python_course/lib/python3.11/site-packages (from matplotlib) (0.12.1)\n",
      "Requirement already satisfied: fonttools>=4.22.0 in /opt/homebrew/Caskroom/mambaforge/base/envs/python_course/lib/python3.11/site-packages (from matplotlib) (4.56.0)\n",
      "Requirement already satisfied: kiwisolver>=1.3.1 in /opt/homebrew/Caskroom/mambaforge/base/envs/python_course/lib/python3.11/site-packages (from matplotlib) (1.4.8)\n",
      "Requirement already satisfied: numpy>=1.23 in /opt/homebrew/Caskroom/mambaforge/base/envs/python_course/lib/python3.11/site-packages (from matplotlib) (2.2.3)\n",
      "Requirement already satisfied: packaging>=20.0 in /opt/homebrew/Caskroom/mambaforge/base/envs/python_course/lib/python3.11/site-packages (from matplotlib) (23.2)\n",
      "Requirement already satisfied: pillow>=8 in /opt/homebrew/Caskroom/mambaforge/base/envs/python_course/lib/python3.11/site-packages (from matplotlib) (11.1.0)\n",
      "Requirement already satisfied: pyparsing>=2.3.1 in /opt/homebrew/Caskroom/mambaforge/base/envs/python_course/lib/python3.11/site-packages (from matplotlib) (3.2.1)\n",
      "Requirement already satisfied: python-dateutil>=2.7 in /opt/homebrew/Caskroom/mambaforge/base/envs/python_course/lib/python3.11/site-packages (from matplotlib) (2.8.2)\n",
      "Requirement already satisfied: six>=1.5 in /opt/homebrew/Caskroom/mambaforge/base/envs/python_course/lib/python3.11/site-packages (from python-dateutil>=2.7->matplotlib) (1.16.0)\n",
      "Note: you may need to restart the kernel to use updated packages.\n"
     ]
    }
   ],
   "source": [
    "pip install matplotlib"
   ]
  },
  {
   "cell_type": "code",
   "execution_count": null,
   "id": "7ab17e7b-c8ad-4ed5-8ea9-bd67abd6584e",
   "metadata": {},
   "outputs": [],
   "source": []
  },
  {
   "cell_type": "code",
   "execution_count": 24,
   "id": "5ff9b708-58cd-4121-9a21-5dddbb6abd24",
   "metadata": {},
   "outputs": [],
   "source": [
    "# Matplotlib example"
   ]
  },
  {
   "cell_type": "markdown",
   "id": "ee6e5554-702c-4f23-8b8e-f2d028ab4cd7",
   "metadata": {},
   "source": [
    "[Seaborn](https://seaborn.pydata.org/)"
   ]
  },
  {
   "cell_type": "code",
   "execution_count": 25,
   "id": "a63d2b85-72c5-4813-8566-b09d4cd5d012",
   "metadata": {
    "scrolled": true
   },
   "outputs": [
    {
     "name": "stdout",
     "output_type": "stream",
     "text": [
      "Requirement already satisfied: seaborn in /opt/homebrew/Caskroom/mambaforge/base/envs/python_course/lib/python3.11/site-packages (0.13.2)\n",
      "Requirement already satisfied: pandas in /opt/homebrew/Caskroom/mambaforge/base/envs/python_course/lib/python3.11/site-packages (2.2.3)\n",
      "Requirement already satisfied: numpy in /opt/homebrew/Caskroom/mambaforge/base/envs/python_course/lib/python3.11/site-packages (2.2.3)\n",
      "Requirement already satisfied: matplotlib!=3.6.1,>=3.4 in /opt/homebrew/Caskroom/mambaforge/base/envs/python_course/lib/python3.11/site-packages (from seaborn) (3.10.1)\n",
      "Requirement already satisfied: python-dateutil>=2.8.2 in /opt/homebrew/Caskroom/mambaforge/base/envs/python_course/lib/python3.11/site-packages (from pandas) (2.8.2)\n",
      "Requirement already satisfied: pytz>=2020.1 in /opt/homebrew/Caskroom/mambaforge/base/envs/python_course/lib/python3.11/site-packages (from pandas) (2024.1)\n",
      "Requirement already satisfied: tzdata>=2022.7 in /opt/homebrew/Caskroom/mambaforge/base/envs/python_course/lib/python3.11/site-packages (from pandas) (2025.1)\n",
      "Requirement already satisfied: contourpy>=1.0.1 in /opt/homebrew/Caskroom/mambaforge/base/envs/python_course/lib/python3.11/site-packages (from matplotlib!=3.6.1,>=3.4->seaborn) (1.3.1)\n",
      "Requirement already satisfied: cycler>=0.10 in /opt/homebrew/Caskroom/mambaforge/base/envs/python_course/lib/python3.11/site-packages (from matplotlib!=3.6.1,>=3.4->seaborn) (0.12.1)\n",
      "Requirement already satisfied: fonttools>=4.22.0 in /opt/homebrew/Caskroom/mambaforge/base/envs/python_course/lib/python3.11/site-packages (from matplotlib!=3.6.1,>=3.4->seaborn) (4.56.0)\n",
      "Requirement already satisfied: kiwisolver>=1.3.1 in /opt/homebrew/Caskroom/mambaforge/base/envs/python_course/lib/python3.11/site-packages (from matplotlib!=3.6.1,>=3.4->seaborn) (1.4.8)\n",
      "Requirement already satisfied: packaging>=20.0 in /opt/homebrew/Caskroom/mambaforge/base/envs/python_course/lib/python3.11/site-packages (from matplotlib!=3.6.1,>=3.4->seaborn) (23.2)\n",
      "Requirement already satisfied: pillow>=8 in /opt/homebrew/Caskroom/mambaforge/base/envs/python_course/lib/python3.11/site-packages (from matplotlib!=3.6.1,>=3.4->seaborn) (11.1.0)\n",
      "Requirement already satisfied: pyparsing>=2.3.1 in /opt/homebrew/Caskroom/mambaforge/base/envs/python_course/lib/python3.11/site-packages (from matplotlib!=3.6.1,>=3.4->seaborn) (3.2.1)\n",
      "Requirement already satisfied: six>=1.5 in /opt/homebrew/Caskroom/mambaforge/base/envs/python_course/lib/python3.11/site-packages (from python-dateutil>=2.8.2->pandas) (1.16.0)\n",
      "Note: you may need to restart the kernel to use updated packages.\n"
     ]
    }
   ],
   "source": [
    "pip install seaborn pandas numpy"
   ]
  },
  {
   "cell_type": "code",
   "execution_count": 26,
   "id": "6f1f0c1f-b38a-4a9c-b5fd-08b8b0e3fc64",
   "metadata": {},
   "outputs": [],
   "source": [
    "# Create pandas dataframe"
   ]
  },
  {
   "cell_type": "code",
   "execution_count": 27,
   "id": "7d4177e1-19ef-4435-b363-fb0b1a8d315b",
   "metadata": {
    "jupyter": {
     "source_hidden": true
    }
   },
   "outputs": [],
   "source": [
    "# Check the dataframe"
   ]
  },
  {
   "cell_type": "code",
   "execution_count": 28,
   "id": "80fe2264-37c9-4847-84f9-21b960ee5d83",
   "metadata": {},
   "outputs": [],
   "source": [
    "# Access columns"
   ]
  },
  {
   "cell_type": "code",
   "execution_count": 29,
   "id": "5ca28fca-ced5-414a-a899-9c8933c4fecb",
   "metadata": {},
   "outputs": [],
   "source": [
    "# Seaborn example"
   ]
  },
  {
   "cell_type": "markdown",
   "id": "c7d0d794-f416-47b6-a784-721dbd50b748",
   "metadata": {},
   "source": [
    "[Plotly](https://plotly.com/python/)"
   ]
  },
  {
   "cell_type": "code",
   "execution_count": 30,
   "id": "1732c0e5-26f6-4ff0-97ca-0500371e08bc",
   "metadata": {},
   "outputs": [
    {
     "name": "stdout",
     "output_type": "stream",
     "text": [
      "Requirement already satisfied: plotly in /opt/homebrew/Caskroom/mambaforge/base/envs/python_course/lib/python3.11/site-packages (6.0.0)\n",
      "Requirement already satisfied: narwhals>=1.15.1 in /opt/homebrew/Caskroom/mambaforge/base/envs/python_course/lib/python3.11/site-packages (from plotly) (1.29.0)\n",
      "Requirement already satisfied: packaging in /opt/homebrew/Caskroom/mambaforge/base/envs/python_course/lib/python3.11/site-packages (from plotly) (23.2)\n",
      "Note: you may need to restart the kernel to use updated packages.\n"
     ]
    }
   ],
   "source": [
    "pip install plotly"
   ]
  },
  {
   "cell_type": "code",
   "execution_count": 31,
   "id": "2626e223-7710-4981-9f7b-5b3f15c85955",
   "metadata": {},
   "outputs": [
    {
     "ename": "NameError",
     "evalue": "name 'df' is not defined",
     "output_type": "error",
     "traceback": [
      "\u001b[0;31m---------------------------------------------------------------------------\u001b[0m",
      "\u001b[0;31mNameError\u001b[0m                                 Traceback (most recent call last)",
      "Cell \u001b[0;32mIn[31], line 1\u001b[0m\n\u001b[0;32m----> 1\u001b[0m \u001b[43mdf\u001b[49m\n",
      "\u001b[0;31mNameError\u001b[0m: name 'df' is not defined"
     ]
    }
   ],
   "source": [
    "df"
   ]
  },
  {
   "cell_type": "code",
   "execution_count": null,
   "id": "6c56d667-94e5-4a02-897e-6cf409c5ceb3",
   "metadata": {},
   "outputs": [],
   "source": [
    "# Example with plotly"
   ]
  },
  {
   "cell_type": "markdown",
   "id": "88f4ee6f-f146-4997-ab3d-856ec5abe5c5",
   "metadata": {},
   "source": [
    "[Altair](https://altair-viz.github.io/)"
   ]
  },
  {
   "cell_type": "code",
   "execution_count": null,
   "id": "032c202c-6672-493e-a696-e6b34b14a47a",
   "metadata": {
    "scrolled": true
   },
   "outputs": [],
   "source": [
    "pip install \"altair[all]\""
   ]
  },
  {
   "cell_type": "code",
   "execution_count": null,
   "id": "dcf5edd8-14e2-4830-a42b-b89424ca934c",
   "metadata": {},
   "outputs": [],
   "source": [
    "# Altair example"
   ]
  },
  {
   "cell_type": "markdown",
   "id": "e03c587b-f43e-495d-9113-708097996f6c",
   "metadata": {},
   "source": [
    "## Optimal codons"
   ]
  },
  {
   "cell_type": "markdown",
   "id": "714d5777-ded9-483f-81cc-b967770b22e7",
   "metadata": {},
   "source": [
    "- We screened the African savanna elephant genome for tRNA gene copies using the standalone version of the [tRNAscan-SE 2.0](https://lowelab.ucsc.edu/tRNAscan-SE/) tool, to find the optimal codons (highest number of tRNA genes for a given amino acid).\n",
    "\n",
    "```python\n",
    "aa2optimal = {'R': 'AGA',\n",
    "              'S': 'AGC',\n",
    "              'G': 'GGA',\n",
    "              'E': 'GAA',\n",
    "              'T': 'ACC',\n",
    "              'A': 'GCA',\n",
    "              'W': 'TGG',\n",
    "              'P': 'CCA',\n",
    "              'L': 'CTG',\n",
    "              'K': 'AAA',\n",
    "              'I': 'ATT',\n",
    "              'M': 'ATG',\n",
    "              'V': 'GTA',\n",
    "              'Y': 'TAC',\n",
    "              'H': 'CAC',\n",
    "              'F': 'TTC',\n",
    "              'Q': 'CAG',\n",
    "              'D': 'GAC',\n",
    "              'N': 'AAC',\n",
    "              'C': 'TGC'}\n",
    "```"
   ]
  },
  {
   "cell_type": "markdown",
   "id": "6e10f3fa-93d4-469a-bb19-3728cca840d1",
   "metadata": {},
   "source": [
    "- **Optional:** Instead of copying the dictionary, parse the output of the tRNAscan-SE program (found in data/GCF_030014295.1_mLoxAfr1.hap2_genomic.tRNAscan.out), plot the ratios of the different codons in a stacked barplot, and find the optimal codons (per aa) yourselves.\n",
    "    - Skip all lines with the Note \"pseudo\".\n",
    "    - The prediction returns anticodons. The codon is the reverse complement of the anticodon (e.g. for Met CAT->ATG).\n",
    "    - Convert iMet (initiator methionine) to Met.\n",
    "    - Consider using BioPython to convert 3 letters to 1 letter code (*from Bio.Data.IUPACData import protein_letters_3to1*)."
   ]
  },
  {
   "cell_type": "code",
   "execution_count": null,
   "id": "4a52876a-09f1-4a89-8434-a06bb7e7e922",
   "metadata": {},
   "outputs": [],
   "source": [
    "pip install BioPython"
   ]
  },
  {
   "cell_type": "code",
   "execution_count": null,
   "id": "71eea2ce-0791-4d08-88a6-5cf661ffb294",
   "metadata": {},
   "outputs": [],
   "source": []
  },
  {
   "cell_type": "code",
   "execution_count": null,
   "id": "34dae7f8-8182-43fc-a389-0df23203b679",
   "metadata": {},
   "outputs": [],
   "source": [
    "# One possible solution\n",
    "# Convert dictionary of dictionaries to long format DataFrame"
   ]
  },
  {
   "cell_type": "markdown",
   "id": "68d987d2-4944-4ba0-9a80-6454e4616153",
   "metadata": {},
   "source": [
    "- Compute the ratio of optimal codons in a given gene (ratio of optimal codons over all codons)."
   ]
  },
  {
   "cell_type": "code",
   "execution_count": null,
   "id": "48e34c13-a6be-47d5-8f91-4b67877d850e",
   "metadata": {
    "scrolled": true
   },
   "outputs": [],
   "source": []
  },
  {
   "cell_type": "markdown",
   "id": "fa5d6782-75bd-4fc3-8186-14f76858c7e6",
   "metadata": {},
   "source": [
    "- Write a function that takes as input a dictionary with seqid as keys, sequence (cds) as values, and a list of gene seqids, and returns the median optimal codon usage across all genes.\n",
    "    - Consider as optimal codon usage the ratio of optimal codons across all codons"
   ]
  },
  {
   "cell_type": "code",
   "execution_count": null,
   "id": "ead3ba45-d075-4f10-9b74-d0c645e1547b",
   "metadata": {},
   "outputs": [],
   "source": []
  },
  {
   "cell_type": "markdown",
   "id": "8eb6e483-83f9-4fe9-b8ef-9bc7459e9616",
   "metadata": {},
   "source": [
    "## Permutation test"
   ]
  },
  {
   "cell_type": "markdown",
   "id": "dbab5f83-7321-4b0f-b52a-edbd84496930",
   "metadata": {},
   "source": [
    "- Randomly sample 100 genes, repeat it 1000 times each time computing and storing the median optimal codon ratio (**random.choices?**). Plot in a histogram the distribution of the median values of the random permutations.\n",
    "    - Add a vertical line where the median value of the first 100 seqids fall across the distribution."
   ]
  },
  {
   "cell_type": "code",
   "execution_count": null,
   "id": "9286d2f2-303e-46fb-bd84-acf1fa26d8b2",
   "metadata": {},
   "outputs": [],
   "source": []
  },
  {
   "cell_type": "code",
   "execution_count": null,
   "id": "40d3e5cc-1f09-45c1-91fb-4c57e211e452",
   "metadata": {},
   "outputs": [],
   "source": []
  },
  {
   "cell_type": "markdown",
   "id": "68c04756-7d5f-43fe-a7c7-76393e974a6c",
   "metadata": {},
   "source": [
    "## Olfactory Receptors codon usage"
   ]
  },
  {
   "cell_type": "markdown",
   "id": "88da2339-0c37-44be-bd0e-d9b27d5faba8",
   "metadata": {},
   "source": [
    "The Olfactory Receptor (OR) genes superfamily forms the largest gene family in the vertebrate genomes. ORs belong to the G-protein-coupled receptor family and play a critical role in recognizing thousands of odorant molecules in the olfactory sensory system.\n",
    "\n",
    "The family is an extreme example of gene family expansion (via gene duplication) and losses, which probably reflect species-specific adaptations, and the elephant genome has been shown to encode the largest number of ORs.\n",
    "\n",
    "![OR barplot](https://www.u-tokyo.ac.jp/content/400022567.jpg)"
   ]
  },
  {
   "cell_type": "markdown",
   "id": "31880fe8-f743-406e-95d0-5747b13b48bb",
   "metadata": {},
   "source": [
    "- We want to **test if OR genes have low rates of optimal codon usage** compared to the random expectation, due to their dynamic mode of evolution (null hypothesis being that all genes/samples come from the same optimal codon usage distribution).\n",
    "- We use the Pfam Profile HMM for Olfactory Receptors (ORs) ([PF13853](https://www.ebi.ac.uk/interpro/entry/pfam/PF13853/)) and the [HMMER tool](http://hmmer.org/) to screen the elephant genome for OR sequences.\n",
    "    - We first need to translate cds into peptide sequences, to be able to search for PF13853 domain-containing sequences, using the \"gathering threshold\" (--cut_ga).\n",
    "    - ```bash\n",
    "      hmmsearch -o /dev/null --cpu 8 --tblout data/PF13853.vs.GCF_030014295.1_mLoxAfr1.hap2_cds_from_genomic.translated.tblout --cut_ga data/PF13853.hmm data/GCF_030014295.1_mLoxAfr1.hap2_cds_from_genomic.translated.fasta\n",
    "      ```\n",
    "    - The tab-delimited output can be found in *data/PF13853.vs.GCF_030014295.1_mLoxAfr1.hap2_cds_from_genomic.translated.tblout*\n",
    "    - To \"wget\" use url \"https://raw.githubusercontent.com/cgenomicslab/intro-to-Python-course/refs/heads/main/2025/data/PF13853.vs.GCF_030014295.1_mLoxAfr1.hap2_cds_from_genomic.translated.tblout\"\n",
    "    - Consider as ORs all cds found in hmmsearch's ouput (peptides containing a Olfactory receptor (PF13853) domain for the given threshold)"
   ]
  },
  {
   "cell_type": "code",
   "execution_count": null,
   "id": "0204cc6d-045c-4353-b701-dd23d43bfcdc",
   "metadata": {},
   "outputs": [],
   "source": []
  },
  {
   "cell_type": "markdown",
   "id": "49d963fe-ccfd-4f6f-b1be-dd23df16ebb7",
   "metadata": {},
   "source": [
    "- **P-value** is the probability of obtaining test results at least as extreme as the result actually observed if the null hypothesis were true. The **one-sided p-value** is calculated as the proportion of sampled permutations where the median optimal codon ratio (used as the metric here) was lower than the observed. What is the probability that the observed OR optimal codon usage is obtained by chance."
   ]
  },
  {
   "cell_type": "code",
   "execution_count": null,
   "id": "8b28b01e-d927-45f4-9514-50552f9305a1",
   "metadata": {},
   "outputs": [],
   "source": []
  },
  {
   "cell_type": "markdown",
   "id": "ef431518-fa6e-42bf-9959-2f899d41a8b5",
   "metadata": {},
   "source": [
    "- In the example here we used the ratio of optimal codons over all codons in a gene as a rough proxy of a gene's preference for \"optimal\" codons or not. Can you think of a more precise way to test this hypothesis, taking into account the number of tRNA genes detected in the elephant genome?"
   ]
  },
  {
   "cell_type": "code",
   "execution_count": null,
   "id": "01e0b8c1-3ac4-4a21-ba0b-6e06478f4707",
   "metadata": {},
   "outputs": [],
   "source": []
  }
 ],
 "metadata": {
  "kernelspec": {
   "display_name": "Python [conda env:python_course] *",
   "language": "python",
   "name": "conda-env-python_course-py"
  },
  "language_info": {
   "codemirror_mode": {
    "name": "ipython",
    "version": 3
   },
   "file_extension": ".py",
   "mimetype": "text/x-python",
   "name": "python",
   "nbconvert_exporter": "python",
   "pygments_lexer": "ipython3",
   "version": "3.11.8"
  }
 },
 "nbformat": 4,
 "nbformat_minor": 5
}
