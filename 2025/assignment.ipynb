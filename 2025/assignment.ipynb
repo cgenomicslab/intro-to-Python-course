{
 "cells": [
  {
   "cell_type": "markdown",
   "id": "14d29534-499e-43d6-af15-fae54c17e64e",
   "metadata": {},
   "source": [
    "# Introduction to Python course (BIO102.1)\n",
    "* Postgraduate MSc Program in \"Bioinformatics\"\n",
    "* (https://bioinfo-grad.gr/en/)\n",
    "  \n",
    "### Submit the assignment in a python notebook (with the email title ASSIGNMENT-SURNAME, filename assignment_surname.ipynb), briefly explaining the steps in Markdown and code annotation (comments).\n",
    "- alexandros.pittis@gmail.com\n",
    "- alexandros.pittis@imbb.forth.gr"
   ]
  },
  {
   "cell_type": "markdown",
   "id": "fbce8b26-1046-4dbf-b235-8954d013d078",
   "metadata": {},
   "source": [
    "# Assignment (02/04/2025)"
   ]
  },
  {
   "cell_type": "markdown",
   "id": "93386a94-6caa-451e-8668-461c984ba5d8",
   "metadata": {},
   "source": [
    "## We will test the hypothesis that **codon usage bias is directly linked to gene expression levels**, i.e. highly expressed genes use more optimal codons (codons with more corresponding tRNAs encoded and expressed in the genome)."
   ]
  },
  {
   "cell_type": "markdown",
   "id": "c82dc1e2-4d08-466c-bbcb-d0a1a484bc9f",
   "metadata": {},
   "source": [
    "- We will use the [MTD (Mammalian Transcriptomic Database)](https://ngdc.cncb.ac.cn/mtd/) which hosts processed tissue-specific gene expression data for Human, Mouse, Pig, and Rat. Choose one of the species, and one tissue to work with."
   ]
  },
  {
   "cell_type": "markdown",
   "id": "ef8ad367-384a-41ee-ad57-746b82e7a62b",
   "metadata": {},
   "source": [
    "- <ins>**Codon usage**:</ins>\n",
    "    - We want to quantify optimal codon usage per gene for the selected species. You may use 1) the ratio of optimal (most tRNAs for a given amino acid) codons over all gene codons for each gene (as we did in the class), or even 2) the total number of tRNAs that correspond to the gene (multiply each codon of a gene by the number of corresponding tRNAs).\n",
    "    - Download from [NCBI Genomes](https://www.ncbi.nlm.nih.gov/datasets/genome/) the CDS (*cds_from_genomic.fna.gz) and genome (*genomic.fna.gz) in fasta format.\n",
    "      - [Human](https://ftp.ncbi.nlm.nih.gov/genomes/all/GCF/000/001/405/GCF_000001405.40_GRCh38.p14/)\n",
    "      - [Mouse](https://ftp.ncbi.nlm.nih.gov/genomes/all/GCF/000/001/635/GCF_000001635.27_GRCm39/)\n",
    "      - [Pig](https://ftp.ncbi.nlm.nih.gov/genomes/all/GCF/000/003/025/GCF_000003025.6_Sscrofa11.1/)\n",
    "      - [Rat](https://ftp.ncbi.nlm.nih.gov/genomes/all/GCF/036/323/735/GCF_036323735.1_GRCr8/)\n",
    "  - Use the [tRNAscan-SE 2.0](https://trna.ucsc.edu/tRNAscan-SE/) to screen the species' genome for tRNA genes (download, install and run the standalone version)."
   ]
  },
  {
   "cell_type": "markdown",
   "id": "ac7a9676-f34d-4ced-b97c-dc7655407861",
   "metadata": {},
   "source": [
    "- <ins>**Gene expression**:</ins>\n",
    "    - Download the data (tissue) of your choice, and use/keep the \"normalized\" RPKM values (Reads Per Kilobase of transcript per Million mapped reads)."
   ]
  },
  {
   "cell_type": "markdown",
   "id": "f891d3c5-837c-4922-9740-3c3d32e21a65",
   "metadata": {},
   "source": [
    "- <ins>**Test correlation coefficient**:</ins>\n",
    "    - A simple way to measure the **linear** relatedness between the two variables (codon usage and gene expression) is **Pearson’s Correlation Coefficient** (PCC). *Calculate* and *visualize* Pearson coefficient (Pearson’s r, varies between -1 to 1) and obtain the p-value, to answer if the two variables are positively/negatively correlated or not.\n",
    "      - An interesting read: [How Machines Make Predictions: Finding Correlations in Complex Data](https://medium.com/free-code-camp/how-machines-make-predictions-finding-correlations-in-complex-data-dfd9f0d87889)"
   ]
  },
  {
   "cell_type": "markdown",
   "id": "1eb5d730-84ca-4b53-99a3-d2314d3eb34f",
   "metadata": {},
   "source": [
    "### Notes"
   ]
  },
  {
   "cell_type": "markdown",
   "id": "105bdc9e-a97a-4d4e-b3c0-809025321e95",
   "metadata": {},
   "source": [
    "- To match CDS and expression data you may use the Gene names (\"Gene_Symbol\"). There are multiple isoforms for some of the genes in the expression data (same \"Gene_symbol\", different \"RefSeq_ID\"), which we cannot directly map to the CDS. **Keep only the highest RPKM value per gene**.\n",
    "- **Keep only the longest CDS per gene**. This is a (relatively harmless) simplification, as the longest here may not correspond to the isoform with the highest expression that we keep from the expression data.\n",
    "- I will assume that all the files will be in **data_assignment/**, so create the folder to keep the data and take care of the relative paths in the notebook. Name the tRNAscan-SE ouput as *.tRNAscan.out (e.g. GCF_000003025.6_Sscrofa11.1_genomic.fna -> GCF_000003025.6_Sscrofa11.1_genomic.tRNAscan.out).\n",
    "- Keep it simple."
   ]
  },
  {
   "cell_type": "code",
   "execution_count": null,
   "id": "ac793d4a-8471-40f7-944a-fd784cc58975",
   "metadata": {},
   "outputs": [],
   "source": []
  }
 ],
 "metadata": {
  "kernelspec": {
   "display_name": "Python [conda env:python_course] *",
   "language": "python",
   "name": "conda-env-python_course-py"
  },
  "language_info": {
   "codemirror_mode": {
    "name": "ipython",
    "version": 3
   },
   "file_extension": ".py",
   "mimetype": "text/x-python",
   "name": "python",
   "nbconvert_exporter": "python",
   "pygments_lexer": "ipython3",
   "version": "3.11.8"
  }
 },
 "nbformat": 4,
 "nbformat_minor": 5
}
