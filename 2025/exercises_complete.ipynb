{
 "cells": [
  {
   "cell_type": "markdown",
   "id": "f60dedeb-b29c-4554-b31c-043b2b5e95b7",
   "metadata": {},
   "source": [
    "## Ubuntu installation in Windows\n",
    "- Check Windows Subsystem for Linux (<a href=\"https://ubuntu.com/desktop/wsl\">WSL</a>)\n",
    "\n",
    "## Ways to run python code\n",
    "- Write code in python script and execute in shell (python script_name.py)\n",
    "- Execute in (i)python command shell (ipython: %run script_name.py)\n",
    "- jupyter notebook/lab\n",
    "- VS code integrated terminal etc.\n",
    "- ..\n",
    "\n",
    "! relative path\n",
    "\n",
    "conda create --name python_course --channel=conda-forge python jupyterlab nb_conda_kernels\n",
    "\n",
    "conda activate python_course\n",
    "\n",
    "mkdir ~/Documents/PythonIntro\n",
    "\n",
    "cd ~/Documents/PythonIntro"
   ]
  },
  {
   "cell_type": "markdown",
   "id": "5efedce2-ccea-4d86-a18a-2cf6d9323acc",
   "metadata": {},
   "source": [
    "# Aσκήσεις\n",
    "## Δευτέρα 26/02/2024 (strings, integers, float, boolean, indexing)"
   ]
  },
  {
   "cell_type": "markdown",
   "id": "5280357c-59ee-4677-8293-1d8c1afd383f",
   "metadata": {},
   "source": [
    "### >KT964724.1 Euplokamis dunlapae putative nonfluorescent protein mRNA, complete cds <a href=\"https://www.ncbi.nlm.nih.gov/nuccore/KT964724.1?report=fasta\" target=\"_blank\">NCBI link</a>\n",
    "ATTACTATATTTTAATTGAGTGCCTAGTGAGCAGCAATGGACTCCCGTATGGAAAGGGCAGAGTCTGTCT TTGCAGGCAGTATAAAGAGTAAACTCATTGCTGACTTAGTTTATGAGGACCAAACCTACAAGTTGTCAGG GGAAGGGTTTGGGAACCCCCAAGAGGGTCAGCATACGTTAGAGATGAGGTGTTTTGGTACGGAGGCATGC CCTCTTTCATGGTTTGTACTGGGTCCAGTGATACAGTACAGTTACAGAATGTTCACCCAGTATTCAGGTA ACGGAATGTACGACTTCTTCAAGACCTCCTTCCCTGGTGGTCTTAGTACAGAGTCAGTGTGTACCTTCAA TGATGGGGCTACTATCACTGGCAGTCATAATATCAGCTTTGTCAAGGACATCGTGGTCTGCAGATCTAAG CTGGAGTGCGCAGGGTTCAATGACGAGTCTCTGGCCCTGTCCCAGGAGCTGTCCCAAGTCAAGCCTTGTT ACGAGATAATAGATGGATCCGGAGTAGACGCTGTTTCCAGCTCTGTCAAACTCGAGTGGGACTTGTCAGA CGGGGATAAGTACAGTGCCCAGGTAGAGTCAGTGATCAGGAGTAAGACCAACTTTGCACCACAGAGACAC TTTATAGCTCATCACAGCAAGGTGATTGAAAAGTCGCAGAACAATCTGCACTTTTCCCAGCGTGATAAGT CCAGAGCAAACGTCATCAACTTCTACCTGCATAAAGAACAACACAAACGATAGGTCACGTTTAATGAGCA AGTTCTCGCAGTCTGTTTAGCACTCCGGGACTCTGTCTACCGTGGGAACTGAGAGGTGTCACGGGGAAGA TGTCTGTTTGTATTCGGTAGTTAATTTGAACTTGAAGGGAGTTTGTATGGAGTTGCTTGTTGAATGGGAT AAAGCTTTTGAAATGCTTGAGAAGCTTAGGAAGCGGAAGAGTTAAGAGGGGATTTTGAAAAAGGAATGCT TAAATTATTTTGTTTGACG"
   ]
  },
  {
   "cell_type": "markdown",
   "id": "c4223bbb-2007-41af-b5b7-86615ed6d20a",
   "metadata": {},
   "source": [
    "- Copy-paste the sequence above, assign it to a variable (e.g. seq) use str.replace to remove spaces (**str.replace? for help**). Alternatively copy multiline sequence from the NCBI link, paste text enclosed in tripple quotes and remove newlines."
   ]
  },
  {
   "cell_type": "code",
   "execution_count": 1,
   "id": "1695f35d-8fa7-4ea9-80af-ef9ad283dcfe",
   "metadata": {},
   "outputs": [],
   "source": [
    "seq = '''ATTACTATATTTTAATTGAGTGCCTAGTGAGCAGCAATGGACTCCCGTATGGAAAGGGCAGAGTCTGTCT TTGCAGGCAGTATAAAGAGTAAACTCATTGCTGACTTAGTTTATGAGGACCAAACCTACAAGTTGTCAGG GGAAGGGTTTGGGAACCCCCAAGAGGGTCAGCATACGTTAGAGATGAGGTGTTTTGGTACGGAGGCATGC CCTCTTTCATGGTTTGTACTGGGTCCAGTGATACAGTACAGTTACAGAATGTTCACCCAGTATTCAGGTA ACGGAATGTACGACTTCTTCAAGACCTCCTTCCCTGGTGGTCTTAGTACAGAGTCAGTGTGTACCTTCAA TGATGGGGCTACTATCACTGGCAGTCATAATATCAGCTTTGTCAAGGACATCGTGGTCTGCAGATCTAAG CTGGAGTGCGCAGGGTTCAATGACGAGTCTCTGGCCCTGTCCCAGGAGCTGTCCCAAGTCAAGCCTTGTT ACGAGATAATAGATGGATCCGGAGTAGACGCTGTTTCCAGCTCTGTCAAACTCGAGTGGGACTTGTCAGA CGGGGATAAGTACAGTGCCCAGGTAGAGTCAGTGATCAGGAGTAAGACCAACTTTGCACCACAGAGACAC TTTATAGCTCATCACAGCAAGGTGATTGAAAAGTCGCAGAACAATCTGCACTTTTCCCAGCGTGATAAGT CCAGAGCAAACGTCATCAACTTCTACCTGCATAAAGAACAACACAAACGATAGGTCACGTTTAATGAGCA AGTTCTCGCAGTCTGTTTAGCACTCCGGGACTCTGTCTACCGTGGGAACTGAGAGGTGTCACGGGGAAGA TGTCTGTTTGTATTCGGTAGTTAATTTGAACTTGAAGGGAGTTTGTATGGAGTTGCTTGTTGAATGGGAT AAAGCTTTTGAAATGCTTGAGAAGCTTAGGAAGCGGAAGAGTTAAGAGGGGATTTTGAAAAAGGAATGCT TAAATTATTTTGTTTGACG'''\n",
    "seq = seq.replace(' ', '')"
   ]
  },
  {
   "cell_type": "markdown",
   "id": "12ec4a0a-c857-42b8-8eb0-03413009005b",
   "metadata": {},
   "source": [
    "- What is the overall length of the sequence? Print \"Sequence length: X\"."
   ]
  },
  {
   "cell_type": "code",
   "execution_count": 2,
   "id": "5d555462-a5c7-40f4-826c-ac5b2d10f12d",
   "metadata": {},
   "outputs": [
    {
     "name": "stdout",
     "output_type": "stream",
     "text": [
      "Sequence length: 999\n"
     ]
    }
   ],
   "source": [
    "length = len(seq)\n",
    "print(\"Sequence length:\", length)"
   ]
  },
  {
   "cell_type": "markdown",
   "id": "5bc56fe5-525c-40ff-bb2c-faa48fd0ed8e",
   "metadata": {},
   "source": [
    "- Get the reverse of the sequence using **indexing with negative step**"
   ]
  },
  {
   "cell_type": "code",
   "execution_count": 3,
   "id": "2a5445eb-8315-467f-ae37-5b2c55b9f38b",
   "metadata": {},
   "outputs": [],
   "source": [
    "seq_r = seq[::-1]"
   ]
  },
  {
   "cell_type": "markdown",
   "id": "fb4d05d9-b431-4214-a1cb-c9d557082009",
   "metadata": {},
   "source": [
    "- How many start codons (ATG) can be found in the three 5′→3′ reading frames?"
   ]
  },
  {
   "cell_type": "code",
   "execution_count": 4,
   "id": "e332d8da-ea12-42c3-a387-59a7b0fdd01b",
   "metadata": {},
   "outputs": [
    {
     "data": {
      "text/plain": [
       "18"
      ]
     },
     "execution_count": 4,
     "metadata": {},
     "output_type": "execute_result"
    }
   ],
   "source": [
    "# count returns the number of non-overlapping occurrences of substring in string\n",
    "seq.count('ATG')"
   ]
  },
  {
   "cell_type": "markdown",
   "id": "7ca7816c-eedc-46f0-8fb4-499c95a3139d",
   "metadata": {},
   "source": [
    "- If the sequence starts with a start codon keep it, else find the first ATG (if first three letters == \"ATG\" else find it) and remove trailing sequence upstream. (**str.find?** for help)"
   ]
  },
  {
   "cell_type": "code",
   "execution_count": 5,
   "id": "4ca3a8fe-818b-4f5c-b087-ecd4080a63d3",
   "metadata": {},
   "outputs": [
    {
     "data": {
      "text/plain": [
       "963"
      ]
     },
     "execution_count": 5,
     "metadata": {},
     "output_type": "execute_result"
    }
   ],
   "source": [
    "if seq[0:3] == 'ATG':\n",
    "    seq = seq[0:]\n",
    "else:\n",
    "    # find returns the index of first 'ATG' occurence\n",
    "    start_pos = seq.find('ATG')\n",
    "    seq = seq[start_pos:]\n",
    "\n",
    "len(seq)"
   ]
  },
  {
   "cell_type": "markdown",
   "id": "c9f63027-01f8-4652-ad3e-45a19b6f5ab8",
   "metadata": {},
   "source": [
    "- Find the **first** in-frame stop codon (TAA, TAG, TGA) (**increment counter by 3 in a while loop**)"
   ]
  },
  {
   "cell_type": "code",
   "execution_count": 6,
   "id": "6cdca248-c069-4226-8ad7-bdfdb86c4b5e",
   "metadata": {},
   "outputs": [],
   "source": [
    "# Break is used to break out a for loop, or a while loop.\n",
    "# If the break statement is inside a nested loop, the break will terminate the innermost loop.\n",
    "\n",
    "n = 0\n",
    "while n <= len(seq) - 3:\n",
    "    codon = seq[n:n+3]\n",
    "    if codon in ['TAG','TAA','TGA']:\n",
    "        stop_pos = n\n",
    "        break\n",
    "    n += 3\n",
    "    \n",
    "end_codon = seq[stop_pos:stop_pos+3]"
   ]
  },
  {
   "cell_type": "code",
   "execution_count": 7,
   "id": "4b707c37-68ff-4653-b109-8cf83da86b4e",
   "metadata": {},
   "outputs": [
    {
     "data": {
      "text/plain": [
       "963"
      ]
     },
     "execution_count": 7,
     "metadata": {},
     "output_type": "execute_result"
    }
   ],
   "source": [
    "len(seq)"
   ]
  },
  {
   "cell_type": "markdown",
   "id": "87fcc75d-10c8-4175-9c3f-6dd8c5748cef",
   "metadata": {},
   "source": [
    "- Get the coding sequence from start codon to last (before last codon)"
   ]
  },
  {
   "cell_type": "code",
   "execution_count": 8,
   "id": "ea54207d-27f5-4ce5-8758-09c42efbf6f6",
   "metadata": {},
   "outputs": [
    {
     "name": "stdout",
     "output_type": "stream",
     "text": [
      "ATGGACTCCCGTATGGAAAGGGCAGAGTCTGTCTTTGCAGGCAGTATAAAGAGTAAACTCATTGCTGACTTAGTTTATGAGGACCAAACCTACAAGTTGTCAGGGGAAGGGTTTGGGAACCCCCAAGAGGGTCAGCATACGTTAGAGATGAGGTGTTTTGGTACGGAGGCATGCCCTCTTTCATGGTTTGTACTGGGTCCAGTGATACAGTACAGTTACAGAATGTTCACCCAGTATTCAGGTAACGGAATGTACGACTTCTTCAAGACCTCCTTCCCTGGTGGTCTTAGTACAGAGTCAGTGTGTACCTTCAATGATGGGGCTACTATCACTGGCAGTCATAATATCAGCTTTGTCAAGGACATCGTGGTCTGCAGATCTAAGCTGGAGTGCGCAGGGTTCAATGACGAGTCTCTGGCCCTGTCCCAGGAGCTGTCCCAAGTCAAGCCTTGTTACGAGATAATAGATGGATCCGGAGTAGACGCTGTTTCCAGCTCTGTCAAACTCGAGTGGGACTTGTCAGACGGGGATAAGTACAGTGCCCAGGTAGAGTCAGTGATCAGGAGTAAGACCAACTTTGCACCACAGAGACACTTTATAGCTCATCACAGCAAGGTGATTGAAAAGTCGCAGAACAATCTGCACTTTTCCCAGCGTGATAAGTCCAGAGCAAACGTCATCAACTTCTACCTGCATAAAGAACAACACAAACGA\n"
     ]
    }
   ],
   "source": [
    "seq = seq[:stop_pos]\n",
    "print(seq)"
   ]
  },
  {
   "cell_type": "markdown",
   "id": "b6aaf758-5c18-43e0-9604-0272a9dc58d9",
   "metadata": {},
   "source": [
    "- What is the GC content of the gene? Write a **function** that returns it and print \"Gene's GC content: X%\" using the string format method."
   ]
  },
  {
   "cell_type": "code",
   "execution_count": 9,
   "id": "96e9ccbf-5938-47a6-aa76-d376fd962df8",
   "metadata": {},
   "outputs": [
    {
     "name": "stdout",
     "output_type": "stream",
     "text": [
      "GC content is 47.6 %\n"
     ]
    }
   ],
   "source": [
    "def get_GC(sequence):\n",
    "    gc_ratio = (sequence.count('C') + sequence.count('G')) / len(sequence)\n",
    "    return(gc_ratio)\n",
    "\n",
    "# Print only one decimal\n",
    "print(\"GC content is {:.1f} %\".format(100 * get_GC(seq)))"
   ]
  },
  {
   "cell_type": "markdown",
   "id": "b8fab074-9ab2-490c-b05c-10eae914b902",
   "metadata": {},
   "source": [
    "## Τρίτη 27/02/2024 (for loop, list comprehension, dictionaries, sets, tuples)"
   ]
  },
  {
   "cell_type": "markdown",
   "id": "007a269e-1250-4651-93bc-abe91125b8bf",
   "metadata": {},
   "source": [
    "- Copy-paste the sequence above, assign it to a variable (e.g. **newseq**) use **split** and **join** to remove spaces."
   ]
  },
  {
   "cell_type": "code",
   "execution_count": 10,
   "id": "5f0b1378-86a8-405b-bba4-9606e6b1bb9a",
   "metadata": {},
   "outputs": [],
   "source": [
    "seq2 = '''ATTACTATATTTTAATTGAGTGCCTAGTGAGCAGCAATGGACTCCCGTATGGAAAGGGCAGAGTCTGTCT TTGCAGGCAGTATAAAGAGTAAACTCATTGCTGACTTAGTTTATGAGGACCAAACCTACAAGTTGTCAGG GGAAGGGTTTGGGAACCCCCAAGAGGGTCAGCATACGTTAGAGATGAGGTGTTTTGGTACGGAGGCATGC CCTCTTTCATGGTTTGTACTGGGTCCAGTGATACAGTACAGTTACAGAATGTTCACCCAGTATTCAGGTA ACGGAATGTACGACTTCTTCAAGACCTCCTTCCCTGGTGGTCTTAGTACAGAGTCAGTGTGTACCTTCAA TGATGGGGCTACTATCACTGGCAGTCATAATATCAGCTTTGTCAAGGACATCGTGGTCTGCAGATCTAAG CTGGAGTGCGCAGGGTTCAATGACGAGTCTCTGGCCCTGTCCCAGGAGCTGTCCCAAGTCAAGCCTTGTT ACGAGATAATAGATGGATCCGGAGTAGACGCTGTTTCCAGCTCTGTCAAACTCGAGTGGGACTTGTCAGA CGGGGATAAGTACAGTGCCCAGGTAGAGTCAGTGATCAGGAGTAAGACCAACTTTGCACCACAGAGACAC TTTATAGCTCATCACAGCAAGGTGATTGAAAAGTCGCAGAACAATCTGCACTTTTCCCAGCGTGATAAGT CCAGAGCAAACGTCATCAACTTCTACCTGCATAAAGAACAACACAAACGATAGGTCACGTTTAATGAGCA AGTTCTCGCAGTCTGTTTAGCACTCCGGGACTCTGTCTACCGTGGGAACTGAGAGGTGTCACGGGGAAGA TGTCTGTTTGTATTCGGTAGTTAATTTGAACTTGAAGGGAGTTTGTATGGAGTTGCTTGTTGAATGGGAT AAAGCTTTTGAAATGCTTGAGAAGCTTAGGAAGCGGAAGAGTTAAGAGGGGATTTTGAAAAAGGAATGCT TAAATTATTTTGTTTGACG'''\n",
    "seq2 = ''.join(seq2.split(' '))\n",
    "# print(seq2)"
   ]
  },
  {
   "cell_type": "markdown",
   "id": "5d26c0f6-8c0f-4de7-b9ba-b2effda7688b",
   "metadata": {},
   "source": [
    "- Count the number of different and unique codons in the sequence (list vs set). see **range** function (**range? for help**)."
   ]
  },
  {
   "cell_type": "code",
   "execution_count": 11,
   "id": "3455f6c0-7d5a-4423-afae-fdb96f486b4d",
   "metadata": {},
   "outputs": [
    {
     "name": "stdout",
     "output_type": "stream",
     "text": [
      "Number of codons: 238\n",
      "Number of unique codons: 56\n"
     ]
    }
   ],
   "source": [
    "#list( range(0,len(seq)) )[-10:]\n",
    "\n",
    "#testlist = ['a','b','c']\n",
    "#testlist.append(\"d\")\n",
    "#len(testlist)\n",
    "#print(testlist)\n",
    "\n",
    "#for smth in testlist:\n",
    "#    print(smth)\n",
    "\n",
    "#for element in ['a','b','c']:\n",
    "codons = []\n",
    "for n in range(0,len(seq), 3):\n",
    "    codon = seq[n:n+3]\n",
    "    codons.append(codon)\n",
    "\n",
    "print(\"Number of codons:\", len(codons))\n",
    "print(\"Number of unique codons:\", len(set(codons)))"
   ]
  },
  {
   "cell_type": "markdown",
   "id": "6347b3fd-e46f-43ad-a4cf-88e59464e23f",
   "metadata": {},
   "source": [
    "- How many codons are found both in the first and second half of the gene? (split in 2 and find intersection)."
   ]
  },
  {
   "cell_type": "code",
   "execution_count": 12,
   "id": "d3577b8b-835e-4933-ac88-67db0298419a",
   "metadata": {},
   "outputs": [
    {
     "name": "stdout",
     "output_type": "stream",
     "text": [
      "52 46\n",
      "42\n"
     ]
    }
   ],
   "source": [
    "#print(len(codons)/2)\n",
    "\n",
    "codons_a = set( codons[:int(len(codons)/2)] )\n",
    "codons_b = set( codons[int(len(codons)/2):] )\n",
    "\n",
    "print(len(codons_a), \n",
    "      len(codons_b))\n",
    "\n",
    "\n",
    "print(len(codons_a & codons_b))\n",
    "\n"
   ]
  },
  {
   "cell_type": "markdown",
   "id": "f5ecfb3e-8753-4a0b-b1b4-54b08fef4396",
   "metadata": {},
   "source": [
    "- Create a codon counter, dictionary with codons as keys, their count as value (check also dict.setdefault method)."
   ]
  },
  {
   "cell_type": "code",
   "execution_count": 13,
   "id": "b9bc29da-7020-4672-a026-a5b3701b9395",
   "metadata": {},
   "outputs": [],
   "source": [
    "codon2count = {}\n",
    "\n",
    "for codon in codons:\n",
    "    codon2count.setdefault(codon, 0)\n",
    "    # if key not in dictionary, add it and initialize with value dict.setdefault(key, value)\n",
    "    #if codon not in codon2count:\n",
    "    #    codon2count[codon] = 0\n",
    "    codon2count[codon] += 1\n",
    "\n",
    "#codon2count\n"
   ]
  },
  {
   "cell_type": "markdown",
   "id": "907cbc87-aab5-4df3-a027-3253adac612b",
   "metadata": {},
   "source": [
    "- Do the same using Python’s Counter (import from collections)."
   ]
  },
  {
   "cell_type": "code",
   "execution_count": 14,
   "id": "8ba69a0b-b9dc-43a2-b105-cb4245cbaa7a",
   "metadata": {},
   "outputs": [],
   "source": [
    "from collections import Counter\n",
    "\n",
    "codon2count = Counter(codons)"
   ]
  },
  {
   "cell_type": "markdown",
   "id": "9d3969b5-7458-457f-98e9-1feeaa95a367",
   "metadata": {},
   "source": [
    "- Use the standard genetic code (dictionary) to count the aa frequencies. Print one row per aa, in two \"tab\" separated fields \"count\" and \"frequency\" (create dictionary of lists \"aa2codons\", then \"aa2freq\").\n",
    "\n",
    "codon2aa = {\n",
    "        'ATA':'I', 'ATC':'I', 'ATT':'I', 'ATG':'M',\n",
    "        'ACA':'T', 'ACC':'T', 'ACG':'T', 'ACT':'T',\n",
    "        'AAC':'N', 'AAT':'N', 'AAA':'K', 'AAG':'K',\n",
    "        'AGC':'S', 'AGT':'S', 'AGA':'R', 'AGG':'R',                 \n",
    "        'CTA':'L', 'CTC':'L', 'CTG':'L', 'CTT':'L',\n",
    "        'CCA':'P', 'CCC':'P', 'CCG':'P', 'CCT':'P',\n",
    "        'CAC':'H', 'CAT':'H', 'CAA':'Q', 'CAG':'Q',\n",
    "        'CGA':'R', 'CGC':'R', 'CGG':'R', 'CGT':'R',\n",
    "        'GTA':'V', 'GTC':'V', 'GTG':'V', 'GTT':'V',\n",
    "        'GCA':'A', 'GCC':'A', 'GCG':'A', 'GCT':'A',\n",
    "        'GAC':'D', 'GAT':'D', 'GAA':'E', 'GAG':'E',\n",
    "        'GGA':'G', 'GGC':'G', 'GGG':'G', 'GGT':'G',\n",
    "        'TCA':'S', 'TCC':'S', 'TCG':'S', 'TCT':'S',\n",
    "        'TTC':'F', 'TTT':'F', 'TTA':'L', 'TTG':'L',\n",
    "        'TAC':'Y', 'TAT':'Y', 'TAA':'*', 'TAG':'*',\n",
    "        'TGC':'C', 'TGT':'C', 'TGA':'*', 'TGG':'W'\n",
    "    }"
   ]
  },
  {
   "cell_type": "code",
   "execution_count": 15,
   "id": "8cb35001-feeb-484b-8981-c6667621ced8",
   "metadata": {},
   "outputs": [
    {
     "name": "stdout",
     "output_type": "stream",
     "text": [
      "AA\tCounts\tFrequency\n",
      "I\t12\t0.050\n",
      "M\t5\t0.021\n",
      "T\t10\t0.042\n",
      "N\t10\t0.042\n",
      "K\t15\t0.063\n",
      "S\t29\t0.122\n",
      "R\t10\t0.042\n",
      "L\t15\t0.063\n",
      "P\t6\t0.025\n",
      "H\t8\t0.034\n",
      "Q\t12\t0.050\n",
      "V\t16\t0.067\n",
      "A\t12\t0.050\n",
      "D\t13\t0.055\n",
      "E\t16\t0.067\n",
      "G\t17\t0.071\n",
      "F\t15\t0.063\n",
      "Y\t9\t0.038\n",
      "*\t0\t0.000\n",
      "C\t6\t0.025\n",
      "W\t2\t0.008\n",
      "MDSRMERAESVFAGSIKSKLIADLVYEDQTYKLSGEGFGNPQEGQHTLEMRCFGTEACPLSWFVLGPVIQYSYRMFTQYSGNGMYDFFKTSFPGGLSTESVCTFNDGATITGSHNISFVKDIVVCRSKLECAGFNDESLALSQELSQVKPCYEIIDGSGVDAVSSSVKLEWDLSDGDKYSAQVESVIRSKTNFAPQRHFIAHHSKVIEKSQNNLHFSQRDKSRANVINFYLHKEQHKR\n"
     ]
    }
   ],
   "source": [
    "codon2aa = {\n",
    "        'ATA':'I', 'ATC':'I', 'ATT':'I', 'ATG':'M',\n",
    "        'ACA':'T', 'ACC':'T', 'ACG':'T', 'ACT':'T',\n",
    "        'AAC':'N', 'AAT':'N', 'AAA':'K', 'AAG':'K',\n",
    "        'AGC':'S', 'AGT':'S', 'AGA':'R', 'AGG':'R',                 \n",
    "        'CTA':'L', 'CTC':'L', 'CTG':'L', 'CTT':'L',\n",
    "        'CCA':'P', 'CCC':'P', 'CCG':'P', 'CCT':'P',\n",
    "        'CAC':'H', 'CAT':'H', 'CAA':'Q', 'CAG':'Q',\n",
    "        'CGA':'R', 'CGC':'R', 'CGG':'R', 'CGT':'R',\n",
    "        'GTA':'V', 'GTC':'V', 'GTG':'V', 'GTT':'V',\n",
    "        'GCA':'A', 'GCC':'A', 'GCG':'A', 'GCT':'A',\n",
    "        'GAC':'D', 'GAT':'D', 'GAA':'E', 'GAG':'E',\n",
    "        'GGA':'G', 'GGC':'G', 'GGG':'G', 'GGT':'G',\n",
    "        'TCA':'S', 'TCC':'S', 'TCG':'S', 'TCT':'S',\n",
    "        'TTC':'F', 'TTT':'F', 'TTA':'L', 'TTG':'L',\n",
    "        'TAC':'Y', 'TAT':'Y', 'TAA':'*', 'TAG':'*',\n",
    "        'TGC':'C', 'TGT':'C', 'TGA':'*', 'TGG':'W'\n",
    "    }\n",
    "\n",
    "aa2codons = {}\n",
    "for codon in codon2aa:\n",
    "    aa = codon2aa[codon]\n",
    "    aa2codons.setdefault(aa, [])\n",
    "    aa2codons[aa].append(codon)\n",
    "\n",
    "print(\"AA\\tCounts\\tFrequency\")\n",
    "for aa in aa2codons:\n",
    "    counts = sum([ codon2count[codon] for codon in aa2codons[aa] ])\n",
    "    print(\"{}\\t{}\\t{:.3f}\".format(aa, counts, counts/len(codons)))\n",
    "\n",
    "print(''.join([codon2aa[codon] for codon in codons]))"
   ]
  },
  {
   "attachments": {},
   "cell_type": "markdown",
   "id": "0e48d37b-aea4-49c9-8602-20787869924d",
   "metadata": {},
   "source": [
    "- Find the frequencies of the aa categories below (A, B, C, D). Use list comprehension and counter.\n",
    "\n",
    "![title](https://cdn.technologynetworks.com/tn/images/body/aminoacids-pic3revised1574260662291.png)"
   ]
  },
  {
   "cell_type": "code",
   "execution_count": 16,
   "id": "be25c372-d229-45da-b54e-bd5a6211afc4",
   "metadata": {},
   "outputs": [],
   "source": [
    "# cat2aa = {'A':['R','H','K', 'D', 'E']} etc."
   ]
  },
  {
   "cell_type": "markdown",
   "id": "0c9cb8c4-98b0-4d10-8273-e3d0cb24219a",
   "metadata": {},
   "source": [
    "- Create a function that takes mRNA sequence as input and returns a dictionary of frequencies per aa category."
   ]
  },
  {
   "cell_type": "code",
   "execution_count": 17,
   "id": "7090e6f1-4865-4bce-a7e5-56e2cf5bc0e2",
   "metadata": {},
   "outputs": [],
   "source": [
    "def get_freqs(sequence):\n",
    "    ...\n",
    "    return aa2freq"
   ]
  },
  {
   "cell_type": "code",
   "execution_count": null,
   "id": "f2175195-154b-42ef-a259-2b0b3649d42f",
   "metadata": {},
   "outputs": [],
   "source": []
  },
  {
   "cell_type": "markdown",
   "id": "5b555db2-bc1c-44fa-90e6-40650affc7c4",
   "metadata": {},
   "source": [
    "## Παρασκευή 1/03/2024 (file handling, parsing)"
   ]
  },
  {
   "cell_type": "markdown",
   "id": "5a415689-da37-440c-ab80-f440b83042e9",
   "metadata": {},
   "source": [
    "- Download the mRNA sequence in fasta format from NCBI using\n",
    "\n",
    "wget -q -O KT964724.1.fasta \"https://eutils.ncbi.nlm.nih.gov/entrez/eutils/efetch.fcgi?db=nuccore&id=KT964724.1&rettype=fasta\""
   ]
  },
  {
   "cell_type": "code",
   "execution_count": 18,
   "id": "1d978f49-ce2a-4692-90e9-dd78ab4ec9ee",
   "metadata": {},
   "outputs": [],
   "source": [
    "!wget -q -O KT964724.1.fasta \"https://eutils.ncbi.nlm.nih.gov/entrez/eutils/efetch.fcgi?db=nuccore&id=KT964724.1&rettype=fasta\""
   ]
  },
  {
   "cell_type": "markdown",
   "id": "e5cd7e97-3b13-4e9e-a055-48d1ab64854b",
   "metadata": {},
   "source": [
    "- Check the file in terminal or jupyterlab terminal (more KT964724.1.fasta) or here (!cat KT964724.1.fasta)"
   ]
  },
  {
   "cell_type": "code",
   "execution_count": 19,
   "id": "af0427d0-8698-4580-9fa5-d95423c85628",
   "metadata": {},
   "outputs": [
    {
     "name": "stdout",
     "output_type": "stream",
     "text": [
      ">KT964724.1 Euplokamis dunlapae putative nonfluorescent protein mRNA, complete cds\n",
      "ATTACTATATTTTAATTGAGTGCCTAGTGAGCAGCAATGGACTCCCGTATGGAAAGGGCAGAGTCTGTCT\n",
      "TTGCAGGCAGTATAAAGAGTAAACTCATTGCTGACTTAGTTTATGAGGACCAAACCTACAAGTTGTCAGG\n",
      "GGAAGGGTTTGGGAACCCCCAAGAGGGTCAGCATACGTTAGAGATGAGGTGTTTTGGTACGGAGGCATGC\n",
      "CCTCTTTCATGGTTTGTACTGGGTCCAGTGATACAGTACAGTTACAGAATGTTCACCCAGTATTCAGGTA\n",
      "ACGGAATGTACGACTTCTTCAAGACCTCCTTCCCTGGTGGTCTTAGTACAGAGTCAGTGTGTACCTTCAA\n",
      "TGATGGGGCTACTATCACTGGCAGTCATAATATCAGCTTTGTCAAGGACATCGTGGTCTGCAGATCTAAG\n",
      "CTGGAGTGCGCAGGGTTCAATGACGAGTCTCTGGCCCTGTCCCAGGAGCTGTCCCAAGTCAAGCCTTGTT\n",
      "ACGAGATAATAGATGGATCCGGAGTAGACGCTGTTTCCAGCTCTGTCAAACTCGAGTGGGACTTGTCAGA\n",
      "CGGGGATAAGTACAGTGCCCAGGTAGAGTCAGTGATCAGGAGTAAGACCAACTTTGCACCACAGAGACAC\n",
      "TTTATAGCTCATCACAGCAAGGTGATTGAAAAGTCGCAGAACAATCTGCACTTTTCCCAGCGTGATAAGT\n",
      "CCAGAGCAAACGTCATCAACTTCTACCTGCATAAAGAACAACACAAACGATAGGTCACGTTTAATGAGCA\n",
      "AGTTCTCGCAGTCTGTTTAGCACTCCGGGACTCTGTCTACCGTGGGAACTGAGAGGTGTCACGGGGAAGA\n",
      "TGTCTGTTTGTATTCGGTAGTTAATTTGAACTTGAAGGGAGTTTGTATGGAGTTGCTTGTTGAATGGGAT\n",
      "AAAGCTTTTGAAATGCTTGAGAAGCTTAGGAAGCGGAAGAGTTAAGAGGGGATTTTGAAAAAGGAATGCT\n",
      "TAAATTATTTTGTTTGACG\n",
      "\n"
     ]
    }
   ],
   "source": [
    "cat KT964724.1.fasta"
   ]
  },
  {
   "cell_type": "markdown",
   "id": "a1c3a9cf-65d0-495f-89c7-ddc36a8e943d",
   "metadata": {},
   "source": [
    "- Read the file and create a dictionary seqid2seq = {'KT964724.1' : 'ATTACTATATTT...'} (string concatenation)."
   ]
  },
  {
   "cell_type": "code",
   "execution_count": 20,
   "id": "b7680d3e-f1b7-40b4-b85d-1f54f207c1f6",
   "metadata": {},
   "outputs": [],
   "source": [
    "\"\"\"\n",
    "with open('KT964724.1.fasta') as smth:\n",
    "    for line in smth:\n",
    "        if line.startswith(\">\"):\n",
    "            seq = ''\n",
    "            seqid = line[1:].split(\" \")[0]\n",
    "        else:\n",
    "            if line.strip():\n",
    "                seq_part = line.strip()\n",
    "                seq += seq_part\n",
    "            else:\n",
    "                pass\n",
    "\"\"\"\n",
    "\n",
    "seqid2seq = {}\n",
    "with open('KT964724.1.fasta') as infile:\n",
    "    for line in infile:\n",
    "        if line.startswith(\">\"):\n",
    "            seqid = line[1:].split(\" \")[0]\n",
    "            # Initialize the dictionary with\n",
    "            # the key and an empty string\n",
    "            seqid2seq.setdefault(seqid, '')\n",
    "        else:\n",
    "            # check if line empty\n",
    "            if line.strip():\n",
    "                seq_part = line.strip()\n",
    "                # \"append\" the sequence part to sequence\n",
    "                # string for the given key/seqid. If the\n",
    "                # key changes seq_part will correspond to\n",
    "                # the new key\n",
    "                seqid2seq[seqid] += seq_part\n",
    "            else:\n",
    "                # if empty fo nothing\n",
    "                pass\n"
   ]
  },
  {
   "cell_type": "code",
   "execution_count": 21,
   "id": "c6f5ff24-1599-48ad-90c9-db6397dac157",
   "metadata": {},
   "outputs": [
    {
     "data": {
      "text/plain": [
       "\"\\nseq = seqid2seq['KT964724.1']\\nstart_pos = seq.find('ATG')\\nseq = seq[start_pos:]\\n\\ncodons = []\\nfor n in range(0,len(seq), 3):\\n    codon = seq[n:n+3]\\n    if codon not in ['TAA', 'TGA', 'TAG']:\\n        codons.append(codon)\\n    else:\\n        break\\n\""
      ]
     },
     "execution_count": 21,
     "metadata": {},
     "output_type": "execute_result"
    }
   ],
   "source": [
    "\"\"\"\n",
    "seq = seqid2seq['KT964724.1']\n",
    "start_pos = seq.find('ATG')\n",
    "seq = seq[start_pos:]\n",
    "\n",
    "codons = []\n",
    "for n in range(0,len(seq), 3):\n",
    "    codon = seq[n:n+3]\n",
    "    if codon not in ['TAA', 'TGA', 'TAG']:\n",
    "        codons.append(codon)\n",
    "    else:\n",
    "        break\n",
    "\"\"\""
   ]
  },
  {
   "cell_type": "markdown",
   "id": "85c9dead-086b-4ccd-b83e-7d6fd357e7b4",
   "metadata": {},
   "source": [
    "- Create a function that takes mRNA sequence as input and returns the aa sequence, using list comprehension and join."
   ]
  },
  {
   "cell_type": "code",
   "execution_count": 22,
   "id": "1f36ed8f-87e0-44aa-9c8a-5613f4a4bd0c",
   "metadata": {},
   "outputs": [],
   "source": [
    "def translate_dna(sequence):\n",
    "    start_pos = sequence.find('ATG')\n",
    "    sequence = sequence[start_pos:]\n",
    "    codons = []\n",
    "    for n in range(0,len(sequence), 3):\n",
    "        codon = sequence[n:n+3]\n",
    "        if codon not in ['TAA', 'TGA', 'TAG']:\n",
    "            codons.append(codon)\n",
    "        else:\n",
    "            break\n",
    "            \n",
    "    aa = \"\".join([codon2aa[codon] for codon in codons])\n",
    "    return aa\n",
    "\n",
    "\n"
   ]
  },
  {
   "cell_type": "code",
   "execution_count": 23,
   "id": "00f06b93-2aa7-4b52-80c8-65bfbb1bc1f3",
   "metadata": {},
   "outputs": [
    {
     "data": {
      "text/plain": [
       "'MDSRMERAESVFAGSIKSKLIADLVYEDQTYKLSGEGFGNPQEGQHTLEMRCFGTEACPLSWFVLGPVIQYSYRMFTQYSGNGMYDFFKTSFPGGLSTESVCTFNDGATITGSHNISFVKDIVVCRSKLECAGFNDESLALSQELSQVKPCYEIIDGSGVDAVSSSVKLEWDLSDGDKYSAQVESVIRSKTNFAPQRHFIAHHSKVIEKSQNNLHFSQRDKSRANVINFYLHKEQHKR'"
      ]
     },
     "execution_count": 23,
     "metadata": {},
     "output_type": "execute_result"
    }
   ],
   "source": [
    "translate_dna(seqid2seq['KT964724.1'])"
   ]
  },
  {
   "cell_type": "markdown",
   "id": "624d55a7-8c80-4c89-8413-475e8931e62d",
   "metadata": {},
   "source": [
    "- Blast the protein sequence in Uniprot against \"UniprotKB reference proteomes + Swiss-Prot\" (evalue <= 0.001) and download the result in the working directory in TSV output (tab-separated)."
   ]
  },
  {
   "cell_type": "markdown",
   "id": "dcd18c56-6a6b-4990-ad0a-0c7a94029ec7",
   "metadata": {},
   "source": [
    "- Read the output line by line, create a **species 2 number of hits dictionary** and write a tab-delimited file species_counts.tab (species\\tnumber_of_hits) sorted from lowest to highest number of hits (**sorted? for help**)."
   ]
  },
  {
   "cell_type": "code",
   "execution_count": 24,
   "id": "30b7265f-5038-44c8-9163-b289b3182d66",
   "metadata": {},
   "outputs": [],
   "source": [
    "species = []\n",
    "with open(\"KT964724_vs_Uniprot.blast.tsv\") as f:\n",
    "    # not a good idea loading it in a list with readlines() \n",
    "    # if the file is big.. Alternative:\n",
    "    # next(f)\n",
    "    # for line in f:\n",
    "    #     ...\n",
    "    for line in f.readlines()[1:]:\n",
    "        sp = line.split('\\t')[4]\n",
    "        evalue = line.split('\\t')[-1].strip()\n",
    "        #print(\"{},{}\".format(species, evalue))\n",
    "        species.append(sp)\n",
    "\n",
    "sp_counter = Counter(species)\n",
    "# open the file for writing. \"./\" can be ommmited and \n",
    "# the file will be created in the current directory if\n",
    "# no other path. (!) it will overwrite the file if it already exists.\n",
    "outfile = open(\"./species_counts.tab\", \"w\")\n",
    "for seqid in sp_counter:\n",
    "    sp_count = sp_counter[seqid]\n",
    "    # print adds a change of line at the end automatically\n",
    "    print(\"{}\\t{}\".format(seqid, sp_count), file=outfile)\n",
    "    # alternatively the write method can be used\n",
    "    # outfile.write(\"{}\\t{}\".format(seqid, sp_count))\n",
    "    # outfile.write(\"\\n\")\n",
    "\n",
    "# With this method, you need to close the file yourself by \n",
    "# calling the close() method \n",
    "outfile.close()\n",
    "\n",
    "# Alternatively using with statement the file is automatically\n",
    "# closed at the end\n",
    "# with open(\"./species_counts.tab\", \"w\") as outfile:\n",
    "#     for seqid in sp_counter:\n",
    "#         ...\n",
    "\n",
    "\n"
   ]
  },
  {
   "cell_type": "code",
   "execution_count": 28,
   "id": "bd0b115f-57d7-40a7-b9c9-a9c11da9c751",
   "metadata": {},
   "outputs": [
    {
     "name": "stdout",
     "output_type": "stream",
     "text": [
      "Pocillopora damicornis 11\n",
      "Clavularia sp. 1\n",
      "Colletotrichum higginsianum 1\n",
      "Entacmaea quadricolor 1\n",
      "Paramuricea clavata 1\n",
      "Stylophora pistillata 1\n",
      "Streptomyces griseicoloratus 2\n",
      "Psychromonas sp. B3M02 1\n",
      "Heteractis crispa 1\n",
      "Anemonia sulcata 1\n",
      "Condylactis gigantea 1\n",
      "Goniopora tenuidens 1\n",
      "Actinia tenebrosa 5\n",
      "Anemonia manjano 1\n",
      "Discosoma sp. 1\n",
      "Montipora efflorescens 1\n",
      "Discosoma striata 1\n",
      "Ectothiorhodospiraceae bacterium WFHF3C12 1\n",
      "Aequorea victoria 1\n",
      "Clytia hemisphaerica 3\n",
      "Hyphomicrobium sulfonivorans 1\n",
      "Zoanthus sp. 2\n",
      "Recombinant vesicular stomatitis Indiana virus rVSV-G/GFP 1\n",
      "Oceanospirillum multiglobuliferum 1\n",
      "Branchiostoma lanceolatum 1\n",
      "Branchiostoma floridae 2\n",
      "Branchiostoma belcheri 1\n"
     ]
    }
   ],
   "source": [
    "# Notice that the species are not sorted by hit number..\n",
    "# !cat species_counts.tab\n",
    "for sp in sp_counter:\n",
    "    print(sp, sp_counter[sp])"
   ]
  },
  {
   "cell_type": "raw",
   "id": "717d65a3-6b76-46d2-95f5-dd3b609b9233",
   "metadata": {},
   "source": []
  }
 ],
 "metadata": {
  "kernelspec": {
   "display_name": "Python 3 (ipykernel)",
   "language": "python",
   "name": "python3"
  },
  "language_info": {
   "codemirror_mode": {
    "name": "ipython",
    "version": 3
   },
   "file_extension": ".py",
   "mimetype": "text/x-python",
   "name": "python",
   "nbconvert_exporter": "python",
   "pygments_lexer": "ipython3",
   "version": "3.10.13"
  }
 },
 "nbformat": 4,
 "nbformat_minor": 5
}
